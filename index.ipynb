{
 "cells": [
  {
   "cell_type": "markdown",
   "metadata": {},
   "source": [
    "# 2021 Baseball Analytics Project with Python\n",
    "\n",
    "Project by Philip Wertz, advised by Dr. Ryan Johnson"
   ]
  },
  {
   "cell_type": "markdown",
   "metadata": {},
   "source": [
    "Welcome! Follow the links to view the various Jupyter notebooks utilized throughout the project. Use the back arrow to return to this homepage from a notebook."
   ]
  },
  {
   "cell_type": "markdown",
   "metadata": {},
   "source": [
    "All data collected in this project comes from the DakStats website, which is used by the NAIA to store and maintain updated statistics. The home page for the 2021 Crossroads League, the conference Grace College plays in, can be found at the following URL: <http://www.dakstats.com/WebSync/Pages/Conference/Conference.aspx?association=10&sg=MBA&sea=NAIMBA_2021&conference=NAIMBA1_CROSS>."
   ]
  },
  {
   "cell_type": "markdown",
   "metadata": {},
   "source": [
    "Youtube videos explaining some of the code can be found at the links below:\n",
    "\n",
    "<https://youtu.be/-LPY3mun32M> (Park Factor, Conference Statistics, Batting Analysis, and Pitching Analysis notebooks)\n",
    "\n",
    "<https://youtu.be/3YRpYvsRJd4> (Updating Elo Rankings and Game Predictions notebooks)"
   ]
  },
  {
   "cell_type": "markdown",
   "metadata": {},
   "source": [
    "Here are the notebooks used to conduct the project:"
   ]
  },
  {
   "cell_type": "markdown",
   "metadata": {},
   "source": [
    "### Park Factor"
   ]
  },
  {
   "cell_type": "markdown",
   "metadata": {},
   "source": [
    "Link: <https://mathatgrace.github.io/CrossRoads-Baseball/Park_Factor.html>\n",
    "\n",
    "To calculate some of the more advanced hitting statistics, we need a measure of how big or small a team's home field tends to play. Hitters that play in smaller, more hitter-friendly ballparks have an advantage over hitters that play at larger, more pitcher-friendly ballparks. Calculating a park factor allows us to quantify this advantage and adjust our statistics accordingly."
   ]
  },
  {
   "cell_type": "markdown",
   "metadata": {},
   "source": [
    "### Conference Statistics"
   ]
  },
  {
   "cell_type": "markdown",
   "metadata": {},
   "source": [
    "Link: <https://mathatgrace.github.io/CrossRoads-Baseball/Conference_Statistics.html>\n",
    "\n",
    "The data for each individual player in the Crossroads League is scraped from this website and placed into Python dataframes where it can be more easily manipulated. These dataframes are then stored in \"pickle\" files, which allow us to use them later in other notebooks."
   ]
  },
  {
   "cell_type": "markdown",
   "metadata": {},
   "source": [
    "### Batting Analysis"
   ]
  },
  {
   "cell_type": "markdown",
   "metadata": {},
   "source": [
    "Link: <https://mathatgrace.github.io/CrossRoads-Baseball/Batting_Analysis.html>\n",
    "\n",
    "One advanced metric used to quantify the production of an individual hitter is Weighted Runs Created Plus (wRC+). This statistic has a default value of 100, with hitters achieving a score of over 100 for above average performance. A score of 150 indicates that a hitter created 50% more runs than the average hitter, while a score of 50 indicates that a hitter created 50% less runs than the average hitter. This statistic is used to rank the top 10 hitters in the Crossroads League in 2021."
   ]
  },
  {
   "cell_type": "markdown",
   "metadata": {},
   "source": [
    "### Pitching Analysis"
   ]
  },
  {
   "cell_type": "markdown",
   "metadata": {},
   "source": [
    "Link: <https://mathatgrace.github.io/CrossRoads-Baseball/Pitching_Analysis.html>\n",
    "\n",
    "Pitching is often harder to measure with a single statistic. One statistic that can be used is Fielding Independent Pitching (FIP). FIP isolates pitchers based on plays that do not involve the defense at all (i.e. strikeouts, walks, home runs). The top ten Crossroads League pitchers in 2021 are ranked based on FIP."
   ]
  },
  {
   "cell_type": "markdown",
   "metadata": {},
   "source": [
    "### Getting 2021 Games"
   ]
  },
  {
   "cell_type": "markdown",
   "metadata": {},
   "source": [
    "Link: <https://mathatgrace.github.io/CrossRoads-Baseball/Get2021Games.html>\n",
    "\n",
    "The ultimate goal of this project was to make predictions about games that would be played in the Crossroads League this year. To keep updated rankings, the most recent games played must be scraped and incorporated. This is done here. "
   ]
  },
  {
   "cell_type": "markdown",
   "metadata": {},
   "source": [
    "### Home Field Advantage"
   ]
  },
  {
   "cell_type": "markdown",
   "metadata": {},
   "source": [
    "Link: <https://mathatgrace.github.io/CrossRoads-Baseball/HomeField.html>\n",
    "\n",
    "In developing the functions to adjust ratings and predict games, a homefield advantage modification was added. This was done by collecting data from the last 5 years (excluding 2020) and calculating the win percentages of the home teams for each year. Then, an average win percentage was calculated for the 5 years."
   ]
  },
  {
   "cell_type": "markdown",
   "metadata": {},
   "source": [
    "### Updating Elo Rankings"
   ]
  },
  {
   "cell_type": "markdown",
   "metadata": {},
   "source": [
    "Link: <https://mathatgrace.github.io/CrossRoads-Baseball/Update_Elo.html>\n",
    "\n",
    "As the season progresses, ratings must adjust accordingly. This notebook takes the 2021 games that have been scraped and runs the functions on them to play each game and adjust each team's rating. This is run each week to determine possible outcomes for the upcoming weekend series'."
   ]
  },
  {
   "cell_type": "markdown",
   "metadata": {},
   "source": [
    "### Game Predictions"
   ]
  },
  {
   "cell_type": "markdown",
   "metadata": {},
   "source": [
    "Link: <https://mathatgrace.github.io/CrossRoads-Baseball/PredictiveAnalysis.html>\n",
    "\n",
    "Finally, predictions can be made for the outcome of each conference series. Two models are tested: one that adjusts the rating after each individual series game and one that maintains the same ratings throughout the entirety of the 4-game series. These models are compared to each other at the end of each week to determine if one model is better at predicting game results than the other. "
   ]
  }
 ],
 "metadata": {
  "kernelspec": {
   "display_name": "Python 3",
   "language": "python",
   "name": "python3"
  },
  "language_info": {
   "codemirror_mode": {
    "name": "ipython",
    "version": 3
   },
   "file_extension": ".py",
   "mimetype": "text/x-python",
   "name": "python",
   "nbconvert_exporter": "python",
   "pygments_lexer": "ipython3",
   "version": "3.8.5"
  }
 },
 "nbformat": 4,
 "nbformat_minor": 4
}
