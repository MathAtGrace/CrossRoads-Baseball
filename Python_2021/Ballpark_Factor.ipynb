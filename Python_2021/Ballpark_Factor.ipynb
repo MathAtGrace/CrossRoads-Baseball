{
 "cells": [
  {
   "cell_type": "markdown",
   "metadata": {
    "id": "7DcaPdvXEYiA"
   },
   "source": [
    "# Ballpark Factor\n",
    "\n",
    "Load the necessary packages"
   ]
  },
  {
   "cell_type": "code",
   "execution_count": 1,
   "metadata": {
    "id": "ED2T6rVlD7tx"
   },
   "outputs": [],
   "source": [
    "import requests\n",
    "import lxml.html as lh\n",
    "import pandas as pd"
   ]
  },
  {
   "cell_type": "markdown",
   "metadata": {
    "id": "Advp7nbsSRJC"
   },
   "source": [
    "This is a function we'll use later to try turning data elements into integers, floats, or datetimes."
   ]
  },
  {
   "cell_type": "code",
   "execution_count": 12,
   "metadata": {
    "id": "qCoO0jdYMa7-"
   },
   "outputs": [],
   "source": [
    "from datetime import datetime\n",
    "\n",
    "def nice_data(d):\n",
    "  #If we can turn it into an integer, then do that\n",
    "  try:\n",
    "    d=int(d)\n",
    "  except:\n",
    "  #If it's not an integer, it might be a float\n",
    "    try:\n",
    "      d = float(d)\n",
    "    except:\n",
    "      #If it's not a float, it might be a date\n",
    "      try:\n",
    "        d = datetime.strptime(d, '%m/%d/%Y')\n",
    "      except:\n",
    "        pass\n",
    "  return(d)\n"
   ]
  },
  {
   "cell_type": "markdown",
   "metadata": {
    "id": "4DPC5glDEvL-"
   },
   "source": [
    "the team names and numbers"
   ]
  },
  {
   "cell_type": "code",
   "execution_count": 13,
   "metadata": {
    "id": "MlaNpI3cEtx2"
   },
   "outputs": [],
   "source": [
    "teams =[\"BC\", \"GOC\", \"GRC\", \"HU\", \"INWU\", \"MAR\", \"MVNU\", \"SAU\", \"SFIN\", \"TAYL\"]\n",
    "t_nums = [1629, 1678, 1679, 1688, 1694, 1717, 1736, 1780, 1805, 1784]"
   ]
  },
  {
   "cell_type": "markdown",
   "metadata": {
    "id": "LdumZN4rEyzu"
   },
   "source": [
    "Scrape the webpages"
   ]
  },
  {
   "cell_type": "code",
   "execution_count": 44,
   "metadata": {
    "id": "vDKHUwtGmWi1"
   },
   "outputs": [],
   "source": [
    "urls = ['http://www.dakstats.com/WebSync/Pages/Team/TeamSchedule.aspx?association=10&sg=MBA&sea=NAIMBA_2019&team=' +\n",
    "        str(num) for num in t_nums]\n",
    "#Create a handle, page, to handle the contents of the website\n",
    "pages = [requests.get(url) for url in urls]\n",
    "#Store the contents of the website under doc\n",
    "docs = [lh.fromstring(page.content) for page in pages]\n",
    "#Parse data that are stored between <table>..</table> of HTML\n",
    "team_tables = [doc.xpath('//table') for doc in docs]"
   ]
  },
  {
   "cell_type": "markdown",
   "metadata": {
    "id": "M7294UsH0XGq"
   },
   "source": [
    "The for-loop below helps us find which tables on the website we need.  It appears that the header is the 33rd table, and the actual data is in the 35th table."
   ]
  },
  {
   "cell_type": "code",
   "execution_count": null,
   "metadata": {
    "id": "priN8JoVabW3"
   },
   "outputs": [],
   "source": [
    "for i in range(len(team_tables[2])):\n",
    "  print(i, team_tables[2][i].xpath('.//tr/td//text()'))"
   ]
  },
  {
   "cell_type": "code",
   "execution_count": 46,
   "metadata": {
    "colab": {
     "base_uri": "https://localhost:8080/"
    },
    "id": "eZKNqicnnN8U",
    "outputId": "8dc30c99-b84a-4bce-fa7f-0180c38e312f"
   },
   "outputs": [
    {
     "name": "stdout",
     "output_type": "stream",
     "text": [
      "['Date', 'Opponent', 'H/A', 'Time', 'W/L']\n"
     ]
    }
   ],
   "source": [
    "headers = [tables[33].xpath('.//tr/td//text()') for tables in team_tables]\n",
    "print(headers[2])"
   ]
  },
  {
   "cell_type": "code",
   "execution_count": 55,
   "metadata": {
    "colab": {
     "base_uri": "https://localhost:8080/"
    },
    "id": "uAMBgmwqoguE",
    "outputId": "5915b9be-8826-47c1-dc31-5e1d6aade35b"
   },
   "outputs": [
    {
     "name": "stdout",
     "output_type": "stream",
     "text": [
      "['\\r\\n    ', '2/27/2019', ' Lourdes (Ohio)', 'N', ' 3-4 ', 'L', '\\r\\n          ', '\\r\\n    ', '\\r\\n    ', '\\r\\n    ']\n"
     ]
    }
   ],
   "source": [
    "team_elements = [tables[35].xpath('.//tr/td//text()') for tables in team_tables]\n",
    "print(team_elements[2][:10])"
   ]
  },
  {
   "cell_type": "code",
   "execution_count": 48,
   "metadata": {
    "colab": {
     "base_uri": "https://localhost:8080/"
    },
    "id": "MJOVnPOJucVV",
    "outputId": "3389b271-81b0-473e-cd14-06540753501b"
   },
   "outputs": [
    {
     "data": {
      "text/plain": [
       "[[datetime.datetime(2019, 2, 27, 0, 0), ' Lourdes (Ohio)', 'N', ' 3-4 ', 'L'],\n",
       " [datetime.datetime(2019, 2, 27, 0, 0), ' Lourdes (Ohio)', 'N', ' 4-8 ', 'L']]"
      ]
     },
     "execution_count": 48,
     "metadata": {
      "tags": []
     },
     "output_type": "execute_result"
    }
   ],
   "source": [
    "team_good_els = [[nice_data(i) for i in elements if \"\\r\" not in i] for elements in team_elements]\n",
    "rows = [[good_els[i:i + 5] for i in range(0, len(good_els), 5)] for good_els in team_good_els]\n",
    "rows[2][:2]"
   ]
  },
  {
   "cell_type": "code",
   "execution_count": 52,
   "metadata": {
    "colab": {
     "base_uri": "https://localhost:8080/",
     "height": 204
    },
    "id": "QG8CHwFXcT3-",
    "outputId": "f3b33681-6b14-44d8-c438-a5ac38e35153"
   },
   "outputs": [
    {
     "data": {
      "text/html": [
       "<div>\n",
       "<style scoped>\n",
       "    .dataframe tbody tr th:only-of-type {\n",
       "        vertical-align: middle;\n",
       "    }\n",
       "\n",
       "    .dataframe tbody tr th {\n",
       "        vertical-align: top;\n",
       "    }\n",
       "\n",
       "    .dataframe thead th {\n",
       "        text-align: right;\n",
       "    }\n",
       "</style>\n",
       "<table border=\"1\" class=\"dataframe\">\n",
       "  <thead>\n",
       "    <tr style=\"text-align: right;\">\n",
       "      <th></th>\n",
       "      <th>Date</th>\n",
       "      <th>Opponent</th>\n",
       "      <th>H/A</th>\n",
       "      <th>Time</th>\n",
       "      <th>W/L</th>\n",
       "    </tr>\n",
       "  </thead>\n",
       "  <tbody>\n",
       "    <tr>\n",
       "      <th>0</th>\n",
       "      <td>2019-02-08</td>\n",
       "      <td>Milligan (Tenn.)</td>\n",
       "      <td>A</td>\n",
       "      <td>7-5</td>\n",
       "      <td>W</td>\n",
       "    </tr>\n",
       "    <tr>\n",
       "      <th>1</th>\n",
       "      <td>2019-02-08</td>\n",
       "      <td>Milligan (Tenn.)</td>\n",
       "      <td>A</td>\n",
       "      <td>7-4</td>\n",
       "      <td>W</td>\n",
       "    </tr>\n",
       "    <tr>\n",
       "      <th>2</th>\n",
       "      <td>2019-02-09</td>\n",
       "      <td>Concordia (Mich.)</td>\n",
       "      <td>N</td>\n",
       "      <td>2-0</td>\n",
       "      <td>W</td>\n",
       "    </tr>\n",
       "    <tr>\n",
       "      <th>3</th>\n",
       "      <td>2019-02-22</td>\n",
       "      <td>IU Southeast (Ind.)</td>\n",
       "      <td>N</td>\n",
       "      <td>0-2</td>\n",
       "      <td>L</td>\n",
       "    </tr>\n",
       "    <tr>\n",
       "      <th>4</th>\n",
       "      <td>2019-02-22</td>\n",
       "      <td>IU Southeast (Ind.)</td>\n",
       "      <td>N</td>\n",
       "      <td>7-13</td>\n",
       "      <td>L</td>\n",
       "    </tr>\n",
       "  </tbody>\n",
       "</table>\n",
       "</div>"
      ],
      "text/plain": [
       "        Date              Opponent H/A    Time W/L\n",
       "0 2019-02-08      Milligan (Tenn.)   A    7-5    W\n",
       "1 2019-02-08      Milligan (Tenn.)   A    7-4    W\n",
       "2 2019-02-09     Concordia (Mich.)   N    2-0    W\n",
       "3 2019-02-22   IU Southeast (Ind.)   N    0-2    L\n",
       "4 2019-02-22   IU Southeast (Ind.)   N   7-13    L"
      ]
     },
     "execution_count": 52,
     "metadata": {
      "tags": []
     },
     "output_type": "execute_result"
    }
   ],
   "source": [
    "dfc = [pd.DataFrame(columns = headers[i], data = rows[i]) for i in range(len(headers))]\n",
    "dfc[3][:5]"
   ]
  },
  {
   "cell_type": "markdown",
   "metadata": {
    "id": "jBZhAfoRl9YW"
   },
   "source": [
    "Get only the conference games"
   ]
  },
  {
   "cell_type": "code",
   "execution_count": 54,
   "metadata": {
    "colab": {
     "base_uri": "https://localhost:8080/",
     "height": 204
    },
    "id": "jtDpOt_4YPFk",
    "outputId": "6768e848-7f0f-4530-9ab0-f97638595a6e"
   },
   "outputs": [
    {
     "data": {
      "text/html": [
       "<div>\n",
       "<style scoped>\n",
       "    .dataframe tbody tr th:only-of-type {\n",
       "        vertical-align: middle;\n",
       "    }\n",
       "\n",
       "    .dataframe tbody tr th {\n",
       "        vertical-align: top;\n",
       "    }\n",
       "\n",
       "    .dataframe thead th {\n",
       "        text-align: right;\n",
       "    }\n",
       "</style>\n",
       "<table border=\"1\" class=\"dataframe\">\n",
       "  <thead>\n",
       "    <tr style=\"text-align: right;\">\n",
       "      <th></th>\n",
       "      <th>Date</th>\n",
       "      <th>Opponent</th>\n",
       "      <th>H/A</th>\n",
       "      <th>Time</th>\n",
       "      <th>W/L</th>\n",
       "    </tr>\n",
       "  </thead>\n",
       "  <tbody>\n",
       "    <tr>\n",
       "      <th>9</th>\n",
       "      <td>2019-03-08</td>\n",
       "      <td>Taylor (Ind.) *</td>\n",
       "      <td>A</td>\n",
       "      <td>7-6</td>\n",
       "      <td>W</td>\n",
       "    </tr>\n",
       "    <tr>\n",
       "      <th>10</th>\n",
       "      <td>2019-03-11</td>\n",
       "      <td>Taylor (Ind.) *</td>\n",
       "      <td>A</td>\n",
       "      <td>2-0</td>\n",
       "      <td>W</td>\n",
       "    </tr>\n",
       "    <tr>\n",
       "      <th>11</th>\n",
       "      <td>2019-03-11</td>\n",
       "      <td>Taylor (Ind.) *</td>\n",
       "      <td>A</td>\n",
       "      <td>1-5</td>\n",
       "      <td>L</td>\n",
       "    </tr>\n",
       "    <tr>\n",
       "      <th>12</th>\n",
       "      <td>2019-03-18</td>\n",
       "      <td>Spring Arbor (Mich.) *</td>\n",
       "      <td>H</td>\n",
       "      <td>6-5</td>\n",
       "      <td>W</td>\n",
       "    </tr>\n",
       "    <tr>\n",
       "      <th>13</th>\n",
       "      <td>2019-03-19</td>\n",
       "      <td>Spring Arbor (Mich.) *</td>\n",
       "      <td>H</td>\n",
       "      <td>8-0</td>\n",
       "      <td>W</td>\n",
       "    </tr>\n",
       "  </tbody>\n",
       "</table>\n",
       "</div>"
      ],
      "text/plain": [
       "         Date                  Opponent H/A   Time W/L\n",
       "9  2019-03-08          Taylor (Ind.) *    A   7-6    W\n",
       "10 2019-03-11          Taylor (Ind.) *    A   2-0    W\n",
       "11 2019-03-11          Taylor (Ind.) *    A   1-5    L\n",
       "12 2019-03-18   Spring Arbor (Mich.) *    H   6-5    W\n",
       "13 2019-03-19   Spring Arbor (Mich.) *    H   8-0    W"
      ]
     },
     "execution_count": 54,
     "metadata": {
      "tags": []
     },
     "output_type": "execute_result"
    }
   ],
   "source": [
    "conf_df = [df[df.Opponent.str.contains(\"*\", regex = False)] for df in dfc]\n",
    "conf_df[3][:5]"
   ]
  },
  {
   "cell_type": "code",
   "execution_count": 50,
   "metadata": {
    "id": "R57sO7qIZ0S1"
   },
   "outputs": [],
   "source": []
  }
 ],
 "metadata": {
  "colab": {
   "collapsed_sections": [],
   "name": "Ballpark_Factor.ipynb",
   "provenance": []
  },
  "kernelspec": {
   "display_name": "Python 3",
   "language": "python",
   "name": "python3"
  },
  "language_info": {
   "codemirror_mode": {
    "name": "ipython",
    "version": 3
   },
   "file_extension": ".py",
   "mimetype": "text/x-python",
   "name": "python",
   "nbconvert_exporter": "python",
   "pygments_lexer": "ipython3",
   "version": "3.8.5"
  }
 },
 "nbformat": 4,
 "nbformat_minor": 1
}
