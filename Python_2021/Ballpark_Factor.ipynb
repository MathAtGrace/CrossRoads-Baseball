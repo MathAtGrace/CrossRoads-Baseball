{
 "cells": [
  {
   "cell_type": "markdown",
   "metadata": {
    "id": "7DcaPdvXEYiA"
   },
   "source": [
    "# Ballpark Factor\n",
    "\n",
    "Load the necessary packages"
   ]
  },
  {
   "cell_type": "code",
   "execution_count": null,
   "metadata": {
    "id": "ED2T6rVlD7tx"
   },
   "outputs": [],
   "source": [
    "import requests\n",
    "import pandas as pd\n",
    "from bs4 import BeautifulSoup"
   ]
  },
  {
   "cell_type": "markdown",
   "metadata": {
    "id": "4DPC5glDEvL-"
   },
   "source": [
    "the team names and numbers"
   ]
  },
  {
   "cell_type": "code",
   "execution_count": null,
   "metadata": {
    "id": "MlaNpI3cEtx2"
   },
   "outputs": [],
   "source": [
    "teams =[\"Bethel\", \"Goshen\", \"Grace\", \"HU\", \"IWU\", \"Marian\", \"MVNU\", \"SAU\", \"SFU\", \"Taylor\"]\n",
    "t_nums = [1629, 1678, 1679, 1688, 1694, 1717, 1736, 1780, 1805, 1784]"
   ]
  },
  {
   "cell_type": "markdown",
   "metadata": {
    "id": "LdumZN4rEyzu"
   },
   "source": [
    "Scrape the webpage for each team."
   ]
  },
  {
   "cell_type": "code",
   "execution_count": 41,
   "metadata": {
    "id": "vDKHUwtGmWi1"
   },
   "outputs": [],
   "source": [
    "urls = ['http://www.dakstats.com/WebSync/Pages/Team/TeamSchedule.aspx?association=10&sg=MBA&sea=NAIMBA_2019&team=' +\n",
    "        str(num) for num in t_nums]\n",
    "#Create a handle, page, to handle the contents of the website\n",
    "pages = [requests.get(url) for url in urls]\n",
    "#Store the page as an element tree using BeautifulSoup4\n",
    "soups = [BeautifulSoup(page.content) for page in pages]"
   ]
  },
  {
   "cell_type": "code",
   "execution_count": 42,
   "metadata": {
    "id": "kCXtxfbUXUhs"
   },
   "outputs": [],
   "source": [
    "team_tables = [\n",
    "  [\n",
    "    [\n",
    "      [td.get_text(strip=True) for td in tr.find_all('td')] \n",
    "      for tr in table.find_all('tr') \n",
    "    ]#for each row in each table\n",
    "    for table in soup.find_all('table') \n",
    "  ]#for each table on each webpage\n",
    "  for soup in soups \n",
    "]#for each team's webpage"
   ]
  },
  {
   "cell_type": "markdown",
   "metadata": {
    "id": "M7294UsH0XGq"
   },
   "source": [
    "The for-loop below helps us find which tables on Grace College's webpage.  It appears that the header is the 33rd table, and the actual data is in the 35th table.  It seems like a fair assumption that this will be the same for all of the other teams as well."
   ]
  },
  {
   "cell_type": "code",
   "execution_count": 43,
   "metadata": {
    "colab": {
     "base_uri": "https://localhost:8080/"
    },
    "id": "VoBlHgALXmoC",
    "outputId": "a4323282-b44a-42c7-d092-ea913844c8ca"
   },
   "outputs": [
    {
     "name": "stdout",
     "output_type": "stream",
     "text": [
      "0 [['']]\n",
      "1 [[\"Browse by SchoolMember LoginFAQ'sScoreboardsWebcastsTournaments\", '', '', \"Browse by SchoolMember LoginFAQ's\", 'Browse by School', 'Member Login', \"FAQ's\", 'ScoreboardsWebcastsTournaments', 'Scoreboards', 'Webcasts', 'Tournaments', '', '', ''], ['', '', \"Browse by SchoolMember LoginFAQ's\", 'Browse by School', 'Member Login', \"FAQ's\"], ['Browse by School', 'Member Login', \"FAQ's\"], ['ScoreboardsWebcastsTournaments', 'Scoreboards', 'Webcasts', 'Tournaments'], ['Scoreboards', 'Webcasts', 'Tournaments'], [''], ['']]\n",
      "2 [['', '', \"Browse by SchoolMember LoginFAQ's\", 'Browse by School', 'Member Login', \"FAQ's\"], ['Browse by School', 'Member Login', \"FAQ's\"], ['ScoreboardsWebcastsTournaments', 'Scoreboards', 'Webcasts', 'Tournaments'], ['Scoreboards', 'Webcasts', 'Tournaments'], [''], ['']]\n",
      "3 [['Browse by School', 'Member Login', \"FAQ's\"]]\n",
      "4 [['Scoreboards', 'Webcasts', 'Tournaments']]\n",
      "5 [['NAIA', 'NAIA', '', 'BSB', 'BSB', '', 'FB', 'FB', '', 'MBB', 'MBB', '', 'MLAX', 'MLAX', '', 'MSOC', 'MSOC', '', 'MVB', 'MVB', '', 'SB', 'SB', '', 'WBB', 'WBB', '', 'WLAX', 'WLAX', '', 'WSOC', 'WSOC', '', 'WVB', 'WVB'], ['NAIA'], ['BSB'], ['FB'], ['MBB'], ['MLAX'], ['MSOC'], ['MVB'], ['SB'], ['WBB'], ['WLAX'], ['WSOC'], ['WVB']]\n",
      "6 [['NAIA']]\n",
      "7 [['BSB']]\n",
      "8 [['FB']]\n",
      "9 [['MBB']]\n",
      "10 [['MLAX']]\n",
      "11 [['MSOC']]\n",
      "12 [['MVB']]\n",
      "13 [['SB']]\n",
      "14 [['WBB']]\n",
      "15 [['WLAX']]\n",
      "16 [['WSOC']]\n",
      "17 [['WVB']]\n",
      "18 [['Select:', 'Teams', 'Conferences', 'Divisions', 'Regions', 'Districts', 'Season2019'], ['', '', '', '', '', '', '']]\n",
      "19 [['.innerTable\\r\\n{\\r\\n  width: 100%;\\r\\n  /*default colors here*/\\r\\n  background-color:black;\\r\\n  color:white;\\r\\n}\\r\\n\\r\\n.containerTable\\r\\n{\\r\\n  width: 100%;\\r\\n  /*default colors here*/\\r\\n  background-color:black;\\r\\n  color:white;\\r\\n}\\r\\n\\r\\n.pageTitleMenu\\r\\n{\\r\\n    font: normal 900 11px arial;\\r\\n    color: #FFFFFF;\\r\\n    padding-right: 6px;\\r\\n    padding-left: 6px;\\r\\n    text-decoration: underline;\\r\\n    border-right: solid 1px #FFFFFF;\\r\\n}\\r\\n\\r\\n.pageTitleMenuLast\\r\\n{\\r\\n    font: normal 900 11px arial;\\r\\n    color: #FFFFFF;\\r\\n    padding-right: 6px;\\r\\n    padding-left: 6px;\\r\\n    text-decoration: underline;\\r\\n    border: none;\\r\\n}\\r\\n\\r\\n.pageTitleMenuCurrent\\r\\n{\\r\\n    font: normal 900 11px arial;\\r\\n    color: #FFFFFF;\\r\\n    padding-right: 6px;\\r\\n    padding-left: 6px;\\r\\n    border-right: solid 1px #FFFFFF;\\r\\n    text-decoration: none;\\r\\n}\\r\\n\\r\\n.pageTitleMenuCurrentLast\\r\\n{\\r\\n    font: normal 900 11px arial;\\r\\n    color: #FFFFFF;\\r\\n    padding-right: 6px;\\r\\n    padding-left: 6px;\\r\\n    border: none;\\r\\n    text-decoration: none;\\r\\n}\\r\\n\\r\\n.quickLinksTD\\r\\n{    \\r\\n    width: 80px; \\r\\n    vertical-align: bottom; \\r\\n    padding-bottom:5px;    \\r\\n}\\r\\n\\r\\n.quickLinksLabel\\r\\n{\\r\\n    color: #FFFFFF;\\r\\n}\\r\\n\\r\\n\\r\\na.pageTitleMenu:hover{color:#FFFFFF;}\\r\\na.pageTitleMenu:visited{color:#FFFFFF;}Grace (Ind.)Date Printed: 2/17/2021 1:08:12 PMWinona Lake, INNAIA BSBQuick LinksNAIADivision ICrossroads LeagueGrace (Ind.)table#pageTitleTabsTable\\r\\n{\\r\\n    width: 100%;\\r\\n    margin-top: -1px;\\r\\n    margin-bottom: -5px;\\r\\n}\\r\\n\\r\\n.tabs\\r\\n{\\r\\n    width: 20%;\\r\\n    text-align: center;\\r\\n    height: 18PX;\\r\\n    font-size: 8pt;\\r\\n    background-image: url(/WebSync/Images/noTab_New.gif);\\r\\n    padding-top: 2px;\\r\\n    /*background-color: #ECECEC;*/\\r\\n    border-right: solid 1px #b9b9b9;\\r\\n    \\r\\n}\\r\\n\\r\\na.tabLink:link{text-decoration: none;  color: #606060;}\\r\\na.tabLink:visited{text-decoration: none; color: #606060;}\\r\\na.tabLink:hover{text-decoration: underline;   color: #606060;}\\r\\na.tabLink:active{text-decoration: none;  color: #606060;}\\r\\n\\r\\ntable#pageTitleTabsTable td a\\r\\n{\\r\\n  color: #5b5b5b;\\r\\n  font-size: 12px;\\r\\n  font-family: arial;\\r\\n}Team PageRosterScheduleTeam StatsIndividual Stats<!--\\r\\ngoogle_ad_client = \"pub-2777870302657841\";\\r\\ngoogle_ad_width = 160;\\r\\ngoogle_ad_height = 600;\\r\\ngoogle_ad_format = \"160x600_as\";\\r\\ngoogle_ad_type = \"text_image\";\\r\\ngoogle_ad_channel =\"\";\\r\\ngoogle_color_border = \"003399\";\\r\\ngoogle_color_bg = \"FFFFFF\";\\r\\ngoogle_color_link = \"0000CC\";\\r\\ngoogle_color_text = \"6F6F6F\";\\r\\ngoogle_color_url = \"3366CC\";\\r\\n//-->(function(i,s,o,g,r,a,m){i[\\'GoogleAnalyticsObject\\']=r;i[r]=i[r]||function(){\\r\\n  (i[r].q=i[r].q||[]).push(arguments)},i[r].l=1*new Date();a=s.createElement(o),\\r\\n  m=s.getElementsByTagName(o)[0];a.async=1;a.src=g;m.parentNode.insertBefore(a,m)\\r\\n  })(window,document,\\'script\\',\\'//www.google-analytics.com/analytics.js\\',\\'ga\\');\\r\\n\\r\\n  ga(\\'create\\', \\'UA-409980-5\\', \\'auto\\');\\r\\n  ga(\\'send\\', \\'pageview\\');2019SchedulePrinter Friendly* denotes aConferencegameAll Times LocalDateOpponentH/ATimeW/LNo Schedule Available for this Team2/27/2019Lourdes (Ohio)N3-4L2/27/2019Lourdes (Ohio)N4-8L3/2/2019Cornerstone (Mich.)N3-4L3/2/2019Trinity BaptistN5-1W3/4/2019Michigan-DearbornN13-1W3/5/2019Rochester (Mich.)N24-4W3/6/2019Robert Morris (Ill.)N10-9W3/8/2019Bethel (Ind.) *N13-6W3/9/2019Bethel (Ind.) *N14-2W3/9/2019Bethel (Ind.) *N3-1W3/14/2019Taylor (Ind.) *A5-15L3/16/2019Taylor (Ind.) *A2-10L3/16/2019Taylor (Ind.) *A3-9L3/23/2019Spring Arbor (Mich.) *A2-4L3/25/2019Spring Arbor (Mich.) *A1-11L3/25/2019Spring Arbor (Mich.) *A6-7L3/26/2019IU Kokomo (Ind.)A0-3L3/26/2019IU Kokomo (Ind.)A0-5L3/28/2019Huntington (Ind.) *H12-2W4/1/2019Huntington (Ind.) *H2-12L4/1/2019Huntington (Ind.) *H10-9W4/2/2019Siena Heights (Mich.)A2-8L4/2/2019Siena Heights (Mich.)A0-4L4/5/2019St. Francis (Ind.) *A17-13W4/6/2019St. Francis (Ind.) *A9-8W4/6/2019St. Francis (Ind.) *A15-7W4/9/2019Indiana Wesleyan *H16-20L4/10/2019Indiana TechA2-6L4/12/2019Mount Vernon Nazarene (Ohio) *A0-10L4/13/2019Mount Vernon Nazarene (Ohio) *A5-12L4/13/2019Mount Vernon Nazarene (Ohio) *A5-10L4/16/2019Indiana Wesleyan *H3-1W4/16/2019Indiana Wesleyan *H1-11L4/22/2019Marian (Ind.) *H0-9L4/22/2019Marian (Ind.) *H4-6L4/23/2019Marian (Ind.) *H3-10L4/26/2019Goshen (Ind.) *H5-1W4/26/2019Goshen (Ind.) *H2-12L4/27/2019Goshen (Ind.) *H2-12L5/3/2019Huntington (Ind.)N5-4(10)W5/4/2019Taylor (Ind.)A6-3W5/6/2019Marian (Ind.)N13-0W5/7/2019Marian (Ind.)N2-5L5/8/2019Marian (Ind.)N6-14LStats by DakStats Copyright Â© Daktronics, Inc.For IE users:To see background colors:  Tools -> Internet Options -> Advanced -> Check \"print background colors and images\".2019RecordWLTOverall17270Conference10170Last Reported5-13-2019Team ProfileOfficial Team WebsiteEnrollment:1600Coach:Ryan RothStadium:Miller FieldLocation:200 Seminary Drive Winona Lake, IN 46590Other SportsQuick LeadersBat AvgHITSAVGX. Harris460.336RBITOTAVGH. Haney320.80Stolen BasesTOTAVGR. Snyder140.34ERAERERAH. Haney223.64SOK AVGTOTALA. Voirol10.1752PLEASE SUPPORT OUR SPONSORS', '.innerTable\\r\\n{\\r\\n  width: 100%;\\r\\n  /*default colors here*/\\r\\n  background-color:black;\\r\\n  color:white;\\r\\n}\\r\\n\\r\\n.containerTable\\r\\n{\\r\\n  width: 100%;\\r\\n  /*default colors here*/\\r\\n  background-color:black;\\r\\n  color:white;\\r\\n}\\r\\n\\r\\n.pageTitleMenu\\r\\n{\\r\\n    font: normal 900 11px arial;\\r\\n    color: #FFFFFF;\\r\\n    padding-right: 6px;\\r\\n    padding-left: 6px;\\r\\n    text-decoration: underline;\\r\\n    border-right: solid 1px #FFFFFF;\\r\\n}\\r\\n\\r\\n.pageTitleMenuLast\\r\\n{\\r\\n    font: normal 900 11px arial;\\r\\n    color: #FFFFFF;\\r\\n    padding-right: 6px;\\r\\n    padding-left: 6px;\\r\\n    text-decoration: underline;\\r\\n    border: none;\\r\\n}\\r\\n\\r\\n.pageTitleMenuCurrent\\r\\n{\\r\\n    font: normal 900 11px arial;\\r\\n    color: #FFFFFF;\\r\\n    padding-right: 6px;\\r\\n    padding-left: 6px;\\r\\n    border-right: solid 1px #FFFFFF;\\r\\n    text-decoration: none;\\r\\n}\\r\\n\\r\\n.pageTitleMenuCurrentLast\\r\\n{\\r\\n    font: normal 900 11px arial;\\r\\n    color: #FFFFFF;\\r\\n    padding-right: 6px;\\r\\n    padding-left: 6px;\\r\\n    border: none;\\r\\n    text-decoration: none;\\r\\n}\\r\\n\\r\\n.quickLinksTD\\r\\n{    \\r\\n    width: 80px; \\r\\n    vertical-align: bottom; \\r\\n    padding-bottom:5px;    \\r\\n}\\r\\n\\r\\n.quickLinksLabel\\r\\n{\\r\\n    color: #FFFFFF;\\r\\n}\\r\\n\\r\\n\\r\\na.pageTitleMenu:hover{color:#FFFFFF;}\\r\\na.pageTitleMenu:visited{color:#FFFFFF;}Grace (Ind.)Date Printed: 2/17/2021 1:08:12 PMWinona Lake, INNAIA BSBQuick LinksNAIADivision ICrossroads LeagueGrace (Ind.)table#pageTitleTabsTable\\r\\n{\\r\\n    width: 100%;\\r\\n    margin-top: -1px;\\r\\n    margin-bottom: -5px;\\r\\n}\\r\\n\\r\\n.tabs\\r\\n{\\r\\n    width: 20%;\\r\\n    text-align: center;\\r\\n    height: 18PX;\\r\\n    font-size: 8pt;\\r\\n    background-image: url(/WebSync/Images/noTab_New.gif);\\r\\n    padding-top: 2px;\\r\\n    /*background-color: #ECECEC;*/\\r\\n    border-right: solid 1px #b9b9b9;\\r\\n    \\r\\n}\\r\\n\\r\\na.tabLink:link{text-decoration: none;  color: #606060;}\\r\\na.tabLink:visited{text-decoration: none; color: #606060;}\\r\\na.tabLink:hover{text-decoration: underline;   color: #606060;}\\r\\na.tabLink:active{text-decoration: none;  color: #606060;}\\r\\n\\r\\ntable#pageTitleTabsTable td a\\r\\n{\\r\\n  color: #5b5b5b;\\r\\n  font-size: 12px;\\r\\n  font-family: arial;\\r\\n}Team PageRosterScheduleTeam StatsIndividual Stats', '.innerTable\\r\\n{\\r\\n  width: 100%;\\r\\n  /*default colors here*/\\r\\n  background-color:black;\\r\\n  color:white;\\r\\n}\\r\\n\\r\\n.containerTable\\r\\n{\\r\\n  width: 100%;\\r\\n  /*default colors here*/\\r\\n  background-color:black;\\r\\n  color:white;\\r\\n}\\r\\n\\r\\n.pageTitleMenu\\r\\n{\\r\\n    font: normal 900 11px arial;\\r\\n    color: #FFFFFF;\\r\\n    padding-right: 6px;\\r\\n    padding-left: 6px;\\r\\n    text-decoration: underline;\\r\\n    border-right: solid 1px #FFFFFF;\\r\\n}\\r\\n\\r\\n.pageTitleMenuLast\\r\\n{\\r\\n    font: normal 900 11px arial;\\r\\n    color: #FFFFFF;\\r\\n    padding-right: 6px;\\r\\n    padding-left: 6px;\\r\\n    text-decoration: underline;\\r\\n    border: none;\\r\\n}\\r\\n\\r\\n.pageTitleMenuCurrent\\r\\n{\\r\\n    font: normal 900 11px arial;\\r\\n    color: #FFFFFF;\\r\\n    padding-right: 6px;\\r\\n    padding-left: 6px;\\r\\n    border-right: solid 1px #FFFFFF;\\r\\n    text-decoration: none;\\r\\n}\\r\\n\\r\\n.pageTitleMenuCurrentLast\\r\\n{\\r\\n    font: normal 900 11px arial;\\r\\n    color: #FFFFFF;\\r\\n    padding-right: 6px;\\r\\n    padding-left: 6px;\\r\\n    border: none;\\r\\n    text-decoration: none;\\r\\n}\\r\\n\\r\\n.quickLinksTD\\r\\n{    \\r\\n    width: 80px; \\r\\n    vertical-align: bottom; \\r\\n    padding-bottom:5px;    \\r\\n}\\r\\n\\r\\n.quickLinksLabel\\r\\n{\\r\\n    color: #FFFFFF;\\r\\n}\\r\\n\\r\\n\\r\\na.pageTitleMenu:hover{color:#FFFFFF;}\\r\\na.pageTitleMenu:visited{color:#FFFFFF;}Grace (Ind.)Date Printed: 2/17/2021 1:08:12 PMWinona Lake, INNAIA BSBQuick LinksNAIADivision ICrossroads LeagueGrace (Ind.)', '', 'Grace (Ind.)Date Printed: 2/17/2021 1:08:12 PMWinona Lake, INNAIA BSBQuick LinksNAIADivision ICrossroads LeagueGrace (Ind.)', 'Grace (Ind.)', 'Date Printed: 2/17/2021 1:08:12 PM', 'Winona Lake, IN', 'NAIA BSB', 'Quick LinksNAIADivision ICrossroads LeagueGrace (Ind.)', 'Quick Links', 'NAIADivision ICrossroads LeagueGrace (Ind.)', 'NAIA', 'NAIA', '', 'Division I', 'Division I', '', 'Crossroads League', 'Crossroads League', '', 'Grace (Ind.)', 'Grace (Ind.)', 'table#pageTitleTabsTable\\r\\n{\\r\\n    width: 100%;\\r\\n    margin-top: -1px;\\r\\n    margin-bottom: -5px;\\r\\n}\\r\\n\\r\\n.tabs\\r\\n{\\r\\n    width: 20%;\\r\\n    text-align: center;\\r\\n    height: 18PX;\\r\\n    font-size: 8pt;\\r\\n    background-image: url(/WebSync/Images/noTab_New.gif);\\r\\n    padding-top: 2px;\\r\\n    /*background-color: #ECECEC;*/\\r\\n    border-right: solid 1px #b9b9b9;\\r\\n    \\r\\n}\\r\\n\\r\\na.tabLink:link{text-decoration: none;  color: #606060;}\\r\\na.tabLink:visited{text-decoration: none; color: #606060;}\\r\\na.tabLink:hover{text-decoration: underline;   color: #606060;}\\r\\na.tabLink:active{text-decoration: none;  color: #606060;}\\r\\n\\r\\ntable#pageTitleTabsTable td a\\r\\n{\\r\\n  color: #5b5b5b;\\r\\n  font-size: 12px;\\r\\n  font-family: arial;\\r\\n}Team PageRosterScheduleTeam StatsIndividual Stats', 'Team Page', 'Roster', 'Schedule', 'Team Stats', 'Individual Stats', '<!--\\r\\ngoogle_ad_client = \"pub-2777870302657841\";\\r\\ngoogle_ad_width = 160;\\r\\ngoogle_ad_height = 600;\\r\\ngoogle_ad_format = \"160x600_as\";\\r\\ngoogle_ad_type = \"text_image\";\\r\\ngoogle_ad_channel =\"\";\\r\\ngoogle_color_border = \"003399\";\\r\\ngoogle_color_bg = \"FFFFFF\";\\r\\ngoogle_color_link = \"0000CC\";\\r\\ngoogle_color_text = \"6F6F6F\";\\r\\ngoogle_color_url = \"3366CC\";\\r\\n//-->(function(i,s,o,g,r,a,m){i[\\'GoogleAnalyticsObject\\']=r;i[r]=i[r]||function(){\\r\\n  (i[r].q=i[r].q||[]).push(arguments)},i[r].l=1*new Date();a=s.createElement(o),\\r\\n  m=s.getElementsByTagName(o)[0];a.async=1;a.src=g;m.parentNode.insertBefore(a,m)\\r\\n  })(window,document,\\'script\\',\\'//www.google-analytics.com/analytics.js\\',\\'ga\\');\\r\\n\\r\\n  ga(\\'create\\', \\'UA-409980-5\\', \\'auto\\');\\r\\n  ga(\\'send\\', \\'pageview\\');', '<!--\\r\\ngoogle_ad_client = \"pub-2777870302657841\";\\r\\ngoogle_ad_width = 160;\\r\\ngoogle_ad_height = 600;\\r\\ngoogle_ad_format = \"160x600_as\";\\r\\ngoogle_ad_type = \"text_image\";\\r\\ngoogle_ad_channel =\"\";\\r\\ngoogle_color_border = \"003399\";\\r\\ngoogle_color_bg = \"FFFFFF\";\\r\\ngoogle_color_link = \"0000CC\";\\r\\ngoogle_color_text = \"6F6F6F\";\\r\\ngoogle_color_url = \"3366CC\";\\r\\n//-->(function(i,s,o,g,r,a,m){i[\\'GoogleAnalyticsObject\\']=r;i[r]=i[r]||function(){\\r\\n  (i[r].q=i[r].q||[]).push(arguments)},i[r].l=1*new Date();a=s.createElement(o),\\r\\n  m=s.getElementsByTagName(o)[0];a.async=1;a.src=g;m.parentNode.insertBefore(a,m)\\r\\n  })(window,document,\\'script\\',\\'//www.google-analytics.com/analytics.js\\',\\'ga\\');\\r\\n\\r\\n  ga(\\'create\\', \\'UA-409980-5\\', \\'auto\\');\\r\\n  ga(\\'send\\', \\'pageview\\');', '', '2019SchedulePrinter Friendly* denotes aConferencegameAll Times LocalDateOpponentH/ATimeW/LNo Schedule Available for this Team2/27/2019Lourdes (Ohio)N3-4L2/27/2019Lourdes (Ohio)N4-8L3/2/2019Cornerstone (Mich.)N3-4L3/2/2019Trinity BaptistN5-1W3/4/2019Michigan-DearbornN13-1W3/5/2019Rochester (Mich.)N24-4W3/6/2019Robert Morris (Ill.)N10-9W3/8/2019Bethel (Ind.) *N13-6W3/9/2019Bethel (Ind.) *N14-2W3/9/2019Bethel (Ind.) *N3-1W3/14/2019Taylor (Ind.) *A5-15L3/16/2019Taylor (Ind.) *A2-10L3/16/2019Taylor (Ind.) *A3-9L3/23/2019Spring Arbor (Mich.) *A2-4L3/25/2019Spring Arbor (Mich.) *A1-11L3/25/2019Spring Arbor (Mich.) *A6-7L3/26/2019IU Kokomo (Ind.)A0-3L3/26/2019IU Kokomo (Ind.)A0-5L3/28/2019Huntington (Ind.) *H12-2W4/1/2019Huntington (Ind.) *H2-12L4/1/2019Huntington (Ind.) *H10-9W4/2/2019Siena Heights (Mich.)A2-8L4/2/2019Siena Heights (Mich.)A0-4L4/5/2019St. Francis (Ind.) *A17-13W4/6/2019St. Francis (Ind.) *A9-8W4/6/2019St. Francis (Ind.) *A15-7W4/9/2019Indiana Wesleyan *H16-20L4/10/2019Indiana TechA2-6L4/12/2019Mount Vernon Nazarene (Ohio) *A0-10L4/13/2019Mount Vernon Nazarene (Ohio) *A5-12L4/13/2019Mount Vernon Nazarene (Ohio) *A5-10L4/16/2019Indiana Wesleyan *H3-1W4/16/2019Indiana Wesleyan *H1-11L4/22/2019Marian (Ind.) *H0-9L4/22/2019Marian (Ind.) *H4-6L4/23/2019Marian (Ind.) *H3-10L4/26/2019Goshen (Ind.) *H5-1W4/26/2019Goshen (Ind.) *H2-12L4/27/2019Goshen (Ind.) *H2-12L5/3/2019Huntington (Ind.)N5-4(10)W5/4/2019Taylor (Ind.)A6-3W5/6/2019Marian (Ind.)N13-0W5/7/2019Marian (Ind.)N2-5L5/8/2019Marian (Ind.)N6-14LStats by DakStats Copyright Â© Daktronics, Inc.For IE users:To see background colors:  Tools -> Internet Options -> Advanced -> Check \"print background colors and images\".', '2019Schedule', '', 'Printer Friendly', '* denotes aConferencegame', 'All Times Local', 'Date', 'Opponent', 'H/A', 'Time', 'W/L', '2/27/2019Lourdes (Ohio)N3-4L2/27/2019Lourdes (Ohio)N4-8L3/2/2019Cornerstone (Mich.)N3-4L3/2/2019Trinity BaptistN5-1W3/4/2019Michigan-DearbornN13-1W3/5/2019Rochester (Mich.)N24-4W3/6/2019Robert Morris (Ill.)N10-9W3/8/2019Bethel (Ind.) *N13-6W3/9/2019Bethel (Ind.) *N14-2W3/9/2019Bethel (Ind.) *N3-1W3/14/2019Taylor (Ind.) *A5-15L3/16/2019Taylor (Ind.) *A2-10L3/16/2019Taylor (Ind.) *A3-9L3/23/2019Spring Arbor (Mich.) *A2-4L3/25/2019Spring Arbor (Mich.) *A1-11L3/25/2019Spring Arbor (Mich.) *A6-7L3/26/2019IU Kokomo (Ind.)A0-3L3/26/2019IU Kokomo (Ind.)A0-5L3/28/2019Huntington (Ind.) *H12-2W4/1/2019Huntington (Ind.) *H2-12L4/1/2019Huntington (Ind.) *H10-9W4/2/2019Siena Heights (Mich.)A2-8L4/2/2019Siena Heights (Mich.)A0-4L4/5/2019St. Francis (Ind.) *A17-13W4/6/2019St. Francis (Ind.) *A9-8W4/6/2019St. Francis (Ind.) *A15-7W4/9/2019Indiana Wesleyan *H16-20L4/10/2019Indiana TechA2-6L4/12/2019Mount Vernon Nazarene (Ohio) *A0-10L4/13/2019Mount Vernon Nazarene (Ohio) *A5-12L4/13/2019Mount Vernon Nazarene (Ohio) *A5-10L4/16/2019Indiana Wesleyan *H3-1W4/16/2019Indiana Wesleyan *H1-11L4/22/2019Marian (Ind.) *H0-9L4/22/2019Marian (Ind.) *H4-6L4/23/2019Marian (Ind.) *H3-10L4/26/2019Goshen (Ind.) *H5-1W4/26/2019Goshen (Ind.) *H2-12L4/27/2019Goshen (Ind.) *H2-12L5/3/2019Huntington (Ind.)N5-4(10)W5/4/2019Taylor (Ind.)A6-3W5/6/2019Marian (Ind.)N13-0W5/7/2019Marian (Ind.)N2-5L5/8/2019Marian (Ind.)N6-14L', '', '2/27/2019', 'Lourdes (Ohio)', 'N', '3-4', 'L', '', '', '2/27/2019', 'Lourdes (Ohio)', 'N', '4-8', 'L', '', '', '3/2/2019', 'Cornerstone (Mich.)', 'N', '3-4', 'L', '', '', '3/2/2019', 'Trinity Baptist', 'N', '5-1', 'W', '', '', '3/4/2019', 'Michigan-Dearborn', 'N', '13-1', 'W', '', '', '3/5/2019', 'Rochester (Mich.)', 'N', '24-4', 'W', '', '', '3/6/2019', 'Robert Morris (Ill.)', 'N', '10-9', 'W', '', '', '3/8/2019', 'Bethel (Ind.) *', 'N', '13-6', 'W', '', '', '3/9/2019', 'Bethel (Ind.) *', 'N', '14-2', 'W', '', '', '3/9/2019', 'Bethel (Ind.) *', 'N', '3-1', 'W', '', '', '3/14/2019', 'Taylor (Ind.) *', 'A', '5-15', 'L', '', '', '3/16/2019', 'Taylor (Ind.) *', 'A', '2-10', 'L', '', '', '3/16/2019', 'Taylor (Ind.) *', 'A', '3-9', 'L', '', '', '3/23/2019', 'Spring Arbor (Mich.) *', 'A', '2-4', 'L', '', '', '3/25/2019', 'Spring Arbor (Mich.) *', 'A', '1-11', 'L', '', '', '3/25/2019', 'Spring Arbor (Mich.) *', 'A', '6-7', 'L', '', '', '3/26/2019', 'IU Kokomo (Ind.)', 'A', '0-3', 'L', '', '', '3/26/2019', 'IU Kokomo (Ind.)', 'A', '0-5', 'L', '', '', '3/28/2019', 'Huntington (Ind.) *', 'H', '12-2', 'W', '', '', '4/1/2019', 'Huntington (Ind.) *', 'H', '2-12', 'L', '', '', '4/1/2019', 'Huntington (Ind.) *', 'H', '10-9', 'W', '', '', '4/2/2019', 'Siena Heights (Mich.)', 'A', '2-8', 'L', '', '', '4/2/2019', 'Siena Heights (Mich.)', 'A', '0-4', 'L', '', '', '4/5/2019', 'St. Francis (Ind.) *', 'A', '17-13', 'W', '', '', '4/6/2019', 'St. Francis (Ind.) *', 'A', '9-8', 'W', '', '', '4/6/2019', 'St. Francis (Ind.) *', 'A', '15-7', 'W', '', '', '4/9/2019', 'Indiana Wesleyan *', 'H', '16-20', 'L', '', '', '4/10/2019', 'Indiana Tech', 'A', '2-6', 'L', '', '', '4/12/2019', 'Mount Vernon Nazarene (Ohio) *', 'A', '0-10', 'L', '', '', '4/13/2019', 'Mount Vernon Nazarene (Ohio) *', 'A', '5-12', 'L', '', '', '4/13/2019', 'Mount Vernon Nazarene (Ohio) *', 'A', '5-10', 'L', '', '', '4/16/2019', 'Indiana Wesleyan *', 'H', '3-1', 'W', '', '', '4/16/2019', 'Indiana Wesleyan *', 'H', '1-11', 'L', '', '', '4/22/2019', 'Marian (Ind.) *', 'H', '0-9', 'L', '', '', '4/22/2019', 'Marian (Ind.) *', 'H', '4-6', 'L', '', '', '4/23/2019', 'Marian (Ind.) *', 'H', '3-10', 'L', '', '', '4/26/2019', 'Goshen (Ind.) *', 'H', '5-1', 'W', '', '', '4/26/2019', 'Goshen (Ind.) *', 'H', '2-12', 'L', '', '', '4/27/2019', 'Goshen (Ind.) *', 'H', '2-12', 'L', '', '', '5/3/2019', 'Huntington (Ind.)', 'N', '5-4(10)', 'W', '', '', '5/4/2019', 'Taylor (Ind.)', 'A', '6-3', 'W', '', '', '5/6/2019', 'Marian (Ind.)', 'N', '13-0', 'W', '', '', '5/7/2019', 'Marian (Ind.)', 'N', '2-5', 'L', '', '', '5/8/2019', 'Marian (Ind.)', 'N', '6-14', 'L', '', '', 'Stats by DakStats Copyright Â© Daktronics, Inc.', '2019RecordWLTOverall17270Conference10170Last Reported5-13-2019Team ProfileOfficial Team WebsiteEnrollment:1600Coach:Ryan RothStadium:Miller FieldLocation:200 Seminary Drive Winona Lake, IN 46590Other SportsQuick LeadersBat AvgHITSAVGX. Harris460.336RBITOTAVGH. Haney320.80Stolen BasesTOTAVGR. Snyder140.34ERAERERAH. Haney223.64SOK AVGTOTALA. Voirol10.1752PLEASE SUPPORT OUR SPONSORS', '2019RecordWLTOverall17270Conference10170Last Reported5-13-2019', '2019Record', 'W', 'L', 'T', 'Overall', '17', '27', '0', 'Conference', '10', '17', '0', 'Last Reported5-13-2019', 'Team Profile', 'Official Team Website', 'Official Team Website', 'Enrollment:1600', 'Enrollment:', '1600', 'Coach:Ryan Roth', 'Coach:', 'Ryan Roth', 'Stadium:Miller Field', 'Stadium:', 'Miller Field', 'Location:200 Seminary Drive Winona Lake, IN 46590', 'Location:', '200 Seminary Drive Winona Lake, IN 46590', 'Other Sports', '', 'Other Sports', 'Quick Leaders', 'Bat AvgHITSAVGX. Harris460.336', '', 'Bat Avg', 'HITS', 'AVG', 'X. Harris', '46', '0.336', '', 'RBITOTAVGH. Haney320.80', '', 'RBI', 'TOT', 'AVG', 'H. Haney', '32', '0.80', '', 'Stolen BasesTOTAVGR. Snyder140.34', '', 'Stolen Bases', 'TOT', 'AVG', 'R. Snyder', '14', '0.34', '', 'ERAERERAH. Haney223.64', '', 'ERA', 'ER', 'ERA', 'H. Haney', '22', '3.64', '', 'SOK AVGTOTALA. Voirol10.1752', '', 'SO', 'K AVG', 'TOTAL', 'A. Voirol', '10.17', '52', '', 'PLEASE SUPPORT OUR SPONSORS', '', ''], ['.innerTable\\r\\n{\\r\\n  width: 100%;\\r\\n  /*default colors here*/\\r\\n  background-color:black;\\r\\n  color:white;\\r\\n}\\r\\n\\r\\n.containerTable\\r\\n{\\r\\n  width: 100%;\\r\\n  /*default colors here*/\\r\\n  background-color:black;\\r\\n  color:white;\\r\\n}\\r\\n\\r\\n.pageTitleMenu\\r\\n{\\r\\n    font: normal 900 11px arial;\\r\\n    color: #FFFFFF;\\r\\n    padding-right: 6px;\\r\\n    padding-left: 6px;\\r\\n    text-decoration: underline;\\r\\n    border-right: solid 1px #FFFFFF;\\r\\n}\\r\\n\\r\\n.pageTitleMenuLast\\r\\n{\\r\\n    font: normal 900 11px arial;\\r\\n    color: #FFFFFF;\\r\\n    padding-right: 6px;\\r\\n    padding-left: 6px;\\r\\n    text-decoration: underline;\\r\\n    border: none;\\r\\n}\\r\\n\\r\\n.pageTitleMenuCurrent\\r\\n{\\r\\n    font: normal 900 11px arial;\\r\\n    color: #FFFFFF;\\r\\n    padding-right: 6px;\\r\\n    padding-left: 6px;\\r\\n    border-right: solid 1px #FFFFFF;\\r\\n    text-decoration: none;\\r\\n}\\r\\n\\r\\n.pageTitleMenuCurrentLast\\r\\n{\\r\\n    font: normal 900 11px arial;\\r\\n    color: #FFFFFF;\\r\\n    padding-right: 6px;\\r\\n    padding-left: 6px;\\r\\n    border: none;\\r\\n    text-decoration: none;\\r\\n}\\r\\n\\r\\n.quickLinksTD\\r\\n{    \\r\\n    width: 80px; \\r\\n    vertical-align: bottom; \\r\\n    padding-bottom:5px;    \\r\\n}\\r\\n\\r\\n.quickLinksLabel\\r\\n{\\r\\n    color: #FFFFFF;\\r\\n}\\r\\n\\r\\n\\r\\na.pageTitleMenu:hover{color:#FFFFFF;}\\r\\na.pageTitleMenu:visited{color:#FFFFFF;}Grace (Ind.)Date Printed: 2/17/2021 1:08:12 PMWinona Lake, INNAIA BSBQuick LinksNAIADivision ICrossroads LeagueGrace (Ind.)table#pageTitleTabsTable\\r\\n{\\r\\n    width: 100%;\\r\\n    margin-top: -1px;\\r\\n    margin-bottom: -5px;\\r\\n}\\r\\n\\r\\n.tabs\\r\\n{\\r\\n    width: 20%;\\r\\n    text-align: center;\\r\\n    height: 18PX;\\r\\n    font-size: 8pt;\\r\\n    background-image: url(/WebSync/Images/noTab_New.gif);\\r\\n    padding-top: 2px;\\r\\n    /*background-color: #ECECEC;*/\\r\\n    border-right: solid 1px #b9b9b9;\\r\\n    \\r\\n}\\r\\n\\r\\na.tabLink:link{text-decoration: none;  color: #606060;}\\r\\na.tabLink:visited{text-decoration: none; color: #606060;}\\r\\na.tabLink:hover{text-decoration: underline;   color: #606060;}\\r\\na.tabLink:active{text-decoration: none;  color: #606060;}\\r\\n\\r\\ntable#pageTitleTabsTable td a\\r\\n{\\r\\n  color: #5b5b5b;\\r\\n  font-size: 12px;\\r\\n  font-family: arial;\\r\\n}Team PageRosterScheduleTeam StatsIndividual Stats', '.innerTable\\r\\n{\\r\\n  width: 100%;\\r\\n  /*default colors here*/\\r\\n  background-color:black;\\r\\n  color:white;\\r\\n}\\r\\n\\r\\n.containerTable\\r\\n{\\r\\n  width: 100%;\\r\\n  /*default colors here*/\\r\\n  background-color:black;\\r\\n  color:white;\\r\\n}\\r\\n\\r\\n.pageTitleMenu\\r\\n{\\r\\n    font: normal 900 11px arial;\\r\\n    color: #FFFFFF;\\r\\n    padding-right: 6px;\\r\\n    padding-left: 6px;\\r\\n    text-decoration: underline;\\r\\n    border-right: solid 1px #FFFFFF;\\r\\n}\\r\\n\\r\\n.pageTitleMenuLast\\r\\n{\\r\\n    font: normal 900 11px arial;\\r\\n    color: #FFFFFF;\\r\\n    padding-right: 6px;\\r\\n    padding-left: 6px;\\r\\n    text-decoration: underline;\\r\\n    border: none;\\r\\n}\\r\\n\\r\\n.pageTitleMenuCurrent\\r\\n{\\r\\n    font: normal 900 11px arial;\\r\\n    color: #FFFFFF;\\r\\n    padding-right: 6px;\\r\\n    padding-left: 6px;\\r\\n    border-right: solid 1px #FFFFFF;\\r\\n    text-decoration: none;\\r\\n}\\r\\n\\r\\n.pageTitleMenuCurrentLast\\r\\n{\\r\\n    font: normal 900 11px arial;\\r\\n    color: #FFFFFF;\\r\\n    padding-right: 6px;\\r\\n    padding-left: 6px;\\r\\n    border: none;\\r\\n    text-decoration: none;\\r\\n}\\r\\n\\r\\n.quickLinksTD\\r\\n{    \\r\\n    width: 80px; \\r\\n    vertical-align: bottom; \\r\\n    padding-bottom:5px;    \\r\\n}\\r\\n\\r\\n.quickLinksLabel\\r\\n{\\r\\n    color: #FFFFFF;\\r\\n}\\r\\n\\r\\n\\r\\na.pageTitleMenu:hover{color:#FFFFFF;}\\r\\na.pageTitleMenu:visited{color:#FFFFFF;}Grace (Ind.)Date Printed: 2/17/2021 1:08:12 PMWinona Lake, INNAIA BSBQuick LinksNAIADivision ICrossroads LeagueGrace (Ind.)', '', 'Grace (Ind.)Date Printed: 2/17/2021 1:08:12 PMWinona Lake, INNAIA BSBQuick LinksNAIADivision ICrossroads LeagueGrace (Ind.)', 'Grace (Ind.)', 'Date Printed: 2/17/2021 1:08:12 PM', 'Winona Lake, IN', 'NAIA BSB', 'Quick LinksNAIADivision ICrossroads LeagueGrace (Ind.)', 'Quick Links', 'NAIADivision ICrossroads LeagueGrace (Ind.)', 'NAIA', 'NAIA', '', 'Division I', 'Division I', '', 'Crossroads League', 'Crossroads League', '', 'Grace (Ind.)', 'Grace (Ind.)', 'table#pageTitleTabsTable\\r\\n{\\r\\n    width: 100%;\\r\\n    margin-top: -1px;\\r\\n    margin-bottom: -5px;\\r\\n}\\r\\n\\r\\n.tabs\\r\\n{\\r\\n    width: 20%;\\r\\n    text-align: center;\\r\\n    height: 18PX;\\r\\n    font-size: 8pt;\\r\\n    background-image: url(/WebSync/Images/noTab_New.gif);\\r\\n    padding-top: 2px;\\r\\n    /*background-color: #ECECEC;*/\\r\\n    border-right: solid 1px #b9b9b9;\\r\\n    \\r\\n}\\r\\n\\r\\na.tabLink:link{text-decoration: none;  color: #606060;}\\r\\na.tabLink:visited{text-decoration: none; color: #606060;}\\r\\na.tabLink:hover{text-decoration: underline;   color: #606060;}\\r\\na.tabLink:active{text-decoration: none;  color: #606060;}\\r\\n\\r\\ntable#pageTitleTabsTable td a\\r\\n{\\r\\n  color: #5b5b5b;\\r\\n  font-size: 12px;\\r\\n  font-family: arial;\\r\\n}Team PageRosterScheduleTeam StatsIndividual Stats', 'Team Page', 'Roster', 'Schedule', 'Team Stats', 'Individual Stats', '<!--\\r\\ngoogle_ad_client = \"pub-2777870302657841\";\\r\\ngoogle_ad_width = 160;\\r\\ngoogle_ad_height = 600;\\r\\ngoogle_ad_format = \"160x600_as\";\\r\\ngoogle_ad_type = \"text_image\";\\r\\ngoogle_ad_channel =\"\";\\r\\ngoogle_color_border = \"003399\";\\r\\ngoogle_color_bg = \"FFFFFF\";\\r\\ngoogle_color_link = \"0000CC\";\\r\\ngoogle_color_text = \"6F6F6F\";\\r\\ngoogle_color_url = \"3366CC\";\\r\\n//-->(function(i,s,o,g,r,a,m){i[\\'GoogleAnalyticsObject\\']=r;i[r]=i[r]||function(){\\r\\n  (i[r].q=i[r].q||[]).push(arguments)},i[r].l=1*new Date();a=s.createElement(o),\\r\\n  m=s.getElementsByTagName(o)[0];a.async=1;a.src=g;m.parentNode.insertBefore(a,m)\\r\\n  })(window,document,\\'script\\',\\'//www.google-analytics.com/analytics.js\\',\\'ga\\');\\r\\n\\r\\n  ga(\\'create\\', \\'UA-409980-5\\', \\'auto\\');\\r\\n  ga(\\'send\\', \\'pageview\\');', '<!--\\r\\ngoogle_ad_client = \"pub-2777870302657841\";\\r\\ngoogle_ad_width = 160;\\r\\ngoogle_ad_height = 600;\\r\\ngoogle_ad_format = \"160x600_as\";\\r\\ngoogle_ad_type = \"text_image\";\\r\\ngoogle_ad_channel =\"\";\\r\\ngoogle_color_border = \"003399\";\\r\\ngoogle_color_bg = \"FFFFFF\";\\r\\ngoogle_color_link = \"0000CC\";\\r\\ngoogle_color_text = \"6F6F6F\";\\r\\ngoogle_color_url = \"3366CC\";\\r\\n//-->(function(i,s,o,g,r,a,m){i[\\'GoogleAnalyticsObject\\']=r;i[r]=i[r]||function(){\\r\\n  (i[r].q=i[r].q||[]).push(arguments)},i[r].l=1*new Date();a=s.createElement(o),\\r\\n  m=s.getElementsByTagName(o)[0];a.async=1;a.src=g;m.parentNode.insertBefore(a,m)\\r\\n  })(window,document,\\'script\\',\\'//www.google-analytics.com/analytics.js\\',\\'ga\\');\\r\\n\\r\\n  ga(\\'create\\', \\'UA-409980-5\\', \\'auto\\');\\r\\n  ga(\\'send\\', \\'pageview\\');'], ['.innerTable\\r\\n{\\r\\n  width: 100%;\\r\\n  /*default colors here*/\\r\\n  background-color:black;\\r\\n  color:white;\\r\\n}\\r\\n\\r\\n.containerTable\\r\\n{\\r\\n  width: 100%;\\r\\n  /*default colors here*/\\r\\n  background-color:black;\\r\\n  color:white;\\r\\n}\\r\\n\\r\\n.pageTitleMenu\\r\\n{\\r\\n    font: normal 900 11px arial;\\r\\n    color: #FFFFFF;\\r\\n    padding-right: 6px;\\r\\n    padding-left: 6px;\\r\\n    text-decoration: underline;\\r\\n    border-right: solid 1px #FFFFFF;\\r\\n}\\r\\n\\r\\n.pageTitleMenuLast\\r\\n{\\r\\n    font: normal 900 11px arial;\\r\\n    color: #FFFFFF;\\r\\n    padding-right: 6px;\\r\\n    padding-left: 6px;\\r\\n    text-decoration: underline;\\r\\n    border: none;\\r\\n}\\r\\n\\r\\n.pageTitleMenuCurrent\\r\\n{\\r\\n    font: normal 900 11px arial;\\r\\n    color: #FFFFFF;\\r\\n    padding-right: 6px;\\r\\n    padding-left: 6px;\\r\\n    border-right: solid 1px #FFFFFF;\\r\\n    text-decoration: none;\\r\\n}\\r\\n\\r\\n.pageTitleMenuCurrentLast\\r\\n{\\r\\n    font: normal 900 11px arial;\\r\\n    color: #FFFFFF;\\r\\n    padding-right: 6px;\\r\\n    padding-left: 6px;\\r\\n    border: none;\\r\\n    text-decoration: none;\\r\\n}\\r\\n\\r\\n.quickLinksTD\\r\\n{    \\r\\n    width: 80px; \\r\\n    vertical-align: bottom; \\r\\n    padding-bottom:5px;    \\r\\n}\\r\\n\\r\\n.quickLinksLabel\\r\\n{\\r\\n    color: #FFFFFF;\\r\\n}\\r\\n\\r\\n\\r\\na.pageTitleMenu:hover{color:#FFFFFF;}\\r\\na.pageTitleMenu:visited{color:#FFFFFF;}Grace (Ind.)Date Printed: 2/17/2021 1:08:12 PMWinona Lake, INNAIA BSBQuick LinksNAIADivision ICrossroads LeagueGrace (Ind.)', '', 'Grace (Ind.)Date Printed: 2/17/2021 1:08:12 PMWinona Lake, INNAIA BSBQuick LinksNAIADivision ICrossroads LeagueGrace (Ind.)', 'Grace (Ind.)', 'Date Printed: 2/17/2021 1:08:12 PM', 'Winona Lake, IN', 'NAIA BSB', 'Quick LinksNAIADivision ICrossroads LeagueGrace (Ind.)', 'Quick Links', 'NAIADivision ICrossroads LeagueGrace (Ind.)', 'NAIA', 'NAIA', '', 'Division I', 'Division I', '', 'Crossroads League', 'Crossroads League', '', 'Grace (Ind.)', 'Grace (Ind.)'], ['', 'Grace (Ind.)Date Printed: 2/17/2021 1:08:12 PMWinona Lake, INNAIA BSBQuick LinksNAIADivision ICrossroads LeagueGrace (Ind.)', 'Grace (Ind.)', 'Date Printed: 2/17/2021 1:08:12 PM', 'Winona Lake, IN', 'NAIA BSB', 'Quick LinksNAIADivision ICrossroads LeagueGrace (Ind.)', 'Quick Links', 'NAIADivision ICrossroads LeagueGrace (Ind.)', 'NAIA', 'NAIA', '', 'Division I', 'Division I', '', 'Crossroads League', 'Crossroads League', '', 'Grace (Ind.)', 'Grace (Ind.)'], ['Grace (Ind.)', 'Date Printed: 2/17/2021 1:08:12 PM', 'Winona Lake, IN'], ['NAIA BSB'], ['Quick LinksNAIADivision ICrossroads LeagueGrace (Ind.)', 'Quick Links', 'NAIADivision ICrossroads LeagueGrace (Ind.)', 'NAIA', 'NAIA', '', 'Division I', 'Division I', '', 'Crossroads League', 'Crossroads League', '', 'Grace (Ind.)', 'Grace (Ind.)'], ['Quick Links', 'NAIADivision ICrossroads LeagueGrace (Ind.)', 'NAIA', 'NAIA', '', 'Division I', 'Division I', '', 'Crossroads League', 'Crossroads League', '', 'Grace (Ind.)', 'Grace (Ind.)'], ['NAIA', 'NAIA', '', 'Division I', 'Division I', '', 'Crossroads League', 'Crossroads League', '', 'Grace (Ind.)', 'Grace (Ind.)'], ['NAIA'], ['Division I'], ['Crossroads League'], ['Grace (Ind.)'], ['table#pageTitleTabsTable\\r\\n{\\r\\n    width: 100%;\\r\\n    margin-top: -1px;\\r\\n    margin-bottom: -5px;\\r\\n}\\r\\n\\r\\n.tabs\\r\\n{\\r\\n    width: 20%;\\r\\n    text-align: center;\\r\\n    height: 18PX;\\r\\n    font-size: 8pt;\\r\\n    background-image: url(/WebSync/Images/noTab_New.gif);\\r\\n    padding-top: 2px;\\r\\n    /*background-color: #ECECEC;*/\\r\\n    border-right: solid 1px #b9b9b9;\\r\\n    \\r\\n}\\r\\n\\r\\na.tabLink:link{text-decoration: none;  color: #606060;}\\r\\na.tabLink:visited{text-decoration: none; color: #606060;}\\r\\na.tabLink:hover{text-decoration: underline;   color: #606060;}\\r\\na.tabLink:active{text-decoration: none;  color: #606060;}\\r\\n\\r\\ntable#pageTitleTabsTable td a\\r\\n{\\r\\n  color: #5b5b5b;\\r\\n  font-size: 12px;\\r\\n  font-family: arial;\\r\\n}Team PageRosterScheduleTeam StatsIndividual Stats', 'Team Page', 'Roster', 'Schedule', 'Team Stats', 'Individual Stats'], ['Team Page', 'Roster', 'Schedule', 'Team Stats', 'Individual Stats'], ['<!--\\r\\ngoogle_ad_client = \"pub-2777870302657841\";\\r\\ngoogle_ad_width = 160;\\r\\ngoogle_ad_height = 600;\\r\\ngoogle_ad_format = \"160x600_as\";\\r\\ngoogle_ad_type = \"text_image\";\\r\\ngoogle_ad_channel =\"\";\\r\\ngoogle_color_border = \"003399\";\\r\\ngoogle_color_bg = \"FFFFFF\";\\r\\ngoogle_color_link = \"0000CC\";\\r\\ngoogle_color_text = \"6F6F6F\";\\r\\ngoogle_color_url = \"3366CC\";\\r\\n//-->(function(i,s,o,g,r,a,m){i[\\'GoogleAnalyticsObject\\']=r;i[r]=i[r]||function(){\\r\\n  (i[r].q=i[r].q||[]).push(arguments)},i[r].l=1*new Date();a=s.createElement(o),\\r\\n  m=s.getElementsByTagName(o)[0];a.async=1;a.src=g;m.parentNode.insertBefore(a,m)\\r\\n  })(window,document,\\'script\\',\\'//www.google-analytics.com/analytics.js\\',\\'ga\\');\\r\\n\\r\\n  ga(\\'create\\', \\'UA-409980-5\\', \\'auto\\');\\r\\n  ga(\\'send\\', \\'pageview\\');'], [''], ['2019SchedulePrinter Friendly* denotes aConferencegameAll Times LocalDateOpponentH/ATimeW/LNo Schedule Available for this Team2/27/2019Lourdes (Ohio)N3-4L2/27/2019Lourdes (Ohio)N4-8L3/2/2019Cornerstone (Mich.)N3-4L3/2/2019Trinity BaptistN5-1W3/4/2019Michigan-DearbornN13-1W3/5/2019Rochester (Mich.)N24-4W3/6/2019Robert Morris (Ill.)N10-9W3/8/2019Bethel (Ind.) *N13-6W3/9/2019Bethel (Ind.) *N14-2W3/9/2019Bethel (Ind.) *N3-1W3/14/2019Taylor (Ind.) *A5-15L3/16/2019Taylor (Ind.) *A2-10L3/16/2019Taylor (Ind.) *A3-9L3/23/2019Spring Arbor (Mich.) *A2-4L3/25/2019Spring Arbor (Mich.) *A1-11L3/25/2019Spring Arbor (Mich.) *A6-7L3/26/2019IU Kokomo (Ind.)A0-3L3/26/2019IU Kokomo (Ind.)A0-5L3/28/2019Huntington (Ind.) *H12-2W4/1/2019Huntington (Ind.) *H2-12L4/1/2019Huntington (Ind.) *H10-9W4/2/2019Siena Heights (Mich.)A2-8L4/2/2019Siena Heights (Mich.)A0-4L4/5/2019St. Francis (Ind.) *A17-13W4/6/2019St. Francis (Ind.) *A9-8W4/6/2019St. Francis (Ind.) *A15-7W4/9/2019Indiana Wesleyan *H16-20L4/10/2019Indiana TechA2-6L4/12/2019Mount Vernon Nazarene (Ohio) *A0-10L4/13/2019Mount Vernon Nazarene (Ohio) *A5-12L4/13/2019Mount Vernon Nazarene (Ohio) *A5-10L4/16/2019Indiana Wesleyan *H3-1W4/16/2019Indiana Wesleyan *H1-11L4/22/2019Marian (Ind.) *H0-9L4/22/2019Marian (Ind.) *H4-6L4/23/2019Marian (Ind.) *H3-10L4/26/2019Goshen (Ind.) *H5-1W4/26/2019Goshen (Ind.) *H2-12L4/27/2019Goshen (Ind.) *H2-12L5/3/2019Huntington (Ind.)N5-4(10)W5/4/2019Taylor (Ind.)A6-3W5/6/2019Marian (Ind.)N13-0W5/7/2019Marian (Ind.)N2-5L5/8/2019Marian (Ind.)N6-14LStats by DakStats Copyright Â© Daktronics, Inc.For IE users:To see background colors:  Tools -> Internet Options -> Advanced -> Check \"print background colors and images\".', '2019Schedule', '', 'Printer Friendly', '* denotes aConferencegame', 'All Times Local', 'Date', 'Opponent', 'H/A', 'Time', 'W/L', '2/27/2019Lourdes (Ohio)N3-4L2/27/2019Lourdes (Ohio)N4-8L3/2/2019Cornerstone (Mich.)N3-4L3/2/2019Trinity BaptistN5-1W3/4/2019Michigan-DearbornN13-1W3/5/2019Rochester (Mich.)N24-4W3/6/2019Robert Morris (Ill.)N10-9W3/8/2019Bethel (Ind.) *N13-6W3/9/2019Bethel (Ind.) *N14-2W3/9/2019Bethel (Ind.) *N3-1W3/14/2019Taylor (Ind.) *A5-15L3/16/2019Taylor (Ind.) *A2-10L3/16/2019Taylor (Ind.) *A3-9L3/23/2019Spring Arbor (Mich.) *A2-4L3/25/2019Spring Arbor (Mich.) *A1-11L3/25/2019Spring Arbor (Mich.) *A6-7L3/26/2019IU Kokomo (Ind.)A0-3L3/26/2019IU Kokomo (Ind.)A0-5L3/28/2019Huntington (Ind.) *H12-2W4/1/2019Huntington (Ind.) *H2-12L4/1/2019Huntington (Ind.) *H10-9W4/2/2019Siena Heights (Mich.)A2-8L4/2/2019Siena Heights (Mich.)A0-4L4/5/2019St. Francis (Ind.) *A17-13W4/6/2019St. Francis (Ind.) *A9-8W4/6/2019St. Francis (Ind.) *A15-7W4/9/2019Indiana Wesleyan *H16-20L4/10/2019Indiana TechA2-6L4/12/2019Mount Vernon Nazarene (Ohio) *A0-10L4/13/2019Mount Vernon Nazarene (Ohio) *A5-12L4/13/2019Mount Vernon Nazarene (Ohio) *A5-10L4/16/2019Indiana Wesleyan *H3-1W4/16/2019Indiana Wesleyan *H1-11L4/22/2019Marian (Ind.) *H0-9L4/22/2019Marian (Ind.) *H4-6L4/23/2019Marian (Ind.) *H3-10L4/26/2019Goshen (Ind.) *H5-1W4/26/2019Goshen (Ind.) *H2-12L4/27/2019Goshen (Ind.) *H2-12L5/3/2019Huntington (Ind.)N5-4(10)W5/4/2019Taylor (Ind.)A6-3W5/6/2019Marian (Ind.)N13-0W5/7/2019Marian (Ind.)N2-5L5/8/2019Marian (Ind.)N6-14L', '', '2/27/2019', 'Lourdes (Ohio)', 'N', '3-4', 'L', '', '', '2/27/2019', 'Lourdes (Ohio)', 'N', '4-8', 'L', '', '', '3/2/2019', 'Cornerstone (Mich.)', 'N', '3-4', 'L', '', '', '3/2/2019', 'Trinity Baptist', 'N', '5-1', 'W', '', '', '3/4/2019', 'Michigan-Dearborn', 'N', '13-1', 'W', '', '', '3/5/2019', 'Rochester (Mich.)', 'N', '24-4', 'W', '', '', '3/6/2019', 'Robert Morris (Ill.)', 'N', '10-9', 'W', '', '', '3/8/2019', 'Bethel (Ind.) *', 'N', '13-6', 'W', '', '', '3/9/2019', 'Bethel (Ind.) *', 'N', '14-2', 'W', '', '', '3/9/2019', 'Bethel (Ind.) *', 'N', '3-1', 'W', '', '', '3/14/2019', 'Taylor (Ind.) *', 'A', '5-15', 'L', '', '', '3/16/2019', 'Taylor (Ind.) *', 'A', '2-10', 'L', '', '', '3/16/2019', 'Taylor (Ind.) *', 'A', '3-9', 'L', '', '', '3/23/2019', 'Spring Arbor (Mich.) *', 'A', '2-4', 'L', '', '', '3/25/2019', 'Spring Arbor (Mich.) *', 'A', '1-11', 'L', '', '', '3/25/2019', 'Spring Arbor (Mich.) *', 'A', '6-7', 'L', '', '', '3/26/2019', 'IU Kokomo (Ind.)', 'A', '0-3', 'L', '', '', '3/26/2019', 'IU Kokomo (Ind.)', 'A', '0-5', 'L', '', '', '3/28/2019', 'Huntington (Ind.) *', 'H', '12-2', 'W', '', '', '4/1/2019', 'Huntington (Ind.) *', 'H', '2-12', 'L', '', '', '4/1/2019', 'Huntington (Ind.) *', 'H', '10-9', 'W', '', '', '4/2/2019', 'Siena Heights (Mich.)', 'A', '2-8', 'L', '', '', '4/2/2019', 'Siena Heights (Mich.)', 'A', '0-4', 'L', '', '', '4/5/2019', 'St. Francis (Ind.) *', 'A', '17-13', 'W', '', '', '4/6/2019', 'St. Francis (Ind.) *', 'A', '9-8', 'W', '', '', '4/6/2019', 'St. Francis (Ind.) *', 'A', '15-7', 'W', '', '', '4/9/2019', 'Indiana Wesleyan *', 'H', '16-20', 'L', '', '', '4/10/2019', 'Indiana Tech', 'A', '2-6', 'L', '', '', '4/12/2019', 'Mount Vernon Nazarene (Ohio) *', 'A', '0-10', 'L', '', '', '4/13/2019', 'Mount Vernon Nazarene (Ohio) *', 'A', '5-12', 'L', '', '', '4/13/2019', 'Mount Vernon Nazarene (Ohio) *', 'A', '5-10', 'L', '', '', '4/16/2019', 'Indiana Wesleyan *', 'H', '3-1', 'W', '', '', '4/16/2019', 'Indiana Wesleyan *', 'H', '1-11', 'L', '', '', '4/22/2019', 'Marian (Ind.) *', 'H', '0-9', 'L', '', '', '4/22/2019', 'Marian (Ind.) *', 'H', '4-6', 'L', '', '', '4/23/2019', 'Marian (Ind.) *', 'H', '3-10', 'L', '', '', '4/26/2019', 'Goshen (Ind.) *', 'H', '5-1', 'W', '', '', '4/26/2019', 'Goshen (Ind.) *', 'H', '2-12', 'L', '', '', '4/27/2019', 'Goshen (Ind.) *', 'H', '2-12', 'L', '', '', '5/3/2019', 'Huntington (Ind.)', 'N', '5-4(10)', 'W', '', '', '5/4/2019', 'Taylor (Ind.)', 'A', '6-3', 'W', '', '', '5/6/2019', 'Marian (Ind.)', 'N', '13-0', 'W', '', '', '5/7/2019', 'Marian (Ind.)', 'N', '2-5', 'L', '', '', '5/8/2019', 'Marian (Ind.)', 'N', '6-14', 'L', '', '', 'Stats by DakStats Copyright Â© Daktronics, Inc.', '2019RecordWLTOverall17270Conference10170Last Reported5-13-2019Team ProfileOfficial Team WebsiteEnrollment:1600Coach:Ryan RothStadium:Miller FieldLocation:200 Seminary Drive Winona Lake, IN 46590Other SportsQuick LeadersBat AvgHITSAVGX. Harris460.336RBITOTAVGH. Haney320.80Stolen BasesTOTAVGR. Snyder140.34ERAERERAH. Haney223.64SOK AVGTOTALA. Voirol10.1752PLEASE SUPPORT OUR SPONSORS', '2019RecordWLTOverall17270Conference10170Last Reported5-13-2019', '2019Record', 'W', 'L', 'T', 'Overall', '17', '27', '0', 'Conference', '10', '17', '0', 'Last Reported5-13-2019', 'Team Profile', 'Official Team Website', 'Official Team Website', 'Enrollment:1600', 'Enrollment:', '1600', 'Coach:Ryan Roth', 'Coach:', 'Ryan Roth', 'Stadium:Miller Field', 'Stadium:', 'Miller Field', 'Location:200 Seminary Drive Winona Lake, IN 46590', 'Location:', '200 Seminary Drive Winona Lake, IN 46590', 'Other Sports', '', 'Other Sports', 'Quick Leaders', 'Bat AvgHITSAVGX. Harris460.336', '', 'Bat Avg', 'HITS', 'AVG', 'X. Harris', '46', '0.336', '', 'RBITOTAVGH. Haney320.80', '', 'RBI', 'TOT', 'AVG', 'H. Haney', '32', '0.80', '', 'Stolen BasesTOTAVGR. Snyder140.34', '', 'Stolen Bases', 'TOT', 'AVG', 'R. Snyder', '14', '0.34', '', 'ERAERERAH. Haney223.64', '', 'ERA', 'ER', 'ERA', 'H. Haney', '22', '3.64', '', 'SOK AVGTOTALA. Voirol10.1752', '', 'SO', 'K AVG', 'TOTAL', 'A. Voirol', '10.17', '52', '', 'PLEASE SUPPORT OUR SPONSORS', ''], ['2019Schedule', '', 'Printer Friendly'], ['* denotes aConferencegame'], ['All Times Local'], ['Date', 'Opponent', 'H/A', 'Time', 'W/L'], ['2/27/2019Lourdes (Ohio)N3-4L2/27/2019Lourdes (Ohio)N4-8L3/2/2019Cornerstone (Mich.)N3-4L3/2/2019Trinity BaptistN5-1W3/4/2019Michigan-DearbornN13-1W3/5/2019Rochester (Mich.)N24-4W3/6/2019Robert Morris (Ill.)N10-9W3/8/2019Bethel (Ind.) *N13-6W3/9/2019Bethel (Ind.) *N14-2W3/9/2019Bethel (Ind.) *N3-1W3/14/2019Taylor (Ind.) *A5-15L3/16/2019Taylor (Ind.) *A2-10L3/16/2019Taylor (Ind.) *A3-9L3/23/2019Spring Arbor (Mich.) *A2-4L3/25/2019Spring Arbor (Mich.) *A1-11L3/25/2019Spring Arbor (Mich.) *A6-7L3/26/2019IU Kokomo (Ind.)A0-3L3/26/2019IU Kokomo (Ind.)A0-5L3/28/2019Huntington (Ind.) *H12-2W4/1/2019Huntington (Ind.) *H2-12L4/1/2019Huntington (Ind.) *H10-9W4/2/2019Siena Heights (Mich.)A2-8L4/2/2019Siena Heights (Mich.)A0-4L4/5/2019St. Francis (Ind.) *A17-13W4/6/2019St. Francis (Ind.) *A9-8W4/6/2019St. Francis (Ind.) *A15-7W4/9/2019Indiana Wesleyan *H16-20L4/10/2019Indiana TechA2-6L4/12/2019Mount Vernon Nazarene (Ohio) *A0-10L4/13/2019Mount Vernon Nazarene (Ohio) *A5-12L4/13/2019Mount Vernon Nazarene (Ohio) *A5-10L4/16/2019Indiana Wesleyan *H3-1W4/16/2019Indiana Wesleyan *H1-11L4/22/2019Marian (Ind.) *H0-9L4/22/2019Marian (Ind.) *H4-6L4/23/2019Marian (Ind.) *H3-10L4/26/2019Goshen (Ind.) *H5-1W4/26/2019Goshen (Ind.) *H2-12L4/27/2019Goshen (Ind.) *H2-12L5/3/2019Huntington (Ind.)N5-4(10)W5/4/2019Taylor (Ind.)A6-3W5/6/2019Marian (Ind.)N13-0W5/7/2019Marian (Ind.)N2-5L5/8/2019Marian (Ind.)N6-14L', '', '2/27/2019', 'Lourdes (Ohio)', 'N', '3-4', 'L', '', '', '2/27/2019', 'Lourdes (Ohio)', 'N', '4-8', 'L', '', '', '3/2/2019', 'Cornerstone (Mich.)', 'N', '3-4', 'L', '', '', '3/2/2019', 'Trinity Baptist', 'N', '5-1', 'W', '', '', '3/4/2019', 'Michigan-Dearborn', 'N', '13-1', 'W', '', '', '3/5/2019', 'Rochester (Mich.)', 'N', '24-4', 'W', '', '', '3/6/2019', 'Robert Morris (Ill.)', 'N', '10-9', 'W', '', '', '3/8/2019', 'Bethel (Ind.) *', 'N', '13-6', 'W', '', '', '3/9/2019', 'Bethel (Ind.) *', 'N', '14-2', 'W', '', '', '3/9/2019', 'Bethel (Ind.) *', 'N', '3-1', 'W', '', '', '3/14/2019', 'Taylor (Ind.) *', 'A', '5-15', 'L', '', '', '3/16/2019', 'Taylor (Ind.) *', 'A', '2-10', 'L', '', '', '3/16/2019', 'Taylor (Ind.) *', 'A', '3-9', 'L', '', '', '3/23/2019', 'Spring Arbor (Mich.) *', 'A', '2-4', 'L', '', '', '3/25/2019', 'Spring Arbor (Mich.) *', 'A', '1-11', 'L', '', '', '3/25/2019', 'Spring Arbor (Mich.) *', 'A', '6-7', 'L', '', '', '3/26/2019', 'IU Kokomo (Ind.)', 'A', '0-3', 'L', '', '', '3/26/2019', 'IU Kokomo (Ind.)', 'A', '0-5', 'L', '', '', '3/28/2019', 'Huntington (Ind.) *', 'H', '12-2', 'W', '', '', '4/1/2019', 'Huntington (Ind.) *', 'H', '2-12', 'L', '', '', '4/1/2019', 'Huntington (Ind.) *', 'H', '10-9', 'W', '', '', '4/2/2019', 'Siena Heights (Mich.)', 'A', '2-8', 'L', '', '', '4/2/2019', 'Siena Heights (Mich.)', 'A', '0-4', 'L', '', '', '4/5/2019', 'St. Francis (Ind.) *', 'A', '17-13', 'W', '', '', '4/6/2019', 'St. Francis (Ind.) *', 'A', '9-8', 'W', '', '', '4/6/2019', 'St. Francis (Ind.) *', 'A', '15-7', 'W', '', '', '4/9/2019', 'Indiana Wesleyan *', 'H', '16-20', 'L', '', '', '4/10/2019', 'Indiana Tech', 'A', '2-6', 'L', '', '', '4/12/2019', 'Mount Vernon Nazarene (Ohio) *', 'A', '0-10', 'L', '', '', '4/13/2019', 'Mount Vernon Nazarene (Ohio) *', 'A', '5-12', 'L', '', '', '4/13/2019', 'Mount Vernon Nazarene (Ohio) *', 'A', '5-10', 'L', '', '', '4/16/2019', 'Indiana Wesleyan *', 'H', '3-1', 'W', '', '', '4/16/2019', 'Indiana Wesleyan *', 'H', '1-11', 'L', '', '', '4/22/2019', 'Marian (Ind.) *', 'H', '0-9', 'L', '', '', '4/22/2019', 'Marian (Ind.) *', 'H', '4-6', 'L', '', '', '4/23/2019', 'Marian (Ind.) *', 'H', '3-10', 'L', '', '', '4/26/2019', 'Goshen (Ind.) *', 'H', '5-1', 'W', '', '', '4/26/2019', 'Goshen (Ind.) *', 'H', '2-12', 'L', '', '', '4/27/2019', 'Goshen (Ind.) *', 'H', '2-12', 'L', '', '', '5/3/2019', 'Huntington (Ind.)', 'N', '5-4(10)', 'W', '', '', '5/4/2019', 'Taylor (Ind.)', 'A', '6-3', 'W', '', '', '5/6/2019', 'Marian (Ind.)', 'N', '13-0', 'W', '', '', '5/7/2019', 'Marian (Ind.)', 'N', '2-5', 'L', '', '', '5/8/2019', 'Marian (Ind.)', 'N', '6-14', 'L', '', ''], [''], ['2/27/2019', 'Lourdes (Ohio)', 'N', '3-4', 'L', ''], [''], ['2/27/2019', 'Lourdes (Ohio)', 'N', '4-8', 'L', ''], [''], ['3/2/2019', 'Cornerstone (Mich.)', 'N', '3-4', 'L', ''], [''], ['3/2/2019', 'Trinity Baptist', 'N', '5-1', 'W', ''], [''], ['3/4/2019', 'Michigan-Dearborn', 'N', '13-1', 'W', ''], [''], ['3/5/2019', 'Rochester (Mich.)', 'N', '24-4', 'W', ''], [''], ['3/6/2019', 'Robert Morris (Ill.)', 'N', '10-9', 'W', ''], [''], ['3/8/2019', 'Bethel (Ind.) *', 'N', '13-6', 'W', ''], [''], ['3/9/2019', 'Bethel (Ind.) *', 'N', '14-2', 'W', ''], [''], ['3/9/2019', 'Bethel (Ind.) *', 'N', '3-1', 'W', ''], [''], ['3/14/2019', 'Taylor (Ind.) *', 'A', '5-15', 'L', ''], [''], ['3/16/2019', 'Taylor (Ind.) *', 'A', '2-10', 'L', ''], [''], ['3/16/2019', 'Taylor (Ind.) *', 'A', '3-9', 'L', ''], [''], ['3/23/2019', 'Spring Arbor (Mich.) *', 'A', '2-4', 'L', ''], [''], ['3/25/2019', 'Spring Arbor (Mich.) *', 'A', '1-11', 'L', ''], [''], ['3/25/2019', 'Spring Arbor (Mich.) *', 'A', '6-7', 'L', ''], [''], ['3/26/2019', 'IU Kokomo (Ind.)', 'A', '0-3', 'L', ''], [''], ['3/26/2019', 'IU Kokomo (Ind.)', 'A', '0-5', 'L', ''], [''], ['3/28/2019', 'Huntington (Ind.) *', 'H', '12-2', 'W', ''], [''], ['4/1/2019', 'Huntington (Ind.) *', 'H', '2-12', 'L', ''], [''], ['4/1/2019', 'Huntington (Ind.) *', 'H', '10-9', 'W', ''], [''], ['4/2/2019', 'Siena Heights (Mich.)', 'A', '2-8', 'L', ''], [''], ['4/2/2019', 'Siena Heights (Mich.)', 'A', '0-4', 'L', ''], [''], ['4/5/2019', 'St. Francis (Ind.) *', 'A', '17-13', 'W', ''], [''], ['4/6/2019', 'St. Francis (Ind.) *', 'A', '9-8', 'W', ''], [''], ['4/6/2019', 'St. Francis (Ind.) *', 'A', '15-7', 'W', ''], [''], ['4/9/2019', 'Indiana Wesleyan *', 'H', '16-20', 'L', ''], [''], ['4/10/2019', 'Indiana Tech', 'A', '2-6', 'L', ''], [''], ['4/12/2019', 'Mount Vernon Nazarene (Ohio) *', 'A', '0-10', 'L', ''], [''], ['4/13/2019', 'Mount Vernon Nazarene (Ohio) *', 'A', '5-12', 'L', ''], [''], ['4/13/2019', 'Mount Vernon Nazarene (Ohio) *', 'A', '5-10', 'L', ''], [''], ['4/16/2019', 'Indiana Wesleyan *', 'H', '3-1', 'W', ''], [''], ['4/16/2019', 'Indiana Wesleyan *', 'H', '1-11', 'L', ''], [''], ['4/22/2019', 'Marian (Ind.) *', 'H', '0-9', 'L', ''], [''], ['4/22/2019', 'Marian (Ind.) *', 'H', '4-6', 'L', ''], [''], ['4/23/2019', 'Marian (Ind.) *', 'H', '3-10', 'L', ''], [''], ['4/26/2019', 'Goshen (Ind.) *', 'H', '5-1', 'W', ''], [''], ['4/26/2019', 'Goshen (Ind.) *', 'H', '2-12', 'L', ''], [''], ['4/27/2019', 'Goshen (Ind.) *', 'H', '2-12', 'L', ''], [''], ['5/3/2019', 'Huntington (Ind.)', 'N', '5-4(10)', 'W', ''], [''], ['5/4/2019', 'Taylor (Ind.)', 'A', '6-3', 'W', ''], [''], ['5/6/2019', 'Marian (Ind.)', 'N', '13-0', 'W', ''], [''], ['5/7/2019', 'Marian (Ind.)', 'N', '2-5', 'L', ''], [''], ['5/8/2019', 'Marian (Ind.)', 'N', '6-14', 'L', ''], [''], ['Stats by DakStats Copyright Â© Daktronics, Inc.'], ['2019RecordWLTOverall17270Conference10170Last Reported5-13-2019', '2019Record', 'W', 'L', 'T', 'Overall', '17', '27', '0', 'Conference', '10', '17', '0', 'Last Reported5-13-2019'], ['2019Record', 'W', 'L', 'T'], ['Overall', '17', '27', '0'], ['Conference', '10', '17', '0'], ['Last Reported5-13-2019'], ['Team Profile'], ['Official Team Website', 'Official Team Website'], ['Official Team Website'], ['Enrollment:1600', 'Enrollment:', '1600'], ['Enrollment:', '1600'], ['Coach:Ryan Roth', 'Coach:', 'Ryan Roth'], ['Coach:', 'Ryan Roth'], ['Stadium:Miller Field', 'Stadium:', 'Miller Field'], ['Stadium:', 'Miller Field'], ['Location:200 Seminary Drive Winona Lake, IN 46590', 'Location:', '200 Seminary Drive Winona Lake, IN 46590'], ['Location:', '200 Seminary Drive Winona Lake, IN 46590'], ['Other Sports', '', 'Other Sports'], ['', 'Other Sports'], ['Quick Leaders'], ['Bat AvgHITSAVGX. Harris460.336', '', 'Bat Avg', 'HITS', 'AVG', 'X. Harris', '46', '0.336', ''], ['', 'Bat Avg', 'HITS', 'AVG'], ['X. Harris', '46', '0.336'], [''], ['RBITOTAVGH. Haney320.80', '', 'RBI', 'TOT', 'AVG', 'H. Haney', '32', '0.80', ''], ['', 'RBI', 'TOT', 'AVG'], ['H. Haney', '32', '0.80'], [''], ['Stolen BasesTOTAVGR. Snyder140.34', '', 'Stolen Bases', 'TOT', 'AVG', 'R. Snyder', '14', '0.34', ''], ['', 'Stolen Bases', 'TOT', 'AVG'], ['R. Snyder', '14', '0.34'], [''], ['ERAERERAH. Haney223.64', '', 'ERA', 'ER', 'ERA', 'H. Haney', '22', '3.64', ''], ['', 'ERA', 'ER', 'ERA'], ['H. Haney', '22', '3.64'], [''], ['SOK AVGTOTALA. Voirol10.1752', '', 'SO', 'K AVG', 'TOTAL', 'A. Voirol', '10.17', '52', ''], ['', 'SO', 'K AVG', 'TOTAL'], ['A. Voirol', '10.17', '52'], [''], ['PLEASE SUPPORT OUR SPONSORS'], [''], [''], [\"About UsFAQ'sCopyrightPrivacy NoticeDaktronics, Inc. Brookings, SD20070226Our site uses cookies. By continuing to use our site, you are consenting to cookie usage. OurPrivacy Noticeprovides information about our cookie use as well as how to disable them.OK\", \"About UsFAQ'sCopyrightPrivacy NoticeDaktronics, Inc. Brookings, SD\", 'About Us', \"FAQ's\", 'Copyright', 'Privacy Notice', 'Daktronics, Inc. Brookings, SD'], [\"About UsFAQ'sCopyrightPrivacy NoticeDaktronics, Inc. Brookings, SD\", 'About Us', \"FAQ's\", 'Copyright', 'Privacy Notice', 'Daktronics, Inc. Brookings, SD'], ['About Us', \"FAQ's\"], ['Copyright', 'Privacy Notice', 'Daktronics, Inc. Brookings, SD']]\n",
      "20 [['.innerTable\\r\\n{\\r\\n  width: 100%;\\r\\n  /*default colors here*/\\r\\n  background-color:black;\\r\\n  color:white;\\r\\n}\\r\\n\\r\\n.containerTable\\r\\n{\\r\\n  width: 100%;\\r\\n  /*default colors here*/\\r\\n  background-color:black;\\r\\n  color:white;\\r\\n}\\r\\n\\r\\n.pageTitleMenu\\r\\n{\\r\\n    font: normal 900 11px arial;\\r\\n    color: #FFFFFF;\\r\\n    padding-right: 6px;\\r\\n    padding-left: 6px;\\r\\n    text-decoration: underline;\\r\\n    border-right: solid 1px #FFFFFF;\\r\\n}\\r\\n\\r\\n.pageTitleMenuLast\\r\\n{\\r\\n    font: normal 900 11px arial;\\r\\n    color: #FFFFFF;\\r\\n    padding-right: 6px;\\r\\n    padding-left: 6px;\\r\\n    text-decoration: underline;\\r\\n    border: none;\\r\\n}\\r\\n\\r\\n.pageTitleMenuCurrent\\r\\n{\\r\\n    font: normal 900 11px arial;\\r\\n    color: #FFFFFF;\\r\\n    padding-right: 6px;\\r\\n    padding-left: 6px;\\r\\n    border-right: solid 1px #FFFFFF;\\r\\n    text-decoration: none;\\r\\n}\\r\\n\\r\\n.pageTitleMenuCurrentLast\\r\\n{\\r\\n    font: normal 900 11px arial;\\r\\n    color: #FFFFFF;\\r\\n    padding-right: 6px;\\r\\n    padding-left: 6px;\\r\\n    border: none;\\r\\n    text-decoration: none;\\r\\n}\\r\\n\\r\\n.quickLinksTD\\r\\n{    \\r\\n    width: 80px; \\r\\n    vertical-align: bottom; \\r\\n    padding-bottom:5px;    \\r\\n}\\r\\n\\r\\n.quickLinksLabel\\r\\n{\\r\\n    color: #FFFFFF;\\r\\n}\\r\\n\\r\\n\\r\\na.pageTitleMenu:hover{color:#FFFFFF;}\\r\\na.pageTitleMenu:visited{color:#FFFFFF;}Grace (Ind.)Date Printed: 2/17/2021 1:08:12 PMWinona Lake, INNAIA BSBQuick LinksNAIADivision ICrossroads LeagueGrace (Ind.)table#pageTitleTabsTable\\r\\n{\\r\\n    width: 100%;\\r\\n    margin-top: -1px;\\r\\n    margin-bottom: -5px;\\r\\n}\\r\\n\\r\\n.tabs\\r\\n{\\r\\n    width: 20%;\\r\\n    text-align: center;\\r\\n    height: 18PX;\\r\\n    font-size: 8pt;\\r\\n    background-image: url(/WebSync/Images/noTab_New.gif);\\r\\n    padding-top: 2px;\\r\\n    /*background-color: #ECECEC;*/\\r\\n    border-right: solid 1px #b9b9b9;\\r\\n    \\r\\n}\\r\\n\\r\\na.tabLink:link{text-decoration: none;  color: #606060;}\\r\\na.tabLink:visited{text-decoration: none; color: #606060;}\\r\\na.tabLink:hover{text-decoration: underline;   color: #606060;}\\r\\na.tabLink:active{text-decoration: none;  color: #606060;}\\r\\n\\r\\ntable#pageTitleTabsTable td a\\r\\n{\\r\\n  color: #5b5b5b;\\r\\n  font-size: 12px;\\r\\n  font-family: arial;\\r\\n}Team PageRosterScheduleTeam StatsIndividual Stats', '.innerTable\\r\\n{\\r\\n  width: 100%;\\r\\n  /*default colors here*/\\r\\n  background-color:black;\\r\\n  color:white;\\r\\n}\\r\\n\\r\\n.containerTable\\r\\n{\\r\\n  width: 100%;\\r\\n  /*default colors here*/\\r\\n  background-color:black;\\r\\n  color:white;\\r\\n}\\r\\n\\r\\n.pageTitleMenu\\r\\n{\\r\\n    font: normal 900 11px arial;\\r\\n    color: #FFFFFF;\\r\\n    padding-right: 6px;\\r\\n    padding-left: 6px;\\r\\n    text-decoration: underline;\\r\\n    border-right: solid 1px #FFFFFF;\\r\\n}\\r\\n\\r\\n.pageTitleMenuLast\\r\\n{\\r\\n    font: normal 900 11px arial;\\r\\n    color: #FFFFFF;\\r\\n    padding-right: 6px;\\r\\n    padding-left: 6px;\\r\\n    text-decoration: underline;\\r\\n    border: none;\\r\\n}\\r\\n\\r\\n.pageTitleMenuCurrent\\r\\n{\\r\\n    font: normal 900 11px arial;\\r\\n    color: #FFFFFF;\\r\\n    padding-right: 6px;\\r\\n    padding-left: 6px;\\r\\n    border-right: solid 1px #FFFFFF;\\r\\n    text-decoration: none;\\r\\n}\\r\\n\\r\\n.pageTitleMenuCurrentLast\\r\\n{\\r\\n    font: normal 900 11px arial;\\r\\n    color: #FFFFFF;\\r\\n    padding-right: 6px;\\r\\n    padding-left: 6px;\\r\\n    border: none;\\r\\n    text-decoration: none;\\r\\n}\\r\\n\\r\\n.quickLinksTD\\r\\n{    \\r\\n    width: 80px; \\r\\n    vertical-align: bottom; \\r\\n    padding-bottom:5px;    \\r\\n}\\r\\n\\r\\n.quickLinksLabel\\r\\n{\\r\\n    color: #FFFFFF;\\r\\n}\\r\\n\\r\\n\\r\\na.pageTitleMenu:hover{color:#FFFFFF;}\\r\\na.pageTitleMenu:visited{color:#FFFFFF;}Grace (Ind.)Date Printed: 2/17/2021 1:08:12 PMWinona Lake, INNAIA BSBQuick LinksNAIADivision ICrossroads LeagueGrace (Ind.)', '', 'Grace (Ind.)Date Printed: 2/17/2021 1:08:12 PMWinona Lake, INNAIA BSBQuick LinksNAIADivision ICrossroads LeagueGrace (Ind.)', 'Grace (Ind.)', 'Date Printed: 2/17/2021 1:08:12 PM', 'Winona Lake, IN', 'NAIA BSB', 'Quick LinksNAIADivision ICrossroads LeagueGrace (Ind.)', 'Quick Links', 'NAIADivision ICrossroads LeagueGrace (Ind.)', 'NAIA', 'NAIA', '', 'Division I', 'Division I', '', 'Crossroads League', 'Crossroads League', '', 'Grace (Ind.)', 'Grace (Ind.)', 'table#pageTitleTabsTable\\r\\n{\\r\\n    width: 100%;\\r\\n    margin-top: -1px;\\r\\n    margin-bottom: -5px;\\r\\n}\\r\\n\\r\\n.tabs\\r\\n{\\r\\n    width: 20%;\\r\\n    text-align: center;\\r\\n    height: 18PX;\\r\\n    font-size: 8pt;\\r\\n    background-image: url(/WebSync/Images/noTab_New.gif);\\r\\n    padding-top: 2px;\\r\\n    /*background-color: #ECECEC;*/\\r\\n    border-right: solid 1px #b9b9b9;\\r\\n    \\r\\n}\\r\\n\\r\\na.tabLink:link{text-decoration: none;  color: #606060;}\\r\\na.tabLink:visited{text-decoration: none; color: #606060;}\\r\\na.tabLink:hover{text-decoration: underline;   color: #606060;}\\r\\na.tabLink:active{text-decoration: none;  color: #606060;}\\r\\n\\r\\ntable#pageTitleTabsTable td a\\r\\n{\\r\\n  color: #5b5b5b;\\r\\n  font-size: 12px;\\r\\n  font-family: arial;\\r\\n}Team PageRosterScheduleTeam StatsIndividual Stats', 'Team Page', 'Roster', 'Schedule', 'Team Stats', 'Individual Stats', '<!--\\r\\ngoogle_ad_client = \"pub-2777870302657841\";\\r\\ngoogle_ad_width = 160;\\r\\ngoogle_ad_height = 600;\\r\\ngoogle_ad_format = \"160x600_as\";\\r\\ngoogle_ad_type = \"text_image\";\\r\\ngoogle_ad_channel =\"\";\\r\\ngoogle_color_border = \"003399\";\\r\\ngoogle_color_bg = \"FFFFFF\";\\r\\ngoogle_color_link = \"0000CC\";\\r\\ngoogle_color_text = \"6F6F6F\";\\r\\ngoogle_color_url = \"3366CC\";\\r\\n//-->(function(i,s,o,g,r,a,m){i[\\'GoogleAnalyticsObject\\']=r;i[r]=i[r]||function(){\\r\\n  (i[r].q=i[r].q||[]).push(arguments)},i[r].l=1*new Date();a=s.createElement(o),\\r\\n  m=s.getElementsByTagName(o)[0];a.async=1;a.src=g;m.parentNode.insertBefore(a,m)\\r\\n  })(window,document,\\'script\\',\\'//www.google-analytics.com/analytics.js\\',\\'ga\\');\\r\\n\\r\\n  ga(\\'create\\', \\'UA-409980-5\\', \\'auto\\');\\r\\n  ga(\\'send\\', \\'pageview\\');', '<!--\\r\\ngoogle_ad_client = \"pub-2777870302657841\";\\r\\ngoogle_ad_width = 160;\\r\\ngoogle_ad_height = 600;\\r\\ngoogle_ad_format = \"160x600_as\";\\r\\ngoogle_ad_type = \"text_image\";\\r\\ngoogle_ad_channel =\"\";\\r\\ngoogle_color_border = \"003399\";\\r\\ngoogle_color_bg = \"FFFFFF\";\\r\\ngoogle_color_link = \"0000CC\";\\r\\ngoogle_color_text = \"6F6F6F\";\\r\\ngoogle_color_url = \"3366CC\";\\r\\n//-->(function(i,s,o,g,r,a,m){i[\\'GoogleAnalyticsObject\\']=r;i[r]=i[r]||function(){\\r\\n  (i[r].q=i[r].q||[]).push(arguments)},i[r].l=1*new Date();a=s.createElement(o),\\r\\n  m=s.getElementsByTagName(o)[0];a.async=1;a.src=g;m.parentNode.insertBefore(a,m)\\r\\n  })(window,document,\\'script\\',\\'//www.google-analytics.com/analytics.js\\',\\'ga\\');\\r\\n\\r\\n  ga(\\'create\\', \\'UA-409980-5\\', \\'auto\\');\\r\\n  ga(\\'send\\', \\'pageview\\');'], ['.innerTable\\r\\n{\\r\\n  width: 100%;\\r\\n  /*default colors here*/\\r\\n  background-color:black;\\r\\n  color:white;\\r\\n}\\r\\n\\r\\n.containerTable\\r\\n{\\r\\n  width: 100%;\\r\\n  /*default colors here*/\\r\\n  background-color:black;\\r\\n  color:white;\\r\\n}\\r\\n\\r\\n.pageTitleMenu\\r\\n{\\r\\n    font: normal 900 11px arial;\\r\\n    color: #FFFFFF;\\r\\n    padding-right: 6px;\\r\\n    padding-left: 6px;\\r\\n    text-decoration: underline;\\r\\n    border-right: solid 1px #FFFFFF;\\r\\n}\\r\\n\\r\\n.pageTitleMenuLast\\r\\n{\\r\\n    font: normal 900 11px arial;\\r\\n    color: #FFFFFF;\\r\\n    padding-right: 6px;\\r\\n    padding-left: 6px;\\r\\n    text-decoration: underline;\\r\\n    border: none;\\r\\n}\\r\\n\\r\\n.pageTitleMenuCurrent\\r\\n{\\r\\n    font: normal 900 11px arial;\\r\\n    color: #FFFFFF;\\r\\n    padding-right: 6px;\\r\\n    padding-left: 6px;\\r\\n    border-right: solid 1px #FFFFFF;\\r\\n    text-decoration: none;\\r\\n}\\r\\n\\r\\n.pageTitleMenuCurrentLast\\r\\n{\\r\\n    font: normal 900 11px arial;\\r\\n    color: #FFFFFF;\\r\\n    padding-right: 6px;\\r\\n    padding-left: 6px;\\r\\n    border: none;\\r\\n    text-decoration: none;\\r\\n}\\r\\n\\r\\n.quickLinksTD\\r\\n{    \\r\\n    width: 80px; \\r\\n    vertical-align: bottom; \\r\\n    padding-bottom:5px;    \\r\\n}\\r\\n\\r\\n.quickLinksLabel\\r\\n{\\r\\n    color: #FFFFFF;\\r\\n}\\r\\n\\r\\n\\r\\na.pageTitleMenu:hover{color:#FFFFFF;}\\r\\na.pageTitleMenu:visited{color:#FFFFFF;}Grace (Ind.)Date Printed: 2/17/2021 1:08:12 PMWinona Lake, INNAIA BSBQuick LinksNAIADivision ICrossroads LeagueGrace (Ind.)', '', 'Grace (Ind.)Date Printed: 2/17/2021 1:08:12 PMWinona Lake, INNAIA BSBQuick LinksNAIADivision ICrossroads LeagueGrace (Ind.)', 'Grace (Ind.)', 'Date Printed: 2/17/2021 1:08:12 PM', 'Winona Lake, IN', 'NAIA BSB', 'Quick LinksNAIADivision ICrossroads LeagueGrace (Ind.)', 'Quick Links', 'NAIADivision ICrossroads LeagueGrace (Ind.)', 'NAIA', 'NAIA', '', 'Division I', 'Division I', '', 'Crossroads League', 'Crossroads League', '', 'Grace (Ind.)', 'Grace (Ind.)'], ['', 'Grace (Ind.)Date Printed: 2/17/2021 1:08:12 PMWinona Lake, INNAIA BSBQuick LinksNAIADivision ICrossroads LeagueGrace (Ind.)', 'Grace (Ind.)', 'Date Printed: 2/17/2021 1:08:12 PM', 'Winona Lake, IN', 'NAIA BSB', 'Quick LinksNAIADivision ICrossroads LeagueGrace (Ind.)', 'Quick Links', 'NAIADivision ICrossroads LeagueGrace (Ind.)', 'NAIA', 'NAIA', '', 'Division I', 'Division I', '', 'Crossroads League', 'Crossroads League', '', 'Grace (Ind.)', 'Grace (Ind.)'], ['Grace (Ind.)', 'Date Printed: 2/17/2021 1:08:12 PM', 'Winona Lake, IN'], ['NAIA BSB'], ['Quick LinksNAIADivision ICrossroads LeagueGrace (Ind.)', 'Quick Links', 'NAIADivision ICrossroads LeagueGrace (Ind.)', 'NAIA', 'NAIA', '', 'Division I', 'Division I', '', 'Crossroads League', 'Crossroads League', '', 'Grace (Ind.)', 'Grace (Ind.)'], ['Quick Links', 'NAIADivision ICrossroads LeagueGrace (Ind.)', 'NAIA', 'NAIA', '', 'Division I', 'Division I', '', 'Crossroads League', 'Crossroads League', '', 'Grace (Ind.)', 'Grace (Ind.)'], ['NAIA', 'NAIA', '', 'Division I', 'Division I', '', 'Crossroads League', 'Crossroads League', '', 'Grace (Ind.)', 'Grace (Ind.)'], ['NAIA'], ['Division I'], ['Crossroads League'], ['Grace (Ind.)'], ['table#pageTitleTabsTable\\r\\n{\\r\\n    width: 100%;\\r\\n    margin-top: -1px;\\r\\n    margin-bottom: -5px;\\r\\n}\\r\\n\\r\\n.tabs\\r\\n{\\r\\n    width: 20%;\\r\\n    text-align: center;\\r\\n    height: 18PX;\\r\\n    font-size: 8pt;\\r\\n    background-image: url(/WebSync/Images/noTab_New.gif);\\r\\n    padding-top: 2px;\\r\\n    /*background-color: #ECECEC;*/\\r\\n    border-right: solid 1px #b9b9b9;\\r\\n    \\r\\n}\\r\\n\\r\\na.tabLink:link{text-decoration: none;  color: #606060;}\\r\\na.tabLink:visited{text-decoration: none; color: #606060;}\\r\\na.tabLink:hover{text-decoration: underline;   color: #606060;}\\r\\na.tabLink:active{text-decoration: none;  color: #606060;}\\r\\n\\r\\ntable#pageTitleTabsTable td a\\r\\n{\\r\\n  color: #5b5b5b;\\r\\n  font-size: 12px;\\r\\n  font-family: arial;\\r\\n}Team PageRosterScheduleTeam StatsIndividual Stats', 'Team Page', 'Roster', 'Schedule', 'Team Stats', 'Individual Stats'], ['Team Page', 'Roster', 'Schedule', 'Team Stats', 'Individual Stats'], ['<!--\\r\\ngoogle_ad_client = \"pub-2777870302657841\";\\r\\ngoogle_ad_width = 160;\\r\\ngoogle_ad_height = 600;\\r\\ngoogle_ad_format = \"160x600_as\";\\r\\ngoogle_ad_type = \"text_image\";\\r\\ngoogle_ad_channel =\"\";\\r\\ngoogle_color_border = \"003399\";\\r\\ngoogle_color_bg = \"FFFFFF\";\\r\\ngoogle_color_link = \"0000CC\";\\r\\ngoogle_color_text = \"6F6F6F\";\\r\\ngoogle_color_url = \"3366CC\";\\r\\n//-->(function(i,s,o,g,r,a,m){i[\\'GoogleAnalyticsObject\\']=r;i[r]=i[r]||function(){\\r\\n  (i[r].q=i[r].q||[]).push(arguments)},i[r].l=1*new Date();a=s.createElement(o),\\r\\n  m=s.getElementsByTagName(o)[0];a.async=1;a.src=g;m.parentNode.insertBefore(a,m)\\r\\n  })(window,document,\\'script\\',\\'//www.google-analytics.com/analytics.js\\',\\'ga\\');\\r\\n\\r\\n  ga(\\'create\\', \\'UA-409980-5\\', \\'auto\\');\\r\\n  ga(\\'send\\', \\'pageview\\');'], [''], ['2019SchedulePrinter Friendly* denotes aConferencegameAll Times LocalDateOpponentH/ATimeW/LNo Schedule Available for this Team2/27/2019Lourdes (Ohio)N3-4L2/27/2019Lourdes (Ohio)N4-8L3/2/2019Cornerstone (Mich.)N3-4L3/2/2019Trinity BaptistN5-1W3/4/2019Michigan-DearbornN13-1W3/5/2019Rochester (Mich.)N24-4W3/6/2019Robert Morris (Ill.)N10-9W3/8/2019Bethel (Ind.) *N13-6W3/9/2019Bethel (Ind.) *N14-2W3/9/2019Bethel (Ind.) *N3-1W3/14/2019Taylor (Ind.) *A5-15L3/16/2019Taylor (Ind.) *A2-10L3/16/2019Taylor (Ind.) *A3-9L3/23/2019Spring Arbor (Mich.) *A2-4L3/25/2019Spring Arbor (Mich.) *A1-11L3/25/2019Spring Arbor (Mich.) *A6-7L3/26/2019IU Kokomo (Ind.)A0-3L3/26/2019IU Kokomo (Ind.)A0-5L3/28/2019Huntington (Ind.) *H12-2W4/1/2019Huntington (Ind.) *H2-12L4/1/2019Huntington (Ind.) *H10-9W4/2/2019Siena Heights (Mich.)A2-8L4/2/2019Siena Heights (Mich.)A0-4L4/5/2019St. Francis (Ind.) *A17-13W4/6/2019St. Francis (Ind.) *A9-8W4/6/2019St. Francis (Ind.) *A15-7W4/9/2019Indiana Wesleyan *H16-20L4/10/2019Indiana TechA2-6L4/12/2019Mount Vernon Nazarene (Ohio) *A0-10L4/13/2019Mount Vernon Nazarene (Ohio) *A5-12L4/13/2019Mount Vernon Nazarene (Ohio) *A5-10L4/16/2019Indiana Wesleyan *H3-1W4/16/2019Indiana Wesleyan *H1-11L4/22/2019Marian (Ind.) *H0-9L4/22/2019Marian (Ind.) *H4-6L4/23/2019Marian (Ind.) *H3-10L4/26/2019Goshen (Ind.) *H5-1W4/26/2019Goshen (Ind.) *H2-12L4/27/2019Goshen (Ind.) *H2-12L5/3/2019Huntington (Ind.)N5-4(10)W5/4/2019Taylor (Ind.)A6-3W5/6/2019Marian (Ind.)N13-0W5/7/2019Marian (Ind.)N2-5L5/8/2019Marian (Ind.)N6-14LStats by DakStats Copyright Â© Daktronics, Inc.For IE users:To see background colors:  Tools -> Internet Options -> Advanced -> Check \"print background colors and images\".', '2019Schedule', '', 'Printer Friendly', '* denotes aConferencegame', 'All Times Local', 'Date', 'Opponent', 'H/A', 'Time', 'W/L', '2/27/2019Lourdes (Ohio)N3-4L2/27/2019Lourdes (Ohio)N4-8L3/2/2019Cornerstone (Mich.)N3-4L3/2/2019Trinity BaptistN5-1W3/4/2019Michigan-DearbornN13-1W3/5/2019Rochester (Mich.)N24-4W3/6/2019Robert Morris (Ill.)N10-9W3/8/2019Bethel (Ind.) *N13-6W3/9/2019Bethel (Ind.) *N14-2W3/9/2019Bethel (Ind.) *N3-1W3/14/2019Taylor (Ind.) *A5-15L3/16/2019Taylor (Ind.) *A2-10L3/16/2019Taylor (Ind.) *A3-9L3/23/2019Spring Arbor (Mich.) *A2-4L3/25/2019Spring Arbor (Mich.) *A1-11L3/25/2019Spring Arbor (Mich.) *A6-7L3/26/2019IU Kokomo (Ind.)A0-3L3/26/2019IU Kokomo (Ind.)A0-5L3/28/2019Huntington (Ind.) *H12-2W4/1/2019Huntington (Ind.) *H2-12L4/1/2019Huntington (Ind.) *H10-9W4/2/2019Siena Heights (Mich.)A2-8L4/2/2019Siena Heights (Mich.)A0-4L4/5/2019St. Francis (Ind.) *A17-13W4/6/2019St. Francis (Ind.) *A9-8W4/6/2019St. Francis (Ind.) *A15-7W4/9/2019Indiana Wesleyan *H16-20L4/10/2019Indiana TechA2-6L4/12/2019Mount Vernon Nazarene (Ohio) *A0-10L4/13/2019Mount Vernon Nazarene (Ohio) *A5-12L4/13/2019Mount Vernon Nazarene (Ohio) *A5-10L4/16/2019Indiana Wesleyan *H3-1W4/16/2019Indiana Wesleyan *H1-11L4/22/2019Marian (Ind.) *H0-9L4/22/2019Marian (Ind.) *H4-6L4/23/2019Marian (Ind.) *H3-10L4/26/2019Goshen (Ind.) *H5-1W4/26/2019Goshen (Ind.) *H2-12L4/27/2019Goshen (Ind.) *H2-12L5/3/2019Huntington (Ind.)N5-4(10)W5/4/2019Taylor (Ind.)A6-3W5/6/2019Marian (Ind.)N13-0W5/7/2019Marian (Ind.)N2-5L5/8/2019Marian (Ind.)N6-14L', '', '2/27/2019', 'Lourdes (Ohio)', 'N', '3-4', 'L', '', '', '2/27/2019', 'Lourdes (Ohio)', 'N', '4-8', 'L', '', '', '3/2/2019', 'Cornerstone (Mich.)', 'N', '3-4', 'L', '', '', '3/2/2019', 'Trinity Baptist', 'N', '5-1', 'W', '', '', '3/4/2019', 'Michigan-Dearborn', 'N', '13-1', 'W', '', '', '3/5/2019', 'Rochester (Mich.)', 'N', '24-4', 'W', '', '', '3/6/2019', 'Robert Morris (Ill.)', 'N', '10-9', 'W', '', '', '3/8/2019', 'Bethel (Ind.) *', 'N', '13-6', 'W', '', '', '3/9/2019', 'Bethel (Ind.) *', 'N', '14-2', 'W', '', '', '3/9/2019', 'Bethel (Ind.) *', 'N', '3-1', 'W', '', '', '3/14/2019', 'Taylor (Ind.) *', 'A', '5-15', 'L', '', '', '3/16/2019', 'Taylor (Ind.) *', 'A', '2-10', 'L', '', '', '3/16/2019', 'Taylor (Ind.) *', 'A', '3-9', 'L', '', '', '3/23/2019', 'Spring Arbor (Mich.) *', 'A', '2-4', 'L', '', '', '3/25/2019', 'Spring Arbor (Mich.) *', 'A', '1-11', 'L', '', '', '3/25/2019', 'Spring Arbor (Mich.) *', 'A', '6-7', 'L', '', '', '3/26/2019', 'IU Kokomo (Ind.)', 'A', '0-3', 'L', '', '', '3/26/2019', 'IU Kokomo (Ind.)', 'A', '0-5', 'L', '', '', '3/28/2019', 'Huntington (Ind.) *', 'H', '12-2', 'W', '', '', '4/1/2019', 'Huntington (Ind.) *', 'H', '2-12', 'L', '', '', '4/1/2019', 'Huntington (Ind.) *', 'H', '10-9', 'W', '', '', '4/2/2019', 'Siena Heights (Mich.)', 'A', '2-8', 'L', '', '', '4/2/2019', 'Siena Heights (Mich.)', 'A', '0-4', 'L', '', '', '4/5/2019', 'St. Francis (Ind.) *', 'A', '17-13', 'W', '', '', '4/6/2019', 'St. Francis (Ind.) *', 'A', '9-8', 'W', '', '', '4/6/2019', 'St. Francis (Ind.) *', 'A', '15-7', 'W', '', '', '4/9/2019', 'Indiana Wesleyan *', 'H', '16-20', 'L', '', '', '4/10/2019', 'Indiana Tech', 'A', '2-6', 'L', '', '', '4/12/2019', 'Mount Vernon Nazarene (Ohio) *', 'A', '0-10', 'L', '', '', '4/13/2019', 'Mount Vernon Nazarene (Ohio) *', 'A', '5-12', 'L', '', '', '4/13/2019', 'Mount Vernon Nazarene (Ohio) *', 'A', '5-10', 'L', '', '', '4/16/2019', 'Indiana Wesleyan *', 'H', '3-1', 'W', '', '', '4/16/2019', 'Indiana Wesleyan *', 'H', '1-11', 'L', '', '', '4/22/2019', 'Marian (Ind.) *', 'H', '0-9', 'L', '', '', '4/22/2019', 'Marian (Ind.) *', 'H', '4-6', 'L', '', '', '4/23/2019', 'Marian (Ind.) *', 'H', '3-10', 'L', '', '', '4/26/2019', 'Goshen (Ind.) *', 'H', '5-1', 'W', '', '', '4/26/2019', 'Goshen (Ind.) *', 'H', '2-12', 'L', '', '', '4/27/2019', 'Goshen (Ind.) *', 'H', '2-12', 'L', '', '', '5/3/2019', 'Huntington (Ind.)', 'N', '5-4(10)', 'W', '', '', '5/4/2019', 'Taylor (Ind.)', 'A', '6-3', 'W', '', '', '5/6/2019', 'Marian (Ind.)', 'N', '13-0', 'W', '', '', '5/7/2019', 'Marian (Ind.)', 'N', '2-5', 'L', '', '', '5/8/2019', 'Marian (Ind.)', 'N', '6-14', 'L', '', '', 'Stats by DakStats Copyright Â© Daktronics, Inc.', '2019RecordWLTOverall17270Conference10170Last Reported5-13-2019Team ProfileOfficial Team WebsiteEnrollment:1600Coach:Ryan RothStadium:Miller FieldLocation:200 Seminary Drive Winona Lake, IN 46590Other SportsQuick LeadersBat AvgHITSAVGX. Harris460.336RBITOTAVGH. Haney320.80Stolen BasesTOTAVGR. Snyder140.34ERAERERAH. Haney223.64SOK AVGTOTALA. Voirol10.1752PLEASE SUPPORT OUR SPONSORS', '2019RecordWLTOverall17270Conference10170Last Reported5-13-2019', '2019Record', 'W', 'L', 'T', 'Overall', '17', '27', '0', 'Conference', '10', '17', '0', 'Last Reported5-13-2019', 'Team Profile', 'Official Team Website', 'Official Team Website', 'Enrollment:1600', 'Enrollment:', '1600', 'Coach:Ryan Roth', 'Coach:', 'Ryan Roth', 'Stadium:Miller Field', 'Stadium:', 'Miller Field', 'Location:200 Seminary Drive Winona Lake, IN 46590', 'Location:', '200 Seminary Drive Winona Lake, IN 46590', 'Other Sports', '', 'Other Sports', 'Quick Leaders', 'Bat AvgHITSAVGX. Harris460.336', '', 'Bat Avg', 'HITS', 'AVG', 'X. Harris', '46', '0.336', '', 'RBITOTAVGH. Haney320.80', '', 'RBI', 'TOT', 'AVG', 'H. Haney', '32', '0.80', '', 'Stolen BasesTOTAVGR. Snyder140.34', '', 'Stolen Bases', 'TOT', 'AVG', 'R. Snyder', '14', '0.34', '', 'ERAERERAH. Haney223.64', '', 'ERA', 'ER', 'ERA', 'H. Haney', '22', '3.64', '', 'SOK AVGTOTALA. Voirol10.1752', '', 'SO', 'K AVG', 'TOTAL', 'A. Voirol', '10.17', '52', '', 'PLEASE SUPPORT OUR SPONSORS', ''], ['2019Schedule', '', 'Printer Friendly'], ['* denotes aConferencegame'], ['All Times Local'], ['Date', 'Opponent', 'H/A', 'Time', 'W/L'], ['2/27/2019Lourdes (Ohio)N3-4L2/27/2019Lourdes (Ohio)N4-8L3/2/2019Cornerstone (Mich.)N3-4L3/2/2019Trinity BaptistN5-1W3/4/2019Michigan-DearbornN13-1W3/5/2019Rochester (Mich.)N24-4W3/6/2019Robert Morris (Ill.)N10-9W3/8/2019Bethel (Ind.) *N13-6W3/9/2019Bethel (Ind.) *N14-2W3/9/2019Bethel (Ind.) *N3-1W3/14/2019Taylor (Ind.) *A5-15L3/16/2019Taylor (Ind.) *A2-10L3/16/2019Taylor (Ind.) *A3-9L3/23/2019Spring Arbor (Mich.) *A2-4L3/25/2019Spring Arbor (Mich.) *A1-11L3/25/2019Spring Arbor (Mich.) *A6-7L3/26/2019IU Kokomo (Ind.)A0-3L3/26/2019IU Kokomo (Ind.)A0-5L3/28/2019Huntington (Ind.) *H12-2W4/1/2019Huntington (Ind.) *H2-12L4/1/2019Huntington (Ind.) *H10-9W4/2/2019Siena Heights (Mich.)A2-8L4/2/2019Siena Heights (Mich.)A0-4L4/5/2019St. Francis (Ind.) *A17-13W4/6/2019St. Francis (Ind.) *A9-8W4/6/2019St. Francis (Ind.) *A15-7W4/9/2019Indiana Wesleyan *H16-20L4/10/2019Indiana TechA2-6L4/12/2019Mount Vernon Nazarene (Ohio) *A0-10L4/13/2019Mount Vernon Nazarene (Ohio) *A5-12L4/13/2019Mount Vernon Nazarene (Ohio) *A5-10L4/16/2019Indiana Wesleyan *H3-1W4/16/2019Indiana Wesleyan *H1-11L4/22/2019Marian (Ind.) *H0-9L4/22/2019Marian (Ind.) *H4-6L4/23/2019Marian (Ind.) *H3-10L4/26/2019Goshen (Ind.) *H5-1W4/26/2019Goshen (Ind.) *H2-12L4/27/2019Goshen (Ind.) *H2-12L5/3/2019Huntington (Ind.)N5-4(10)W5/4/2019Taylor (Ind.)A6-3W5/6/2019Marian (Ind.)N13-0W5/7/2019Marian (Ind.)N2-5L5/8/2019Marian (Ind.)N6-14L', '', '2/27/2019', 'Lourdes (Ohio)', 'N', '3-4', 'L', '', '', '2/27/2019', 'Lourdes (Ohio)', 'N', '4-8', 'L', '', '', '3/2/2019', 'Cornerstone (Mich.)', 'N', '3-4', 'L', '', '', '3/2/2019', 'Trinity Baptist', 'N', '5-1', 'W', '', '', '3/4/2019', 'Michigan-Dearborn', 'N', '13-1', 'W', '', '', '3/5/2019', 'Rochester (Mich.)', 'N', '24-4', 'W', '', '', '3/6/2019', 'Robert Morris (Ill.)', 'N', '10-9', 'W', '', '', '3/8/2019', 'Bethel (Ind.) *', 'N', '13-6', 'W', '', '', '3/9/2019', 'Bethel (Ind.) *', 'N', '14-2', 'W', '', '', '3/9/2019', 'Bethel (Ind.) *', 'N', '3-1', 'W', '', '', '3/14/2019', 'Taylor (Ind.) *', 'A', '5-15', 'L', '', '', '3/16/2019', 'Taylor (Ind.) *', 'A', '2-10', 'L', '', '', '3/16/2019', 'Taylor (Ind.) *', 'A', '3-9', 'L', '', '', '3/23/2019', 'Spring Arbor (Mich.) *', 'A', '2-4', 'L', '', '', '3/25/2019', 'Spring Arbor (Mich.) *', 'A', '1-11', 'L', '', '', '3/25/2019', 'Spring Arbor (Mich.) *', 'A', '6-7', 'L', '', '', '3/26/2019', 'IU Kokomo (Ind.)', 'A', '0-3', 'L', '', '', '3/26/2019', 'IU Kokomo (Ind.)', 'A', '0-5', 'L', '', '', '3/28/2019', 'Huntington (Ind.) *', 'H', '12-2', 'W', '', '', '4/1/2019', 'Huntington (Ind.) *', 'H', '2-12', 'L', '', '', '4/1/2019', 'Huntington (Ind.) *', 'H', '10-9', 'W', '', '', '4/2/2019', 'Siena Heights (Mich.)', 'A', '2-8', 'L', '', '', '4/2/2019', 'Siena Heights (Mich.)', 'A', '0-4', 'L', '', '', '4/5/2019', 'St. Francis (Ind.) *', 'A', '17-13', 'W', '', '', '4/6/2019', 'St. Francis (Ind.) *', 'A', '9-8', 'W', '', '', '4/6/2019', 'St. Francis (Ind.) *', 'A', '15-7', 'W', '', '', '4/9/2019', 'Indiana Wesleyan *', 'H', '16-20', 'L', '', '', '4/10/2019', 'Indiana Tech', 'A', '2-6', 'L', '', '', '4/12/2019', 'Mount Vernon Nazarene (Ohio) *', 'A', '0-10', 'L', '', '', '4/13/2019', 'Mount Vernon Nazarene (Ohio) *', 'A', '5-12', 'L', '', '', '4/13/2019', 'Mount Vernon Nazarene (Ohio) *', 'A', '5-10', 'L', '', '', '4/16/2019', 'Indiana Wesleyan *', 'H', '3-1', 'W', '', '', '4/16/2019', 'Indiana Wesleyan *', 'H', '1-11', 'L', '', '', '4/22/2019', 'Marian (Ind.) *', 'H', '0-9', 'L', '', '', '4/22/2019', 'Marian (Ind.) *', 'H', '4-6', 'L', '', '', '4/23/2019', 'Marian (Ind.) *', 'H', '3-10', 'L', '', '', '4/26/2019', 'Goshen (Ind.) *', 'H', '5-1', 'W', '', '', '4/26/2019', 'Goshen (Ind.) *', 'H', '2-12', 'L', '', '', '4/27/2019', 'Goshen (Ind.) *', 'H', '2-12', 'L', '', '', '5/3/2019', 'Huntington (Ind.)', 'N', '5-4(10)', 'W', '', '', '5/4/2019', 'Taylor (Ind.)', 'A', '6-3', 'W', '', '', '5/6/2019', 'Marian (Ind.)', 'N', '13-0', 'W', '', '', '5/7/2019', 'Marian (Ind.)', 'N', '2-5', 'L', '', '', '5/8/2019', 'Marian (Ind.)', 'N', '6-14', 'L', '', ''], [''], ['2/27/2019', 'Lourdes (Ohio)', 'N', '3-4', 'L', ''], [''], ['2/27/2019', 'Lourdes (Ohio)', 'N', '4-8', 'L', ''], [''], ['3/2/2019', 'Cornerstone (Mich.)', 'N', '3-4', 'L', ''], [''], ['3/2/2019', 'Trinity Baptist', 'N', '5-1', 'W', ''], [''], ['3/4/2019', 'Michigan-Dearborn', 'N', '13-1', 'W', ''], [''], ['3/5/2019', 'Rochester (Mich.)', 'N', '24-4', 'W', ''], [''], ['3/6/2019', 'Robert Morris (Ill.)', 'N', '10-9', 'W', ''], [''], ['3/8/2019', 'Bethel (Ind.) *', 'N', '13-6', 'W', ''], [''], ['3/9/2019', 'Bethel (Ind.) *', 'N', '14-2', 'W', ''], [''], ['3/9/2019', 'Bethel (Ind.) *', 'N', '3-1', 'W', ''], [''], ['3/14/2019', 'Taylor (Ind.) *', 'A', '5-15', 'L', ''], [''], ['3/16/2019', 'Taylor (Ind.) *', 'A', '2-10', 'L', ''], [''], ['3/16/2019', 'Taylor (Ind.) *', 'A', '3-9', 'L', ''], [''], ['3/23/2019', 'Spring Arbor (Mich.) *', 'A', '2-4', 'L', ''], [''], ['3/25/2019', 'Spring Arbor (Mich.) *', 'A', '1-11', 'L', ''], [''], ['3/25/2019', 'Spring Arbor (Mich.) *', 'A', '6-7', 'L', ''], [''], ['3/26/2019', 'IU Kokomo (Ind.)', 'A', '0-3', 'L', ''], [''], ['3/26/2019', 'IU Kokomo (Ind.)', 'A', '0-5', 'L', ''], [''], ['3/28/2019', 'Huntington (Ind.) *', 'H', '12-2', 'W', ''], [''], ['4/1/2019', 'Huntington (Ind.) *', 'H', '2-12', 'L', ''], [''], ['4/1/2019', 'Huntington (Ind.) *', 'H', '10-9', 'W', ''], [''], ['4/2/2019', 'Siena Heights (Mich.)', 'A', '2-8', 'L', ''], [''], ['4/2/2019', 'Siena Heights (Mich.)', 'A', '0-4', 'L', ''], [''], ['4/5/2019', 'St. Francis (Ind.) *', 'A', '17-13', 'W', ''], [''], ['4/6/2019', 'St. Francis (Ind.) *', 'A', '9-8', 'W', ''], [''], ['4/6/2019', 'St. Francis (Ind.) *', 'A', '15-7', 'W', ''], [''], ['4/9/2019', 'Indiana Wesleyan *', 'H', '16-20', 'L', ''], [''], ['4/10/2019', 'Indiana Tech', 'A', '2-6', 'L', ''], [''], ['4/12/2019', 'Mount Vernon Nazarene (Ohio) *', 'A', '0-10', 'L', ''], [''], ['4/13/2019', 'Mount Vernon Nazarene (Ohio) *', 'A', '5-12', 'L', ''], [''], ['4/13/2019', 'Mount Vernon Nazarene (Ohio) *', 'A', '5-10', 'L', ''], [''], ['4/16/2019', 'Indiana Wesleyan *', 'H', '3-1', 'W', ''], [''], ['4/16/2019', 'Indiana Wesleyan *', 'H', '1-11', 'L', ''], [''], ['4/22/2019', 'Marian (Ind.) *', 'H', '0-9', 'L', ''], [''], ['4/22/2019', 'Marian (Ind.) *', 'H', '4-6', 'L', ''], [''], ['4/23/2019', 'Marian (Ind.) *', 'H', '3-10', 'L', ''], [''], ['4/26/2019', 'Goshen (Ind.) *', 'H', '5-1', 'W', ''], [''], ['4/26/2019', 'Goshen (Ind.) *', 'H', '2-12', 'L', ''], [''], ['4/27/2019', 'Goshen (Ind.) *', 'H', '2-12', 'L', ''], [''], ['5/3/2019', 'Huntington (Ind.)', 'N', '5-4(10)', 'W', ''], [''], ['5/4/2019', 'Taylor (Ind.)', 'A', '6-3', 'W', ''], [''], ['5/6/2019', 'Marian (Ind.)', 'N', '13-0', 'W', ''], [''], ['5/7/2019', 'Marian (Ind.)', 'N', '2-5', 'L', ''], [''], ['5/8/2019', 'Marian (Ind.)', 'N', '6-14', 'L', ''], [''], ['Stats by DakStats Copyright Â© Daktronics, Inc.'], ['2019RecordWLTOverall17270Conference10170Last Reported5-13-2019', '2019Record', 'W', 'L', 'T', 'Overall', '17', '27', '0', 'Conference', '10', '17', '0', 'Last Reported5-13-2019'], ['2019Record', 'W', 'L', 'T'], ['Overall', '17', '27', '0'], ['Conference', '10', '17', '0'], ['Last Reported5-13-2019'], ['Team Profile'], ['Official Team Website', 'Official Team Website'], ['Official Team Website'], ['Enrollment:1600', 'Enrollment:', '1600'], ['Enrollment:', '1600'], ['Coach:Ryan Roth', 'Coach:', 'Ryan Roth'], ['Coach:', 'Ryan Roth'], ['Stadium:Miller Field', 'Stadium:', 'Miller Field'], ['Stadium:', 'Miller Field'], ['Location:200 Seminary Drive Winona Lake, IN 46590', 'Location:', '200 Seminary Drive Winona Lake, IN 46590'], ['Location:', '200 Seminary Drive Winona Lake, IN 46590'], ['Other Sports', '', 'Other Sports'], ['', 'Other Sports'], ['Quick Leaders'], ['Bat AvgHITSAVGX. Harris460.336', '', 'Bat Avg', 'HITS', 'AVG', 'X. Harris', '46', '0.336', ''], ['', 'Bat Avg', 'HITS', 'AVG'], ['X. Harris', '46', '0.336'], [''], ['RBITOTAVGH. Haney320.80', '', 'RBI', 'TOT', 'AVG', 'H. Haney', '32', '0.80', ''], ['', 'RBI', 'TOT', 'AVG'], ['H. Haney', '32', '0.80'], [''], ['Stolen BasesTOTAVGR. Snyder140.34', '', 'Stolen Bases', 'TOT', 'AVG', 'R. Snyder', '14', '0.34', ''], ['', 'Stolen Bases', 'TOT', 'AVG'], ['R. Snyder', '14', '0.34'], [''], ['ERAERERAH. Haney223.64', '', 'ERA', 'ER', 'ERA', 'H. Haney', '22', '3.64', ''], ['', 'ERA', 'ER', 'ERA'], ['H. Haney', '22', '3.64'], [''], ['SOK AVGTOTALA. Voirol10.1752', '', 'SO', 'K AVG', 'TOTAL', 'A. Voirol', '10.17', '52', ''], ['', 'SO', 'K AVG', 'TOTAL'], ['A. Voirol', '10.17', '52'], [''], ['PLEASE SUPPORT OUR SPONSORS'], [''], ['']]\n",
      "21 [['.innerTable\\r\\n{\\r\\n  width: 100%;\\r\\n  /*default colors here*/\\r\\n  background-color:black;\\r\\n  color:white;\\r\\n}\\r\\n\\r\\n.containerTable\\r\\n{\\r\\n  width: 100%;\\r\\n  /*default colors here*/\\r\\n  background-color:black;\\r\\n  color:white;\\r\\n}\\r\\n\\r\\n.pageTitleMenu\\r\\n{\\r\\n    font: normal 900 11px arial;\\r\\n    color: #FFFFFF;\\r\\n    padding-right: 6px;\\r\\n    padding-left: 6px;\\r\\n    text-decoration: underline;\\r\\n    border-right: solid 1px #FFFFFF;\\r\\n}\\r\\n\\r\\n.pageTitleMenuLast\\r\\n{\\r\\n    font: normal 900 11px arial;\\r\\n    color: #FFFFFF;\\r\\n    padding-right: 6px;\\r\\n    padding-left: 6px;\\r\\n    text-decoration: underline;\\r\\n    border: none;\\r\\n}\\r\\n\\r\\n.pageTitleMenuCurrent\\r\\n{\\r\\n    font: normal 900 11px arial;\\r\\n    color: #FFFFFF;\\r\\n    padding-right: 6px;\\r\\n    padding-left: 6px;\\r\\n    border-right: solid 1px #FFFFFF;\\r\\n    text-decoration: none;\\r\\n}\\r\\n\\r\\n.pageTitleMenuCurrentLast\\r\\n{\\r\\n    font: normal 900 11px arial;\\r\\n    color: #FFFFFF;\\r\\n    padding-right: 6px;\\r\\n    padding-left: 6px;\\r\\n    border: none;\\r\\n    text-decoration: none;\\r\\n}\\r\\n\\r\\n.quickLinksTD\\r\\n{    \\r\\n    width: 80px; \\r\\n    vertical-align: bottom; \\r\\n    padding-bottom:5px;    \\r\\n}\\r\\n\\r\\n.quickLinksLabel\\r\\n{\\r\\n    color: #FFFFFF;\\r\\n}\\r\\n\\r\\n\\r\\na.pageTitleMenu:hover{color:#FFFFFF;}\\r\\na.pageTitleMenu:visited{color:#FFFFFF;}Grace (Ind.)Date Printed: 2/17/2021 1:08:12 PMWinona Lake, INNAIA BSBQuick LinksNAIADivision ICrossroads LeagueGrace (Ind.)', '', 'Grace (Ind.)Date Printed: 2/17/2021 1:08:12 PMWinona Lake, INNAIA BSBQuick LinksNAIADivision ICrossroads LeagueGrace (Ind.)', 'Grace (Ind.)', 'Date Printed: 2/17/2021 1:08:12 PM', 'Winona Lake, IN', 'NAIA BSB', 'Quick LinksNAIADivision ICrossroads LeagueGrace (Ind.)', 'Quick Links', 'NAIADivision ICrossroads LeagueGrace (Ind.)', 'NAIA', 'NAIA', '', 'Division I', 'Division I', '', 'Crossroads League', 'Crossroads League', '', 'Grace (Ind.)', 'Grace (Ind.)'], ['', 'Grace (Ind.)Date Printed: 2/17/2021 1:08:12 PMWinona Lake, INNAIA BSBQuick LinksNAIADivision ICrossroads LeagueGrace (Ind.)', 'Grace (Ind.)', 'Date Printed: 2/17/2021 1:08:12 PM', 'Winona Lake, IN', 'NAIA BSB', 'Quick LinksNAIADivision ICrossroads LeagueGrace (Ind.)', 'Quick Links', 'NAIADivision ICrossroads LeagueGrace (Ind.)', 'NAIA', 'NAIA', '', 'Division I', 'Division I', '', 'Crossroads League', 'Crossroads League', '', 'Grace (Ind.)', 'Grace (Ind.)'], ['Grace (Ind.)', 'Date Printed: 2/17/2021 1:08:12 PM', 'Winona Lake, IN'], ['NAIA BSB'], ['Quick LinksNAIADivision ICrossroads LeagueGrace (Ind.)', 'Quick Links', 'NAIADivision ICrossroads LeagueGrace (Ind.)', 'NAIA', 'NAIA', '', 'Division I', 'Division I', '', 'Crossroads League', 'Crossroads League', '', 'Grace (Ind.)', 'Grace (Ind.)'], ['Quick Links', 'NAIADivision ICrossroads LeagueGrace (Ind.)', 'NAIA', 'NAIA', '', 'Division I', 'Division I', '', 'Crossroads League', 'Crossroads League', '', 'Grace (Ind.)', 'Grace (Ind.)'], ['NAIA', 'NAIA', '', 'Division I', 'Division I', '', 'Crossroads League', 'Crossroads League', '', 'Grace (Ind.)', 'Grace (Ind.)'], ['NAIA'], ['Division I'], ['Crossroads League'], ['Grace (Ind.)'], ['table#pageTitleTabsTable\\r\\n{\\r\\n    width: 100%;\\r\\n    margin-top: -1px;\\r\\n    margin-bottom: -5px;\\r\\n}\\r\\n\\r\\n.tabs\\r\\n{\\r\\n    width: 20%;\\r\\n    text-align: center;\\r\\n    height: 18PX;\\r\\n    font-size: 8pt;\\r\\n    background-image: url(/WebSync/Images/noTab_New.gif);\\r\\n    padding-top: 2px;\\r\\n    /*background-color: #ECECEC;*/\\r\\n    border-right: solid 1px #b9b9b9;\\r\\n    \\r\\n}\\r\\n\\r\\na.tabLink:link{text-decoration: none;  color: #606060;}\\r\\na.tabLink:visited{text-decoration: none; color: #606060;}\\r\\na.tabLink:hover{text-decoration: underline;   color: #606060;}\\r\\na.tabLink:active{text-decoration: none;  color: #606060;}\\r\\n\\r\\ntable#pageTitleTabsTable td a\\r\\n{\\r\\n  color: #5b5b5b;\\r\\n  font-size: 12px;\\r\\n  font-family: arial;\\r\\n}Team PageRosterScheduleTeam StatsIndividual Stats', 'Team Page', 'Roster', 'Schedule', 'Team Stats', 'Individual Stats'], ['Team Page', 'Roster', 'Schedule', 'Team Stats', 'Individual Stats']]\n",
      "22 [['', 'Grace (Ind.)Date Printed: 2/17/2021 1:08:12 PMWinona Lake, INNAIA BSBQuick LinksNAIADivision ICrossroads LeagueGrace (Ind.)', 'Grace (Ind.)', 'Date Printed: 2/17/2021 1:08:12 PM', 'Winona Lake, IN', 'NAIA BSB', 'Quick LinksNAIADivision ICrossroads LeagueGrace (Ind.)', 'Quick Links', 'NAIADivision ICrossroads LeagueGrace (Ind.)', 'NAIA', 'NAIA', '', 'Division I', 'Division I', '', 'Crossroads League', 'Crossroads League', '', 'Grace (Ind.)', 'Grace (Ind.)'], ['Grace (Ind.)', 'Date Printed: 2/17/2021 1:08:12 PM', 'Winona Lake, IN'], ['NAIA BSB'], ['Quick LinksNAIADivision ICrossroads LeagueGrace (Ind.)', 'Quick Links', 'NAIADivision ICrossroads LeagueGrace (Ind.)', 'NAIA', 'NAIA', '', 'Division I', 'Division I', '', 'Crossroads League', 'Crossroads League', '', 'Grace (Ind.)', 'Grace (Ind.)'], ['Quick Links', 'NAIADivision ICrossroads LeagueGrace (Ind.)', 'NAIA', 'NAIA', '', 'Division I', 'Division I', '', 'Crossroads League', 'Crossroads League', '', 'Grace (Ind.)', 'Grace (Ind.)'], ['NAIA', 'NAIA', '', 'Division I', 'Division I', '', 'Crossroads League', 'Crossroads League', '', 'Grace (Ind.)', 'Grace (Ind.)'], ['NAIA'], ['Division I'], ['Crossroads League'], ['Grace (Ind.)']]\n",
      "23 [['Grace (Ind.)', 'Date Printed: 2/17/2021 1:08:12 PM', 'Winona Lake, IN'], ['NAIA BSB'], ['Quick LinksNAIADivision ICrossroads LeagueGrace (Ind.)', 'Quick Links', 'NAIADivision ICrossroads LeagueGrace (Ind.)', 'NAIA', 'NAIA', '', 'Division I', 'Division I', '', 'Crossroads League', 'Crossroads League', '', 'Grace (Ind.)', 'Grace (Ind.)'], ['Quick Links', 'NAIADivision ICrossroads LeagueGrace (Ind.)', 'NAIA', 'NAIA', '', 'Division I', 'Division I', '', 'Crossroads League', 'Crossroads League', '', 'Grace (Ind.)', 'Grace (Ind.)'], ['NAIA', 'NAIA', '', 'Division I', 'Division I', '', 'Crossroads League', 'Crossroads League', '', 'Grace (Ind.)', 'Grace (Ind.)'], ['NAIA'], ['Division I'], ['Crossroads League'], ['Grace (Ind.)']]\n",
      "24 [['Quick Links', 'NAIADivision ICrossroads LeagueGrace (Ind.)', 'NAIA', 'NAIA', '', 'Division I', 'Division I', '', 'Crossroads League', 'Crossroads League', '', 'Grace (Ind.)', 'Grace (Ind.)'], ['NAIA', 'NAIA', '', 'Division I', 'Division I', '', 'Crossroads League', 'Crossroads League', '', 'Grace (Ind.)', 'Grace (Ind.)'], ['NAIA'], ['Division I'], ['Crossroads League'], ['Grace (Ind.)']]\n",
      "25 [['NAIA', 'NAIA', '', 'Division I', 'Division I', '', 'Crossroads League', 'Crossroads League', '', 'Grace (Ind.)', 'Grace (Ind.)'], ['NAIA'], ['Division I'], ['Crossroads League'], ['Grace (Ind.)']]\n",
      "26 [['NAIA']]\n",
      "27 [['Division I']]\n",
      "28 [['Crossroads League']]\n",
      "29 [['Grace (Ind.)']]\n",
      "30 [['Team Page', 'Roster', 'Schedule', 'Team Stats', 'Individual Stats']]\n",
      "31 [['<!--\\r\\ngoogle_ad_client = \"pub-2777870302657841\";\\r\\ngoogle_ad_width = 160;\\r\\ngoogle_ad_height = 600;\\r\\ngoogle_ad_format = \"160x600_as\";\\r\\ngoogle_ad_type = \"text_image\";\\r\\ngoogle_ad_channel =\"\";\\r\\ngoogle_color_border = \"003399\";\\r\\ngoogle_color_bg = \"FFFFFF\";\\r\\ngoogle_color_link = \"0000CC\";\\r\\ngoogle_color_text = \"6F6F6F\";\\r\\ngoogle_color_url = \"3366CC\";\\r\\n//-->(function(i,s,o,g,r,a,m){i[\\'GoogleAnalyticsObject\\']=r;i[r]=i[r]||function(){\\r\\n  (i[r].q=i[r].q||[]).push(arguments)},i[r].l=1*new Date();a=s.createElement(o),\\r\\n  m=s.getElementsByTagName(o)[0];a.async=1;a.src=g;m.parentNode.insertBefore(a,m)\\r\\n  })(window,document,\\'script\\',\\'//www.google-analytics.com/analytics.js\\',\\'ga\\');\\r\\n\\r\\n  ga(\\'create\\', \\'UA-409980-5\\', \\'auto\\');\\r\\n  ga(\\'send\\', \\'pageview\\');']]\n",
      "32 [['2019Schedule', '', 'Printer Friendly'], ['* denotes aConferencegame'], ['All Times Local']]\n",
      "33 [['Date', 'Opponent', 'H/A', 'Time', 'W/L']]\n",
      "34 [['2/27/2019Lourdes (Ohio)N3-4L2/27/2019Lourdes (Ohio)N4-8L3/2/2019Cornerstone (Mich.)N3-4L3/2/2019Trinity BaptistN5-1W3/4/2019Michigan-DearbornN13-1W3/5/2019Rochester (Mich.)N24-4W3/6/2019Robert Morris (Ill.)N10-9W3/8/2019Bethel (Ind.) *N13-6W3/9/2019Bethel (Ind.) *N14-2W3/9/2019Bethel (Ind.) *N3-1W3/14/2019Taylor (Ind.) *A5-15L3/16/2019Taylor (Ind.) *A2-10L3/16/2019Taylor (Ind.) *A3-9L3/23/2019Spring Arbor (Mich.) *A2-4L3/25/2019Spring Arbor (Mich.) *A1-11L3/25/2019Spring Arbor (Mich.) *A6-7L3/26/2019IU Kokomo (Ind.)A0-3L3/26/2019IU Kokomo (Ind.)A0-5L3/28/2019Huntington (Ind.) *H12-2W4/1/2019Huntington (Ind.) *H2-12L4/1/2019Huntington (Ind.) *H10-9W4/2/2019Siena Heights (Mich.)A2-8L4/2/2019Siena Heights (Mich.)A0-4L4/5/2019St. Francis (Ind.) *A17-13W4/6/2019St. Francis (Ind.) *A9-8W4/6/2019St. Francis (Ind.) *A15-7W4/9/2019Indiana Wesleyan *H16-20L4/10/2019Indiana TechA2-6L4/12/2019Mount Vernon Nazarene (Ohio) *A0-10L4/13/2019Mount Vernon Nazarene (Ohio) *A5-12L4/13/2019Mount Vernon Nazarene (Ohio) *A5-10L4/16/2019Indiana Wesleyan *H3-1W4/16/2019Indiana Wesleyan *H1-11L4/22/2019Marian (Ind.) *H0-9L4/22/2019Marian (Ind.) *H4-6L4/23/2019Marian (Ind.) *H3-10L4/26/2019Goshen (Ind.) *H5-1W4/26/2019Goshen (Ind.) *H2-12L4/27/2019Goshen (Ind.) *H2-12L5/3/2019Huntington (Ind.)N5-4(10)W5/4/2019Taylor (Ind.)A6-3W5/6/2019Marian (Ind.)N13-0W5/7/2019Marian (Ind.)N2-5L5/8/2019Marian (Ind.)N6-14L', '', '2/27/2019', 'Lourdes (Ohio)', 'N', '3-4', 'L', '', '', '2/27/2019', 'Lourdes (Ohio)', 'N', '4-8', 'L', '', '', '3/2/2019', 'Cornerstone (Mich.)', 'N', '3-4', 'L', '', '', '3/2/2019', 'Trinity Baptist', 'N', '5-1', 'W', '', '', '3/4/2019', 'Michigan-Dearborn', 'N', '13-1', 'W', '', '', '3/5/2019', 'Rochester (Mich.)', 'N', '24-4', 'W', '', '', '3/6/2019', 'Robert Morris (Ill.)', 'N', '10-9', 'W', '', '', '3/8/2019', 'Bethel (Ind.) *', 'N', '13-6', 'W', '', '', '3/9/2019', 'Bethel (Ind.) *', 'N', '14-2', 'W', '', '', '3/9/2019', 'Bethel (Ind.) *', 'N', '3-1', 'W', '', '', '3/14/2019', 'Taylor (Ind.) *', 'A', '5-15', 'L', '', '', '3/16/2019', 'Taylor (Ind.) *', 'A', '2-10', 'L', '', '', '3/16/2019', 'Taylor (Ind.) *', 'A', '3-9', 'L', '', '', '3/23/2019', 'Spring Arbor (Mich.) *', 'A', '2-4', 'L', '', '', '3/25/2019', 'Spring Arbor (Mich.) *', 'A', '1-11', 'L', '', '', '3/25/2019', 'Spring Arbor (Mich.) *', 'A', '6-7', 'L', '', '', '3/26/2019', 'IU Kokomo (Ind.)', 'A', '0-3', 'L', '', '', '3/26/2019', 'IU Kokomo (Ind.)', 'A', '0-5', 'L', '', '', '3/28/2019', 'Huntington (Ind.) *', 'H', '12-2', 'W', '', '', '4/1/2019', 'Huntington (Ind.) *', 'H', '2-12', 'L', '', '', '4/1/2019', 'Huntington (Ind.) *', 'H', '10-9', 'W', '', '', '4/2/2019', 'Siena Heights (Mich.)', 'A', '2-8', 'L', '', '', '4/2/2019', 'Siena Heights (Mich.)', 'A', '0-4', 'L', '', '', '4/5/2019', 'St. Francis (Ind.) *', 'A', '17-13', 'W', '', '', '4/6/2019', 'St. Francis (Ind.) *', 'A', '9-8', 'W', '', '', '4/6/2019', 'St. Francis (Ind.) *', 'A', '15-7', 'W', '', '', '4/9/2019', 'Indiana Wesleyan *', 'H', '16-20', 'L', '', '', '4/10/2019', 'Indiana Tech', 'A', '2-6', 'L', '', '', '4/12/2019', 'Mount Vernon Nazarene (Ohio) *', 'A', '0-10', 'L', '', '', '4/13/2019', 'Mount Vernon Nazarene (Ohio) *', 'A', '5-12', 'L', '', '', '4/13/2019', 'Mount Vernon Nazarene (Ohio) *', 'A', '5-10', 'L', '', '', '4/16/2019', 'Indiana Wesleyan *', 'H', '3-1', 'W', '', '', '4/16/2019', 'Indiana Wesleyan *', 'H', '1-11', 'L', '', '', '4/22/2019', 'Marian (Ind.) *', 'H', '0-9', 'L', '', '', '4/22/2019', 'Marian (Ind.) *', 'H', '4-6', 'L', '', '', '4/23/2019', 'Marian (Ind.) *', 'H', '3-10', 'L', '', '', '4/26/2019', 'Goshen (Ind.) *', 'H', '5-1', 'W', '', '', '4/26/2019', 'Goshen (Ind.) *', 'H', '2-12', 'L', '', '', '4/27/2019', 'Goshen (Ind.) *', 'H', '2-12', 'L', '', '', '5/3/2019', 'Huntington (Ind.)', 'N', '5-4(10)', 'W', '', '', '5/4/2019', 'Taylor (Ind.)', 'A', '6-3', 'W', '', '', '5/6/2019', 'Marian (Ind.)', 'N', '13-0', 'W', '', '', '5/7/2019', 'Marian (Ind.)', 'N', '2-5', 'L', '', '', '5/8/2019', 'Marian (Ind.)', 'N', '6-14', 'L', '', ''], [''], ['2/27/2019', 'Lourdes (Ohio)', 'N', '3-4', 'L', ''], [''], ['2/27/2019', 'Lourdes (Ohio)', 'N', '4-8', 'L', ''], [''], ['3/2/2019', 'Cornerstone (Mich.)', 'N', '3-4', 'L', ''], [''], ['3/2/2019', 'Trinity Baptist', 'N', '5-1', 'W', ''], [''], ['3/4/2019', 'Michigan-Dearborn', 'N', '13-1', 'W', ''], [''], ['3/5/2019', 'Rochester (Mich.)', 'N', '24-4', 'W', ''], [''], ['3/6/2019', 'Robert Morris (Ill.)', 'N', '10-9', 'W', ''], [''], ['3/8/2019', 'Bethel (Ind.) *', 'N', '13-6', 'W', ''], [''], ['3/9/2019', 'Bethel (Ind.) *', 'N', '14-2', 'W', ''], [''], ['3/9/2019', 'Bethel (Ind.) *', 'N', '3-1', 'W', ''], [''], ['3/14/2019', 'Taylor (Ind.) *', 'A', '5-15', 'L', ''], [''], ['3/16/2019', 'Taylor (Ind.) *', 'A', '2-10', 'L', ''], [''], ['3/16/2019', 'Taylor (Ind.) *', 'A', '3-9', 'L', ''], [''], ['3/23/2019', 'Spring Arbor (Mich.) *', 'A', '2-4', 'L', ''], [''], ['3/25/2019', 'Spring Arbor (Mich.) *', 'A', '1-11', 'L', ''], [''], ['3/25/2019', 'Spring Arbor (Mich.) *', 'A', '6-7', 'L', ''], [''], ['3/26/2019', 'IU Kokomo (Ind.)', 'A', '0-3', 'L', ''], [''], ['3/26/2019', 'IU Kokomo (Ind.)', 'A', '0-5', 'L', ''], [''], ['3/28/2019', 'Huntington (Ind.) *', 'H', '12-2', 'W', ''], [''], ['4/1/2019', 'Huntington (Ind.) *', 'H', '2-12', 'L', ''], [''], ['4/1/2019', 'Huntington (Ind.) *', 'H', '10-9', 'W', ''], [''], ['4/2/2019', 'Siena Heights (Mich.)', 'A', '2-8', 'L', ''], [''], ['4/2/2019', 'Siena Heights (Mich.)', 'A', '0-4', 'L', ''], [''], ['4/5/2019', 'St. Francis (Ind.) *', 'A', '17-13', 'W', ''], [''], ['4/6/2019', 'St. Francis (Ind.) *', 'A', '9-8', 'W', ''], [''], ['4/6/2019', 'St. Francis (Ind.) *', 'A', '15-7', 'W', ''], [''], ['4/9/2019', 'Indiana Wesleyan *', 'H', '16-20', 'L', ''], [''], ['4/10/2019', 'Indiana Tech', 'A', '2-6', 'L', ''], [''], ['4/12/2019', 'Mount Vernon Nazarene (Ohio) *', 'A', '0-10', 'L', ''], [''], ['4/13/2019', 'Mount Vernon Nazarene (Ohio) *', 'A', '5-12', 'L', ''], [''], ['4/13/2019', 'Mount Vernon Nazarene (Ohio) *', 'A', '5-10', 'L', ''], [''], ['4/16/2019', 'Indiana Wesleyan *', 'H', '3-1', 'W', ''], [''], ['4/16/2019', 'Indiana Wesleyan *', 'H', '1-11', 'L', ''], [''], ['4/22/2019', 'Marian (Ind.) *', 'H', '0-9', 'L', ''], [''], ['4/22/2019', 'Marian (Ind.) *', 'H', '4-6', 'L', ''], [''], ['4/23/2019', 'Marian (Ind.) *', 'H', '3-10', 'L', ''], [''], ['4/26/2019', 'Goshen (Ind.) *', 'H', '5-1', 'W', ''], [''], ['4/26/2019', 'Goshen (Ind.) *', 'H', '2-12', 'L', ''], [''], ['4/27/2019', 'Goshen (Ind.) *', 'H', '2-12', 'L', ''], [''], ['5/3/2019', 'Huntington (Ind.)', 'N', '5-4(10)', 'W', ''], [''], ['5/4/2019', 'Taylor (Ind.)', 'A', '6-3', 'W', ''], [''], ['5/6/2019', 'Marian (Ind.)', 'N', '13-0', 'W', ''], [''], ['5/7/2019', 'Marian (Ind.)', 'N', '2-5', 'L', ''], [''], ['5/8/2019', 'Marian (Ind.)', 'N', '6-14', 'L', ''], ['']]\n",
      "35 [[''], ['2/27/2019', 'Lourdes (Ohio)', 'N', '3-4', 'L', ''], [''], ['2/27/2019', 'Lourdes (Ohio)', 'N', '4-8', 'L', ''], [''], ['3/2/2019', 'Cornerstone (Mich.)', 'N', '3-4', 'L', ''], [''], ['3/2/2019', 'Trinity Baptist', 'N', '5-1', 'W', ''], [''], ['3/4/2019', 'Michigan-Dearborn', 'N', '13-1', 'W', ''], [''], ['3/5/2019', 'Rochester (Mich.)', 'N', '24-4', 'W', ''], [''], ['3/6/2019', 'Robert Morris (Ill.)', 'N', '10-9', 'W', ''], [''], ['3/8/2019', 'Bethel (Ind.) *', 'N', '13-6', 'W', ''], [''], ['3/9/2019', 'Bethel (Ind.) *', 'N', '14-2', 'W', ''], [''], ['3/9/2019', 'Bethel (Ind.) *', 'N', '3-1', 'W', ''], [''], ['3/14/2019', 'Taylor (Ind.) *', 'A', '5-15', 'L', ''], [''], ['3/16/2019', 'Taylor (Ind.) *', 'A', '2-10', 'L', ''], [''], ['3/16/2019', 'Taylor (Ind.) *', 'A', '3-9', 'L', ''], [''], ['3/23/2019', 'Spring Arbor (Mich.) *', 'A', '2-4', 'L', ''], [''], ['3/25/2019', 'Spring Arbor (Mich.) *', 'A', '1-11', 'L', ''], [''], ['3/25/2019', 'Spring Arbor (Mich.) *', 'A', '6-7', 'L', ''], [''], ['3/26/2019', 'IU Kokomo (Ind.)', 'A', '0-3', 'L', ''], [''], ['3/26/2019', 'IU Kokomo (Ind.)', 'A', '0-5', 'L', ''], [''], ['3/28/2019', 'Huntington (Ind.) *', 'H', '12-2', 'W', ''], [''], ['4/1/2019', 'Huntington (Ind.) *', 'H', '2-12', 'L', ''], [''], ['4/1/2019', 'Huntington (Ind.) *', 'H', '10-9', 'W', ''], [''], ['4/2/2019', 'Siena Heights (Mich.)', 'A', '2-8', 'L', ''], [''], ['4/2/2019', 'Siena Heights (Mich.)', 'A', '0-4', 'L', ''], [''], ['4/5/2019', 'St. Francis (Ind.) *', 'A', '17-13', 'W', ''], [''], ['4/6/2019', 'St. Francis (Ind.) *', 'A', '9-8', 'W', ''], [''], ['4/6/2019', 'St. Francis (Ind.) *', 'A', '15-7', 'W', ''], [''], ['4/9/2019', 'Indiana Wesleyan *', 'H', '16-20', 'L', ''], [''], ['4/10/2019', 'Indiana Tech', 'A', '2-6', 'L', ''], [''], ['4/12/2019', 'Mount Vernon Nazarene (Ohio) *', 'A', '0-10', 'L', ''], [''], ['4/13/2019', 'Mount Vernon Nazarene (Ohio) *', 'A', '5-12', 'L', ''], [''], ['4/13/2019', 'Mount Vernon Nazarene (Ohio) *', 'A', '5-10', 'L', ''], [''], ['4/16/2019', 'Indiana Wesleyan *', 'H', '3-1', 'W', ''], [''], ['4/16/2019', 'Indiana Wesleyan *', 'H', '1-11', 'L', ''], [''], ['4/22/2019', 'Marian (Ind.) *', 'H', '0-9', 'L', ''], [''], ['4/22/2019', 'Marian (Ind.) *', 'H', '4-6', 'L', ''], [''], ['4/23/2019', 'Marian (Ind.) *', 'H', '3-10', 'L', ''], [''], ['4/26/2019', 'Goshen (Ind.) *', 'H', '5-1', 'W', ''], [''], ['4/26/2019', 'Goshen (Ind.) *', 'H', '2-12', 'L', ''], [''], ['4/27/2019', 'Goshen (Ind.) *', 'H', '2-12', 'L', ''], [''], ['5/3/2019', 'Huntington (Ind.)', 'N', '5-4(10)', 'W', ''], [''], ['5/4/2019', 'Taylor (Ind.)', 'A', '6-3', 'W', ''], [''], ['5/6/2019', 'Marian (Ind.)', 'N', '13-0', 'W', ''], [''], ['5/7/2019', 'Marian (Ind.)', 'N', '2-5', 'L', ''], [''], ['5/8/2019', 'Marian (Ind.)', 'N', '6-14', 'L', ''], ['']]\n",
      "36 [['Stats by DakStats Copyright Â© Daktronics, Inc.']]\n",
      "37 [['2019RecordWLTOverall17270Conference10170Last Reported5-13-2019', '2019Record', 'W', 'L', 'T', 'Overall', '17', '27', '0', 'Conference', '10', '17', '0', 'Last Reported5-13-2019'], ['2019Record', 'W', 'L', 'T'], ['Overall', '17', '27', '0'], ['Conference', '10', '17', '0'], ['Last Reported5-13-2019']]\n",
      "38 [['2019Record', 'W', 'L', 'T']]\n",
      "39 [['Overall', '17', '27', '0']]\n",
      "40 [['Conference', '10', '17', '0']]\n",
      "41 [['Last Reported5-13-2019']]\n",
      "42 [['Team Profile']]\n",
      "43 [['Official Team Website', 'Official Team Website'], ['Official Team Website'], ['Enrollment:1600', 'Enrollment:', '1600'], ['Enrollment:', '1600'], ['Coach:Ryan Roth', 'Coach:', 'Ryan Roth'], ['Coach:', 'Ryan Roth'], ['Stadium:Miller Field', 'Stadium:', 'Miller Field'], ['Stadium:', 'Miller Field'], ['Location:200 Seminary Drive Winona Lake, IN 46590', 'Location:', '200 Seminary Drive Winona Lake, IN 46590'], ['Location:', '200 Seminary Drive Winona Lake, IN 46590'], ['Other Sports', '', 'Other Sports'], ['', 'Other Sports']]\n",
      "44 [['Official Team Website']]\n",
      "45 [['Enrollment:', '1600']]\n",
      "46 [['Coach:', 'Ryan Roth']]\n",
      "47 [['Stadium:', 'Miller Field']]\n",
      "48 [['Location:', '200 Seminary Drive Winona Lake, IN 46590']]\n",
      "49 [['', 'Other Sports']]\n",
      "50 [['Quick Leaders']]\n",
      "51 [['Bat AvgHITSAVGX. Harris460.336', '', 'Bat Avg', 'HITS', 'AVG', 'X. Harris', '46', '0.336', ''], ['', 'Bat Avg', 'HITS', 'AVG'], ['X. Harris', '46', '0.336'], [''], ['RBITOTAVGH. Haney320.80', '', 'RBI', 'TOT', 'AVG', 'H. Haney', '32', '0.80', ''], ['', 'RBI', 'TOT', 'AVG'], ['H. Haney', '32', '0.80'], [''], ['Stolen BasesTOTAVGR. Snyder140.34', '', 'Stolen Bases', 'TOT', 'AVG', 'R. Snyder', '14', '0.34', ''], ['', 'Stolen Bases', 'TOT', 'AVG'], ['R. Snyder', '14', '0.34'], [''], ['ERAERERAH. Haney223.64', '', 'ERA', 'ER', 'ERA', 'H. Haney', '22', '3.64', ''], ['', 'ERA', 'ER', 'ERA'], ['H. Haney', '22', '3.64'], [''], ['SOK AVGTOTALA. Voirol10.1752', '', 'SO', 'K AVG', 'TOTAL', 'A. Voirol', '10.17', '52', ''], ['', 'SO', 'K AVG', 'TOTAL'], ['A. Voirol', '10.17', '52'], ['']]\n",
      "52 [['', 'Bat Avg', 'HITS', 'AVG'], ['X. Harris', '46', '0.336'], ['']]\n",
      "53 [['', 'RBI', 'TOT', 'AVG'], ['H. Haney', '32', '0.80'], ['']]\n",
      "54 [['', 'Stolen Bases', 'TOT', 'AVG'], ['R. Snyder', '14', '0.34'], ['']]\n",
      "55 [['', 'ERA', 'ER', 'ERA'], ['H. Haney', '22', '3.64'], ['']]\n",
      "56 [['', 'SO', 'K AVG', 'TOTAL'], ['A. Voirol', '10.17', '52'], ['']]\n",
      "57 [['PLEASE SUPPORT OUR SPONSORS'], ['']]\n",
      "58 [[\"About UsFAQ'sCopyrightPrivacy NoticeDaktronics, Inc. Brookings, SD\", 'About Us', \"FAQ's\", 'Copyright', 'Privacy Notice', 'Daktronics, Inc. Brookings, SD'], ['About Us', \"FAQ's\"], ['Copyright', 'Privacy Notice', 'Daktronics, Inc. Brookings, SD']]\n",
      "59 [['About Us', \"FAQ's\"]]\n",
      "60 [['Copyright', 'Privacy Notice', 'Daktronics, Inc. Brookings, SD']]\n"
     ]
    }
   ],
   "source": [
    "for i in range(len(team_tables[2])):\n",
    "  #print(i, team_tables[2][i])\n",
    "  #The line ablve is commented out becuause we only needed to run it once to find the location of the data on the webpage.\n",
    "  pass"
   ]
  },
  {
   "cell_type": "code",
   "execution_count": 44,
   "metadata": {
    "colab": {
     "base_uri": "https://localhost:8080/"
    },
    "id": "9N5m30moX_yL",
    "outputId": "2bbb2f33-6e63-48f6-d563-a3d8166b0f8d"
   },
   "outputs": [
    {
     "data": {
      "text/plain": [
       "['Date', 'Opponent', 'Location', 'Score', 'Outcome']"
      ]
     },
     "execution_count": 44,
     "metadata": {
      "tags": []
     },
     "output_type": "execute_result"
    }
   ],
   "source": [
    "headers = [['Date', 'Opponent', 'Location', 'Score', 'Outcome'] for tables in team_tables]\n",
    "headers[2]"
   ]
  },
  {
   "cell_type": "markdown",
   "metadata": {
    "id": "zT2IZH84VxHA"
   },
   "source": [
    "In the code below, we use `[:5]` to skip the last column, and we use `[1::2]` because the rows with actual data are the odd rows."
   ]
  },
  {
   "cell_type": "code",
   "execution_count": 45,
   "metadata": {
    "colab": {
     "base_uri": "https://localhost:8080/"
    },
    "id": "hYvptnE7aA7h",
    "outputId": "f3df753e-a92f-4be1-aaa6-56f0280d201b"
   },
   "outputs": [
    {
     "data": {
      "text/plain": [
       "[['2/27/2019', 'Lourdes (Ohio)', 'N', '3-4', 'L'],\n",
       " ['2/27/2019', 'Lourdes (Ohio)', 'N', '4-8', 'L'],\n",
       " ['3/2/2019', 'Cornerstone (Mich.)', 'N', '3-4', 'L'],\n",
       " ['3/2/2019', 'Trinity Baptist', 'N', '5-1', 'W'],\n",
       " ['3/4/2019', 'Michigan-Dearborn', 'N', '13-1', 'W'],\n",
       " ['3/5/2019', 'Rochester (Mich.)', 'N', '24-4', 'W'],\n",
       " ['3/6/2019', 'Robert Morris (Ill.)', 'N', '10-9', 'W'],\n",
       " ['3/8/2019', 'Bethel (Ind.) *', 'N', '13-6', 'W'],\n",
       " ['3/9/2019', 'Bethel (Ind.) *', 'N', '14-2', 'W']]"
      ]
     },
     "execution_count": 45,
     "metadata": {
      "tags": []
     },
     "output_type": "execute_result"
    }
   ],
   "source": [
    "team_rows = [[r[:5] for r in tables[35][1::2]] for tables in team_tables]\n",
    "team_rows[2][:9]"
   ]
  },
  {
   "cell_type": "code",
   "execution_count": 46,
   "metadata": {
    "colab": {
     "base_uri": "https://localhost:8080/",
     "height": 202
    },
    "id": "QG8CHwFXcT3-",
    "outputId": "af37bbf7-0004-4fbd-e7dd-9f98033bda94"
   },
   "outputs": [
    {
     "data": {
      "text/html": [
       "<div>\n",
       "<style scoped>\n",
       "    .dataframe tbody tr th:only-of-type {\n",
       "        vertical-align: middle;\n",
       "    }\n",
       "\n",
       "    .dataframe tbody tr th {\n",
       "        vertical-align: top;\n",
       "    }\n",
       "\n",
       "    .dataframe thead th {\n",
       "        text-align: right;\n",
       "    }\n",
       "</style>\n",
       "<table border=\"1\" class=\"dataframe\">\n",
       "  <thead>\n",
       "    <tr style=\"text-align: right;\">\n",
       "      <th></th>\n",
       "      <th>Date</th>\n",
       "      <th>Opponent</th>\n",
       "      <th>Location</th>\n",
       "      <th>Score</th>\n",
       "      <th>Outcome</th>\n",
       "    </tr>\n",
       "  </thead>\n",
       "  <tbody>\n",
       "    <tr>\n",
       "      <th>0</th>\n",
       "      <td>2/27/2019</td>\n",
       "      <td>Lourdes (Ohio)</td>\n",
       "      <td>N</td>\n",
       "      <td>3-4</td>\n",
       "      <td>L</td>\n",
       "    </tr>\n",
       "    <tr>\n",
       "      <th>1</th>\n",
       "      <td>2/27/2019</td>\n",
       "      <td>Lourdes (Ohio)</td>\n",
       "      <td>N</td>\n",
       "      <td>4-8</td>\n",
       "      <td>L</td>\n",
       "    </tr>\n",
       "    <tr>\n",
       "      <th>2</th>\n",
       "      <td>3/2/2019</td>\n",
       "      <td>Cornerstone (Mich.)</td>\n",
       "      <td>N</td>\n",
       "      <td>3-4</td>\n",
       "      <td>L</td>\n",
       "    </tr>\n",
       "    <tr>\n",
       "      <th>3</th>\n",
       "      <td>3/2/2019</td>\n",
       "      <td>Trinity Baptist</td>\n",
       "      <td>N</td>\n",
       "      <td>5-1</td>\n",
       "      <td>W</td>\n",
       "    </tr>\n",
       "    <tr>\n",
       "      <th>4</th>\n",
       "      <td>3/4/2019</td>\n",
       "      <td>Michigan-Dearborn</td>\n",
       "      <td>N</td>\n",
       "      <td>13-1</td>\n",
       "      <td>W</td>\n",
       "    </tr>\n",
       "  </tbody>\n",
       "</table>\n",
       "</div>"
      ],
      "text/plain": [
       "        Date             Opponent Location Score Outcome\n",
       "0  2/27/2019       Lourdes (Ohio)        N   3-4       L\n",
       "1  2/27/2019       Lourdes (Ohio)        N   4-8       L\n",
       "2   3/2/2019  Cornerstone (Mich.)        N   3-4       L\n",
       "3   3/2/2019      Trinity Baptist        N   5-1       W\n",
       "4   3/4/2019    Michigan-Dearborn        N  13-1       W"
      ]
     },
     "execution_count": 46,
     "metadata": {
      "tags": []
     },
     "output_type": "execute_result"
    }
   ],
   "source": [
    "dfc = [pd.DataFrame(columns = headers[i], data = team_rows[i]) for i in range(len(headers))]\n",
    "dfc[2][:5]"
   ]
  },
  {
   "cell_type": "markdown",
   "metadata": {
    "id": "jBZhAfoRl9YW"
   },
   "source": [
    "Get only the conference games"
   ]
  },
  {
   "cell_type": "code",
   "execution_count": 47,
   "metadata": {
    "colab": {
     "base_uri": "https://localhost:8080/",
     "height": 202
    },
    "id": "jtDpOt_4YPFk",
    "outputId": "937d69ca-e742-43a9-efb0-ee4a44d23585"
   },
   "outputs": [
    {
     "data": {
      "text/html": [
       "<div>\n",
       "<style scoped>\n",
       "    .dataframe tbody tr th:only-of-type {\n",
       "        vertical-align: middle;\n",
       "    }\n",
       "\n",
       "    .dataframe tbody tr th {\n",
       "        vertical-align: top;\n",
       "    }\n",
       "\n",
       "    .dataframe thead th {\n",
       "        text-align: right;\n",
       "    }\n",
       "</style>\n",
       "<table border=\"1\" class=\"dataframe\">\n",
       "  <thead>\n",
       "    <tr style=\"text-align: right;\">\n",
       "      <th></th>\n",
       "      <th>Date</th>\n",
       "      <th>Opponent</th>\n",
       "      <th>Location</th>\n",
       "      <th>Score</th>\n",
       "      <th>Outcome</th>\n",
       "    </tr>\n",
       "  </thead>\n",
       "  <tbody>\n",
       "    <tr>\n",
       "      <th>7</th>\n",
       "      <td>3/8/2019</td>\n",
       "      <td>Bethel (Ind.) *</td>\n",
       "      <td>N</td>\n",
       "      <td>13-6</td>\n",
       "      <td>W</td>\n",
       "    </tr>\n",
       "    <tr>\n",
       "      <th>8</th>\n",
       "      <td>3/9/2019</td>\n",
       "      <td>Bethel (Ind.) *</td>\n",
       "      <td>N</td>\n",
       "      <td>14-2</td>\n",
       "      <td>W</td>\n",
       "    </tr>\n",
       "    <tr>\n",
       "      <th>9</th>\n",
       "      <td>3/9/2019</td>\n",
       "      <td>Bethel (Ind.) *</td>\n",
       "      <td>N</td>\n",
       "      <td>3-1</td>\n",
       "      <td>W</td>\n",
       "    </tr>\n",
       "    <tr>\n",
       "      <th>10</th>\n",
       "      <td>3/14/2019</td>\n",
       "      <td>Taylor (Ind.) *</td>\n",
       "      <td>A</td>\n",
       "      <td>5-15</td>\n",
       "      <td>L</td>\n",
       "    </tr>\n",
       "    <tr>\n",
       "      <th>11</th>\n",
       "      <td>3/16/2019</td>\n",
       "      <td>Taylor (Ind.) *</td>\n",
       "      <td>A</td>\n",
       "      <td>2-10</td>\n",
       "      <td>L</td>\n",
       "    </tr>\n",
       "  </tbody>\n",
       "</table>\n",
       "</div>"
      ],
      "text/plain": [
       "         Date         Opponent Location Score Outcome\n",
       "7    3/8/2019  Bethel (Ind.) *        N  13-6       W\n",
       "8    3/9/2019  Bethel (Ind.) *        N  14-2       W\n",
       "9    3/9/2019  Bethel (Ind.) *        N   3-1       W\n",
       "10  3/14/2019  Taylor (Ind.) *        A  5-15       L\n",
       "11  3/16/2019  Taylor (Ind.) *        A  2-10       L"
      ]
     },
     "execution_count": 47,
     "metadata": {
      "tags": []
     },
     "output_type": "execute_result"
    }
   ],
   "source": [
    "conf_df = [df[df.Opponent.str.contains(\"*\", regex = False)] for df in dfc]\n",
    "conf_df[2][:5]"
   ]
  },
  {
   "cell_type": "markdown",
   "metadata": {
    "id": "1Sq2BMS5YS5m"
   },
   "source": [
    "In the code below, `.copy()` makes a copy of each dataframe, which prevents warning messages.  `.str.replace(r\"\\(.*\\)\",\"\")` deletes any parententheses along with anything inside them.  Then `st.split()` is used to split the Scores column into two columns.\n",
    "\n",
    "After that we use `.assign()` to assign the correct data types."
   ]
  },
  {
   "cell_type": "code",
   "execution_count": 48,
   "metadata": {
    "colab": {
     "base_uri": "https://localhost:8080/",
     "height": 202
    },
    "id": "R57sO7qIZ0S1",
    "outputId": "3391b93b-781c-44da-f002-dbd42cb6c1eb"
   },
   "outputs": [
    {
     "data": {
      "text/html": [
       "<div>\n",
       "<style scoped>\n",
       "    .dataframe tbody tr th:only-of-type {\n",
       "        vertical-align: middle;\n",
       "    }\n",
       "\n",
       "    .dataframe tbody tr th {\n",
       "        vertical-align: top;\n",
       "    }\n",
       "\n",
       "    .dataframe thead th {\n",
       "        text-align: right;\n",
       "    }\n",
       "</style>\n",
       "<table border=\"1\" class=\"dataframe\">\n",
       "  <thead>\n",
       "    <tr style=\"text-align: right;\">\n",
       "      <th></th>\n",
       "      <th>Date</th>\n",
       "      <th>Opponent</th>\n",
       "      <th>Location</th>\n",
       "      <th>Score</th>\n",
       "      <th>Outcome</th>\n",
       "      <th>Other_score</th>\n",
       "    </tr>\n",
       "  </thead>\n",
       "  <tbody>\n",
       "    <tr>\n",
       "      <th>7</th>\n",
       "      <td>2019-03-08</td>\n",
       "      <td>Bethel (Ind.)</td>\n",
       "      <td>N</td>\n",
       "      <td>13</td>\n",
       "      <td>W</td>\n",
       "      <td>6</td>\n",
       "    </tr>\n",
       "    <tr>\n",
       "      <th>8</th>\n",
       "      <td>2019-03-09</td>\n",
       "      <td>Bethel (Ind.)</td>\n",
       "      <td>N</td>\n",
       "      <td>14</td>\n",
       "      <td>W</td>\n",
       "      <td>2</td>\n",
       "    </tr>\n",
       "    <tr>\n",
       "      <th>9</th>\n",
       "      <td>2019-03-09</td>\n",
       "      <td>Bethel (Ind.)</td>\n",
       "      <td>N</td>\n",
       "      <td>3</td>\n",
       "      <td>W</td>\n",
       "      <td>1</td>\n",
       "    </tr>\n",
       "    <tr>\n",
       "      <th>10</th>\n",
       "      <td>2019-03-14</td>\n",
       "      <td>Taylor (Ind.)</td>\n",
       "      <td>A</td>\n",
       "      <td>5</td>\n",
       "      <td>L</td>\n",
       "      <td>15</td>\n",
       "    </tr>\n",
       "    <tr>\n",
       "      <th>11</th>\n",
       "      <td>2019-03-16</td>\n",
       "      <td>Taylor (Ind.)</td>\n",
       "      <td>A</td>\n",
       "      <td>2</td>\n",
       "      <td>L</td>\n",
       "      <td>10</td>\n",
       "    </tr>\n",
       "  </tbody>\n",
       "</table>\n",
       "</div>"
      ],
      "text/plain": [
       "         Date       Opponent Location  Score Outcome  Other_score\n",
       "7  2019-03-08  Bethel (Ind.)        N     13       W            6\n",
       "8  2019-03-09  Bethel (Ind.)        N     14       W            2\n",
       "9  2019-03-09  Bethel (Ind.)        N      3       W            1\n",
       "10 2019-03-14  Taylor (Ind.)        A      5       L           15\n",
       "11 2019-03-16  Taylor (Ind.)        A      2       L           10"
      ]
     },
     "execution_count": 48,
     "metadata": {
      "tags": []
     },
     "output_type": "execute_result"
    }
   ],
   "source": [
    "tidy_conf = conf_df.copy()\n",
    "for i, df in enumerate(conf_df):\n",
    "  split_scores = df['Score'].str.replace(r\"\\(.*\\)\",\"\").str.split('-', expand = True)\n",
    "  tidy_conf[i] = df.assign(Score = pd.to_numeric(split_scores[0]),\n",
    "                           Other_score = pd.to_numeric(split_scores[1]),\n",
    "                           Opponent = df.Opponent.str.replace(' \\*', '', regex= True),\n",
    "                           Date = pd.to_datetime(df.Date)\n",
    "                           )\n",
    "tidy_conf[2][:5]"
   ]
  },
  {
   "cell_type": "code",
   "execution_count": 49,
   "metadata": {
    "id": "2sL2chmiyYnb"
   },
   "outputs": [],
   "source": [
    "conf_h = [df[df.Location.str.contains(\"H\", regex = False)] for df in tidy_conf]\n",
    "conf_a = [df[df.Location.str.contains(\"A\", regex = False)] for df in tidy_conf]"
   ]
  },
  {
   "cell_type": "code",
   "execution_count": 50,
   "metadata": {
    "colab": {
     "base_uri": "https://localhost:8080/"
    },
    "id": "cCsLtPA7aBih",
    "outputId": "b96e6af1-1b81-4296-dae4-b6d18423eaed"
   },
   "outputs": [
    {
     "data": {
      "text/plain": [
       "[0.963768115942029,\n",
       " 1.1224268689057422,\n",
       " 0.8870967741935484,\n",
       " 0.7320261437908496,\n",
       " 1.0357675111773472,\n",
       " 0.7938931297709924,\n",
       " 0.8571428571428571,\n",
       " 1.15,\n",
       " 1.3483365949119375,\n",
       " 1.3363844393592679]"
      ]
     },
     "execution_count": 50,
     "metadata": {
      "tags": []
     },
     "output_type": "execute_result"
    }
   ],
   "source": [
    "h_runs_per_game = [(df.Score.sum() + df.Other_score.sum())/len(df.index) for df in conf_h]\n",
    "a_runs_per_game = [(df.Score.sum() + df.Other_score.sum())/len(df.index) for df in conf_a]\n",
    "park_factor = [h_runs_per_game[i]/a_runs_per_game[i] for i in range(len(headers))]\n",
    "park_factor"
   ]
  },
  {
   "cell_type": "code",
   "execution_count": null,
   "metadata": {
    "id": "zcoZsG0tWt5T"
   },
   "outputs": [],
   "source": []
  }
 ],
 "metadata": {
  "colab": {
   "collapsed_sections": [],
   "name": "Ballpark_Factor.ipynb",
   "provenance": []
  },
  "kernelspec": {
   "display_name": "Python 3",
   "language": "python",
   "name": "python3"
  },
  "language_info": {
   "codemirror_mode": {
    "name": "ipython",
    "version": 3
   },
   "file_extension": ".py",
   "mimetype": "text/x-python",
   "name": "python",
   "nbconvert_exporter": "python",
   "pygments_lexer": "ipython3",
   "version": "3.8.5"
  }
 },
 "nbformat": 4,
 "nbformat_minor": 1
}
