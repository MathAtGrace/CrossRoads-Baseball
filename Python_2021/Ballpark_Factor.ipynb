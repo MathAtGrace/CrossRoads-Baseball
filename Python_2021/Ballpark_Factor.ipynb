{
 "cells": [
  {
   "cell_type": "markdown",
   "metadata": {
    "id": "7DcaPdvXEYiA"
   },
   "source": [
    "# Ballpark Factor\n",
    "\n",
    "Load the necessary packages"
   ]
  },
  {
   "cell_type": "code",
   "execution_count": 145,
   "metadata": {
    "id": "ED2T6rVlD7tx"
   },
   "outputs": [],
   "source": [
    "import requests\n",
    "import pandas as pd\n",
    "from bs4 import BeautifulSoup\n",
    "import warnings"
   ]
  },
  {
   "cell_type": "markdown",
   "metadata": {
    "id": "4DPC5glDEvL-"
   },
   "source": [
    "the team names and numbers"
   ]
  },
  {
   "cell_type": "code",
   "execution_count": 146,
   "metadata": {
    "id": "MlaNpI3cEtx2"
   },
   "outputs": [],
   "source": [
    "teams =[\"Bethel\", \"Goshen\", \"Grace\", \"HU\", \"IWU\", \"Marian\", \"MVNU\", \"SAU\", \"SFU\", \"Taylor\"]\n",
    "t_nums = [1629, 1678, 1679, 1688, 1694, 1717, 1736, 1780, 1805, 1784]"
   ]
  },
  {
   "cell_type": "markdown",
   "metadata": {
    "id": "LdumZN4rEyzu"
   },
   "source": [
    "Scrape the webpage for each team."
   ]
  },
  {
   "cell_type": "code",
   "execution_count": 147,
   "metadata": {
    "id": "vDKHUwtGmWi1"
   },
   "outputs": [],
   "source": [
    "urls = ['http://www.dakstats.com/WebSync/Pages/Team/TeamSchedule.aspx?association=10&sg=MBA&sea=NAIMBA_2019&team=' +\n",
    "        str(num) for num in t_nums]\n",
    "#Create a handle, page, to handle the contents of the website\n",
    "pages = [requests.get(url) for url in urls]\n",
    "#Store the page as an element tree using BeautifulSoup4\n",
    "soups = [BeautifulSoup(page.content) for page in pages]"
   ]
  },
  {
   "cell_type": "code",
   "execution_count": 148,
   "metadata": {
    "id": "kCXtxfbUXUhs"
   },
   "outputs": [],
   "source": [
    "team_tables = [\n",
    "  [\n",
    "    [\n",
    "      [td.get_text(strip=True) for td in tr.find_all('td')] \n",
    "      for tr in table.find_all('tr') \n",
    "    ]#for each row in each table\n",
    "    for table in soup.find_all('table') \n",
    "  ]#for each table on each webpage\n",
    "  for soup in soups \n",
    "]#for each team's webpage"
   ]
  },
  {
   "cell_type": "markdown",
   "metadata": {
    "id": "M7294UsH0XGq"
   },
   "source": [
    "The for-loop below helps us find which tables on Grace College's webpage.  It appears that the header is the 33rd table, and the actual data is in the 35th table.  It seems like a fair assumption that this will be the same for all of the other teams as well."
   ]
  },
  {
   "cell_type": "code",
   "execution_count": 6,
   "metadata": {
    "id": "VoBlHgALXmoC"
   },
   "outputs": [
    {
     "name": "stdout",
     "output_type": "stream",
     "text": [
      "0 <Element table at 0x143e97d5270>\n",
      "1 <Element table at 0x143e97d52c0>\n",
      "2 <Element table at 0x143e97d5310>\n",
      "3 <Element table at 0x143e97d5360>\n",
      "4 <Element table at 0x143e97d53b0>\n",
      "5 <Element table at 0x143e97d5400>\n",
      "6 <Element table at 0x143e97d5450>\n",
      "7 <Element table at 0x143e97d54a0>\n",
      "8 <Element table at 0x143e97d54f0>\n",
      "9 <Element table at 0x143e97d5540>\n",
      "10 <Element table at 0x143e97d5590>\n",
      "11 <Element table at 0x143e97d55e0>\n",
      "12 <Element table at 0x143e97d5630>\n",
      "13 <Element table at 0x143e97d5680>\n",
      "14 <Element table at 0x143e97d56d0>\n",
      "15 <Element table at 0x143e97d5720>\n",
      "16 <Element table at 0x143e97d5770>\n",
      "17 <Element table at 0x143e97d57c0>\n",
      "18 <Element table at 0x143e97d5810>\n",
      "19 <Element table at 0x143e97d5860>\n",
      "20 <Element table at 0x143e97d58b0>\n",
      "21 <Element table at 0x143e97d5900>\n",
      "22 <Element table at 0x143e97d5950>\n",
      "23 <Element table at 0x143e97d59a0>\n",
      "24 <Element table at 0x143e97d59f0>\n",
      "25 <Element table at 0x143e97d5a40>\n",
      "26 <Element table at 0x143e97d5a90>\n",
      "27 <Element table at 0x143e97d5ae0>\n",
      "28 <Element table at 0x143e97d5b30>\n",
      "29 <Element table at 0x143e97d5b80>\n",
      "30 <Element table at 0x143e97d5bd0>\n",
      "31 <Element table at 0x143e97d5c20>\n",
      "32 <Element table at 0x143e97d5c70>\n",
      "33 <Element table at 0x143e97d5cc0>\n",
      "34 <Element table at 0x143e97d5d10>\n",
      "35 <Element table at 0x143e97d5d60>\n",
      "36 <Element table at 0x143e97d5db0>\n",
      "37 <Element table at 0x143e97d5e00>\n",
      "38 <Element table at 0x143e97d5e50>\n",
      "39 <Element table at 0x143e97d5ea0>\n",
      "40 <Element table at 0x143e97d5ef0>\n",
      "41 <Element table at 0x143e97d5f40>\n",
      "42 <Element table at 0x143e97d5f90>\n",
      "43 <Element table at 0x143e97d6040>\n",
      "44 <Element table at 0x143e97d6090>\n",
      "45 <Element table at 0x143e97d60e0>\n",
      "46 <Element table at 0x143e97d6130>\n",
      "47 <Element table at 0x143e97d6180>\n",
      "48 <Element table at 0x143e97d61d0>\n",
      "49 <Element table at 0x143e97d6220>\n",
      "50 <Element table at 0x143e97d6270>\n",
      "51 <Element table at 0x143e97d62c0>\n",
      "52 <Element table at 0x143e97d6310>\n",
      "53 <Element table at 0x143e97d6360>\n",
      "54 <Element table at 0x143e97d63b0>\n",
      "55 <Element table at 0x143e97d6400>\n",
      "56 <Element table at 0x143e97d6450>\n",
      "57 <Element table at 0x143e97d64a0>\n",
      "58 <Element table at 0x143e97d64f0>\n",
      "59 <Element table at 0x143e97d6540>\n",
      "60 <Element table at 0x143e97d6590>\n"
     ]
    }
   ],
   "source": [
    "for i in range(len(team_tables[2])):\n",
    "  print(i, team_tables[2][i])\n",
    "  #The line ablve is commented out becuause we only needed to run it once to find the location of the data on the webpage.\n",
    "  pass"
   ]
  },
  {
   "cell_type": "code",
   "execution_count": 151,
   "metadata": {
    "colab": {
     "base_uri": "https://localhost:8080/"
    },
    "id": "9N5m30moX_yL",
    "outputId": "5aaabad9-42a4-473a-b45f-07496cdefc21"
   },
   "outputs": [
    {
     "data": {
      "text/plain": [
       "['Date', 'Opponent', 'Location', 'Score', 'Outcome']"
      ]
     },
     "execution_count": 151,
     "metadata": {
      "tags": []
     },
     "output_type": "execute_result"
    }
   ],
   "source": [
    "headers = [['Date', 'Opponent', 'Location', 'Score', 'Outcome'] for tables in team_tables]\n",
    "headers[2]"
   ]
  },
  {
   "cell_type": "markdown",
   "metadata": {
    "id": "zT2IZH84VxHA"
   },
   "source": [
    "In the code below, we use `[:5]` to skip the last column, and we use `[1::2]` because the rows with actual data are the odd rows."
   ]
  },
  {
   "cell_type": "code",
   "execution_count": 152,
   "metadata": {
    "colab": {
     "base_uri": "https://localhost:8080/"
    },
    "id": "hYvptnE7aA7h",
    "outputId": "f4f44ac2-edc6-4b99-de15-e698c6cb9274"
   },
   "outputs": [
    {
     "data": {
      "text/plain": [
       "[['2/27/2019', 'Lourdes (Ohio)', 'N', '3-4', 'L'],\n",
       " ['2/27/2019', 'Lourdes (Ohio)', 'N', '4-8', 'L'],\n",
       " ['3/2/2019', 'Cornerstone (Mich.)', 'N', '3-4', 'L'],\n",
       " ['3/2/2019', 'Trinity Baptist', 'N', '5-1', 'W'],\n",
       " ['3/4/2019', 'Michigan-Dearborn', 'N', '13-1', 'W'],\n",
       " ['3/5/2019', 'Rochester (Mich.)', 'N', '24-4', 'W'],\n",
       " ['3/6/2019', 'Robert Morris (Ill.)', 'N', '10-9', 'W'],\n",
       " ['3/8/2019', 'Bethel (Ind.) *', 'N', '13-6', 'W'],\n",
       " ['3/9/2019', 'Bethel (Ind.) *', 'N', '14-2', 'W']]"
      ]
     },
     "execution_count": 152,
     "metadata": {
      "tags": []
     },
     "output_type": "execute_result"
    }
   ],
   "source": [
    "team_rows = [[r[:5] for r in tables[35][1::2]] for tables in team_tables]\n",
    "team_rows[2][:9]"
   ]
  },
  {
   "cell_type": "code",
   "execution_count": 153,
   "metadata": {
    "colab": {
     "base_uri": "https://localhost:8080/",
     "height": 204
    },
    "id": "QG8CHwFXcT3-",
    "outputId": "b9904309-3b08-4e82-ce7b-fcf06604674f"
   },
   "outputs": [
    {
     "data": {
      "text/html": [
       "<div>\n",
       "<style scoped>\n",
       "    .dataframe tbody tr th:only-of-type {\n",
       "        vertical-align: middle;\n",
       "    }\n",
       "\n",
       "    .dataframe tbody tr th {\n",
       "        vertical-align: top;\n",
       "    }\n",
       "\n",
       "    .dataframe thead th {\n",
       "        text-align: right;\n",
       "    }\n",
       "</style>\n",
       "<table border=\"1\" class=\"dataframe\">\n",
       "  <thead>\n",
       "    <tr style=\"text-align: right;\">\n",
       "      <th></th>\n",
       "      <th>Date</th>\n",
       "      <th>Opponent</th>\n",
       "      <th>Location</th>\n",
       "      <th>Score</th>\n",
       "      <th>Outcome</th>\n",
       "    </tr>\n",
       "  </thead>\n",
       "  <tbody>\n",
       "    <tr>\n",
       "      <th>0</th>\n",
       "      <td>2/27/2019</td>\n",
       "      <td>Lourdes (Ohio)</td>\n",
       "      <td>N</td>\n",
       "      <td>3-4</td>\n",
       "      <td>L</td>\n",
       "    </tr>\n",
       "    <tr>\n",
       "      <th>1</th>\n",
       "      <td>2/27/2019</td>\n",
       "      <td>Lourdes (Ohio)</td>\n",
       "      <td>N</td>\n",
       "      <td>4-8</td>\n",
       "      <td>L</td>\n",
       "    </tr>\n",
       "    <tr>\n",
       "      <th>2</th>\n",
       "      <td>3/2/2019</td>\n",
       "      <td>Cornerstone (Mich.)</td>\n",
       "      <td>N</td>\n",
       "      <td>3-4</td>\n",
       "      <td>L</td>\n",
       "    </tr>\n",
       "    <tr>\n",
       "      <th>3</th>\n",
       "      <td>3/2/2019</td>\n",
       "      <td>Trinity Baptist</td>\n",
       "      <td>N</td>\n",
       "      <td>5-1</td>\n",
       "      <td>W</td>\n",
       "    </tr>\n",
       "    <tr>\n",
       "      <th>4</th>\n",
       "      <td>3/4/2019</td>\n",
       "      <td>Michigan-Dearborn</td>\n",
       "      <td>N</td>\n",
       "      <td>13-1</td>\n",
       "      <td>W</td>\n",
       "    </tr>\n",
       "  </tbody>\n",
       "</table>\n",
       "</div>"
      ],
      "text/plain": [
       "        Date             Opponent Location Score Outcome\n",
       "0  2/27/2019       Lourdes (Ohio)        N   3-4       L\n",
       "1  2/27/2019       Lourdes (Ohio)        N   4-8       L\n",
       "2   3/2/2019  Cornerstone (Mich.)        N   3-4       L\n",
       "3   3/2/2019      Trinity Baptist        N   5-1       W\n",
       "4   3/4/2019    Michigan-Dearborn        N  13-1       W"
      ]
     },
     "execution_count": 153,
     "metadata": {
      "tags": []
     },
     "output_type": "execute_result"
    }
   ],
   "source": [
    "dfc = [pd.DataFrame(columns = headers[i], data = team_rows[i]) for i in range(len(headers))]\n",
    "dfc[2][:5]"
   ]
  },
  {
   "cell_type": "markdown",
   "metadata": {
    "id": "jBZhAfoRl9YW"
   },
   "source": [
    "Get only the conference games"
   ]
  },
  {
   "cell_type": "code",
   "execution_count": 159,
   "metadata": {
    "colab": {
     "base_uri": "https://localhost:8080/",
     "height": 204
    },
    "id": "jtDpOt_4YPFk",
    "outputId": "0b387e73-ae7b-4e9f-bda8-349387116602"
   },
   "outputs": [
    {
     "data": {
      "text/html": [
       "<div>\n",
       "<style scoped>\n",
       "    .dataframe tbody tr th:only-of-type {\n",
       "        vertical-align: middle;\n",
       "    }\n",
       "\n",
       "    .dataframe tbody tr th {\n",
       "        vertical-align: top;\n",
       "    }\n",
       "\n",
       "    .dataframe thead th {\n",
       "        text-align: right;\n",
       "    }\n",
       "</style>\n",
       "<table border=\"1\" class=\"dataframe\">\n",
       "  <thead>\n",
       "    <tr style=\"text-align: right;\">\n",
       "      <th></th>\n",
       "      <th>Date</th>\n",
       "      <th>Opponent</th>\n",
       "      <th>Location</th>\n",
       "      <th>Score</th>\n",
       "      <th>Outcome</th>\n",
       "    </tr>\n",
       "  </thead>\n",
       "  <tbody>\n",
       "    <tr>\n",
       "      <th>7</th>\n",
       "      <td>3/8/2019</td>\n",
       "      <td>Bethel (Ind.) *</td>\n",
       "      <td>N</td>\n",
       "      <td>13-6</td>\n",
       "      <td>W</td>\n",
       "    </tr>\n",
       "    <tr>\n",
       "      <th>8</th>\n",
       "      <td>3/9/2019</td>\n",
       "      <td>Bethel (Ind.) *</td>\n",
       "      <td>N</td>\n",
       "      <td>14-2</td>\n",
       "      <td>W</td>\n",
       "    </tr>\n",
       "    <tr>\n",
       "      <th>9</th>\n",
       "      <td>3/9/2019</td>\n",
       "      <td>Bethel (Ind.) *</td>\n",
       "      <td>N</td>\n",
       "      <td>3-1</td>\n",
       "      <td>W</td>\n",
       "    </tr>\n",
       "    <tr>\n",
       "      <th>10</th>\n",
       "      <td>3/14/2019</td>\n",
       "      <td>Taylor (Ind.) *</td>\n",
       "      <td>A</td>\n",
       "      <td>5-15</td>\n",
       "      <td>L</td>\n",
       "    </tr>\n",
       "    <tr>\n",
       "      <th>11</th>\n",
       "      <td>3/16/2019</td>\n",
       "      <td>Taylor (Ind.) *</td>\n",
       "      <td>A</td>\n",
       "      <td>2-10</td>\n",
       "      <td>L</td>\n",
       "    </tr>\n",
       "  </tbody>\n",
       "</table>\n",
       "</div>"
      ],
      "text/plain": [
       "         Date         Opponent Location Score Outcome\n",
       "7    3/8/2019  Bethel (Ind.) *        N  13-6       W\n",
       "8    3/9/2019  Bethel (Ind.) *        N  14-2       W\n",
       "9    3/9/2019  Bethel (Ind.) *        N   3-1       W\n",
       "10  3/14/2019  Taylor (Ind.) *        A  5-15       L\n",
       "11  3/16/2019  Taylor (Ind.) *        A  2-10       L"
      ]
     },
     "execution_count": 159,
     "metadata": {
      "tags": []
     },
     "output_type": "execute_result"
    }
   ],
   "source": [
    "conf_df = [df[df.Opponent.str.contains(\"*\", regex = False)] for df in dfc]\n",
    "conf_df[2][:5]"
   ]
  },
  {
   "cell_type": "markdown",
   "metadata": {
    "id": "1Sq2BMS5YS5m"
   },
   "source": [
    "In the code below, `.copy()` makes a copy of each dataframe, which prevents warning messages.  `.str.replace(r\"\\(.*\\)\",\"\")` deletes any parententheses along with anything inside them.  Then `st.split()` is used to split the Scores column into two columns.\n",
    "\n",
    "After that we use `.assign()` to assign the correct data types."
   ]
  },
  {
   "cell_type": "code",
   "execution_count": 160,
   "metadata": {
    "colab": {
     "base_uri": "https://localhost:8080/",
     "height": 204
    },
    "id": "R57sO7qIZ0S1",
    "outputId": "177769aa-4632-4021-bc76-5377fbd11e5a"
   },
   "outputs": [
    {
     "data": {
      "text/html": [
       "<div>\n",
       "<style scoped>\n",
       "    .dataframe tbody tr th:only-of-type {\n",
       "        vertical-align: middle;\n",
       "    }\n",
       "\n",
       "    .dataframe tbody tr th {\n",
       "        vertical-align: top;\n",
       "    }\n",
       "\n",
       "    .dataframe thead th {\n",
       "        text-align: right;\n",
       "    }\n",
       "</style>\n",
       "<table border=\"1\" class=\"dataframe\">\n",
       "  <thead>\n",
       "    <tr style=\"text-align: right;\">\n",
       "      <th></th>\n",
       "      <th>Date</th>\n",
       "      <th>Opponent</th>\n",
       "      <th>Location</th>\n",
       "      <th>Score</th>\n",
       "      <th>Outcome</th>\n",
       "      <th>Other_score</th>\n",
       "    </tr>\n",
       "  </thead>\n",
       "  <tbody>\n",
       "    <tr>\n",
       "      <th>7</th>\n",
       "      <td>2019-03-08</td>\n",
       "      <td>Bethel (Ind.)</td>\n",
       "      <td>N</td>\n",
       "      <td>13</td>\n",
       "      <td>W</td>\n",
       "      <td>6</td>\n",
       "    </tr>\n",
       "    <tr>\n",
       "      <th>8</th>\n",
       "      <td>2019-03-09</td>\n",
       "      <td>Bethel (Ind.)</td>\n",
       "      <td>N</td>\n",
       "      <td>14</td>\n",
       "      <td>W</td>\n",
       "      <td>2</td>\n",
       "    </tr>\n",
       "    <tr>\n",
       "      <th>9</th>\n",
       "      <td>2019-03-09</td>\n",
       "      <td>Bethel (Ind.)</td>\n",
       "      <td>N</td>\n",
       "      <td>3</td>\n",
       "      <td>W</td>\n",
       "      <td>1</td>\n",
       "    </tr>\n",
       "    <tr>\n",
       "      <th>10</th>\n",
       "      <td>2019-03-14</td>\n",
       "      <td>Taylor (Ind.)</td>\n",
       "      <td>A</td>\n",
       "      <td>5</td>\n",
       "      <td>L</td>\n",
       "      <td>15</td>\n",
       "    </tr>\n",
       "    <tr>\n",
       "      <th>11</th>\n",
       "      <td>2019-03-16</td>\n",
       "      <td>Taylor (Ind.)</td>\n",
       "      <td>A</td>\n",
       "      <td>2</td>\n",
       "      <td>L</td>\n",
       "      <td>10</td>\n",
       "    </tr>\n",
       "  </tbody>\n",
       "</table>\n",
       "</div>"
      ],
      "text/plain": [
       "         Date       Opponent Location  Score Outcome  Other_score\n",
       "7  2019-03-08  Bethel (Ind.)        N     13       W            6\n",
       "8  2019-03-09  Bethel (Ind.)        N     14       W            2\n",
       "9  2019-03-09  Bethel (Ind.)        N      3       W            1\n",
       "10 2019-03-14  Taylor (Ind.)        A      5       L           15\n",
       "11 2019-03-16  Taylor (Ind.)        A      2       L           10"
      ]
     },
     "execution_count": 160,
     "metadata": {
      "tags": []
     },
     "output_type": "execute_result"
    }
   ],
   "source": [
    "tidy_conf = conf_df.copy()\n",
    "for i, df in enumerate(conf_df):\n",
    "  split_scores = df['Score'].str.replace(r\"\\(.*\\)\",\"\").str.split('-', expand = True)\n",
    "  tidy_conf[i] = df.assign(Score = pd.to_numeric(split_scores[0]),\n",
    "                           Other_score = pd.to_numeric(split_scores[1]),\n",
    "                           Opponent = df.Opponent.str.replace(' \\*', '', regex= True),\n",
    "                           Date = pd.to_datetime(df.Date)\n",
    "                           )\n",
    "tidy_conf[2][:5]"
   ]
  },
  {
   "cell_type": "code",
   "execution_count": 157,
   "metadata": {
    "id": "2sL2chmiyYnb"
   },
   "outputs": [],
   "source": [
    "conf_df_h = [df[df.Location.str.contains(\"H\", regex = False)] for df in tidy_conf]\n",
    "conf_df_a = [df[df.Location.str.contains(\"A\", regex = False)] for df in tidy_conf]"
   ]
  },
  {
   "cell_type": "code",
   "execution_count": 158,
   "metadata": {
    "colab": {
     "base_uri": "https://localhost:8080/"
    },
    "id": "cCsLtPA7aBih",
    "outputId": "3954b98c-0c64-49fc-98d9-d1d80af30a0a"
   },
   "outputs": [
    {
     "data": {
      "text/plain": [
       "[12, 2, 10, 16, 3, 1, 0, 4, 3, 5, 2, 2]"
      ]
     },
     "execution_count": 158,
     "metadata": {
      "tags": []
     },
     "output_type": "execute_result"
    }
   ],
   "source": [
    "home_scores = [df['Score'].tolist() for df in conf_df_h]\n",
    "away_scores = [df['Score'].tolist() for df in conf_df_a]\n",
    "home_scores[2]"
   ]
  },
  {
   "cell_type": "code",
   "execution_count": null,
   "metadata": {
    "id": "KkjZOfD00hiM"
   },
   "outputs": [],
   "source": []
  }
 ],
 "metadata": {
  "colab": {
   "collapsed_sections": [],
   "name": "Ballpark_Factor.ipynb",
   "provenance": [],
   "toc_visible": true
  },
  "kernelspec": {
   "display_name": "Python 3",
   "language": "python",
   "name": "python3"
  },
  "language_info": {
   "codemirror_mode": {
    "name": "ipython",
    "version": 3
   },
   "file_extension": ".py",
   "mimetype": "text/x-python",
   "name": "python",
   "nbconvert_exporter": "python",
   "pygments_lexer": "ipython3",
   "version": "3.8.5"
  }
 },
 "nbformat": 4,
 "nbformat_minor": 1
}
