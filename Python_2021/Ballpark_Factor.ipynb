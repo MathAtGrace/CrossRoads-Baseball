{
  "nbformat": 4,
  "nbformat_minor": 0,
  "metadata": {
    "colab": {
      "name": "Ballpark_Factor.ipynb",
      "provenance": [],
      "collapsed_sections": [],
      "toc_visible": true
    },
    "kernelspec": {
      "name": "python3",
      "display_name": "Python 3"
    }
  },
  "cells": [
    {
      "cell_type": "markdown",
      "metadata": {
        "id": "7DcaPdvXEYiA"
      },
      "source": [
        "# Ballpark Factor\r\n",
        "\r\n",
        "Load the necessary packages"
      ]
    },
    {
      "cell_type": "code",
      "metadata": {
        "id": "ED2T6rVlD7tx"
      },
      "source": [
        "import requests\r\n",
        "import lxml.html as lh\r\n",
        "import pandas as pd"
      ],
      "execution_count": 5,
      "outputs": []
    },
    {
      "cell_type": "markdown",
      "metadata": {
        "id": "Advp7nbsSRJC"
      },
      "source": [
        "This is a function we'll use later to try turning data elements into integers, floats, or datetimes."
      ]
    },
    {
      "cell_type": "code",
      "metadata": {
        "id": "qCoO0jdYMa7-"
      },
      "source": [
        "from datetime import datetime\r\n",
        "\r\n",
        "def nice_data(d):\r\n",
        "  #If we can turn it into an integer, then do that\r\n",
        "  try:\r\n",
        "    d=int(d)\r\n",
        "  except:\r\n",
        "  #If it's not an integer, it might be a float\r\n",
        "    try:\r\n",
        "      d = float(d)\r\n",
        "    except:\r\n",
        "      #If it's not a float, it might be a date\r\n",
        "      try:\r\n",
        "        d = datetime.strptime(d, '%m/%d/%Y')\r\n",
        "      except:\r\n",
        "        pass\r\n",
        "  return(d)\r\n"
      ],
      "execution_count": 6,
      "outputs": []
    },
    {
      "cell_type": "markdown",
      "metadata": {
        "id": "4DPC5glDEvL-"
      },
      "source": [
        "the team names and numbers"
      ]
    },
    {
      "cell_type": "code",
      "metadata": {
        "id": "MlaNpI3cEtx2"
      },
      "source": [
        "teams =[\"BC\", \"GOC\", \"GRC\", \"HU\", \"INWU\", \"MAR\", \"MVNU\", \"SAU\", \"SFIN\", \"TAYL\"]\r\n",
        "t_nums = [1629, 1678, 1679, 1688, 1694, 1717, 1736, 1780, 1805, 1784]"
      ],
      "execution_count": 7,
      "outputs": []
    },
    {
      "cell_type": "markdown",
      "metadata": {
        "id": "LdumZN4rEyzu"
      },
      "source": [
        "Scrape the webpages"
      ]
    },
    {
      "cell_type": "code",
      "metadata": {
        "id": "vDKHUwtGmWi1"
      },
      "source": [
        "urls = ['http://www.dakstats.com/WebSync/Pages/Team/TeamSchedule.aspx?association=10&sg=MBA&sea=NAIMBA_2019&team=' +\r\n",
        "        str(num) for num in t_nums]\r\n",
        "#Create a handle, page, to handle the contents of the website\r\n",
        "pages = [requests.get(url) for url in urls]\r\n",
        "#Store the contents of the website under doc\r\n",
        "docs = [lh.fromstring(page.content) for page in pages]\r\n",
        "#Parse data that are stored between <table>..</table> of HTML\r\n",
        "team_tables = [doc.xpath('//table') for doc in docs]"
      ],
      "execution_count": 8,
      "outputs": []
    },
    {
      "cell_type": "markdown",
      "metadata": {
        "id": "M7294UsH0XGq"
      },
      "source": [
        "The for-loop below helps us find which tables on the website we need.  It appears that the header is the 33rd table, and the actual data is in the 35th table."
      ]
    },
    {
      "cell_type": "code",
      "metadata": {
        "id": "priN8JoVabW3"
      },
      "source": [
        "for i in range(len(team_tables[2])):\r\n",
        "  print(i, team_tables[2][i].xpath('.//tr/td//text()'))"
      ],
      "execution_count": null,
      "outputs": []
    },
    {
      "cell_type": "code",
      "metadata": {
        "colab": {
          "base_uri": "https://localhost:8080/"
        },
        "id": "eZKNqicnnN8U",
        "outputId": "3820209a-eb13-45dc-ea34-e253f8fb43ed"
      },
      "source": [
        "headers = [tables[33].xpath('.//tr/td//text()') for tables in team_tables]\r\n",
        "print(headers[2])"
      ],
      "execution_count": 25,
      "outputs": [
        {
          "output_type": "stream",
          "text": [
            "['Date', 'Opponent', 'H/A', 'Time', 'W/L']\n"
          ],
          "name": "stdout"
        }
      ]
    },
    {
      "cell_type": "code",
      "metadata": {
        "colab": {
          "base_uri": "https://localhost:8080/"
        },
        "id": "uAMBgmwqoguE",
        "outputId": "308c9544-eba6-4285-863e-0560fd443c8b"
      },
      "source": [
        "team_elements = [tables[35].xpath('.//tr/td//text()') for tables in team_tables]\r\n",
        "print(team_elements[2][:10])"
      ],
      "execution_count": 26,
      "outputs": [
        {
          "output_type": "stream",
          "text": [
            "['\\r\\n    ', '2/27/2019', ' Lourdes (Ohio)', 'N', ' 3-4 ', 'L', '\\r\\n          ', '\\r\\n    ', '\\r\\n    ', '\\r\\n    ']\n"
          ],
          "name": "stdout"
        }
      ]
    },
    {
      "cell_type": "code",
      "metadata": {
        "id": "MJOVnPOJucVV",
        "colab": {
          "base_uri": "https://localhost:8080/"
        },
        "outputId": "ecd690f1-b90f-46d4-bc71-2f7da0512c58"
      },
      "source": [
        "team_good_els = [[nice_data(i) for i in elements if \"\\r\" not in i] for elements in team_elements]\r\n",
        "rows = [[good_els[i:i + 5] for i in range(0, len(good_els), 5)] for good_els in team_good_els]\r\n",
        "rows[2][:2]"
      ],
      "execution_count": 27,
      "outputs": [
        {
          "output_type": "execute_result",
          "data": {
            "text/plain": [
              "[[datetime.datetime(2019, 2, 27, 0, 0), ' Lourdes (Ohio)', 'N', ' 3-4 ', 'L'],\n",
              " [datetime.datetime(2019, 2, 27, 0, 0), ' Lourdes (Ohio)', 'N', ' 4-8 ', 'L']]"
            ]
          },
          "metadata": {
            "tags": []
          },
          "execution_count": 27
        }
      ]
    },
    {
      "cell_type": "code",
      "metadata": {
        "colab": {
          "base_uri": "https://localhost:8080/",
          "height": 204
        },
        "id": "QG8CHwFXcT3-",
        "outputId": "ab2b657e-a97e-4b51-858c-ac0c7d01775a"
      },
      "source": [
        "dfc = [pd.DataFrame(columns = headers[i], data = rows[i]) for i in range(len(headers))]\r\n",
        "dfc[2][:5]"
      ],
      "execution_count": 28,
      "outputs": [
        {
          "output_type": "execute_result",
          "data": {
            "text/html": [
              "<div>\n",
              "<style scoped>\n",
              "    .dataframe tbody tr th:only-of-type {\n",
              "        vertical-align: middle;\n",
              "    }\n",
              "\n",
              "    .dataframe tbody tr th {\n",
              "        vertical-align: top;\n",
              "    }\n",
              "\n",
              "    .dataframe thead th {\n",
              "        text-align: right;\n",
              "    }\n",
              "</style>\n",
              "<table border=\"1\" class=\"dataframe\">\n",
              "  <thead>\n",
              "    <tr style=\"text-align: right;\">\n",
              "      <th></th>\n",
              "      <th>Date</th>\n",
              "      <th>Opponent</th>\n",
              "      <th>H/A</th>\n",
              "      <th>Time</th>\n",
              "      <th>W/L</th>\n",
              "    </tr>\n",
              "  </thead>\n",
              "  <tbody>\n",
              "    <tr>\n",
              "      <th>0</th>\n",
              "      <td>2019-02-27</td>\n",
              "      <td>Lourdes (Ohio)</td>\n",
              "      <td>N</td>\n",
              "      <td>3-4</td>\n",
              "      <td>L</td>\n",
              "    </tr>\n",
              "    <tr>\n",
              "      <th>1</th>\n",
              "      <td>2019-02-27</td>\n",
              "      <td>Lourdes (Ohio)</td>\n",
              "      <td>N</td>\n",
              "      <td>4-8</td>\n",
              "      <td>L</td>\n",
              "    </tr>\n",
              "    <tr>\n",
              "      <th>2</th>\n",
              "      <td>2019-03-02</td>\n",
              "      <td>Cornerstone (Mich.)</td>\n",
              "      <td>N</td>\n",
              "      <td>3-4</td>\n",
              "      <td>L</td>\n",
              "    </tr>\n",
              "    <tr>\n",
              "      <th>3</th>\n",
              "      <td>2019-03-02</td>\n",
              "      <td>Trinity Baptist</td>\n",
              "      <td>N</td>\n",
              "      <td>5-1</td>\n",
              "      <td>W</td>\n",
              "    </tr>\n",
              "    <tr>\n",
              "      <th>4</th>\n",
              "      <td>2019-03-04</td>\n",
              "      <td>Michigan-Dearborn</td>\n",
              "      <td>N</td>\n",
              "      <td>13-1</td>\n",
              "      <td>W</td>\n",
              "    </tr>\n",
              "  </tbody>\n",
              "</table>\n",
              "</div>"
            ],
            "text/plain": [
              "        Date              Opponent H/A    Time W/L\n",
              "0 2019-02-27        Lourdes (Ohio)   N    3-4    L\n",
              "1 2019-02-27        Lourdes (Ohio)   N    4-8    L\n",
              "2 2019-03-02   Cornerstone (Mich.)   N    3-4    L\n",
              "3 2019-03-02       Trinity Baptist   N    5-1    W\n",
              "4 2019-03-04     Michigan-Dearborn   N   13-1    W"
            ]
          },
          "metadata": {
            "tags": []
          },
          "execution_count": 28
        }
      ]
    },
    {
      "cell_type": "markdown",
      "metadata": {
        "id": "jBZhAfoRl9YW"
      },
      "source": [
        "Get only the conference games"
      ]
    },
    {
      "cell_type": "code",
      "metadata": {
        "colab": {
          "base_uri": "https://localhost:8080/",
          "height": 204
        },
        "id": "jtDpOt_4YPFk",
        "outputId": "6768e848-7f0f-4530-9ab0-f97638595a6e"
      },
      "source": [
        "conf_df = [df[df.Opponent.str.contains(\"*\", regex = False)] for df in dfc]\r\n",
        "conf_df[3][:5]"
      ],
      "execution_count": 54,
      "outputs": [
        {
          "output_type": "execute_result",
          "data": {
            "text/html": [
              "<div>\n",
              "<style scoped>\n",
              "    .dataframe tbody tr th:only-of-type {\n",
              "        vertical-align: middle;\n",
              "    }\n",
              "\n",
              "    .dataframe tbody tr th {\n",
              "        vertical-align: top;\n",
              "    }\n",
              "\n",
              "    .dataframe thead th {\n",
              "        text-align: right;\n",
              "    }\n",
              "</style>\n",
              "<table border=\"1\" class=\"dataframe\">\n",
              "  <thead>\n",
              "    <tr style=\"text-align: right;\">\n",
              "      <th></th>\n",
              "      <th>Date</th>\n",
              "      <th>Opponent</th>\n",
              "      <th>H/A</th>\n",
              "      <th>Time</th>\n",
              "      <th>W/L</th>\n",
              "    </tr>\n",
              "  </thead>\n",
              "  <tbody>\n",
              "    <tr>\n",
              "      <th>9</th>\n",
              "      <td>2019-03-08</td>\n",
              "      <td>Taylor (Ind.) *</td>\n",
              "      <td>A</td>\n",
              "      <td>7-6</td>\n",
              "      <td>W</td>\n",
              "    </tr>\n",
              "    <tr>\n",
              "      <th>10</th>\n",
              "      <td>2019-03-11</td>\n",
              "      <td>Taylor (Ind.) *</td>\n",
              "      <td>A</td>\n",
              "      <td>2-0</td>\n",
              "      <td>W</td>\n",
              "    </tr>\n",
              "    <tr>\n",
              "      <th>11</th>\n",
              "      <td>2019-03-11</td>\n",
              "      <td>Taylor (Ind.) *</td>\n",
              "      <td>A</td>\n",
              "      <td>1-5</td>\n",
              "      <td>L</td>\n",
              "    </tr>\n",
              "    <tr>\n",
              "      <th>12</th>\n",
              "      <td>2019-03-18</td>\n",
              "      <td>Spring Arbor (Mich.) *</td>\n",
              "      <td>H</td>\n",
              "      <td>6-5</td>\n",
              "      <td>W</td>\n",
              "    </tr>\n",
              "    <tr>\n",
              "      <th>13</th>\n",
              "      <td>2019-03-19</td>\n",
              "      <td>Spring Arbor (Mich.) *</td>\n",
              "      <td>H</td>\n",
              "      <td>8-0</td>\n",
              "      <td>W</td>\n",
              "    </tr>\n",
              "  </tbody>\n",
              "</table>\n",
              "</div>"
            ],
            "text/plain": [
              "         Date                  Opponent H/A   Time W/L\n",
              "9  2019-03-08          Taylor (Ind.) *    A   7-6    W\n",
              "10 2019-03-11          Taylor (Ind.) *    A   2-0    W\n",
              "11 2019-03-11          Taylor (Ind.) *    A   1-5    L\n",
              "12 2019-03-18   Spring Arbor (Mich.) *    H   6-5    W\n",
              "13 2019-03-19   Spring Arbor (Mich.) *    H   8-0    W"
            ]
          },
          "metadata": {
            "tags": []
          },
          "execution_count": 54
        }
      ]
    },
    {
      "cell_type": "markdown",
      "metadata": {
        "id": "j-Dgku9ib-Fw"
      },
      "source": [
        "This is a second web sraping method using Beautifulsoup4"
      ]
    },
    {
      "cell_type": "code",
      "metadata": {
        "id": "R57sO7qIZ0S1"
      },
      "source": [
        "from bs4 import BeautifulSoup"
      ],
      "execution_count": 9,
      "outputs": []
    },
    {
      "cell_type": "code",
      "metadata": {
        "id": "GNANJPnbXNGj"
      },
      "source": [
        "soup = BeautifulSoup(pages[2].content)"
      ],
      "execution_count": 15,
      "outputs": []
    },
    {
      "cell_type": "code",
      "metadata": {
        "id": "kCXtxfbUXUhs"
      },
      "source": [
        "tables = [\r\n",
        "    [\r\n",
        "        [td.get_text(strip=True) for td in tr.find_all('td')] \r\n",
        "        for tr in table.find_all('tr')\r\n",
        "    ] \r\n",
        "    for table in soup.find_all('table')\r\n",
        "]"
      ],
      "execution_count": 29,
      "outputs": []
    },
    {
      "cell_type": "code",
      "metadata": {
        "id": "VoBlHgALXmoC"
      },
      "source": [
        "for i in range(len(tables)):\r\n",
        "  print(i, tables[i])"
      ],
      "execution_count": null,
      "outputs": []
    },
    {
      "cell_type": "code",
      "metadata": {
        "colab": {
          "base_uri": "https://localhost:8080/"
        },
        "id": "9N5m30moX_yL",
        "outputId": "8812a7f6-b3f9-472b-9bf6-947fd8c86b18"
      },
      "source": [
        "cols = tables[33][0]\r\n",
        "cols"
      ],
      "execution_count": 33,
      "outputs": [
        {
          "output_type": "execute_result",
          "data": {
            "text/plain": [
              "['Date', 'Opponent', 'H/A', 'Time', 'W/L']"
            ]
          },
          "metadata": {
            "tags": []
          },
          "execution_count": 33
        }
      ]
    },
    {
      "cell_type": "code",
      "metadata": {
        "colab": {
          "base_uri": "https://localhost:8080/"
        },
        "id": "hYvptnE7aA7h",
        "outputId": "bf8013aa-571d-4c30-9e41-702e224edf0e"
      },
      "source": [
        "rows = [r[:5] for r in tables[35][1::2]]\r\n",
        "rows"
      ],
      "execution_count": 38,
      "outputs": [
        {
          "output_type": "execute_result",
          "data": {
            "text/plain": [
              "[['2/27/2019', 'Lourdes (Ohio)', 'N', '3-4', 'L'],\n",
              " ['2/27/2019', 'Lourdes (Ohio)', 'N', '4-8', 'L'],\n",
              " ['3/2/2019', 'Cornerstone (Mich.)', 'N', '3-4', 'L'],\n",
              " ['3/2/2019', 'Trinity Baptist', 'N', '5-1', 'W'],\n",
              " ['3/4/2019', 'Michigan-Dearborn', 'N', '13-1', 'W'],\n",
              " ['3/5/2019', 'Rochester (Mich.)', 'N', '24-4', 'W'],\n",
              " ['3/6/2019', 'Robert Morris (Ill.)', 'N', '10-9', 'W'],\n",
              " ['3/8/2019', 'Bethel (Ind.) *', 'N', '13-6', 'W'],\n",
              " ['3/9/2019', 'Bethel (Ind.) *', 'N', '14-2', 'W'],\n",
              " ['3/9/2019', 'Bethel (Ind.) *', 'N', '3-1', 'W'],\n",
              " ['3/14/2019', 'Taylor (Ind.) *', 'A', '5-15', 'L'],\n",
              " ['3/16/2019', 'Taylor (Ind.) *', 'A', '2-10', 'L'],\n",
              " ['3/16/2019', 'Taylor (Ind.) *', 'A', '3-9', 'L'],\n",
              " ['3/23/2019', 'Spring Arbor (Mich.) *', 'A', '2-4', 'L'],\n",
              " ['3/25/2019', 'Spring Arbor (Mich.) *', 'A', '1-11', 'L'],\n",
              " ['3/25/2019', 'Spring Arbor (Mich.) *', 'A', '6-7', 'L'],\n",
              " ['3/26/2019', 'IU Kokomo (Ind.)', 'A', '0-3', 'L'],\n",
              " ['3/26/2019', 'IU Kokomo (Ind.)', 'A', '0-5', 'L'],\n",
              " ['3/28/2019', 'Huntington (Ind.) *', 'H', '12-2', 'W'],\n",
              " ['4/1/2019', 'Huntington (Ind.) *', 'H', '2-12', 'L'],\n",
              " ['4/1/2019', 'Huntington (Ind.) *', 'H', '10-9', 'W'],\n",
              " ['4/2/2019', 'Siena Heights (Mich.)', 'A', '2-8', 'L'],\n",
              " ['4/2/2019', 'Siena Heights (Mich.)', 'A', '0-4', 'L'],\n",
              " ['4/5/2019', 'St. Francis (Ind.) *', 'A', '17-13', 'W'],\n",
              " ['4/6/2019', 'St. Francis (Ind.) *', 'A', '9-8', 'W'],\n",
              " ['4/6/2019', 'St. Francis (Ind.) *', 'A', '15-7', 'W'],\n",
              " ['4/9/2019', 'Indiana Wesleyan *', 'H', '16-20', 'L'],\n",
              " ['4/10/2019', 'Indiana Tech', 'A', '2-6', 'L'],\n",
              " ['4/12/2019', 'Mount Vernon Nazarene (Ohio) *', 'A', '0-10', 'L'],\n",
              " ['4/13/2019', 'Mount Vernon Nazarene (Ohio) *', 'A', '5-12', 'L'],\n",
              " ['4/13/2019', 'Mount Vernon Nazarene (Ohio) *', 'A', '5-10', 'L'],\n",
              " ['4/16/2019', 'Indiana Wesleyan *', 'H', '3-1', 'W'],\n",
              " ['4/16/2019', 'Indiana Wesleyan *', 'H', '1-11', 'L'],\n",
              " ['4/22/2019', 'Marian (Ind.) *', 'H', '0-9', 'L'],\n",
              " ['4/22/2019', 'Marian (Ind.) *', 'H', '4-6', 'L'],\n",
              " ['4/23/2019', 'Marian (Ind.) *', 'H', '3-10', 'L'],\n",
              " ['4/26/2019', 'Goshen (Ind.) *', 'H', '5-1', 'W'],\n",
              " ['4/26/2019', 'Goshen (Ind.) *', 'H', '2-12', 'L'],\n",
              " ['4/27/2019', 'Goshen (Ind.) *', 'H', '2-12', 'L'],\n",
              " ['5/3/2019', 'Huntington (Ind.)', 'N', '5-4(10)', 'W'],\n",
              " ['5/4/2019', 'Taylor (Ind.)', 'A', '6-3', 'W'],\n",
              " ['5/6/2019', 'Marian (Ind.)', 'N', '13-0', 'W'],\n",
              " ['5/7/2019', 'Marian (Ind.)', 'N', '2-5', 'L'],\n",
              " ['5/8/2019', 'Marian (Ind.)', 'N', '6-14', 'L']]"
            ]
          },
          "metadata": {
            "tags": []
          },
          "execution_count": 38
        }
      ]
    },
    {
      "cell_type": "code",
      "metadata": {
        "id": "cCsLtPA7aBih"
      },
      "source": [
        ""
      ],
      "execution_count": null,
      "outputs": []
    }
  ]
}