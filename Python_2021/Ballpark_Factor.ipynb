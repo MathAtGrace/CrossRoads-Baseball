{
  "nbformat": 4,
  "nbformat_minor": 0,
  "metadata": {
    "colab": {
      "name": "Ballpark_Factor.ipynb",
      "provenance": [],
      "collapsed_sections": [],
      "toc_visible": true
    },
    "kernelspec": {
      "name": "python3",
      "display_name": "Python 3"
    }
  },
  "cells": [
    {
      "cell_type": "markdown",
      "metadata": {
        "id": "7DcaPdvXEYiA"
      },
      "source": [
        "# Ballpark Factor\r\n",
        "\r\n",
        "Load the necessary packages"
      ]
    },
    {
      "cell_type": "code",
      "metadata": {
        "id": "ED2T6rVlD7tx"
      },
      "source": [
        "import requests\r\n",
        "import pandas as pd\r\n",
        "from bs4 import BeautifulSoup\r\n",
        "import warnings"
      ],
      "execution_count": 145,
      "outputs": []
    },
    {
      "cell_type": "markdown",
      "metadata": {
        "id": "4DPC5glDEvL-"
      },
      "source": [
        "the team names and numbers"
      ]
    },
    {
      "cell_type": "code",
      "metadata": {
        "id": "MlaNpI3cEtx2"
      },
      "source": [
        "teams =[\"Bethel\", \"Goshen\", \"Grace\", \"HU\", \"IWU\", \"Marian\", \"MVNU\", \"SAU\", \"SFU\", \"Taylor\"]\r\n",
        "t_nums = [1629, 1678, 1679, 1688, 1694, 1717, 1736, 1780, 1805, 1784]"
      ],
      "execution_count": 146,
      "outputs": []
    },
    {
      "cell_type": "markdown",
      "metadata": {
        "id": "LdumZN4rEyzu"
      },
      "source": [
        "Scrape the webpage for each team."
      ]
    },
    {
      "cell_type": "code",
      "metadata": {
        "id": "vDKHUwtGmWi1"
      },
      "source": [
        "urls = ['http://www.dakstats.com/WebSync/Pages/Team/TeamSchedule.aspx?association=10&sg=MBA&sea=NAIMBA_2019&team=' +\r\n",
        "        str(num) for num in t_nums]\r\n",
        "#Create a handle, page, to handle the contents of the website\r\n",
        "pages = [requests.get(url) for url in urls]\r\n",
        "#Store the page as an element tree using BeautifulSoup4\r\n",
        "soups = [BeautifulSoup(page.content) for page in pages]"
      ],
      "execution_count": 147,
      "outputs": []
    },
    {
      "cell_type": "code",
      "metadata": {
        "id": "kCXtxfbUXUhs"
      },
      "source": [
        "team_tables = [\r\n",
        "  [\r\n",
        "    [\r\n",
        "      [td.get_text(strip=True) for td in tr.find_all('td')] \r\n",
        "      for tr in table.find_all('tr') \r\n",
        "    ]#for each row in each table\r\n",
        "    for table in soup.find_all('table') \r\n",
        "  ]#for each table on each webpage\r\n",
        "  for soup in soups \r\n",
        "]#for each team's webpage"
      ],
      "execution_count": 148,
      "outputs": []
    },
    {
      "cell_type": "markdown",
      "metadata": {
        "id": "M7294UsH0XGq"
      },
      "source": [
        "The for-loop below helps us find which tables on Grace College's webpage.  It appears that the header is the 33rd table, and the actual data is in the 35th table.  It seems like a fair assumption that this will be the same for all of the other teams as well."
      ]
    },
    {
      "cell_type": "code",
      "metadata": {
        "id": "VoBlHgALXmoC"
      },
      "source": [
        "for i in range(len(team_tables[2])):\r\n",
        "  #print(i, team_tables[2][i])\r\n",
        "  #The line ablve is commented out becuause we only needed to run it once to find the location of the data on the webpage.\r\n",
        "  pass"
      ],
      "execution_count": 150,
      "outputs": []
    },
    {
      "cell_type": "code",
      "metadata": {
        "colab": {
          "base_uri": "https://localhost:8080/"
        },
        "id": "9N5m30moX_yL",
        "outputId": "5aaabad9-42a4-473a-b45f-07496cdefc21"
      },
      "source": [
        "headers = [['Date', 'Opponent', 'Location', 'Score', 'Outcome'] for tables in team_tables]\r\n",
        "headers[2]"
      ],
      "execution_count": 151,
      "outputs": [
        {
          "output_type": "execute_result",
          "data": {
            "text/plain": [
              "['Date', 'Opponent', 'Location', 'Score', 'Outcome']"
            ]
          },
          "metadata": {
            "tags": []
          },
          "execution_count": 151
        }
      ]
    },
    {
      "cell_type": "markdown",
      "metadata": {
        "id": "zT2IZH84VxHA"
      },
      "source": [
        "In the code below, we use `[:5]` to skip the last column, and we use `[1::2]` because the rows with actual data are the odd rows."
      ]
    },
    {
      "cell_type": "code",
      "metadata": {
        "colab": {
          "base_uri": "https://localhost:8080/"
        },
        "id": "hYvptnE7aA7h",
        "outputId": "f4f44ac2-edc6-4b99-de15-e698c6cb9274"
      },
      "source": [
        "team_rows = [[r[:5] for r in tables[35][1::2]] for tables in team_tables]\r\n",
        "team_rows[2][:9]"
      ],
      "execution_count": 152,
      "outputs": [
        {
          "output_type": "execute_result",
          "data": {
            "text/plain": [
              "[['2/27/2019', 'Lourdes (Ohio)', 'N', '3-4', 'L'],\n",
              " ['2/27/2019', 'Lourdes (Ohio)', 'N', '4-8', 'L'],\n",
              " ['3/2/2019', 'Cornerstone (Mich.)', 'N', '3-4', 'L'],\n",
              " ['3/2/2019', 'Trinity Baptist', 'N', '5-1', 'W'],\n",
              " ['3/4/2019', 'Michigan-Dearborn', 'N', '13-1', 'W'],\n",
              " ['3/5/2019', 'Rochester (Mich.)', 'N', '24-4', 'W'],\n",
              " ['3/6/2019', 'Robert Morris (Ill.)', 'N', '10-9', 'W'],\n",
              " ['3/8/2019', 'Bethel (Ind.) *', 'N', '13-6', 'W'],\n",
              " ['3/9/2019', 'Bethel (Ind.) *', 'N', '14-2', 'W']]"
            ]
          },
          "metadata": {
            "tags": []
          },
          "execution_count": 152
        }
      ]
    },
    {
      "cell_type": "code",
      "metadata": {
        "colab": {
          "base_uri": "https://localhost:8080/",
          "height": 204
        },
        "id": "QG8CHwFXcT3-",
        "outputId": "b9904309-3b08-4e82-ce7b-fcf06604674f"
      },
      "source": [
        "dfc = [pd.DataFrame(columns = headers[i], data = team_rows[i]) for i in range(len(headers))]\r\n",
        "dfc[2][:5]"
      ],
      "execution_count": 153,
      "outputs": [
        {
          "output_type": "execute_result",
          "data": {
            "text/html": [
              "<div>\n",
              "<style scoped>\n",
              "    .dataframe tbody tr th:only-of-type {\n",
              "        vertical-align: middle;\n",
              "    }\n",
              "\n",
              "    .dataframe tbody tr th {\n",
              "        vertical-align: top;\n",
              "    }\n",
              "\n",
              "    .dataframe thead th {\n",
              "        text-align: right;\n",
              "    }\n",
              "</style>\n",
              "<table border=\"1\" class=\"dataframe\">\n",
              "  <thead>\n",
              "    <tr style=\"text-align: right;\">\n",
              "      <th></th>\n",
              "      <th>Date</th>\n",
              "      <th>Opponent</th>\n",
              "      <th>Location</th>\n",
              "      <th>Score</th>\n",
              "      <th>Outcome</th>\n",
              "    </tr>\n",
              "  </thead>\n",
              "  <tbody>\n",
              "    <tr>\n",
              "      <th>0</th>\n",
              "      <td>2/27/2019</td>\n",
              "      <td>Lourdes (Ohio)</td>\n",
              "      <td>N</td>\n",
              "      <td>3-4</td>\n",
              "      <td>L</td>\n",
              "    </tr>\n",
              "    <tr>\n",
              "      <th>1</th>\n",
              "      <td>2/27/2019</td>\n",
              "      <td>Lourdes (Ohio)</td>\n",
              "      <td>N</td>\n",
              "      <td>4-8</td>\n",
              "      <td>L</td>\n",
              "    </tr>\n",
              "    <tr>\n",
              "      <th>2</th>\n",
              "      <td>3/2/2019</td>\n",
              "      <td>Cornerstone (Mich.)</td>\n",
              "      <td>N</td>\n",
              "      <td>3-4</td>\n",
              "      <td>L</td>\n",
              "    </tr>\n",
              "    <tr>\n",
              "      <th>3</th>\n",
              "      <td>3/2/2019</td>\n",
              "      <td>Trinity Baptist</td>\n",
              "      <td>N</td>\n",
              "      <td>5-1</td>\n",
              "      <td>W</td>\n",
              "    </tr>\n",
              "    <tr>\n",
              "      <th>4</th>\n",
              "      <td>3/4/2019</td>\n",
              "      <td>Michigan-Dearborn</td>\n",
              "      <td>N</td>\n",
              "      <td>13-1</td>\n",
              "      <td>W</td>\n",
              "    </tr>\n",
              "  </tbody>\n",
              "</table>\n",
              "</div>"
            ],
            "text/plain": [
              "        Date             Opponent Location Score Outcome\n",
              "0  2/27/2019       Lourdes (Ohio)        N   3-4       L\n",
              "1  2/27/2019       Lourdes (Ohio)        N   4-8       L\n",
              "2   3/2/2019  Cornerstone (Mich.)        N   3-4       L\n",
              "3   3/2/2019      Trinity Baptist        N   5-1       W\n",
              "4   3/4/2019    Michigan-Dearborn        N  13-1       W"
            ]
          },
          "metadata": {
            "tags": []
          },
          "execution_count": 153
        }
      ]
    },
    {
      "cell_type": "markdown",
      "metadata": {
        "id": "jBZhAfoRl9YW"
      },
      "source": [
        "Get only the conference games"
      ]
    },
    {
      "cell_type": "code",
      "metadata": {
        "colab": {
          "base_uri": "https://localhost:8080/",
          "height": 204
        },
        "id": "jtDpOt_4YPFk",
        "outputId": "0b387e73-ae7b-4e9f-bda8-349387116602"
      },
      "source": [
        "conf_df = [df[df.Opponent.str.contains(\"*\", regex = False)] for df in dfc]\r\n",
        "conf_df[2][:5]"
      ],
      "execution_count": 159,
      "outputs": [
        {
          "output_type": "execute_result",
          "data": {
            "text/html": [
              "<div>\n",
              "<style scoped>\n",
              "    .dataframe tbody tr th:only-of-type {\n",
              "        vertical-align: middle;\n",
              "    }\n",
              "\n",
              "    .dataframe tbody tr th {\n",
              "        vertical-align: top;\n",
              "    }\n",
              "\n",
              "    .dataframe thead th {\n",
              "        text-align: right;\n",
              "    }\n",
              "</style>\n",
              "<table border=\"1\" class=\"dataframe\">\n",
              "  <thead>\n",
              "    <tr style=\"text-align: right;\">\n",
              "      <th></th>\n",
              "      <th>Date</th>\n",
              "      <th>Opponent</th>\n",
              "      <th>Location</th>\n",
              "      <th>Score</th>\n",
              "      <th>Outcome</th>\n",
              "    </tr>\n",
              "  </thead>\n",
              "  <tbody>\n",
              "    <tr>\n",
              "      <th>7</th>\n",
              "      <td>3/8/2019</td>\n",
              "      <td>Bethel (Ind.) *</td>\n",
              "      <td>N</td>\n",
              "      <td>13-6</td>\n",
              "      <td>W</td>\n",
              "    </tr>\n",
              "    <tr>\n",
              "      <th>8</th>\n",
              "      <td>3/9/2019</td>\n",
              "      <td>Bethel (Ind.) *</td>\n",
              "      <td>N</td>\n",
              "      <td>14-2</td>\n",
              "      <td>W</td>\n",
              "    </tr>\n",
              "    <tr>\n",
              "      <th>9</th>\n",
              "      <td>3/9/2019</td>\n",
              "      <td>Bethel (Ind.) *</td>\n",
              "      <td>N</td>\n",
              "      <td>3-1</td>\n",
              "      <td>W</td>\n",
              "    </tr>\n",
              "    <tr>\n",
              "      <th>10</th>\n",
              "      <td>3/14/2019</td>\n",
              "      <td>Taylor (Ind.) *</td>\n",
              "      <td>A</td>\n",
              "      <td>5-15</td>\n",
              "      <td>L</td>\n",
              "    </tr>\n",
              "    <tr>\n",
              "      <th>11</th>\n",
              "      <td>3/16/2019</td>\n",
              "      <td>Taylor (Ind.) *</td>\n",
              "      <td>A</td>\n",
              "      <td>2-10</td>\n",
              "      <td>L</td>\n",
              "    </tr>\n",
              "  </tbody>\n",
              "</table>\n",
              "</div>"
            ],
            "text/plain": [
              "         Date         Opponent Location Score Outcome\n",
              "7    3/8/2019  Bethel (Ind.) *        N  13-6       W\n",
              "8    3/9/2019  Bethel (Ind.) *        N  14-2       W\n",
              "9    3/9/2019  Bethel (Ind.) *        N   3-1       W\n",
              "10  3/14/2019  Taylor (Ind.) *        A  5-15       L\n",
              "11  3/16/2019  Taylor (Ind.) *        A  2-10       L"
            ]
          },
          "metadata": {
            "tags": []
          },
          "execution_count": 159
        }
      ]
    },
    {
      "cell_type": "markdown",
      "metadata": {
        "id": "1Sq2BMS5YS5m"
      },
      "source": [
        "In the code below, `.copy()` makes a copy of each dataframe, which prevents warning messages.  `.str.replace(r\"\\(.*\\)\",\"\")` deletes any parententheses along with anything inside them.  Then `st.split()` is used to split the Scores column into two columns.\r\n",
        "\r\n",
        "After that we use `.assign()` to assign the correct data types."
      ]
    },
    {
      "cell_type": "code",
      "metadata": {
        "id": "R57sO7qIZ0S1",
        "colab": {
          "base_uri": "https://localhost:8080/",
          "height": 204
        },
        "outputId": "177769aa-4632-4021-bc76-5377fbd11e5a"
      },
      "source": [
        "tidy_conf = conf_df.copy()\r\n",
        "for i, df in enumerate(conf_df):\r\n",
        "  split_scores = df['Score'].str.replace(r\"\\(.*\\)\",\"\").str.split('-', expand = True)\r\n",
        "  tidy_conf[i] = df.assign(Score = pd.to_numeric(split_scores[0]),\r\n",
        "                           Other_score = pd.to_numeric(split_scores[1]),\r\n",
        "                           Opponent = df.Opponent.str.replace(' \\*', '', regex= True),\r\n",
        "                           Date = pd.to_datetime(df.Date)\r\n",
        "                           )\r\n",
        "tidy_conf[2][:5]"
      ],
      "execution_count": 160,
      "outputs": [
        {
          "output_type": "execute_result",
          "data": {
            "text/html": [
              "<div>\n",
              "<style scoped>\n",
              "    .dataframe tbody tr th:only-of-type {\n",
              "        vertical-align: middle;\n",
              "    }\n",
              "\n",
              "    .dataframe tbody tr th {\n",
              "        vertical-align: top;\n",
              "    }\n",
              "\n",
              "    .dataframe thead th {\n",
              "        text-align: right;\n",
              "    }\n",
              "</style>\n",
              "<table border=\"1\" class=\"dataframe\">\n",
              "  <thead>\n",
              "    <tr style=\"text-align: right;\">\n",
              "      <th></th>\n",
              "      <th>Date</th>\n",
              "      <th>Opponent</th>\n",
              "      <th>Location</th>\n",
              "      <th>Score</th>\n",
              "      <th>Outcome</th>\n",
              "      <th>Other_score</th>\n",
              "    </tr>\n",
              "  </thead>\n",
              "  <tbody>\n",
              "    <tr>\n",
              "      <th>7</th>\n",
              "      <td>2019-03-08</td>\n",
              "      <td>Bethel (Ind.)</td>\n",
              "      <td>N</td>\n",
              "      <td>13</td>\n",
              "      <td>W</td>\n",
              "      <td>6</td>\n",
              "    </tr>\n",
              "    <tr>\n",
              "      <th>8</th>\n",
              "      <td>2019-03-09</td>\n",
              "      <td>Bethel (Ind.)</td>\n",
              "      <td>N</td>\n",
              "      <td>14</td>\n",
              "      <td>W</td>\n",
              "      <td>2</td>\n",
              "    </tr>\n",
              "    <tr>\n",
              "      <th>9</th>\n",
              "      <td>2019-03-09</td>\n",
              "      <td>Bethel (Ind.)</td>\n",
              "      <td>N</td>\n",
              "      <td>3</td>\n",
              "      <td>W</td>\n",
              "      <td>1</td>\n",
              "    </tr>\n",
              "    <tr>\n",
              "      <th>10</th>\n",
              "      <td>2019-03-14</td>\n",
              "      <td>Taylor (Ind.)</td>\n",
              "      <td>A</td>\n",
              "      <td>5</td>\n",
              "      <td>L</td>\n",
              "      <td>15</td>\n",
              "    </tr>\n",
              "    <tr>\n",
              "      <th>11</th>\n",
              "      <td>2019-03-16</td>\n",
              "      <td>Taylor (Ind.)</td>\n",
              "      <td>A</td>\n",
              "      <td>2</td>\n",
              "      <td>L</td>\n",
              "      <td>10</td>\n",
              "    </tr>\n",
              "  </tbody>\n",
              "</table>\n",
              "</div>"
            ],
            "text/plain": [
              "         Date       Opponent Location  Score Outcome  Other_score\n",
              "7  2019-03-08  Bethel (Ind.)        N     13       W            6\n",
              "8  2019-03-09  Bethel (Ind.)        N     14       W            2\n",
              "9  2019-03-09  Bethel (Ind.)        N      3       W            1\n",
              "10 2019-03-14  Taylor (Ind.)        A      5       L           15\n",
              "11 2019-03-16  Taylor (Ind.)        A      2       L           10"
            ]
          },
          "metadata": {
            "tags": []
          },
          "execution_count": 160
        }
      ]
    },
    {
      "cell_type": "code",
      "metadata": {
        "id": "2sL2chmiyYnb"
      },
      "source": [
        "conf_df_h = [df[df.Location.str.contains(\"H\", regex = False)] for df in tidy_conf]\r\n",
        "conf_df_a = [df[df.Location.str.contains(\"A\", regex = False)] for df in tidy_conf]"
      ],
      "execution_count": 157,
      "outputs": []
    },
    {
      "cell_type": "code",
      "metadata": {
        "id": "cCsLtPA7aBih",
        "colab": {
          "base_uri": "https://localhost:8080/"
        },
        "outputId": "3954b98c-0c64-49fc-98d9-d1d80af30a0a"
      },
      "source": [
        "home_scores = [df['Score'].tolist() for df in conf_df_h]\r\n",
        "away_scores = [df['Score'].tolist() for df in conf_df_a]\r\n",
        "home_scores[2]"
      ],
      "execution_count": 158,
      "outputs": [
        {
          "output_type": "execute_result",
          "data": {
            "text/plain": [
              "[12, 2, 10, 16, 3, 1, 0, 4, 3, 5, 2, 2]"
            ]
          },
          "metadata": {
            "tags": []
          },
          "execution_count": 158
        }
      ]
    },
    {
      "cell_type": "code",
      "metadata": {
        "id": "KkjZOfD00hiM"
      },
      "source": [
        ""
      ],
      "execution_count": null,
      "outputs": []
    }
  ]
}