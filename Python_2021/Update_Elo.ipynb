{
 "cells": [
  {
   "cell_type": "markdown",
   "metadata": {},
   "source": [
    "### ELO"
   ]
  },
  {
   "cell_type": "markdown",
   "metadata": {},
   "source": [
    "The purpose of this notebook is to take all of the games played by each team and formulate their rankings."
   ]
  },
  {
   "cell_type": "markdown",
   "metadata": {},
   "source": [
    "Before we begin, import the necessary statements and create our list of teams."
   ]
  },
  {
   "cell_type": "code",
   "execution_count": 1,
   "metadata": {},
   "outputs": [],
   "source": [
    "import pandas as pd\n",
    "import pickle"
   ]
  },
  {
   "cell_type": "code",
   "execution_count": 2,
   "metadata": {},
   "outputs": [],
   "source": [
    "teams = [\"Bethel\", \"Goshen\", \"Grace\", \"HU\", \"IWU\", \"Marian\", \"MVNU\", \"SAU\", \"SFU\", \"Taylor\"]"
   ]
  },
  {
   "cell_type": "markdown",
   "metadata": {},
   "source": [
    "We load the list of conference games played by each team in 2019 originally obtained in the [Park_Factor](Park_Factor.ipynb) notebook."
   ]
  },
  {
   "cell_type": "code",
   "execution_count": 3,
   "metadata": {},
   "outputs": [],
   "source": [
    "with open('2019Schedule.pkl', 'rb') as f:\n",
    "    tidy_conf = pickle.load(f)"
   ]
  },
  {
   "cell_type": "markdown",
   "metadata": {},
   "source": [
    "Since we will be combining the data from all teams we add a column for the team name and move it to the column directly following the date."
   ]
  },
  {
   "cell_type": "code",
   "execution_count": 4,
   "metadata": {},
   "outputs": [],
   "source": [
    "for i in range(len(teams)): #add column for team\n",
    "    tidy_conf[i][\"Team\"] = teams[i]\n",
    "    team = tidy_conf[i].pop(\"Team\")\n",
    "    tidy_conf[i].insert(1, team.name, team) #move team column to second"
   ]
  },
  {
   "cell_type": "code",
   "execution_count": 5,
   "metadata": {},
   "outputs": [
    {
     "data": {
      "text/html": [
       "<div>\n",
       "<style scoped>\n",
       "    .dataframe tbody tr th:only-of-type {\n",
       "        vertical-align: middle;\n",
       "    }\n",
       "\n",
       "    .dataframe tbody tr th {\n",
       "        vertical-align: top;\n",
       "    }\n",
       "\n",
       "    .dataframe thead th {\n",
       "        text-align: right;\n",
       "    }\n",
       "</style>\n",
       "<table border=\"1\" class=\"dataframe\">\n",
       "  <thead>\n",
       "    <tr style=\"text-align: right;\">\n",
       "      <th></th>\n",
       "      <th>Date</th>\n",
       "      <th>Team</th>\n",
       "      <th>Opponent</th>\n",
       "      <th>Location</th>\n",
       "      <th>Score</th>\n",
       "      <th>Outcome</th>\n",
       "      <th>Opp_score</th>\n",
       "    </tr>\n",
       "  </thead>\n",
       "  <tbody>\n",
       "    <tr>\n",
       "      <th>7</th>\n",
       "      <td>2019-03-08</td>\n",
       "      <td>Grace</td>\n",
       "      <td>Bethel (Ind.)</td>\n",
       "      <td>N</td>\n",
       "      <td>13</td>\n",
       "      <td>W</td>\n",
       "      <td>6</td>\n",
       "    </tr>\n",
       "    <tr>\n",
       "      <th>8</th>\n",
       "      <td>2019-03-09</td>\n",
       "      <td>Grace</td>\n",
       "      <td>Bethel (Ind.)</td>\n",
       "      <td>N</td>\n",
       "      <td>14</td>\n",
       "      <td>W</td>\n",
       "      <td>2</td>\n",
       "    </tr>\n",
       "    <tr>\n",
       "      <th>9</th>\n",
       "      <td>2019-03-09</td>\n",
       "      <td>Grace</td>\n",
       "      <td>Bethel (Ind.)</td>\n",
       "      <td>N</td>\n",
       "      <td>3</td>\n",
       "      <td>W</td>\n",
       "      <td>1</td>\n",
       "    </tr>\n",
       "    <tr>\n",
       "      <th>10</th>\n",
       "      <td>2019-03-14</td>\n",
       "      <td>Grace</td>\n",
       "      <td>Taylor (Ind.)</td>\n",
       "      <td>A</td>\n",
       "      <td>5</td>\n",
       "      <td>L</td>\n",
       "      <td>15</td>\n",
       "    </tr>\n",
       "    <tr>\n",
       "      <th>11</th>\n",
       "      <td>2019-03-16</td>\n",
       "      <td>Grace</td>\n",
       "      <td>Taylor (Ind.)</td>\n",
       "      <td>A</td>\n",
       "      <td>2</td>\n",
       "      <td>L</td>\n",
       "      <td>10</td>\n",
       "    </tr>\n",
       "  </tbody>\n",
       "</table>\n",
       "</div>"
      ],
      "text/plain": [
       "         Date   Team       Opponent Location  Score Outcome  Opp_score\n",
       "7  2019-03-08  Grace  Bethel (Ind.)        N     13       W          6\n",
       "8  2019-03-09  Grace  Bethel (Ind.)        N     14       W          2\n",
       "9  2019-03-09  Grace  Bethel (Ind.)        N      3       W          1\n",
       "10 2019-03-14  Grace  Taylor (Ind.)        A      5       L         15\n",
       "11 2019-03-16  Grace  Taylor (Ind.)        A      2       L         10"
      ]
     },
     "execution_count": 5,
     "metadata": {},
     "output_type": "execute_result"
    }
   ],
   "source": [
    "tidy_conf[2][:5]"
   ]
  },
  {
   "cell_type": "markdown",
   "metadata": {},
   "source": [
    "For notational purposes, we swap out the team names used by DakStats for the corresponding names in our `teams` list."
   ]
  },
  {
   "cell_type": "code",
   "execution_count": 6,
   "metadata": {
    "scrolled": true
   },
   "outputs": [
    {
     "data": {
      "text/html": [
       "<div>\n",
       "<style scoped>\n",
       "    .dataframe tbody tr th:only-of-type {\n",
       "        vertical-align: middle;\n",
       "    }\n",
       "\n",
       "    .dataframe tbody tr th {\n",
       "        vertical-align: top;\n",
       "    }\n",
       "\n",
       "    .dataframe thead th {\n",
       "        text-align: right;\n",
       "    }\n",
       "</style>\n",
       "<table border=\"1\" class=\"dataframe\">\n",
       "  <thead>\n",
       "    <tr style=\"text-align: right;\">\n",
       "      <th></th>\n",
       "      <th>Date</th>\n",
       "      <th>Team</th>\n",
       "      <th>Opponent</th>\n",
       "      <th>Location</th>\n",
       "      <th>Score</th>\n",
       "      <th>Outcome</th>\n",
       "      <th>Opp_score</th>\n",
       "    </tr>\n",
       "  </thead>\n",
       "  <tbody>\n",
       "    <tr>\n",
       "      <th>7</th>\n",
       "      <td>2019-03-08</td>\n",
       "      <td>Grace</td>\n",
       "      <td>Bethel</td>\n",
       "      <td>N</td>\n",
       "      <td>13</td>\n",
       "      <td>W</td>\n",
       "      <td>6</td>\n",
       "    </tr>\n",
       "    <tr>\n",
       "      <th>10</th>\n",
       "      <td>2019-03-14</td>\n",
       "      <td>Grace</td>\n",
       "      <td>Taylor</td>\n",
       "      <td>A</td>\n",
       "      <td>5</td>\n",
       "      <td>L</td>\n",
       "      <td>15</td>\n",
       "    </tr>\n",
       "    <tr>\n",
       "      <th>13</th>\n",
       "      <td>2019-03-23</td>\n",
       "      <td>Grace</td>\n",
       "      <td>SAU</td>\n",
       "      <td>A</td>\n",
       "      <td>2</td>\n",
       "      <td>L</td>\n",
       "      <td>4</td>\n",
       "    </tr>\n",
       "    <tr>\n",
       "      <th>18</th>\n",
       "      <td>2019-03-28</td>\n",
       "      <td>Grace</td>\n",
       "      <td>HU</td>\n",
       "      <td>H</td>\n",
       "      <td>12</td>\n",
       "      <td>W</td>\n",
       "      <td>2</td>\n",
       "    </tr>\n",
       "    <tr>\n",
       "      <th>23</th>\n",
       "      <td>2019-04-05</td>\n",
       "      <td>Grace</td>\n",
       "      <td>SFU</td>\n",
       "      <td>A</td>\n",
       "      <td>17</td>\n",
       "      <td>W</td>\n",
       "      <td>13</td>\n",
       "    </tr>\n",
       "    <tr>\n",
       "      <th>26</th>\n",
       "      <td>2019-04-09</td>\n",
       "      <td>Grace</td>\n",
       "      <td>IWU</td>\n",
       "      <td>H</td>\n",
       "      <td>16</td>\n",
       "      <td>L</td>\n",
       "      <td>20</td>\n",
       "    </tr>\n",
       "    <tr>\n",
       "      <th>30</th>\n",
       "      <td>2019-04-13</td>\n",
       "      <td>Grace</td>\n",
       "      <td>MVNU</td>\n",
       "      <td>A</td>\n",
       "      <td>5</td>\n",
       "      <td>L</td>\n",
       "      <td>10</td>\n",
       "    </tr>\n",
       "    <tr>\n",
       "      <th>33</th>\n",
       "      <td>2019-04-22</td>\n",
       "      <td>Grace</td>\n",
       "      <td>Marian</td>\n",
       "      <td>H</td>\n",
       "      <td>0</td>\n",
       "      <td>L</td>\n",
       "      <td>9</td>\n",
       "    </tr>\n",
       "    <tr>\n",
       "      <th>36</th>\n",
       "      <td>2019-04-26</td>\n",
       "      <td>Grace</td>\n",
       "      <td>Goshen</td>\n",
       "      <td>H</td>\n",
       "      <td>5</td>\n",
       "      <td>W</td>\n",
       "      <td>1</td>\n",
       "    </tr>\n",
       "  </tbody>\n",
       "</table>\n",
       "</div>"
      ],
      "text/plain": [
       "         Date   Team Opponent Location  Score Outcome  Opp_score\n",
       "7  2019-03-08  Grace   Bethel        N     13       W          6\n",
       "10 2019-03-14  Grace   Taylor        A      5       L         15\n",
       "13 2019-03-23  Grace      SAU        A      2       L          4\n",
       "18 2019-03-28  Grace       HU        H     12       W          2\n",
       "23 2019-04-05  Grace      SFU        A     17       W         13\n",
       "26 2019-04-09  Grace      IWU        H     16       L         20\n",
       "30 2019-04-13  Grace     MVNU        A      5       L         10\n",
       "33 2019-04-22  Grace   Marian        H      0       L          9\n",
       "36 2019-04-26  Grace   Goshen        H      5       W          1"
      ]
     },
     "execution_count": 6,
     "metadata": {},
     "output_type": "execute_result"
    }
   ],
   "source": [
    "for df in tidy_conf:    \n",
    "    df.Opponent.replace({\n",
    "            'Bethel (Ind.)' : 'Bethel',\n",
    "            'Taylor (Ind.)' : 'Taylor',\n",
    "            'Spring Arbor (Mich.)' : 'SAU',\n",
    "            'Huntington (Ind.)' : 'HU',\n",
    "            'St. Francis (Ind.)' : 'SFU',\n",
    "            'Indiana Wesleyan' : 'IWU',\n",
    "            'Mount Vernon Nazarene (Ohio)' : 'MVNU',\n",
    "            'Marian (Ind.)' : 'Marian',\n",
    "            'Goshen (Ind.)' : 'Goshen',\n",
    "            'Grace (Ind.)' : 'Grace'\n",
    "        }, \n",
    "    inplace=True)\n",
    "tidy_conf[2][::3]"
   ]
  },
  {
   "cell_type": "markdown",
   "metadata": {},
   "source": [
    "To isolate each game, we filter each team's table to only show their wins. Since each game has only one winner, when we combine all of the teams' tables, each game will only show up once."
   ]
  },
  {
   "cell_type": "code",
   "execution_count": 7,
   "metadata": {},
   "outputs": [
    {
     "data": {
      "text/html": [
       "<div>\n",
       "<style scoped>\n",
       "    .dataframe tbody tr th:only-of-type {\n",
       "        vertical-align: middle;\n",
       "    }\n",
       "\n",
       "    .dataframe tbody tr th {\n",
       "        vertical-align: top;\n",
       "    }\n",
       "\n",
       "    .dataframe thead th {\n",
       "        text-align: right;\n",
       "    }\n",
       "</style>\n",
       "<table border=\"1\" class=\"dataframe\">\n",
       "  <thead>\n",
       "    <tr style=\"text-align: right;\">\n",
       "      <th></th>\n",
       "      <th>Date</th>\n",
       "      <th>Team</th>\n",
       "      <th>Opponent</th>\n",
       "      <th>Location</th>\n",
       "      <th>Score</th>\n",
       "      <th>Outcome</th>\n",
       "      <th>Opp_score</th>\n",
       "    </tr>\n",
       "  </thead>\n",
       "  <tbody>\n",
       "    <tr>\n",
       "      <th>7</th>\n",
       "      <td>2019-03-08</td>\n",
       "      <td>Grace</td>\n",
       "      <td>Bethel</td>\n",
       "      <td>N</td>\n",
       "      <td>13</td>\n",
       "      <td>W</td>\n",
       "      <td>6</td>\n",
       "    </tr>\n",
       "    <tr>\n",
       "      <th>8</th>\n",
       "      <td>2019-03-09</td>\n",
       "      <td>Grace</td>\n",
       "      <td>Bethel</td>\n",
       "      <td>N</td>\n",
       "      <td>14</td>\n",
       "      <td>W</td>\n",
       "      <td>2</td>\n",
       "    </tr>\n",
       "    <tr>\n",
       "      <th>9</th>\n",
       "      <td>2019-03-09</td>\n",
       "      <td>Grace</td>\n",
       "      <td>Bethel</td>\n",
       "      <td>N</td>\n",
       "      <td>3</td>\n",
       "      <td>W</td>\n",
       "      <td>1</td>\n",
       "    </tr>\n",
       "    <tr>\n",
       "      <th>18</th>\n",
       "      <td>2019-03-28</td>\n",
       "      <td>Grace</td>\n",
       "      <td>HU</td>\n",
       "      <td>H</td>\n",
       "      <td>12</td>\n",
       "      <td>W</td>\n",
       "      <td>2</td>\n",
       "    </tr>\n",
       "    <tr>\n",
       "      <th>20</th>\n",
       "      <td>2019-04-01</td>\n",
       "      <td>Grace</td>\n",
       "      <td>HU</td>\n",
       "      <td>H</td>\n",
       "      <td>10</td>\n",
       "      <td>W</td>\n",
       "      <td>9</td>\n",
       "    </tr>\n",
       "  </tbody>\n",
       "</table>\n",
       "</div>"
      ],
      "text/plain": [
       "         Date   Team Opponent Location  Score Outcome  Opp_score\n",
       "7  2019-03-08  Grace   Bethel        N     13       W          6\n",
       "8  2019-03-09  Grace   Bethel        N     14       W          2\n",
       "9  2019-03-09  Grace   Bethel        N      3       W          1\n",
       "18 2019-03-28  Grace       HU        H     12       W          2\n",
       "20 2019-04-01  Grace       HU        H     10       W          9"
      ]
     },
     "execution_count": 7,
     "metadata": {},
     "output_type": "execute_result"
    }
   ],
   "source": [
    "conf_w = [df[df.Outcome.str.contains(\"W\", regex = False)] for df in tidy_conf]\n",
    "conf_w[2][:5]"
   ]
  },
  {
   "cell_type": "markdown",
   "metadata": {},
   "source": [
    "We combine all of the tables and rename a few of the columns to better comprehend the data."
   ]
  },
  {
   "cell_type": "code",
   "execution_count": null,
   "metadata": {},
   "outputs": [],
   "source": [
    "all_games = pd.concat(conf_w)\n",
    "all_games = all_games.sort_values('Date')\n",
    "all_games.rename(columns={\n",
    "    'Team': 'Win_Tm',\n",
    "    'Opponent': 'Lose_Tm',\n",
    "    'Score': 'W_Score',\n",
    "    'Opp_score': 'L_Score'}, \n",
    "    inplace=True)\n",
    "\n",
    "del all_games[\"Outcome\"]\n",
    "all_games[::30]"
   ]
  },
  {
   "cell_type": "markdown",
   "metadata": {},
   "source": [
    "Now that we have all our games, we create our function for updating each team's ranking based on the game results. This formula was adapted from http://andr3w321.com/elo-ratings-part-1/. We inculde an additional modification for margin of victory, multiplying the rating increase or decrease by a constant increasing from `1` by `0.05` for each additional run over the opponent. We also incorporate homefield advantage by giving the home teams a boost of `37.85` to their rankings. Later we will show how we arrived at this bonus."
   ]
  },
  {
   "cell_type": "code",
   "execution_count": 9,
   "metadata": {},
   "outputs": [],
   "source": [
    "def gamePlayed(winTeam, loseTeam, marginOfVictory=1, winTeamLocation=\"N\", k=20, tie=False): \n",
    "    if winTeamLocation == \"H\":\n",
    "        rW = eloDict[winTeam] + 37.85 # get ratings\n",
    "        rL = eloDict[loseTeam]\n",
    "    elif winTeamLocation == \"A\":\n",
    "        rW = eloDict[winTeam]\n",
    "        rL = eloDict[loseTeam] + 37.85\n",
    "    elif winTeamLocation == \"N\":\n",
    "        rW = eloDict[winTeam]\n",
    "        rL = eloDict[loseTeam]\n",
    "    cW = 10 ** (rW/400)\n",
    "    cL = 10 ** (rL/400)\n",
    "    exp_winTeam = cW / float(cW + cL)\n",
    "    exp_loseTeam = cL / float(cW + cL)\n",
    "    if tie == True:\n",
    "        s1 = 0.5\n",
    "        s2 = 0.5\n",
    "    else:\n",
    "        s1 = 1\n",
    "        s2 = 0\n",
    "    if winTeamLocation == \"H\":\n",
    "        new_rW = rW + k * (0.95 + 0.05*marginOfVictory) * (s1 - exp_winTeam) - 37.85\n",
    "        new_rL = rL + k * (0.95 + 0.05*marginOfVictory) * (s2 - exp_loseTeam)\n",
    "    elif winTeamLocation == \"A\":\n",
    "        new_rW = rW + k * (0.95 + 0.05*marginOfVictory) * (s1 - exp_winTeam)\n",
    "        new_rL = rL + k * (0.95 + 0.05*marginOfVictory) * (s2 - exp_loseTeam) - 37.85\n",
    "    elif winTeamLocation == \"N\":\n",
    "        new_rW = rW + k * (0.95 + 0.05*marginOfVictory) * (s1 - exp_winTeam)\n",
    "        new_rL = rL + k * (0.95 + 0.05*marginOfVictory) * (s2 - exp_loseTeam)\n",
    "    eloDict[winTeam] = new_rW\n",
    "    eloDict[loseTeam] = new_rL"
   ]
  },
  {
   "cell_type": "markdown",
   "metadata": {},
   "source": [
    "Now we can create a dictionary and fill it with each team's name and a base rating of `1500`."
   ]
  },
  {
   "cell_type": "code",
   "execution_count": 10,
   "metadata": {},
   "outputs": [],
   "source": [
    "eloDict = {}\n",
    "for team in teams:\n",
    "    eloDict[team] = 1500"
   ]
  },
  {
   "cell_type": "markdown",
   "metadata": {},
   "source": [
    "Iterating over each row in our table containing all of the conference games in 2019, we apply the `gamePlayed` function to update the rankings after each team's games. We then print out our dictionary of ratings at the conclusion of the season."
   ]
  },
  {
   "cell_type": "code",
   "execution_count": 11,
   "metadata": {},
   "outputs": [],
   "source": [
    "for game in all_games.iterrows():\n",
    "    gamePlayed(game[1].Win_Tm, game[1].Lose_Tm, game[1].W_Score - game[1].L_Score, game[1].Location)"
   ]
  },
  {
   "cell_type": "code",
   "execution_count": 12,
   "metadata": {},
   "outputs": [
    {
     "data": {
      "text/plain": [
       "{'Bethel': 1395.7822717560884,\n",
       " 'Goshen': 1487.2907354386887,\n",
       " 'Grace': 1420.7617309112625,\n",
       " 'HU': 1598.2393021698197,\n",
       " 'IWU': 1550.4590681682805,\n",
       " 'Marian': 1550.2816649125655,\n",
       " 'MVNU': 1600.2591623902965,\n",
       " 'SAU': 1483.099880201794,\n",
       " 'SFU': 1390.7852740777919,\n",
       " 'Taylor': 1523.0409099734127}"
      ]
     },
     "execution_count": 12,
     "metadata": {},
     "output_type": "execute_result"
    }
   ],
   "source": [
    "eloDict"
   ]
  },
  {
   "cell_type": "markdown",
   "metadata": {},
   "source": [
    "Since these games were played two years ago, due to the nature of roster turnover in college baseball we decided to regress our Elo ratings back to the orignal baseline. To do this, we regress one third of the way back to the baseline of 1500. We compute this regression twice as two years have passed since the last games."
   ]
  },
  {
   "cell_type": "code",
   "execution_count": 13,
   "metadata": {},
   "outputs": [],
   "source": [
    "for i in range(2):\n",
    "    for team in teams:\n",
    "        eloDict[team] = eloDict[team] - ((eloDict[team] - 1500) * (1/3))"
   ]
  },
  {
   "cell_type": "markdown",
   "metadata": {},
   "source": [
    "Now we print out our regressed Elo ratings. Notice they are much closer to the baseline of 1500 than at the conclusion of the 2019 season. "
   ]
  },
  {
   "cell_type": "code",
   "execution_count": 14,
   "metadata": {},
   "outputs": [
    {
     "data": {
      "text/plain": [
       "{'Bethel': 1453.6810096693728,\n",
       " 'Goshen': 1494.3514379727505,\n",
       " 'Grace': 1464.7829915161167,\n",
       " 'HU': 1543.6619120754754,\n",
       " 'IWU': 1522.4262525192357,\n",
       " 'Marian': 1522.347406627807,\n",
       " 'MVNU': 1544.5596277290208,\n",
       " 'SAU': 1492.4888356452418,\n",
       " 'SFU': 1451.4601218123519,\n",
       " 'Taylor': 1510.2404044326279}"
      ]
     },
     "execution_count": 14,
     "metadata": {},
     "output_type": "execute_result"
    }
   ],
   "source": [
    "eloDict"
   ]
  },
  {
   "cell_type": "markdown",
   "metadata": {},
   "source": [
    "In order to make predictions about games, we develop a function to return a probability of victory. The function is constructed so that we can compare two actual teams, two independent ratings, or one of each. We incorporate homefield advantage to this function as well. Similar to the `gamePlayed` function, we adapted our `expectGame` function from the one provided at http://andr3w321.com/elo-ratings-part-1/."
   ]
  },
  {
   "cell_type": "code",
   "execution_count": 15,
   "metadata": {},
   "outputs": [],
   "source": [
    "def expectGame(winner, loser, winLocation=\"N\"):\n",
    "    if type(winner) == str:\n",
    "        if winLocation == \"N\" or winLocation == \"A\": r1 = eloDict[winner]\n",
    "        elif winLocation == \"H\": r1 = eloDict[winner] + 37.85\n",
    "    else:\n",
    "        if winLocation == \"N\" or winLocation == \"A\": r1 = winner\n",
    "        elif winLocation == \"H\": r1 = winner + 37.85\n",
    "    if type(loser) == str:\n",
    "        if winLocation == \"N\" or winLocation == \"H\": r2 = eloDict[loser]\n",
    "        elif winLocation == \"A\": r2 = eloDict[loser] + 37.85\n",
    "    else:\n",
    "        if winLocation == \"N\" or winLocation == \"H\": r2 = loser\n",
    "        elif winLocation == \"A\": r2 = loser + 37.85\n",
    "    d = r1 - r2\n",
    "    p = 1 - 1 / (1 + 10 ** (d / 400.0))\n",
    "    return p"
   ]
  },
  {
   "cell_type": "markdown",
   "metadata": {},
   "source": [
    "Here is an example of the function in use."
   ]
  },
  {
   "cell_type": "code",
   "execution_count": 16,
   "metadata": {},
   "outputs": [
    {
     "data": {
      "text/plain": [
       "0.5037891068465891"
      ]
     },
     "execution_count": 16,
     "metadata": {},
     "output_type": "execute_result"
    }
   ],
   "source": [
    "expectGame(\"Grace\", 1500, \"H\")"
   ]
  },
  {
   "cell_type": "markdown",
   "metadata": {},
   "source": [
    "Below is the code used to determine the quantity of the bonus provided for the home team. In the [HomeField](HomeField.ipynb) notebook, we gathered Crossroads League data from the past 5 years (excluding 2020) and found the total win percentage of home teams to be approximately 0.55425. We then used our base function for predicting games without the homefield advantage adjustment and added rating points until the win probability matched that of the home teams' win percentage over the last 5 full seasons. Most accurate to two decimal places, we found this bonus to be `37.85`."
   ]
  },
  {
   "cell_type": "code",
   "execution_count": 17,
   "metadata": {},
   "outputs": [],
   "source": [
    "#eloDict[\"team1\"] = 1537.85\n",
    "#eloDict[\"team2\"] = 1500\n",
    "#expectGame(\"team1\", \"team2\")\n",
    "#0.5542560584880326"
   ]
  },
  {
   "cell_type": "markdown",
   "metadata": {},
   "source": [
    "Now, we load the games played in 2021 that were scraped in the [Get2021Games](Get2021Games.ipynb) notebook."
   ]
  },
  {
   "cell_type": "code",
   "execution_count": 18,
   "metadata": {},
   "outputs": [
    {
     "data": {
      "text/html": [
       "<div>\n",
       "<style scoped>\n",
       "    .dataframe tbody tr th:only-of-type {\n",
       "        vertical-align: middle;\n",
       "    }\n",
       "\n",
       "    .dataframe tbody tr th {\n",
       "        vertical-align: top;\n",
       "    }\n",
       "\n",
       "    .dataframe thead th {\n",
       "        text-align: right;\n",
       "    }\n",
       "</style>\n",
       "<table border=\"1\" class=\"dataframe\">\n",
       "  <thead>\n",
       "    <tr style=\"text-align: right;\">\n",
       "      <th></th>\n",
       "      <th>Date</th>\n",
       "      <th>Win_Tm</th>\n",
       "      <th>Lose_Tm</th>\n",
       "      <th>Location</th>\n",
       "      <th>W_Score</th>\n",
       "      <th>L_Score</th>\n",
       "    </tr>\n",
       "  </thead>\n",
       "  <tbody>\n",
       "    <tr>\n",
       "      <th>26</th>\n",
       "      <td>2021-03-20</td>\n",
       "      <td>Taylor</td>\n",
       "      <td>MVNU</td>\n",
       "      <td>H</td>\n",
       "      <td>4</td>\n",
       "      <td>1</td>\n",
       "    </tr>\n",
       "    <tr>\n",
       "      <th>24</th>\n",
       "      <td>2021-03-22</td>\n",
       "      <td>Marian</td>\n",
       "      <td>SAU</td>\n",
       "      <td>H</td>\n",
       "      <td>9</td>\n",
       "      <td>4</td>\n",
       "    </tr>\n",
       "    <tr>\n",
       "      <th>19</th>\n",
       "      <td>2021-03-22</td>\n",
       "      <td>SAU</td>\n",
       "      <td>Marian</td>\n",
       "      <td>A</td>\n",
       "      <td>12</td>\n",
       "      <td>11</td>\n",
       "    </tr>\n",
       "    <tr>\n",
       "      <th>27</th>\n",
       "      <td>2021-03-22</td>\n",
       "      <td>Taylor</td>\n",
       "      <td>MVNU</td>\n",
       "      <td>H</td>\n",
       "      <td>1</td>\n",
       "      <td>0</td>\n",
       "    </tr>\n",
       "    <tr>\n",
       "      <th>28</th>\n",
       "      <td>2021-03-22</td>\n",
       "      <td>Taylor</td>\n",
       "      <td>MVNU</td>\n",
       "      <td>H</td>\n",
       "      <td>9</td>\n",
       "      <td>2</td>\n",
       "    </tr>\n",
       "  </tbody>\n",
       "</table>\n",
       "</div>"
      ],
      "text/plain": [
       "         Date  Win_Tm Lose_Tm Location  W_Score  L_Score\n",
       "26 2021-03-20  Taylor    MVNU        H        4        1\n",
       "24 2021-03-22  Marian     SAU        H        9        4\n",
       "19 2021-03-22     SAU  Marian        A       12       11\n",
       "27 2021-03-22  Taylor    MVNU        H        1        0\n",
       "28 2021-03-22  Taylor    MVNU        H        9        2"
      ]
     },
     "execution_count": 18,
     "metadata": {},
     "output_type": "execute_result"
    }
   ],
   "source": [
    "with open('2021games.pkl', 'rb') as f:\n",
    "    games2021 = pickle.load(f)\n",
    "games2021[-5:]"
   ]
  },
  {
   "cell_type": "markdown",
   "metadata": {},
   "source": [
    "We iterate over each game and adjust the rankings based on the results. We print out the updated Elo dictionary and load it onto a pickle file named `EloRatings`."
   ]
  },
  {
   "cell_type": "code",
   "execution_count": 19,
   "metadata": {},
   "outputs": [],
   "source": [
    "for game in games2021.iterrows():\n",
    "    gamePlayed(game[1].Win_Tm, game[1].Lose_Tm, game[1].W_Score - game[1].L_Score, game[1].Location)"
   ]
  },
  {
   "cell_type": "code",
   "execution_count": 20,
   "metadata": {},
   "outputs": [
    {
     "data": {
      "text/plain": [
       "{'Bethel': 1393.7860257348211,\n",
       " 'Goshen': 1390.3152109015975,\n",
       " 'Grace': 1434.6376645107598,\n",
       " 'HU': 1567.6122210487417,\n",
       " 'IWU': 1627.3883727527807,\n",
       " 'Marian': 1561.5340998571191,\n",
       " 'MVNU': 1457.8575811307321,\n",
       " 'SAU': 1480.78035889379,\n",
       " 'SFU': 1476.9665567950756,\n",
       " 'Taylor': 1609.1219083745827}"
      ]
     },
     "execution_count": 20,
     "metadata": {},
     "output_type": "execute_result"
    }
   ],
   "source": [
    "eloDict"
   ]
  },
  {
   "cell_type": "code",
   "execution_count": 21,
   "metadata": {},
   "outputs": [],
   "source": [
    "with open('EloRatings.pkl', 'wb') as f:\n",
    "    pickle.dump(eloDict, f)"
   ]
  },
  {
   "cell_type": "code",
   "execution_count": null,
   "metadata": {},
   "outputs": [],
   "source": []
  }
 ],
 "metadata": {
  "kernelspec": {
   "display_name": "Python 3",
   "language": "python",
   "name": "python3"
  },
  "language_info": {
   "codemirror_mode": {
    "name": "ipython",
    "version": 3
   },
   "file_extension": ".py",
   "mimetype": "text/x-python",
   "name": "python",
   "nbconvert_exporter": "python",
   "pygments_lexer": "ipython3",
   "version": "3.8.5"
  }
 },
 "nbformat": 4,
 "nbformat_minor": 4
}
