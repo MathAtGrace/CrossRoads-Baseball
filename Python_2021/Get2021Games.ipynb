{
 "cells": [
  {
   "cell_type": "markdown",
   "metadata": {
    "slideshow": {
     "slide_type": "slide"
    }
   },
   "source": [
    "### 2021 Games"
   ]
  },
  {
   "cell_type": "markdown",
   "metadata": {
    "slideshow": {
     "slide_type": "subslide"
    }
   },
   "source": [
    "Run this code to update the 2021 conference games and results."
   ]
  },
  {
   "cell_type": "code",
   "execution_count": 1,
   "metadata": {
    "slideshow": {
     "slide_type": "subslide"
    }
   },
   "outputs": [],
   "source": [
    "import requests\n",
    "from bs4 import BeautifulSoup\n",
    "import pandas as pd\n",
    "import pickle"
   ]
  },
  {
   "cell_type": "code",
   "execution_count": 2,
   "metadata": {
    "slideshow": {
     "slide_type": "subslide"
    }
   },
   "outputs": [],
   "source": [
    "teams = [\"Bethel\", \"Goshen\", \"Grace\", \"HU\", \"IWU\", \"Marian\", \"MVNU\", \"SAU\", \"SFU\", \"Taylor\"]\n",
    "t_nums = [1629, 1678, 1679, 1688, 1694, 1717, 1736, 1780, 1805, 1784]"
   ]
  },
  {
   "cell_type": "code",
   "execution_count": 3,
   "metadata": {
    "slideshow": {
     "slide_type": "fragment"
    }
   },
   "outputs": [],
   "source": [
    "urls = ['http://www.dakstats.com/WebSync/Pages/Team/TeamSchedule.aspx?association=10&sg=MBA&sea=NAIMBA_2021&team=' +\n",
    "        str(num) for num in t_nums]\n",
    "#Create a handle, page, to handle the contents of the website\n",
    "pages = [requests.get(url) for url in urls]\n",
    "#Store the page as an element tree using BeautifulSoup4\n",
    "soups = [BeautifulSoup(page.content) for page in pages]\n",
    "team_tables = [\n",
    "  [\n",
    "    [\n",
    "      [td.get_text(strip=True) for td in tr.find_all('td')] \n",
    "      for tr in table.find_all('tr') \n",
    "    ]#for each row in each table\n",
    "    for table in soup.find_all('table') \n",
    "  ]#for each table on each webpage\n",
    "  for soup in soups \n",
    "]#for each team's webpage\n",
    "headers = [['Date', 'Opponent', 'Location', 'Score', 'Outcome'] for tables in team_tables]\n",
    "team_rows = [[r[:5] for r in tables[35][1::2]] for tables in team_tables]\n",
    "dfc = [pd.DataFrame(columns = headers[i], data = team_rows[i]) for i in range(len(headers))]\n",
    "conf_df = [df[df.Opponent.str.contains(\"*\", regex = False)] for df in dfc]\n",
    "conf_df_played = [df[df.Score.str.contains(\"-\", regex = False)] for df in conf_df]\n",
    "tidy_conf2021 = conf_df_played.copy()\n",
    "for i,df in enumerate(tidy_conf2021):\n",
    "    split_scores = df['Score'].str.replace(r\"\\(.*\\)\",\"\").str.split('-', expand = True)\n",
    "    tidy_conf2021[i] = df.assign(Score = pd.to_numeric(split_scores[0]),\n",
    "                            Opp_score = pd.to_numeric(split_scores[1]),\n",
    "                            Opponent = df.Opponent.str.replace(' \\*', '', regex= True),\n",
    "                            Date = pd.to_datetime(df.Date)\n",
    "                            )\n",
    "for i in range(len(teams)): #add column for team\n",
    "    tidy_conf2021[i][\"Team\"] = teams[i]\n",
    "    team = tidy_conf2021[i].pop(\"Team\")\n",
    "    tidy_conf2021[i].insert(1, team.name, team) #move team column to second"
   ]
  },
  {
   "cell_type": "code",
   "execution_count": 4,
   "metadata": {
    "slideshow": {
     "slide_type": "slide"
    }
   },
   "outputs": [
    {
     "data": {
      "text/html": [
       "<div>\n",
       "<style scoped>\n",
       "    .dataframe tbody tr th:only-of-type {\n",
       "        vertical-align: middle;\n",
       "    }\n",
       "\n",
       "    .dataframe tbody tr th {\n",
       "        vertical-align: top;\n",
       "    }\n",
       "\n",
       "    .dataframe thead th {\n",
       "        text-align: right;\n",
       "    }\n",
       "</style>\n",
       "<table border=\"1\" class=\"dataframe\">\n",
       "  <thead>\n",
       "    <tr style=\"text-align: right;\">\n",
       "      <th></th>\n",
       "      <th>Date</th>\n",
       "      <th>Team</th>\n",
       "      <th>Opponent</th>\n",
       "      <th>Location</th>\n",
       "      <th>Score</th>\n",
       "      <th>Outcome</th>\n",
       "      <th>Opp_score</th>\n",
       "    </tr>\n",
       "  </thead>\n",
       "  <tbody>\n",
       "    <tr>\n",
       "      <th>9</th>\n",
       "      <td>2021-03-06</td>\n",
       "      <td>Grace</td>\n",
       "      <td>Bethel (Ind.)</td>\n",
       "      <td>H</td>\n",
       "      <td>14</td>\n",
       "      <td>W</td>\n",
       "      <td>5</td>\n",
       "    </tr>\n",
       "    <tr>\n",
       "      <th>12</th>\n",
       "      <td>2021-03-12</td>\n",
       "      <td>Grace</td>\n",
       "      <td>Huntington (Ind.)</td>\n",
       "      <td>N</td>\n",
       "      <td>4</td>\n",
       "      <td>W</td>\n",
       "      <td>2</td>\n",
       "    </tr>\n",
       "    <tr>\n",
       "      <th>18</th>\n",
       "      <td>2021-03-19</td>\n",
       "      <td>Grace</td>\n",
       "      <td>St. Francis (Ind.)</td>\n",
       "      <td>H</td>\n",
       "      <td>8</td>\n",
       "      <td>W</td>\n",
       "      <td>7</td>\n",
       "    </tr>\n",
       "  </tbody>\n",
       "</table>\n",
       "</div>"
      ],
      "text/plain": [
       "         Date   Team            Opponent Location  Score Outcome  Opp_score\n",
       "9  2021-03-06  Grace       Bethel (Ind.)        H     14       W          5\n",
       "12 2021-03-12  Grace   Huntington (Ind.)        N      4       W          2\n",
       "18 2021-03-19  Grace  St. Francis (Ind.)        H      8       W          7"
      ]
     },
     "execution_count": 4,
     "metadata": {},
     "output_type": "execute_result"
    }
   ],
   "source": [
    "conf_w2021 = [df[df.Outcome.str.contains(\"W\", regex = False)] for df in tidy_conf2021]\n",
    "conf_w2021[2][-3:]"
   ]
  },
  {
   "cell_type": "code",
   "execution_count": 5,
   "metadata": {
    "scrolled": true,
    "slideshow": {
     "slide_type": "slide"
    }
   },
   "outputs": [],
   "source": [
    "new_games = pd.concat(conf_w2021)\n",
    "new_games = new_games.sort_values(['Date', 'Team'])\n",
    "new_games.rename(columns={\n",
    "    'Team': 'Win_Tm',\n",
    "    'Opponent': 'Lose_Tm',\n",
    "    'Score': 'W_Score',\n",
    "    'Opp_score': 'L_Score'}, \n",
    "    inplace=True)\n",
    "del new_games[\"Outcome\"]"
   ]
  },
  {
   "cell_type": "code",
   "execution_count": 6,
   "metadata": {
    "slideshow": {
     "slide_type": "slide"
    }
   },
   "outputs": [],
   "source": [
    "new_games.Lose_Tm.replace({\n",
    "        'Bethel (Ind.)' : 'Bethel',\n",
    "        'Taylor (Ind.)' : 'Taylor',\n",
    "        'Spring Arbor (Mich.)' : 'SAU',\n",
    "        'Huntington (Ind.)' : 'HU',\n",
    "        'St. Francis (Ind.)' : 'SFU',\n",
    "        'Indiana Wesleyan' : 'IWU',\n",
    "        'Mount Vernon Nazarene (Ohio)' : 'MVNU',\n",
    "        'Marian (Ind.)' : 'Marian',\n",
    "        'Goshen (Ind.)' : 'Goshen',\n",
    "        'Grace (Ind.)' : 'Grace'\n",
    "        }, \n",
    "    inplace=True)"
   ]
  },
  {
   "cell_type": "code",
   "execution_count": 7,
   "metadata": {
    "slideshow": {
     "slide_type": "slide"
    }
   },
   "outputs": [
    {
     "data": {
      "text/html": [
       "<div>\n",
       "<style scoped>\n",
       "    .dataframe tbody tr th:only-of-type {\n",
       "        vertical-align: middle;\n",
       "    }\n",
       "\n",
       "    .dataframe tbody tr th {\n",
       "        vertical-align: top;\n",
       "    }\n",
       "\n",
       "    .dataframe thead th {\n",
       "        text-align: right;\n",
       "    }\n",
       "</style>\n",
       "<table border=\"1\" class=\"dataframe\">\n",
       "  <thead>\n",
       "    <tr style=\"text-align: right;\">\n",
       "      <th></th>\n",
       "      <th>Date</th>\n",
       "      <th>Win_Tm</th>\n",
       "      <th>Lose_Tm</th>\n",
       "      <th>Location</th>\n",
       "      <th>W_Score</th>\n",
       "      <th>L_Score</th>\n",
       "    </tr>\n",
       "  </thead>\n",
       "  <tbody>\n",
       "    <tr>\n",
       "      <th>26</th>\n",
       "      <td>2021-03-20</td>\n",
       "      <td>Taylor</td>\n",
       "      <td>MVNU</td>\n",
       "      <td>H</td>\n",
       "      <td>4</td>\n",
       "      <td>1</td>\n",
       "    </tr>\n",
       "    <tr>\n",
       "      <th>24</th>\n",
       "      <td>2021-03-22</td>\n",
       "      <td>Marian</td>\n",
       "      <td>SAU</td>\n",
       "      <td>H</td>\n",
       "      <td>9</td>\n",
       "      <td>4</td>\n",
       "    </tr>\n",
       "    <tr>\n",
       "      <th>19</th>\n",
       "      <td>2021-03-22</td>\n",
       "      <td>SAU</td>\n",
       "      <td>Marian</td>\n",
       "      <td>A</td>\n",
       "      <td>12</td>\n",
       "      <td>11</td>\n",
       "    </tr>\n",
       "    <tr>\n",
       "      <th>27</th>\n",
       "      <td>2021-03-22</td>\n",
       "      <td>Taylor</td>\n",
       "      <td>MVNU</td>\n",
       "      <td>H</td>\n",
       "      <td>1</td>\n",
       "      <td>0</td>\n",
       "    </tr>\n",
       "    <tr>\n",
       "      <th>28</th>\n",
       "      <td>2021-03-22</td>\n",
       "      <td>Taylor</td>\n",
       "      <td>MVNU</td>\n",
       "      <td>H</td>\n",
       "      <td>9</td>\n",
       "      <td>2</td>\n",
       "    </tr>\n",
       "  </tbody>\n",
       "</table>\n",
       "</div>"
      ],
      "text/plain": [
       "         Date  Win_Tm Lose_Tm Location  W_Score  L_Score\n",
       "26 2021-03-20  Taylor    MVNU        H        4        1\n",
       "24 2021-03-22  Marian     SAU        H        9        4\n",
       "19 2021-03-22     SAU  Marian        A       12       11\n",
       "27 2021-03-22  Taylor    MVNU        H        1        0\n",
       "28 2021-03-22  Taylor    MVNU        H        9        2"
      ]
     },
     "execution_count": 7,
     "metadata": {},
     "output_type": "execute_result"
    }
   ],
   "source": [
    "new_games[-5:]"
   ]
  },
  {
   "cell_type": "code",
   "execution_count": 8,
   "metadata": {
    "slideshow": {
     "slide_type": "slide"
    }
   },
   "outputs": [],
   "source": [
    "with open('2021games.pkl', 'wb') as f:\n",
    "    pickle.dump(new_games, f)"
   ]
  },
  {
   "cell_type": "code",
   "execution_count": null,
   "metadata": {},
   "outputs": [],
   "source": []
  }
 ],
 "metadata": {
  "celltoolbar": "Slideshow",
  "kernelspec": {
   "display_name": "Python 3",
   "language": "python",
   "name": "python3"
  },
  "language_info": {
   "codemirror_mode": {
    "name": "ipython",
    "version": 3
   },
   "file_extension": ".py",
   "mimetype": "text/x-python",
   "name": "python",
   "nbconvert_exporter": "python",
   "pygments_lexer": "ipython3",
   "version": "3.8.5"
  }
 },
 "nbformat": 4,
 "nbformat_minor": 4
}
