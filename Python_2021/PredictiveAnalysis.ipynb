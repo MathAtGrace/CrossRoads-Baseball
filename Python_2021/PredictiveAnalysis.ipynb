{
 "cells": [
  {
   "cell_type": "markdown",
   "metadata": {},
   "source": [
    "## Game Predictions"
   ]
  },
  {
   "cell_type": "markdown",
   "metadata": {},
   "source": [
    "Import the necessary statements."
   ]
  },
  {
   "cell_type": "code",
   "execution_count": 87,
   "metadata": {},
   "outputs": [],
   "source": [
    "import pickle\n",
    "import matplotlib.pyplot as plt\n",
    "import numpy as np"
   ]
  },
  {
   "cell_type": "markdown",
   "metadata": {},
   "source": [
    "To update the Elo ratings, uncomment and run both of the following lines. Click to view either the [Get2021Games](Get2021Games.ipynb) notebook or the [Update_Elo](Update_Elo.ipynb) notebook."
   ]
  },
  {
   "cell_type": "code",
   "execution_count": 1,
   "metadata": {},
   "outputs": [],
   "source": [
    "#%run ./Get2021Games.ipynb\n",
    "#%run ./Update_Elo.ipynb"
   ]
  },
  {
   "cell_type": "markdown",
   "metadata": {},
   "source": [
    "Load the updated dictionary with each team's ratings."
   ]
  },
  {
   "cell_type": "code",
   "execution_count": 102,
   "metadata": {},
   "outputs": [],
   "source": [
    "with open('EloRatings.pkl', 'rb')as f:\n",
    "    eloDict = pickle.load(f)"
   ]
  },
  {
   "cell_type": "code",
   "execution_count": 103,
   "metadata": {},
   "outputs": [
    {
     "data": {
      "text/plain": [
       "{'Bethel': 1393.7860257348211,\n",
       " 'Goshen': 1390.3152109015975,\n",
       " 'Grace': 1434.6376645107598,\n",
       " 'HU': 1567.6122210487417,\n",
       " 'IWU': 1627.3883727527807,\n",
       " 'Marian': 1561.5340998571191,\n",
       " 'MVNU': 1457.8575811307321,\n",
       " 'SAU': 1480.78035889379,\n",
       " 'SFU': 1476.9665567950756,\n",
       " 'Taylor': 1609.1219083745827}"
      ]
     },
     "execution_count": 103,
     "metadata": {},
     "output_type": "execute_result"
    }
   ],
   "source": [
    "eloDict"
   ]
  },
  {
   "cell_type": "markdown",
   "metadata": {},
   "source": [
    "Here we build our fundamental function for updating ratings with each game that is played. We incorporate homefield advantage by adding `37.85` to each home team's rating. This was calculated by gathering data from the last 5 years (excluding 2020) and calculating the average win percentage of home teams. Given two 1500-rated teams, adding 37.85 to the home team most closely matched that average win percentage. Additionally, we incorporated a multiplier based on the margin of victory that increases from 1 by `0.05` per run. This formula was adapted from the one found at http://andr3w321.com/elo-ratings-part-1/."
   ]
  },
  {
   "cell_type": "code",
   "execution_count": 4,
   "metadata": {},
   "outputs": [],
   "source": [
    "def gamePlayed(winTeam, loseTeam, elo, winTeamLocation=\"N\", marginOfVictory=1, k=20, tie=False): \n",
    "    if winTeamLocation == \"H\":\n",
    "        rW = elo[winTeam] + 37.85 # get ratings\n",
    "        rL = elo[loseTeam]\n",
    "    elif winTeamLocation == \"A\":\n",
    "        rW = elo[winTeam]\n",
    "        rL = elo[loseTeam] + 37.85\n",
    "    elif winTeamLocation == \"N\":\n",
    "        rW = elo[winTeam]\n",
    "        rL = elo[loseTeam]\n",
    "    cW = 10 ** (rW/400)\n",
    "    cL = 10 ** (rL/400)\n",
    "    exp_winTeam = cW / float(cW + cL)\n",
    "    exp_loseTeam = cL / float(cW + cL)\n",
    "    if tie == True:\n",
    "        s1 = 0.5\n",
    "        s2 = 0.5\n",
    "    else:\n",
    "        s1 = 1\n",
    "        s2 = 0\n",
    "    if winTeamLocation == \"H\":\n",
    "        new_rW = rW + k * (0.95 + 0.05*marginOfVictory) * (s1 - exp_winTeam) - 37.85\n",
    "        new_rL = rL + k * (0.95 + 0.05*marginOfVictory) * (s2 - exp_loseTeam)\n",
    "    elif winTeamLocation == \"A\":\n",
    "        new_rW = rW + k * (0.95 + 0.05*marginOfVictory) * (s1 - exp_winTeam)\n",
    "        new_rL = rL + k * (0.95 + 0.05*marginOfVictory) * (s2 - exp_loseTeam) - 37.85\n",
    "    elif winTeamLocation == \"N\":\n",
    "        new_rW = rW + k * (0.95 + 0.05*marginOfVictory) * (s1 - exp_winTeam)\n",
    "        new_rL = rL + k * (0.95 + 0.05*marginOfVictory) * (s2 - exp_loseTeam)\n",
    "    elo[winTeam] = new_rW\n",
    "    elo[loseTeam] = new_rL"
   ]
  },
  {
   "cell_type": "markdown",
   "metadata": {},
   "source": [
    "Next, we develop our function for calculating the likelihood of victory. Similarly, we incorporate homefield advantage. We have constructed the formula in such a way that we can compare two named teams, two numerical ratings, or one named team and one numerical rating. This formula was also adapted from http://andr3w321.com/elo-ratings-part-1/."
   ]
  },
  {
   "cell_type": "code",
   "execution_count": 5,
   "metadata": {},
   "outputs": [],
   "source": [
    "def expectGame(team1, team2, elo, Location1=\"N\"):\n",
    "    if type(team1) == str:\n",
    "        if Location1 == \"N\" or Location1 == \"A\": r1 = elo[team1]\n",
    "        elif Location1 == \"H\": r1 = elo[team1] + 37.85\n",
    "    else:\n",
    "        if Location1 == \"N\" or Location1 == \"A\": r1 = team1\n",
    "        elif Location1 == \"H\": r1 = team1 + 37.85\n",
    "    if type(team2) == str:\n",
    "        if Location1 == \"N\" or Location1 == \"H\": r2 = elo[team2]\n",
    "        elif Location1 == \"A\": r2 = elo[team2] + 37.85\n",
    "    else:\n",
    "        if Location1 == \"N\" or Location1 == \"H\": r2 = team2\n",
    "        elif Location1 == \"A\": r2 = team2 + 37.85\n",
    "    d = r1 - r2\n",
    "    p = 1 - 1 / (1 + 10 ** (d / 400.0))\n",
    "    return p"
   ]
  },
  {
   "cell_type": "markdown",
   "metadata": {},
   "source": [
    "Now that we have our functions to calculate the probability of victory and update the Elo ratings, we write our functions to simulate four-game series'. Since there are four games with two possible outcomes each, there are $2^4$ or 16 total series outcomes. Our first function, the Elo simulation, must incorporate all possible outcomes. At the end of each outcome we accumulate the probabilities in the dictionary `t1wins` indexed 0-4 based on the number of wins earned by the first team provided. At the end of each simulated outcome, we reset the dictionary of Elo ratings to the original real ratings with the code `elo = eloDict.copy()`. We follow the same process for all 16 possible outcomes and return `t1wins` to display the probabilites for the first team provided to win 0, 1, 2, 3, or all 4 of the games."
   ]
  },
  {
   "cell_type": "code",
   "execution_count": 6,
   "metadata": {},
   "outputs": [],
   "source": [
    "def simSeriesElo(t1, t2, eloDict):\n",
    "    elo = eloDict.copy()\n",
    "    t1wins = dict.fromkeys([0,1,2,3,4], 0)\n",
    "        # 1, 1, 1, 1\n",
    "    p1 = expectGame(t1, t2, elo)\n",
    "    gamePlayed(t1, t2, elo)\n",
    "    p2 = expectGame(t1, t2, elo)\n",
    "    gamePlayed(t1, t2, elo)\n",
    "    p3 = expectGame(t1, t2, elo)\n",
    "    gamePlayed(t1, t2, elo)\n",
    "    p4 = expectGame(t1, t2, elo)\n",
    "    p = p1*p2*p3*p4\n",
    "    t1wins[4] += p\n",
    "    elo = eloDict.copy()\n",
    "    \n",
    "        # 1, 1, 1, 2\n",
    "    p1 = expectGame(t1, t2, elo)\n",
    "    gamePlayed(t1, t2, elo)\n",
    "    p2 = expectGame(t1, t2, elo)\n",
    "    gamePlayed(t1, t2, elo)\n",
    "    p3 = expectGame(t1, t2, elo)\n",
    "    gamePlayed(t1, t2, elo)\n",
    "    p4 = expectGame(t2, t1, elo)\n",
    "    p = p1*p2*p3*p4\n",
    "    t1wins[3] += p\n",
    "    elo = eloDict.copy()\n",
    "    \n",
    "        # 1, 1, 2, 1\n",
    "    p1 = expectGame(t1, t2, elo)\n",
    "    gamePlayed(t1, t2, elo)\n",
    "    p2 = expectGame(t1, t2, elo)\n",
    "    gamePlayed(t1, t2, elo)\n",
    "    p3 = expectGame(t2, t1, elo)\n",
    "    gamePlayed(t2, t1, elo)\n",
    "    p4 = expectGame(t1, t2, elo)\n",
    "    p = p1*p2*p3*p4\n",
    "    t1wins[3] += p\n",
    "    elo = eloDict.copy()\n",
    "    \n",
    "        # 1, 1, 2, 2\n",
    "    p1 = expectGame(t1, t2, elo)\n",
    "    gamePlayed(t1, t2, elo)\n",
    "    p2 = expectGame(t1, t2, elo)\n",
    "    gamePlayed(t1, t2, elo)\n",
    "    p3 = expectGame(t2, t1, elo)\n",
    "    gamePlayed(t2, t1, elo)\n",
    "    p4 = expectGame(t2, t1, elo)\n",
    "    p = p1*p2*p3*p4\n",
    "    t1wins[2] += p\n",
    "    elo = eloDict.copy()\n",
    "    \n",
    "        # 1, 2, 1, 1\n",
    "    p1 = expectGame(t1, t2, elo)\n",
    "    gamePlayed(t1, t2, elo)\n",
    "    p2 = expectGame(t2, t1, elo)\n",
    "    gamePlayed(t2, t1, elo)\n",
    "    p3 = expectGame(t1, t2, elo)\n",
    "    gamePlayed(t1, t2, elo)\n",
    "    p4 = expectGame(t1, t2, elo)\n",
    "    p = p1*p2*p3*p4\n",
    "    t1wins[3] += p\n",
    "    elo = eloDict.copy()\n",
    "    \n",
    "        # 1, 2, 1, 2\n",
    "    p1 = expectGame(t1, t2, elo)\n",
    "    gamePlayed(t1, t2, elo)\n",
    "    p2 = expectGame(t2, t1, elo)\n",
    "    gamePlayed(t2, t1, elo)\n",
    "    p3 = expectGame(t1, t2, elo)\n",
    "    gamePlayed(t1, t2, elo)\n",
    "    p4 = expectGame(t2, t1, elo)\n",
    "    p = p1*p2*p3*p4\n",
    "    t1wins[2] += p\n",
    "    elo = eloDict.copy()\n",
    "    \n",
    "        # 1, 2, 2, 1\n",
    "    p1 = expectGame(t1, t2, elo)\n",
    "    gamePlayed(t1, t2, elo)\n",
    "    p2 = expectGame(t2, t1, elo)\n",
    "    gamePlayed(t2, t1, elo)\n",
    "    p3 = expectGame(t2, t1, elo)\n",
    "    gamePlayed(t2, t1, elo)\n",
    "    p4 = expectGame(t1, t2, elo)\n",
    "    p = p1*p2*p3*p4\n",
    "    t1wins[2] += p\n",
    "    elo = eloDict.copy()\n",
    "    \n",
    "        # 1, 2, 2, 2\n",
    "    p1 = expectGame(t1, t2, elo)\n",
    "    gamePlayed(t1, t2, elo)\n",
    "    p2 = expectGame(t2, t1, elo)\n",
    "    gamePlayed(t2, t1, elo)\n",
    "    p3 = expectGame(t2, t1, elo)\n",
    "    gamePlayed(t2, t1, elo)\n",
    "    p4 = expectGame(t2, t1, elo)\n",
    "    p = p1*p2*p3*p4\n",
    "    t1wins[1] += p\n",
    "    elo = eloDict.copy()\n",
    "    \n",
    "        # 2, 1, 1, 1\n",
    "    p1 = expectGame(t2, t1, elo)\n",
    "    gamePlayed(t2, t1, elo)\n",
    "    p2 = expectGame(t1, t2, elo)\n",
    "    gamePlayed(t1, t2, elo)\n",
    "    p3 = expectGame(t1, t2, elo)\n",
    "    gamePlayed(t1, t2, elo)\n",
    "    p4 = expectGame(t1, t2, elo)\n",
    "    p = p1*p2*p3*p4\n",
    "    t1wins[3] += p\n",
    "    elo = eloDict.copy()\n",
    "    \n",
    "        # 2, 1, 1, 2\n",
    "    p1 = expectGame(t2, t1, elo)\n",
    "    gamePlayed(t2, t1, elo)\n",
    "    p2 = expectGame(t1, t2, elo)\n",
    "    gamePlayed(t1, t2, elo)\n",
    "    p3 = expectGame(t1, t2, elo)\n",
    "    gamePlayed(t1, t2, elo)\n",
    "    p4 = expectGame(t2, t1, elo)\n",
    "    p = p1*p2*p3*p4\n",
    "    t1wins[2] += p\n",
    "    elo = eloDict.copy()\n",
    "    \n",
    "        # 2, 1, 2, 1\n",
    "    p1 = expectGame(t2, t1, elo)\n",
    "    gamePlayed(t2, t1, elo)\n",
    "    p2 = expectGame(t1, t2, elo)\n",
    "    gamePlayed(t1, t2, elo)\n",
    "    p3 = expectGame(t2, t1, elo)\n",
    "    gamePlayed(t2, t1, elo)\n",
    "    p4 = expectGame(t1, t2, elo)\n",
    "    p = p1*p2*p3*p4\n",
    "    t1wins[2] += p\n",
    "    elo = eloDict.copy()\n",
    "    \n",
    "        # 2, 1, 2, 2\n",
    "    p1 = expectGame(t2, t1, elo)\n",
    "    gamePlayed(t2, t1, elo)\n",
    "    p2 = expectGame(t1, t2, elo)\n",
    "    gamePlayed(t1, t2, elo)\n",
    "    p3 = expectGame(t2, t1, elo)\n",
    "    gamePlayed(t2, t1, elo)\n",
    "    p4 = expectGame(t2, t1, elo)\n",
    "    p = p1*p2*p3*p4\n",
    "    t1wins[1] += p\n",
    "    elo = eloDict.copy()\n",
    "    \n",
    "        # 2, 2, 1, 1\n",
    "    p1 = expectGame(t2, t1, elo)\n",
    "    gamePlayed(t2, t1, elo)\n",
    "    p2 = expectGame(t2, t1, elo)\n",
    "    gamePlayed(t2, t1, elo)\n",
    "    p3 = expectGame(t1, t2, elo)\n",
    "    gamePlayed(t1, t2, elo)\n",
    "    p4 = expectGame(t1, t2, elo)\n",
    "    p = p1*p2*p3*p4\n",
    "    t1wins[2] += p\n",
    "    elo = eloDict.copy()\n",
    "    \n",
    "        # 2, 2, 1, 2\n",
    "    p1 = expectGame(t2, t1, elo)\n",
    "    gamePlayed(t2, t1, elo)\n",
    "    p2 = expectGame(t2, t1, elo)\n",
    "    gamePlayed(t2, t1, elo)\n",
    "    p3 = expectGame(t1, t2, elo)\n",
    "    gamePlayed(t1, t2, elo)\n",
    "    p4 = expectGame(t2, t1, elo)\n",
    "    p = p1*p2*p3*p4\n",
    "    t1wins[1] += p\n",
    "    elo = eloDict.copy()\n",
    "    \n",
    "        # 2, 2, 2, 1\n",
    "    p1 = expectGame(t2, t1, elo)\n",
    "    gamePlayed(t2, t1, elo)\n",
    "    p2 = expectGame(t2, t1, elo)\n",
    "    gamePlayed(t2, t1, elo)\n",
    "    p3 = expectGame(t2, t1, elo)\n",
    "    gamePlayed(t2, t1, elo)\n",
    "    p4 = expectGame(t1, t2, elo)\n",
    "    p = p1*p2*p3*p4\n",
    "    t1wins[1] += p\n",
    "    elo = eloDict.copy()\n",
    "    \n",
    "        # 2, 2, 2, 2\n",
    "    p1 = expectGame(t2, t1, elo)\n",
    "    gamePlayed(t2, t1, elo)\n",
    "    p2 = expectGame(t2, t1, elo)\n",
    "    gamePlayed(t2, t1, elo)\n",
    "    p3 = expectGame(t2, t1, elo)\n",
    "    gamePlayed(t2, t1, elo)\n",
    "    p4 = expectGame(t2, t1, elo)\n",
    "    p = p1*p2*p3*p4\n",
    "    t1wins[0] += p\n",
    "    elo = eloDict.copy()\n",
    "    \n",
    "    return t1wins"
   ]
  },
  {
   "cell_type": "markdown",
   "metadata": {},
   "source": [
    "Below is an example of this function with Grace and Huntington. First, we print out the probabilities for the number of games Grace will win. We also sum all of the values to show that the total probability of all the outcomes is 1."
   ]
  },
  {
   "cell_type": "code",
   "execution_count": 7,
   "metadata": {},
   "outputs": [
    {
     "name": "stdout",
     "output_type": "stream",
     "text": [
      "{0: 0.18982288308073034, 1: 0.3470732902611734, 2: 0.2949850138475069, 3: 0.13808994259624216, 4: 0.030028870214347154}\n",
      "1.0\n"
     ]
    }
   ],
   "source": [
    "GraceVsHU_elo = simSeriesElo(\"Grace\", \"HU\", eloDict)\n",
    "print(GraceVsHU_elo)\n",
    "print(sum(GraceVsHU_elo.values()))"
   ]
  },
  {
   "cell_type": "markdown",
   "metadata": {},
   "source": [
    "Our binomial simulation is much simpler. We take the probability `p` that the first team wins and probability `q` that the second team wins and use a simple binomial distribution with probability function $p(k) = \\binom{n}{k} p^k \\cdot q^{n-k}$ where $n = 4$ and $k$ represents the number of games won by the first team."
   ]
  },
  {
   "cell_type": "code",
   "execution_count": 8,
   "metadata": {},
   "outputs": [],
   "source": [
    "def simSeriesBinomial(t1, t2, elo):\n",
    "    t1wins = dict.fromkeys([0,1,2,3,4], 0)\n",
    "    p = expectGame(t1, t2, elo)\n",
    "    q = expectGame(t2, t1, elo)\n",
    "    t1wins[0] = q**4\n",
    "    t1wins[1] = 4*(p)*(q**3)\n",
    "    t1wins[2] = 6*(p**2)*(q**2)\n",
    "    t1wins[3] = 4*(p**3)*(q)\n",
    "    t1wins[4] = p**4\n",
    "    return t1wins"
   ]
  },
  {
   "cell_type": "markdown",
   "metadata": {},
   "source": [
    "Once again, we demonstrate this function with Grace and Huntington. Notice also that the probabilities sum to 1. "
   ]
  },
  {
   "cell_type": "code",
   "execution_count": 9,
   "metadata": {
    "scrolled": true
   },
   "outputs": [
    {
     "name": "stdout",
     "output_type": "stream",
     "text": [
      "{0: 0.1602352571441984, 1: 0.37210354031927895, 2: 0.32404161664980313, 3: 0.12541666850268068, 4: 0.018202917384038796}\n",
      "1.0\n"
     ]
    }
   ],
   "source": [
    "GraceVsHU_bin = simSeriesBinomial(\"Grace\",\"HU\", eloDict)\n",
    "print(GraceVsHU_bin)\n",
    "print(sum(GraceVsHU_bin.values()))"
   ]
  },
  {
   "cell_type": "markdown",
   "metadata": {},
   "source": [
    "In order to display our probabilities and highlight differences in the two simulations, we create a function to generate a bar graph that displays the probabilities for the two simulations side by side. "
   ]
  },
  {
   "cell_type": "code",
   "execution_count": 10,
   "metadata": {},
   "outputs": [],
   "source": [
    "def probsSideBySide(team1, team2, binProbs, eloProbs):\n",
    "    N = 5\n",
    "    bin_p = binProbs.values()\n",
    "    elo_p = eloProbs.values()\n",
    "\n",
    "    ind = np.arange(N) \n",
    "    width = 0.35       \n",
    "    plt.bar(ind, bin_p, width, label='Binomial')\n",
    "    plt.bar(ind + width, elo_p, width,\n",
    "        label='Elo')\n",
    "\n",
    "    plt.ylabel('Probabilities')\n",
    "    plt.xlabel('Number of Wins')\n",
    "    plt.title('Expected '+str(team1)+\" Wins vs. \"+str(team2))\n",
    "\n",
    "    plt.xticks(ind + width / 2, (0,1,2,3,4))\n",
    "    plt.legend(loc='best')\n",
    "    plt.show()"
   ]
  },
  {
   "cell_type": "markdown",
   "metadata": {},
   "source": [
    "We test this function with arbitrary teams and probabilities."
   ]
  },
  {
   "cell_type": "code",
   "execution_count": 11,
   "metadata": {},
   "outputs": [
    {
     "data": {
      "image/png": "[encoded data removed]",
      "text/plain": [
       "<Figure size 432x288 with 1 Axes>"
      ]
     },
     "metadata": {
      "needs_background": "light"
     },
     "output_type": "display_data"
    }
   ],
   "source": [
    "probsSideBySide(\"Team 1\", \"Team 2\", {0:.1,1:.2,2:.15,3:.35,4:.2}, {0:.25,1:.15,2:.1,3:.1,4:.4})"
   ]
  },
  {
   "cell_type": "markdown",
   "metadata": {},
   "source": [
    "Now that we have our necessary functions, we build a new function to run each simulation and generate a bar graph with predictions."
   ]
  },
  {
   "cell_type": "code",
   "execution_count": 12,
   "metadata": {},
   "outputs": [],
   "source": [
    "def predictSeries(team1, team2, eloDict):\n",
    "    sim_elo = simSeriesElo(team1, team2, eloDict)\n",
    "    sim_bin = simSeriesBinomial(team1, team2, eloDict)\n",
    "    probsSideBySide(team1, team2, sim_bin, sim_elo)"
   ]
  },
  {
   "cell_type": "markdown",
   "metadata": {},
   "source": [
    "In order to keep track of which simulation more accurately predicts the results, we will keep a list from every series indicating the more accurate simulation as well as by how much. Positive values indicate a better prediction by the Elo model and negative values indicate a better prediction by the binomial model. "
   ]
  },
  {
   "cell_type": "code",
   "execution_count": 58,
   "metadata": {},
   "outputs": [],
   "source": [
    "betterSim = []"
   ]
  },
  {
   "cell_type": "markdown",
   "metadata": {},
   "source": [
    "The below function prints out which model has performed better over the course of the season up to that point."
   ]
  },
  {
   "cell_type": "code",
   "execution_count": 59,
   "metadata": {},
   "outputs": [],
   "source": [
    "def compareSims():\n",
    "    if sum(betterSim)/len(betterSim) > 0:\n",
    "        print(\"After this week, the Elo model has outperformed the binomial model this season by an average of \"+str(round(sum(betterSim)/len(betterSim)*100, 2))+\"%.\")\n",
    "    else:\n",
    "        print(\"After this week, the binomial model has outperformed the Elo model this season by an average of \"+str(round(sum(betterSim)/len(betterSim)*-100, 2))+\"%.\")"
   ]
  },
  {
   "cell_type": "markdown",
   "metadata": {},
   "source": [
    "Finally, we develop a function to print out the probabilities from each simulation based on the actual results. We add an entry to the `betterSim` list quantifying which test outperformed the other. "
   ]
  },
  {
   "cell_type": "code",
   "execution_count": 60,
   "metadata": {},
   "outputs": [],
   "source": [
    "def printResults(team1, team2, t1wins, elo):\n",
    "    winsElo = simSeriesElo(team1, team2, elo)\n",
    "    print(\"Elo probability: \"+str(round(winsElo[t1wins], 5)))\n",
    "    winsBin = simSeriesBinomial(team1, team2, elo)\n",
    "    print(\"Binomial probability: \"+str(round(winsBin[t1wins], 5)))\n",
    "    if winsBin[t1wins] > winsElo[t1wins]:\n",
    "        print(\"The binomial simulation better predicted the results by \"+str(round((winsBin[t1wins]-winsElo[t1wins])*100, 2))+\"%.\")\n",
    "    else:\n",
    "        print(\"The Elo simulation better predicted the results by \"+str(round((winsElo[t1wins]-winsBin[t1wins])*100, 2))+\"%.\")\n",
    "    betterSim.append(winsElo[t1wins]-winsBin[t1wins])"
   ]
  },
  {
   "cell_type": "markdown",
   "metadata": {},
   "source": [
    "##### Weekend Games 3/12-3/13"
   ]
  },
  {
   "cell_type": "markdown",
   "metadata": {},
   "source": [
    "We need to copy our Elo ratings for the current week of games as they will continue to update as the season goes on. To do this, we will pickle the dictionary onto a file that will not be changed with updating Elo ratings week to week and then immediately unpickle the file. Once we have pickled the file once, we comment out the code to ensure the pickle file does not get changed."
   ]
  },
  {
   "cell_type": "code",
   "execution_count": 61,
   "metadata": {},
   "outputs": [],
   "source": [
    "#eloWk2 = eloDict.copy()\n",
    "#with open(\"eloWk2.pkl\", \"wb\") as f:\n",
    "    #pickle.dump(eloWk2, f)"
   ]
  },
  {
   "cell_type": "code",
   "execution_count": 62,
   "metadata": {},
   "outputs": [
    {
     "data": {
      "text/plain": [
       "{'Bethel': 1432.571963486864,\n",
       " 'Goshen': 1450.385483229496,\n",
       " 'Grace': 1485.8920376986255,\n",
       " 'HU': 1542.013341082464,\n",
       " 'IWU': 1557.7312585671455,\n",
       " 'Marian': 1523.9959776208184,\n",
       " 'MVNU': 1541.2211569401413,\n",
       " 'SAU': 1495.8273064341213,\n",
       " 'SFU': 1416.1551157644421,\n",
       " 'Taylor': 1554.2063591758824}"
      ]
     },
     "execution_count": 62,
     "metadata": {},
     "output_type": "execute_result"
    }
   ],
   "source": [
    "with open(\"eloWk2.pkl\", \"rb\") as f:\n",
    "    eloWk2 = pickle.load(f)\n",
    "eloWk2"
   ]
  },
  {
   "cell_type": "markdown",
   "metadata": {},
   "source": [
    "Now we can run our simulations."
   ]
  },
  {
   "cell_type": "code",
   "execution_count": 63,
   "metadata": {},
   "outputs": [
    {
     "data": {
      "image/png": "[encoded data removed]",
      "text/plain": [
       "<Figure size 432x288 with 1 Axes>"
      ]
     },
     "metadata": {
      "needs_background": "light"
     },
     "output_type": "display_data"
    }
   ],
   "source": [
    "#Grace v HU\n",
    "predictSeries(\"Grace\",\"HU\",eloWk2)"
   ]
  },
  {
   "cell_type": "code",
   "execution_count": 64,
   "metadata": {},
   "outputs": [
    {
     "name": "stdout",
     "output_type": "stream",
     "text": [
      "Elo probability: 0.31159\n",
      "Binomial probability: 0.32785\n",
      "The binomial simulation better predicted the results by 1.63%.\n"
     ]
    }
   ],
   "source": [
    "#Result: HU 3, Grace 1\n",
    "printResults(\"Grace\",\"HU\",1,eloWk2)"
   ]
  },
  {
   "cell_type": "code",
   "execution_count": 65,
   "metadata": {},
   "outputs": [
    {
     "data": {
      "image/png": "[encoded data removed]",
      "text/plain": [
       "<Figure size 432x288 with 1 Axes>"
      ]
     },
     "metadata": {
      "needs_background": "light"
     },
     "output_type": "display_data"
    }
   ],
   "source": [
    "#SFU v SAU\n",
    "predictSeries(\"SFU\",\"SAU\",eloWk2)"
   ]
  },
  {
   "cell_type": "code",
   "execution_count": 66,
   "metadata": {},
   "outputs": [
    {
     "name": "stdout",
     "output_type": "stream",
     "text": [
      "Elo probability: 0.15384\n",
      "Binomial probability: 0.14239\n",
      "The Elo simulation better predicted the results by 1.14%.\n"
     ]
    }
   ],
   "source": [
    "#Result: SFU 3, SAU 1\n",
    "printResults(\"SFU\",\"SAU\",3,eloWk2)"
   ]
  },
  {
   "cell_type": "code",
   "execution_count": 67,
   "metadata": {},
   "outputs": [
    {
     "data": {
      "image/png": "[encoded data removed]",
      "text/plain": [
       "<Figure size 432x288 with 1 Axes>"
      ]
     },
     "metadata": {
      "needs_background": "light"
     },
     "output_type": "display_data"
    }
   ],
   "source": [
    "#Taylor v Bethel\n",
    "predictSeries(\"Taylor\",\"Bethel\",eloWk2)"
   ]
  },
  {
   "cell_type": "code",
   "execution_count": 68,
   "metadata": {},
   "outputs": [
    {
     "name": "stdout",
     "output_type": "stream",
     "text": [
      "Elo probability: 0.22909\n",
      "Binomial probability: 0.19939\n",
      "The Elo simulation better predicted the results by 2.97%.\n"
     ]
    }
   ],
   "source": [
    "#Result: Taylor 4, Bethel 0\n",
    "printResults(\"Taylor\", \"Bethel\",4,eloWk2)"
   ]
  },
  {
   "cell_type": "code",
   "execution_count": 69,
   "metadata": {},
   "outputs": [
    {
     "data": {
      "image/png": "[encoded data removed]",
      "text/plain": [
       "<Figure size 432x288 with 1 Axes>"
      ]
     },
     "metadata": {
      "needs_background": "light"
     },
     "output_type": "display_data"
    }
   ],
   "source": [
    "#IWU v MVNU\n",
    "predictSeries(\"IWU\",\"MVNU\",eloWk2)"
   ]
  },
  {
   "cell_type": "code",
   "execution_count": 70,
   "metadata": {},
   "outputs": [
    {
     "name": "stdout",
     "output_type": "stream",
     "text": [
      "Elo probability: 0.09981\n",
      "Binomial probability: 0.07524\n",
      "The Elo simulation better predicted the results by 2.46%.\n"
     ]
    }
   ],
   "source": [
    "#Result: IWU 4, MVNU 0\n",
    "printResults(\"IWU\",\"MVNU\",4,eloWk2)"
   ]
  },
  {
   "cell_type": "code",
   "execution_count": 71,
   "metadata": {},
   "outputs": [
    {
     "data": {
      "image/png": "[encoded data removed]",
      "text/plain": [
       "<Figure size 432x288 with 1 Axes>"
      ]
     },
     "metadata": {
      "needs_background": "light"
     },
     "output_type": "display_data"
    }
   ],
   "source": [
    "#Marian v Goshen\n",
    "predictSeries(\"Marian\",\"Goshen\",eloWk2)"
   ]
  },
  {
   "cell_type": "code",
   "execution_count": 72,
   "metadata": {},
   "outputs": [
    {
     "name": "stdout",
     "output_type": "stream",
     "text": [
      "Elo probability: 0.16231\n",
      "Binomial probability: 0.13342\n",
      "The Elo simulation better predicted the results by 2.89%.\n"
     ]
    }
   ],
   "source": [
    "#Result: Marian 4, Goshen 0\n",
    "printResults(\"Marian\", \"Goshen\", 4, eloWk2)"
   ]
  },
  {
   "cell_type": "markdown",
   "metadata": {},
   "source": [
    "Predictions:\n",
    "- Grace 2, HU 2\n",
    "- SAU 3, SFU 1\n",
    "- Taylor 3, Bethel 1\n",
    "- IWU 2, MVNU 2\n",
    "- Marian 3, Goshen 1\n",
    "\n",
    "Results:\n",
    "- Grace 1, HU 3\n",
    "- SFU 3, SAU 1\n",
    "- Taylor 4, Bethel 0\n",
    "- IWU 4, MVNU 0\n",
    "- Marian 4, Goshen 0"
   ]
  },
  {
   "cell_type": "code",
   "execution_count": 73,
   "metadata": {},
   "outputs": [
    {
     "name": "stdout",
     "output_type": "stream",
     "text": [
      "After this week, the Elo model has outperformed the binomial model this season by an average of 1.57%.\n"
     ]
    }
   ],
   "source": [
    "compareSims()"
   ]
  },
  {
   "cell_type": "markdown",
   "metadata": {},
   "source": [
    "##### Weekend Games 3/19-3/20"
   ]
  },
  {
   "cell_type": "code",
   "execution_count": 74,
   "metadata": {},
   "outputs": [],
   "source": [
    "#eloWk3 = eloDict.copy()\n",
    "#with open(\"eloWk3.pkl\", \"wb\") as f:\n",
    "    #pickle.dump(eloWk3, f)"
   ]
  },
  {
   "cell_type": "code",
   "execution_count": 75,
   "metadata": {},
   "outputs": [
    {
     "data": {
      "text/plain": [
       "{'Bethel': 1400.2147032104012,\n",
       " 'Goshen': 1424.5888242889325,\n",
       " 'Grace': 1466.7218352079278,\n",
       " 'HU': 1561.1835435731616,\n",
       " 'IWU': 1593.1147593654457,\n",
       " 'Marian': 1552.4925126444925,\n",
       " 'MVNU': 1483.1157461360804,\n",
       " 'SAU': 1489.8219461064166,\n",
       " 'SFU': 1444.8823860979076,\n",
       " 'Taylor': 1583.8637433692345}"
      ]
     },
     "execution_count": 75,
     "metadata": {},
     "output_type": "execute_result"
    }
   ],
   "source": [
    "with open(\"eloWk3.pkl\", \"rb\") as f:\n",
    "    eloWk3 = pickle.load(f)\n",
    "eloWk3"
   ]
  },
  {
   "cell_type": "code",
   "execution_count": 76,
   "metadata": {},
   "outputs": [
    {
     "data": {
      "image/png": "[encoded data removed]",
      "text/plain": [
       "<Figure size 432x288 with 1 Axes>"
      ]
     },
     "metadata": {
      "needs_background": "light"
     },
     "output_type": "display_data"
    }
   ],
   "source": [
    "#Grace v SFU\n",
    "predictSeries(\"Grace\", \"SFU\", eloWk3)"
   ]
  },
  {
   "cell_type": "code",
   "execution_count": 77,
   "metadata": {},
   "outputs": [
    {
     "name": "stdout",
     "output_type": "stream",
     "text": [
      "Elo probability: 0.22128\n",
      "Binomial probability: 0.21873\n",
      "The Elo simulation better predicted the results by 0.25%.\n"
     ]
    }
   ],
   "source": [
    "#Result: Grace 1, SFU 3\n",
    "printResults(\"Grace\", \"SFU\", 1, eloWk3)"
   ]
  },
  {
   "cell_type": "code",
   "execution_count": 78,
   "metadata": {},
   "outputs": [
    {
     "data": {
      "image/png": "[encoded data removed]",
      "text/plain": [
       "<Figure size 432x288 with 1 Axes>"
      ]
     },
     "metadata": {
      "needs_background": "light"
     },
     "output_type": "display_data"
    }
   ],
   "source": [
    "#HU v Bethel\n",
    "predictSeries(\"HU\", \"Bethel\", eloWk3)"
   ]
  },
  {
   "cell_type": "code",
   "execution_count": 79,
   "metadata": {},
   "outputs": [
    {
     "name": "stdout",
     "output_type": "stream",
     "text": [
      "Elo probability: 0.38294\n",
      "Binomial probability: 0.41709\n",
      "The binomial simulation better predicted the results by 3.41%.\n"
     ]
    }
   ],
   "source": [
    "#Result: HU 3, Bethel 1\n",
    "printResults(\"HU\", \"Bethel\", 3, eloWk3)"
   ]
  },
  {
   "cell_type": "code",
   "execution_count": 80,
   "metadata": {},
   "outputs": [
    {
     "data": {
      "image/png": "[encoded data removed]",
      "text/plain": [
       "<Figure size 432x288 with 1 Axes>"
      ]
     },
     "metadata": {
      "needs_background": "light"
     },
     "output_type": "display_data"
    }
   ],
   "source": [
    "#Marian v SAU\n",
    "predictSeries(\"Marian\", \"SAU\", eloWk3)"
   ]
  },
  {
   "cell_type": "code",
   "execution_count": 81,
   "metadata": {},
   "outputs": [
    {
     "name": "stdout",
     "output_type": "stream",
     "text": [
      "Elo probability: 0.31826\n",
      "Binomial probability: 0.33613\n",
      "The binomial simulation better predicted the results by 1.79%.\n"
     ]
    }
   ],
   "source": [
    "#Result: Marian 3, SAU 1\n",
    "printResults(\"Marian\", \"SAU\", 3, eloWk3)"
   ]
  },
  {
   "cell_type": "code",
   "execution_count": 82,
   "metadata": {},
   "outputs": [
    {
     "data": {
      "image/png": "[encoded data removed]",
      "text/plain": [
       "<Figure size 432x288 with 1 Axes>"
      ]
     },
     "metadata": {
      "needs_background": "light"
     },
     "output_type": "display_data"
    }
   ],
   "source": [
    "#Taylor v MVNU\n",
    "predictSeries(\"Taylor\", \"MVNU\", eloWk3)"
   ]
  },
  {
   "cell_type": "code",
   "execution_count": 83,
   "metadata": {},
   "outputs": [
    {
     "name": "stdout",
     "output_type": "stream",
     "text": [
      "Elo probability: 0.19858\n",
      "Binomial probability: 0.16888\n",
      "The Elo simulation better predicted the results by 2.97%.\n"
     ]
    }
   ],
   "source": [
    "#Result: Taylor 4, MVNU 0\n",
    "printResults(\"Taylor\", \"MVNU\", 4, eloWk3)"
   ]
  },
  {
   "cell_type": "code",
   "execution_count": 84,
   "metadata": {},
   "outputs": [
    {
     "data": {
      "image/png": "[encoded data removed]",
      "text/plain": [
       "<Figure size 432x288 with 1 Axes>"
      ]
     },
     "metadata": {
      "needs_background": "light"
     },
     "output_type": "display_data"
    }
   ],
   "source": [
    "#IWU v Goshen\n",
    "predictSeries(\"IWU\",\"Goshen\",eloWk3)"
   ]
  },
  {
   "cell_type": "code",
   "execution_count": 85,
   "metadata": {},
   "outputs": [
    {
     "name": "stdout",
     "output_type": "stream",
     "text": [
      "Elo probability: 0.30442\n",
      "Binomial probability: 0.2765\n",
      "The Elo simulation better predicted the results by 2.79%.\n"
     ]
    }
   ],
   "source": [
    "#Result: IWU 4, Goshen 0\n",
    "printResults(\"IWU\", \"Goshen\", 4, eloWk3)"
   ]
  },
  {
   "cell_type": "markdown",
   "metadata": {},
   "source": [
    "Predictions:\n",
    "- Grace 2, SFU 2\n",
    "- HU 3, Bethel 1\n",
    "- Marian 2, SAU 2 (Binomial)\n",
    "- Marian 3, SAU 1 (Elo)\n",
    "- Taylor 3, MVNU 1\n",
    "- IWU 3, Goshen 1\n",
    "\n",
    "Results:\n",
    "- Grace 1, SFU 3\n",
    "- HU 3, Bethel 1\n",
    "- Marian 3, SAU 1\n",
    "- Taylor 4, MVNU 0\n",
    "- IWU 4, Goshen 0"
   ]
  },
  {
   "cell_type": "code",
   "execution_count": 86,
   "metadata": {},
   "outputs": [
    {
     "name": "stdout",
     "output_type": "stream",
     "text": [
      "After this week, the Elo model has outperformed the binomial model this season by an average of 0.86%.\n"
     ]
    }
   ],
   "source": [
    "compareSims()"
   ]
  },
  {
   "cell_type": "markdown",
   "metadata": {},
   "source": [
    "##### Weekend Games 3/26 - 3/27"
   ]
  },
  {
   "cell_type": "code",
   "execution_count": 90,
   "metadata": {},
   "outputs": [],
   "source": [
    "#eloWk4 = eloDict.copy()\n",
    "#with open(\"eloWk4.pkl\", \"wb\") as f:\n",
    "    #pickle.dump(eloWk4, f)"
   ]
  },
  {
   "cell_type": "code",
   "execution_count": 91,
   "metadata": {},
   "outputs": [
    {
     "data": {
      "text/plain": [
       "{'Bethel': 1393.7860257348211,\n",
       " 'Goshen': 1390.3152109015975,\n",
       " 'Grace': 1434.6376645107598,\n",
       " 'HU': 1567.6122210487417,\n",
       " 'IWU': 1627.3883727527807,\n",
       " 'Marian': 1561.5340998571191,\n",
       " 'MVNU': 1457.8575811307321,\n",
       " 'SAU': 1480.78035889379,\n",
       " 'SFU': 1476.9665567950756,\n",
       " 'Taylor': 1609.1219083745827}"
      ]
     },
     "execution_count": 91,
     "metadata": {},
     "output_type": "execute_result"
    }
   ],
   "source": [
    "with open(\"eloWk4.pkl\", \"rb\") as f:\n",
    "    eloWk4 = pickle.load(f)\n",
    "eloWk4"
   ]
  },
  {
   "cell_type": "code",
   "execution_count": 92,
   "metadata": {},
   "outputs": [
    {
     "data": {
      "image/png": "[encoded data removed]",
      "text/plain": [
       "<Figure size 432x288 with 1 Axes>"
      ]
     },
     "metadata": {
      "needs_background": "light"
     },
     "output_type": "display_data"
    }
   ],
   "source": [
    "#Grace v SAU\n",
    "predictSeries(\"Grace\", \"SAU\", eloWk4)"
   ]
  },
  {
   "cell_type": "code",
   "execution_count": 93,
   "metadata": {},
   "outputs": [
    {
     "data": {
      "image/png": "[encoded data removed]",
      "text/plain": [
       "<Figure size 432x288 with 1 Axes>"
      ]
     },
     "metadata": {
      "needs_background": "light"
     },
     "output_type": "display_data"
    }
   ],
   "source": [
    "#Marian v MVNU\n",
    "predictSeries(\"Marian\", \"MVNU\", eloWk4)"
   ]
  },
  {
   "cell_type": "code",
   "execution_count": 94,
   "metadata": {},
   "outputs": [
    {
     "data": {
      "image/png": "[encoded data removed]",
      "text/plain": [
       "<Figure size 432x288 with 1 Axes>"
      ]
     },
     "metadata": {
      "needs_background": "light"
     },
     "output_type": "display_data"
    }
   ],
   "source": [
    "#SFU v Goshen\n",
    "predictSeries(\"SFU\", \"Goshen\", eloWk4)"
   ]
  },
  {
   "cell_type": "code",
   "execution_count": 95,
   "metadata": {},
   "outputs": [
    {
     "data": {
      "image/png": "[encoded data removed]",
      "text/plain": [
       "<Figure size 432x288 with 1 Axes>"
      ]
     },
     "metadata": {
      "needs_background": "light"
     },
     "output_type": "display_data"
    }
   ],
   "source": [
    "#Taylor v HU\n",
    "predictSeries(\"Taylor\", \"HU\", eloWk4)"
   ]
  },
  {
   "cell_type": "code",
   "execution_count": 96,
   "metadata": {},
   "outputs": [
    {
     "data": {
      "image/png": "[encoded data removed]",
      "text/plain": [
       "<Figure size 432x288 with 1 Axes>"
      ]
     },
     "metadata": {
      "needs_background": "light"
     },
     "output_type": "display_data"
    }
   ],
   "source": [
    "#IWU v Bethel\n",
    "predictSeries(\"IWU\", \"Bethel\", eloWk4)"
   ]
  },
  {
   "cell_type": "markdown",
   "metadata": {},
   "source": [
    "Predictions:\n",
    "- Grace 2, SAU 2\n",
    "- Marian 3, MVNU 1\n",
    "- SFU 3, Goshen 1\n",
    "- Taylor 2, HU 2\n",
    "- IWU 3, Bethel 1 (Binomial)\n",
    "- IWU 4, Bethel 0 (Elo)"
   ]
  },
  {
   "cell_type": "code",
   "execution_count": null,
   "metadata": {},
   "outputs": [],
   "source": []
  }
 ],
 "metadata": {
  "kernelspec": {
   "display_name": "Python 3",
   "language": "python",
   "name": "python3"
  },
  "language_info": {
   "codemirror_mode": {
    "name": "ipython",
    "version": 3
   },
   "file_extension": ".py",
   "mimetype": "text/x-python",
   "name": "python",
   "nbconvert_exporter": "python",
   "pygments_lexer": "ipython3",
   "version": "3.8.5"
  }
 },
 "nbformat": 4,
 "nbformat_minor": 4
}
