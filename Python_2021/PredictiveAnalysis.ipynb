{
 "cells": [
  {
   "cell_type": "code",
   "execution_count": 45,
   "metadata": {},
   "outputs": [],
   "source": [
    "import pickle\n",
    "import matplotlib.pyplot as plt"
   ]
  },
  {
   "cell_type": "code",
   "execution_count": 46,
   "metadata": {},
   "outputs": [],
   "source": [
    "with open('EloRatings.pkl', 'rb')as f:\n",
    "    eloDict = pickle.load(f)"
   ]
  },
  {
   "cell_type": "code",
   "execution_count": 47,
   "metadata": {},
   "outputs": [
    {
     "data": {
      "text/plain": [
       "{'Bethel': 1432.571963486864,\n",
       " 'Goshen': 1450.385483229496,\n",
       " 'Grace': 1485.8920376986255,\n",
       " 'HU': 1542.013341082464,\n",
       " 'IWU': 1557.7312585671455,\n",
       " 'Marian': 1523.9959776208184,\n",
       " 'MVNU': 1541.2211569401413,\n",
       " 'SAU': 1495.8273064341213,\n",
       " 'SFU': 1416.1551157644421,\n",
       " 'Taylor': 1554.2063591758824}"
      ]
     },
     "execution_count": 47,
     "metadata": {},
     "output_type": "execute_result"
    }
   ],
   "source": [
    "eloDict"
   ]
  },
  {
   "cell_type": "code",
   "execution_count": 48,
   "metadata": {},
   "outputs": [],
   "source": [
    "def gamePlayed(winTeam, loseTeam, elo, winTeamLocation=\"N\", marginOfVictory=1, k=20, tie=False): \n",
    "    if winTeamLocation == \"H\":\n",
    "        rW = elo[winTeam] + 37.85 # get ratings\n",
    "        rL = elo[loseTeam]\n",
    "    elif winTeamLocation == \"A\":\n",
    "        rW = elo[winTeam]\n",
    "        rL = elo[loseTeam] + 37.85\n",
    "    elif winTeamLocation == \"N\":\n",
    "        rW = elo[winTeam]\n",
    "        rL = elo[loseTeam]\n",
    "    cW = 10 ** (rW/400)\n",
    "    cL = 10 ** (rL/400)\n",
    "    exp_winTeam = cW / float(cW + cL)\n",
    "    exp_loseTeam = cL / float(cW + cL)\n",
    "    if tie == True:\n",
    "        s1 = 0.5\n",
    "        s2 = 0.5\n",
    "    else:\n",
    "        s1 = 1\n",
    "        s2 = 0\n",
    "    if winTeamLocation == \"H\":\n",
    "        new_rW = rW + k * (0.95 + 0.05*marginOfVictory) * (s1 - exp_winTeam) - 37.85\n",
    "        new_rL = rL + k * (0.95 + 0.05*marginOfVictory) * (s2 - exp_loseTeam)\n",
    "    elif winTeamLocation == \"A\":\n",
    "        new_rW = rW + k * (0.95 + 0.05*marginOfVictory) * (s1 - exp_winTeam)\n",
    "        new_rL = rL + k * (0.95 + 0.05*marginOfVictory) * (s2 - exp_loseTeam) - 37.85\n",
    "    elif winTeamLocation == \"N\":\n",
    "        new_rW = rW + k * (0.95 + 0.05*marginOfVictory) * (s1 - exp_winTeam)\n",
    "        new_rL = rL + k * (0.95 + 0.05*marginOfVictory) * (s2 - exp_loseTeam)\n",
    "    elo[winTeam] = new_rW\n",
    "    elo[loseTeam] = new_rL"
   ]
  },
  {
   "cell_type": "code",
   "execution_count": 84,
   "metadata": {},
   "outputs": [],
   "source": [
    "def expectGame(team1, team2, elo, Location1=\"N\"):\n",
    "    if type(team1) == str:\n",
    "        if Location1 == \"N\" or Location1 == \"A\": r1 = elo[team1]\n",
    "        elif Location1 == \"H\": r1 = elo[team1] + 37.85\n",
    "    else:\n",
    "        if Location1 == \"N\" or Location1 == \"A\": r1 = team1\n",
    "        elif Location1 == \"H\": r1 = team1 + 37.85\n",
    "    if type(team2) == str:\n",
    "        if Location1 == \"N\" or Location1 == \"H\": r2 = elo[team2]\n",
    "        elif Location1 == \"A\": r2 = elo[team2] + 37.85\n",
    "    else:\n",
    "        if Location1 == \"N\" or Location1 == \"H\": r2 = team2\n",
    "        elif Location1 == \"A\": r2 = team2 + 37.85\n",
    "    d = r1 - r2\n",
    "    p = 1 - 1 / (1 + 10 ** (d / 400.0))\n",
    "    return p"
   ]
  },
  {
   "cell_type": "code",
   "execution_count": 119,
   "metadata": {},
   "outputs": [],
   "source": [
    "def simSeries(t1, t2, eloDict):\n",
    "    elo = eloDict.copy()\n",
    "    t1wins = dict.fromkeys([0,1,2,3,4], 0)\n",
    "        # 1, 1, 1, 1\n",
    "    p1 = expectGame(t1, t2, elo)\n",
    "    gamePlayed(t1, t2, elo)\n",
    "    p2 = expectGame(t1, t2, elo)\n",
    "    gamePlayed(t1, t2, elo)\n",
    "    p3 = expectGame(t1, t2, elo)\n",
    "    gamePlayed(t1, t2, elo)\n",
    "    p4 = expectGame(t1, t2, elo)\n",
    "    p = p1*p2*p3*p4\n",
    "    t1wins[4] += p\n",
    "    elo = eloDict.copy()\n",
    "    \n",
    "        # 1, 1, 1, 2\n",
    "    p1 = expectGame(t1, t2, elo)\n",
    "    gamePlayed(t1, t2, elo)\n",
    "    p2 = expectGame(t1, t2, elo)\n",
    "    gamePlayed(t1, t2, elo)\n",
    "    p3 = expectGame(t1, t2, elo)\n",
    "    gamePlayed(t1, t2, elo)\n",
    "    p4 = expectGame(t2, t1, elo)\n",
    "    p = p1*p2*p3*p4\n",
    "    t1wins[3] += p\n",
    "    elo = eloDict.copy()\n",
    "    \n",
    "        # 1, 1, 2, 1\n",
    "    p1 = expectGame(t1, t2, elo)\n",
    "    gamePlayed(t1, t2, elo)\n",
    "    p2 = expectGame(t1, t2, elo)\n",
    "    gamePlayed(t1, t2, elo)\n",
    "    p3 = expectGame(t2, t1, elo)\n",
    "    gamePlayed(t2, t1, elo)\n",
    "    p4 = expectGame(t1, t2, elo)\n",
    "    p = p1*p2*p3*p4\n",
    "    t1wins[3] += p\n",
    "    elo = eloDict.copy()\n",
    "    \n",
    "        # 1, 1, 2, 2\n",
    "    p1 = expectGame(t1, t2, elo)\n",
    "    gamePlayed(t1, t2, elo)\n",
    "    p2 = expectGame(t1, t2, elo)\n",
    "    gamePlayed(t1, t2, elo)\n",
    "    p3 = expectGame(t2, t1, elo)\n",
    "    gamePlayed(t2, t1, elo)\n",
    "    p4 = expectGame(t2, t1, elo)\n",
    "    p = p1*p2*p3*p4\n",
    "    t1wins[2] += p\n",
    "    elo = eloDict.copy()\n",
    "    \n",
    "        # 1, 2, 1, 1\n",
    "    p1 = expectGame(t1, t2, elo)\n",
    "    gamePlayed(t1, t2, elo)\n",
    "    p2 = expectGame(t2, t1, elo)\n",
    "    gamePlayed(t2, t1, elo)\n",
    "    p3 = expectGame(t1, t2, elo)\n",
    "    gamePlayed(t1, t2, elo)\n",
    "    p4 = expectGame(t1, t2, elo)\n",
    "    p = p1*p2*p3*p4\n",
    "    t1wins[3] += p\n",
    "    elo = eloDict.copy()\n",
    "    \n",
    "        # 1, 2, 1, 2\n",
    "    p1 = expectGame(t1, t2, elo)\n",
    "    gamePlayed(t1, t2, elo)\n",
    "    p2 = expectGame(t2, t1, elo)\n",
    "    gamePlayed(t2, t1, elo)\n",
    "    p3 = expectGame(t1, t2, elo)\n",
    "    gamePlayed(t1, t2, elo)\n",
    "    p4 = expectGame(t2, t1, elo)\n",
    "    p = p1*p2*p3*p4\n",
    "    t1wins[2] += p\n",
    "    elo = eloDict.copy()\n",
    "    \n",
    "        # 1, 2, 2, 1\n",
    "    p1 = expectGame(t1, t2, elo)\n",
    "    gamePlayed(t1, t2, elo)\n",
    "    p2 = expectGame(t2, t1, elo)\n",
    "    gamePlayed(t2, t1, elo)\n",
    "    p3 = expectGame(t2, t1, elo)\n",
    "    gamePlayed(t2, t1, elo)\n",
    "    p4 = expectGame(t1, t2, elo)\n",
    "    p = p1*p2*p3*p4\n",
    "    t1wins[2] += p\n",
    "    elo = eloDict.copy()\n",
    "    \n",
    "        # 1, 2, 2, 2\n",
    "    p1 = expectGame(t1, t2, elo)\n",
    "    gamePlayed(t1, t2, elo)\n",
    "    p2 = expectGame(t2, t1, elo)\n",
    "    gamePlayed(t2, t1, elo)\n",
    "    p3 = expectGame(t2, t1, elo)\n",
    "    gamePlayed(t2, t1, elo)\n",
    "    p4 = expectGame(t2, t1, elo)\n",
    "    p = p1*p2*p3*p4\n",
    "    t1wins[1] += p\n",
    "    elo = eloDict.copy()\n",
    "    \n",
    "        # 2, 1, 1, 1\n",
    "    p1 = expectGame(t2, t1, elo)\n",
    "    gamePlayed(t2, t1, elo)\n",
    "    p2 = expectGame(t1, t2, elo)\n",
    "    gamePlayed(t1, t2, elo)\n",
    "    p3 = expectGame(t1, t2, elo)\n",
    "    gamePlayed(t1, t2, elo)\n",
    "    p4 = expectGame(t1, t2, elo)\n",
    "    p = p1*p2*p3*p4\n",
    "    t1wins[3] += p\n",
    "    elo = eloDict.copy()\n",
    "    \n",
    "        # 2, 1, 1, 2\n",
    "    p1 = expectGame(t2, t1, elo)\n",
    "    gamePlayed(t2, t1, elo)\n",
    "    p2 = expectGame(t1, t2, elo)\n",
    "    gamePlayed(t1, t2, elo)\n",
    "    p3 = expectGame(t1, t2, elo)\n",
    "    gamePlayed(t1, t2, elo)\n",
    "    p4 = expectGame(t2, t1, elo)\n",
    "    p = p1*p2*p3*p4\n",
    "    t1wins[2] += p\n",
    "    elo = eloDict.copy()\n",
    "    \n",
    "        # 2, 1, 2, 1\n",
    "    p1 = expectGame(t2, t1, elo)\n",
    "    gamePlayed(t2, t1, elo)\n",
    "    p2 = expectGame(t1, t2, elo)\n",
    "    gamePlayed(t1, t2, elo)\n",
    "    p3 = expectGame(t2, t1, elo)\n",
    "    gamePlayed(t2, t1, elo)\n",
    "    p4 = expectGame(t1, t2, elo)\n",
    "    p = p1*p2*p3*p4\n",
    "    t1wins[2] += p\n",
    "    elo = eloDict.copy()\n",
    "    \n",
    "        # 2, 1, 2, 2\n",
    "    p1 = expectGame(t2, t1, elo)\n",
    "    gamePlayed(t2, t1, elo)\n",
    "    p2 = expectGame(t1, t2, elo)\n",
    "    gamePlayed(t1, t2, elo)\n",
    "    p3 = expectGame(t2, t1, elo)\n",
    "    gamePlayed(t2, t1, elo)\n",
    "    p4 = expectGame(t2, t1, elo)\n",
    "    p = p1*p2*p3*p4\n",
    "    t1wins[1] += p\n",
    "    elo = eloDict.copy()\n",
    "    \n",
    "        # 2, 2, 1, 1\n",
    "    p1 = expectGame(t2, t1, elo)\n",
    "    gamePlayed(t2, t1, elo)\n",
    "    p2 = expectGame(t2, t1, elo)\n",
    "    gamePlayed(t2, t1, elo)\n",
    "    p3 = expectGame(t1, t2, elo)\n",
    "    gamePlayed(t1, t2, elo)\n",
    "    p4 = expectGame(t1, t2, elo)\n",
    "    p = p1*p2*p3*p4\n",
    "    t1wins[2] += p\n",
    "    elo = eloDict.copy()\n",
    "    \n",
    "        # 2, 2, 1, 2\n",
    "    p1 = expectGame(t2, t1, elo)\n",
    "    gamePlayed(t2, t1, elo)\n",
    "    p2 = expectGame(t2, t1, elo)\n",
    "    gamePlayed(t2, t1, elo)\n",
    "    p3 = expectGame(t1, t2, elo)\n",
    "    gamePlayed(t1, t2, elo)\n",
    "    p4 = expectGame(t2, t1, elo)\n",
    "    p = p1*p2*p3*p4\n",
    "    t1wins[1] += p\n",
    "    elo = eloDict.copy()\n",
    "    \n",
    "        # 2, 2, 2, 1\n",
    "    p1 = expectGame(t2, t1, elo)\n",
    "    gamePlayed(t2, t1, elo)\n",
    "    p2 = expectGame(t2, t1, elo)\n",
    "    gamePlayed(t2, t1, elo)\n",
    "    p3 = expectGame(t2, t1, elo)\n",
    "    gamePlayed(t2, t1, elo)\n",
    "    p4 = expectGame(t1, t2, elo)\n",
    "    p = p1*p2*p3*p4\n",
    "    t1wins[1] += p\n",
    "    elo = eloDict.copy()\n",
    "    \n",
    "        # 2, 2, 2, 2\n",
    "    p1 = expectGame(t2, t1, elo)\n",
    "    gamePlayed(t2, t1, elo)\n",
    "    p2 = expectGame(t2, t1, elo)\n",
    "    gamePlayed(t2, t1, elo)\n",
    "    p3 = expectGame(t2, t1, elo)\n",
    "    gamePlayed(t2, t1, elo)\n",
    "    p4 = expectGame(t2, t1, elo)\n",
    "    p = p1*p2*p3*p4\n",
    "    t1wins[0] += p\n",
    "    elo = eloDict.copy()\n",
    "    \n",
    "    return t1wins"
   ]
  },
  {
   "cell_type": "code",
   "execution_count": 120,
   "metadata": {},
   "outputs": [
    {
     "name": "stdout",
     "output_type": "stream",
     "text": [
      "{0: 0.1411313671961819, 1: 0.3115909344028579, 2: 0.3195642274527736, 3: 0.18041707338775143, 4: 0.047296397560435195}\n",
      "1.0\n"
     ]
    }
   ],
   "source": [
    "GraceVsHU_sim = simSeries(\"Grace\", \"HU\", eloDict)\n",
    "print(GraceVsHU_sim)\n",
    "print(sum(GraceVsHU_sim.values()))"
   ]
  },
  {
   "cell_type": "code",
   "execution_count": 121,
   "metadata": {},
   "outputs": [],
   "source": [
    "def simSeriesBinomial(t1, t2, elo):\n",
    "    t1wins = dict.fromkeys([0,1,2,3,4], 0)\n",
    "    p = expectGame(t1, t2, elo)\n",
    "    q = expectGame(t2, t1, elo)\n",
    "    t1wins[0] = q**4\n",
    "    t1wins[1] = 4*(p)*(q**3)\n",
    "    t1wins[2] = 6*(p**2)*(q**2)\n",
    "    t1wins[3] = 4*(p**3)*(q)\n",
    "    t1wins[4] = p**4\n",
    "    return t1wins"
   ]
  },
  {
   "cell_type": "code",
   "execution_count": 122,
   "metadata": {
    "scrolled": true
   },
   "outputs": [
    {
     "data": {
      "text/plain": [
       "{0: 0.11321949403565622,\n",
       " 1: 0.327852079467709,\n",
       " 2: 0.35601307087226325,\n",
       " 3: 0.1718190944020027,\n",
       " 4: 0.031096261222368856}"
      ]
     },
     "execution_count": 122,
     "metadata": {},
     "output_type": "execute_result"
    }
   ],
   "source": [
    "GraceVsHU = simSeriesBinomial(\"Grace\",\"HU\", eloDict)\n",
    "GraceVsHU"
   ]
  },
  {
   "cell_type": "code",
   "execution_count": 123,
   "metadata": {},
   "outputs": [],
   "source": [
    "def winChart(team1, team2, binProbs):\n",
    "    %matplotlib inline\n",
    "    plt.style.use('ggplot')\n",
    "\n",
    "    x = [0, 1, 2, 3, 4]\n",
    "    probs = binProbs.values()\n",
    "\n",
    "    x_pos = [i for i, _ in enumerate(x)]\n",
    "\n",
    "    plt.bar(x_pos, probs, color='black')\n",
    "    plt.xlabel(\"Number of Wins\")\n",
    "    plt.ylabel(\"Probability\")\n",
    "    plt.title(\"Expected \"+str(team1)+\" Wins vs. \"+str(team2))\n",
    "\n",
    "    plt.xticks(x_pos, x)\n",
    "\n",
    "    plt.show()"
   ]
  },
  {
   "cell_type": "code",
   "execution_count": 124,
   "metadata": {},
   "outputs": [
    {
     "data": {
      "image/png": "[encoded data removed]",
      "text/plain": [
       "<Figure size 432x288 with 1 Axes>"
      ]
     },
     "metadata": {},
     "output_type": "display_data"
    }
   ],
   "source": [
    "winChart(\"Grace\",\"HU\",GraceVsHU)"
   ]
  },
  {
   "cell_type": "code",
   "execution_count": 125,
   "metadata": {},
   "outputs": [
    {
     "data": {
      "image/png": "[encoded data removed]",
      "text/plain": [
       "<Figure size 432x288 with 1 Axes>"
      ]
     },
     "metadata": {},
     "output_type": "display_data"
    }
   ],
   "source": [
    "winChart(\"Grace\",\"HU\",GraceVsHU_sim)"
   ]
  },
  {
   "cell_type": "code",
   "execution_count": 126,
   "metadata": {},
   "outputs": [
    {
     "data": {
      "text/plain": [
       "0.41993013732692974"
      ]
     },
     "execution_count": 126,
     "metadata": {},
     "output_type": "execute_result"
    }
   ],
   "source": [
    "expectGame(\"Grace\", \"HU\", eloDict)"
   ]
  },
  {
   "cell_type": "code",
   "execution_count": null,
   "metadata": {},
   "outputs": [],
   "source": []
  }
 ],
 "metadata": {
  "kernelspec": {
   "display_name": "Python 3",
   "language": "python",
   "name": "python3"
  },
  "language_info": {
   "codemirror_mode": {
    "name": "ipython",
    "version": 3
   },
   "file_extension": ".py",
   "mimetype": "text/x-python",
   "name": "python",
   "nbconvert_exporter": "python",
   "pygments_lexer": "ipython3",
   "version": "3.8.5"
  }
 },
 "nbformat": 4,
 "nbformat_minor": 4
}
