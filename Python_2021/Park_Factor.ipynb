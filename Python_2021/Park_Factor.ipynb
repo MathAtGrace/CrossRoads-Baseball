{
 "cells": [
  {
   "cell_type": "markdown",
   "metadata": {},
   "source": [
    "### Ballpark Factor"
   ]
  },
  {
   "cell_type": "markdown",
   "metadata": {},
   "source": [
    "Here we aim to develop a ratio between the total number of runs scored in games played at a given team's home ballpark compared to the total number of runs scored in games played at away ballparks. This ratio will allow us to adjust our individual statistics based on any competetive advantages given by a players home ballpark."
   ]
  },
  {
   "cell_type": "markdown",
   "metadata": {},
   "source": [
    "Before we begin, import the necessary statements and create our list of teams with their corresponding numbers on the DakStats website."
   ]
  },
  {
   "cell_type": "code",
   "execution_count": 1,
   "metadata": {},
   "outputs": [],
   "source": [
    "import requests\n",
    "from bs4 import BeautifulSoup\n",
    "import pandas as pd\n",
    "import pickle"
   ]
  },
  {
   "cell_type": "code",
   "execution_count": 3,
   "metadata": {},
   "outputs": [],
   "source": [
    "teams =[\"Bethel\", \"Goshen\", \"Grace\", \"HU\", \"IWU\", \"Marian\", \"MVNU\", \"SAU\", \"SFU\", \"Taylor\"]\n",
    "t_nums = [1629, 1678, 1679, 1688, 1694, 1717, 1736, 1780, 1805, 1784]"
   ]
  },
  {
   "cell_type": "markdown",
   "metadata": {},
   "source": [
    "First, we gather the different DakStats URL's for each team."
   ]
  },
  {
   "cell_type": "code",
   "execution_count": 4,
   "metadata": {},
   "outputs": [],
   "source": [
    "urls = ['http://www.dakstats.com/WebSync/Pages/Team/TeamSchedule.aspx?association=10&sg=MBA&sea=NAIMBA_2019&team=' +\n",
    "        str(num) for num in t_nums]\n",
    "#Create a handle, page, to handle the contents of the website\n",
    "pages = [requests.get(url) for url in urls]\n",
    "#Store the page as an element tree using BeautifulSoup4\n",
    "soups = [BeautifulSoup(page.content) for page in pages]"
   ]
  },
  {
   "cell_type": "markdown",
   "metadata": {},
   "source": [
    "The code below collects all of the html tables from the different teams' webpages on DakStats."
   ]
  },
  {
   "cell_type": "code",
   "execution_count": 5,
   "metadata": {},
   "outputs": [],
   "source": [
    "team_tables = [\n",
    "  [\n",
    "    [\n",
    "      [td.get_text(strip=True) for td in tr.find_all('td')] \n",
    "      for tr in table.find_all('tr') \n",
    "    ]#for each row in each table\n",
    "    for table in soup.find_all('table') \n",
    "  ]#for each table on each webpage\n",
    "  for soup in soups \n",
    "]#for each team's webpage"
   ]
  },
  {
   "cell_type": "markdown",
   "metadata": {},
   "source": [
    "This loop allows us to locate the table from the webpage that contains the data we are interested in. We find the headers in the 33rd table and the actual data in the 35th table. We will assume that this is the same for all teams."
   ]
  },
  {
   "cell_type": "code",
   "execution_count": 6,
   "metadata": {},
   "outputs": [],
   "source": [
    "for i in range(len(team_tables[2])):\n",
    "  #print(i, team_tables[2][i])\n",
    "  #The line ablve is commented out becuause we only needed to run it once to find the location of the data on the webpage.\n",
    "  pass"
   ]
  },
  {
   "cell_type": "markdown",
   "metadata": {},
   "source": [
    "Next, we define the column names for our dataframe."
   ]
  },
  {
   "cell_type": "code",
   "execution_count": 7,
   "metadata": {},
   "outputs": [
    {
     "data": {
      "text/plain": [
       "['Date', 'Opponent', 'Location', 'Score', 'Outcome']"
      ]
     },
     "execution_count": 7,
     "metadata": {},
     "output_type": "execute_result"
    }
   ],
   "source": [
    "headers = [['Date', 'Opponent', 'Location', 'Score', 'Outcome'] for tables in team_tables]\n",
    "headers[2]"
   ]
  },
  {
   "cell_type": "markdown",
   "metadata": {},
   "source": [
    "Here, we collected the data into the list `team_rows`. We used the code `[:5]` to take only the first 5 columns of data and we used the code `[1::2]` to collect the data from every other row, since between each list of data there is an empty list."
   ]
  },
  {
   "cell_type": "code",
   "execution_count": 8,
   "metadata": {},
   "outputs": [
    {
     "data": {
      "text/plain": [
       "[['2/27/2019', 'Lourdes (Ohio)', 'N', '3-4', 'L'],\n",
       " ['2/27/2019', 'Lourdes (Ohio)', 'N', '4-8', 'L'],\n",
       " ['3/2/2019', 'Cornerstone (Mich.)', 'N', '3-4', 'L'],\n",
       " ['3/2/2019', 'Trinity Baptist', 'N', '5-1', 'W'],\n",
       " ['3/4/2019', 'Michigan-Dearborn', 'N', '13-1', 'W'],\n",
       " ['3/5/2019', 'Rochester (Mich.)', 'N', '24-4', 'W'],\n",
       " ['3/6/2019', 'Robert Morris (Ill.)', 'N', '10-9', 'W'],\n",
       " ['3/8/2019', 'Bethel (Ind.) *', 'N', '13-6', 'W'],\n",
       " ['3/9/2019', 'Bethel (Ind.) *', 'N', '14-2', 'W']]"
      ]
     },
     "execution_count": 8,
     "metadata": {},
     "output_type": "execute_result"
    }
   ],
   "source": [
    "team_rows = [[r[:5] for r in tables[35][1::2]] for tables in team_tables]\n",
    "team_rows[2][:9]"
   ]
  },
  {
   "cell_type": "markdown",
   "metadata": {},
   "source": [
    "Now, we put the data into a dataframe."
   ]
  },
  {
   "cell_type": "code",
   "execution_count": 9,
   "metadata": {},
   "outputs": [
    {
     "data": {
      "text/html": [
       "<div>\n",
       "<style scoped>\n",
       "    .dataframe tbody tr th:only-of-type {\n",
       "        vertical-align: middle;\n",
       "    }\n",
       "\n",
       "    .dataframe tbody tr th {\n",
       "        vertical-align: top;\n",
       "    }\n",
       "\n",
       "    .dataframe thead th {\n",
       "        text-align: right;\n",
       "    }\n",
       "</style>\n",
       "<table border=\"1\" class=\"dataframe\">\n",
       "  <thead>\n",
       "    <tr style=\"text-align: right;\">\n",
       "      <th></th>\n",
       "      <th>Date</th>\n",
       "      <th>Opponent</th>\n",
       "      <th>Location</th>\n",
       "      <th>Score</th>\n",
       "      <th>Outcome</th>\n",
       "    </tr>\n",
       "  </thead>\n",
       "  <tbody>\n",
       "    <tr>\n",
       "      <th>0</th>\n",
       "      <td>2/27/2019</td>\n",
       "      <td>Lourdes (Ohio)</td>\n",
       "      <td>N</td>\n",
       "      <td>3-4</td>\n",
       "      <td>L</td>\n",
       "    </tr>\n",
       "    <tr>\n",
       "      <th>1</th>\n",
       "      <td>2/27/2019</td>\n",
       "      <td>Lourdes (Ohio)</td>\n",
       "      <td>N</td>\n",
       "      <td>4-8</td>\n",
       "      <td>L</td>\n",
       "    </tr>\n",
       "    <tr>\n",
       "      <th>2</th>\n",
       "      <td>3/2/2019</td>\n",
       "      <td>Cornerstone (Mich.)</td>\n",
       "      <td>N</td>\n",
       "      <td>3-4</td>\n",
       "      <td>L</td>\n",
       "    </tr>\n",
       "    <tr>\n",
       "      <th>3</th>\n",
       "      <td>3/2/2019</td>\n",
       "      <td>Trinity Baptist</td>\n",
       "      <td>N</td>\n",
       "      <td>5-1</td>\n",
       "      <td>W</td>\n",
       "    </tr>\n",
       "    <tr>\n",
       "      <th>4</th>\n",
       "      <td>3/4/2019</td>\n",
       "      <td>Michigan-Dearborn</td>\n",
       "      <td>N</td>\n",
       "      <td>13-1</td>\n",
       "      <td>W</td>\n",
       "    </tr>\n",
       "  </tbody>\n",
       "</table>\n",
       "</div>"
      ],
      "text/plain": [
       "        Date             Opponent Location Score Outcome\n",
       "0  2/27/2019       Lourdes (Ohio)        N   3-4       L\n",
       "1  2/27/2019       Lourdes (Ohio)        N   4-8       L\n",
       "2   3/2/2019  Cornerstone (Mich.)        N   3-4       L\n",
       "3   3/2/2019      Trinity Baptist        N   5-1       W\n",
       "4   3/4/2019    Michigan-Dearborn        N  13-1       W"
      ]
     },
     "execution_count": 9,
     "metadata": {},
     "output_type": "execute_result"
    }
   ],
   "source": [
    "dfc = [pd.DataFrame(columns = headers[i], data = team_rows[i]) for i in range(len(headers))]\n",
    "dfc[2][:5]"
   ]
  },
  {
   "cell_type": "markdown",
   "metadata": {},
   "source": [
    "We subset the data to only include opponents with an asterisk which denotes conference games."
   ]
  },
  {
   "cell_type": "code",
   "execution_count": 10,
   "metadata": {},
   "outputs": [
    {
     "data": {
      "text/html": [
       "<div>\n",
       "<style scoped>\n",
       "    .dataframe tbody tr th:only-of-type {\n",
       "        vertical-align: middle;\n",
       "    }\n",
       "\n",
       "    .dataframe tbody tr th {\n",
       "        vertical-align: top;\n",
       "    }\n",
       "\n",
       "    .dataframe thead th {\n",
       "        text-align: right;\n",
       "    }\n",
       "</style>\n",
       "<table border=\"1\" class=\"dataframe\">\n",
       "  <thead>\n",
       "    <tr style=\"text-align: right;\">\n",
       "      <th></th>\n",
       "      <th>Date</th>\n",
       "      <th>Opponent</th>\n",
       "      <th>Location</th>\n",
       "      <th>Score</th>\n",
       "      <th>Outcome</th>\n",
       "    </tr>\n",
       "  </thead>\n",
       "  <tbody>\n",
       "    <tr>\n",
       "      <th>7</th>\n",
       "      <td>3/8/2019</td>\n",
       "      <td>Bethel (Ind.) *</td>\n",
       "      <td>N</td>\n",
       "      <td>13-6</td>\n",
       "      <td>W</td>\n",
       "    </tr>\n",
       "    <tr>\n",
       "      <th>8</th>\n",
       "      <td>3/9/2019</td>\n",
       "      <td>Bethel (Ind.) *</td>\n",
       "      <td>N</td>\n",
       "      <td>14-2</td>\n",
       "      <td>W</td>\n",
       "    </tr>\n",
       "    <tr>\n",
       "      <th>9</th>\n",
       "      <td>3/9/2019</td>\n",
       "      <td>Bethel (Ind.) *</td>\n",
       "      <td>N</td>\n",
       "      <td>3-1</td>\n",
       "      <td>W</td>\n",
       "    </tr>\n",
       "    <tr>\n",
       "      <th>10</th>\n",
       "      <td>3/14/2019</td>\n",
       "      <td>Taylor (Ind.) *</td>\n",
       "      <td>A</td>\n",
       "      <td>5-15</td>\n",
       "      <td>L</td>\n",
       "    </tr>\n",
       "    <tr>\n",
       "      <th>11</th>\n",
       "      <td>3/16/2019</td>\n",
       "      <td>Taylor (Ind.) *</td>\n",
       "      <td>A</td>\n",
       "      <td>2-10</td>\n",
       "      <td>L</td>\n",
       "    </tr>\n",
       "  </tbody>\n",
       "</table>\n",
       "</div>"
      ],
      "text/plain": [
       "         Date         Opponent Location Score Outcome\n",
       "7    3/8/2019  Bethel (Ind.) *        N  13-6       W\n",
       "8    3/9/2019  Bethel (Ind.) *        N  14-2       W\n",
       "9    3/9/2019  Bethel (Ind.) *        N   3-1       W\n",
       "10  3/14/2019  Taylor (Ind.) *        A  5-15       L\n",
       "11  3/16/2019  Taylor (Ind.) *        A  2-10       L"
      ]
     },
     "execution_count": 10,
     "metadata": {},
     "output_type": "execute_result"
    }
   ],
   "source": [
    "conf_df = [df[df.Opponent.str.contains(\"*\", regex = False)] for df in dfc]\n",
    "conf_df[2][:5]"
   ]
  },
  {
   "cell_type": "markdown",
   "metadata": {},
   "source": [
    "The below code copies the dataframe with `.copy()` to avoid errors, splits the \"Score\" column into two columns, one for the selected team and one for the opponent. Then, the code `str.replace(' \\*', '', regex= True)` eliminates the parentheses and the number between them for extra-inning games."
   ]
  },
  {
   "cell_type": "code",
   "execution_count": 11,
   "metadata": {},
   "outputs": [
    {
     "data": {
      "text/html": [
       "<div>\n",
       "<style scoped>\n",
       "    .dataframe tbody tr th:only-of-type {\n",
       "        vertical-align: middle;\n",
       "    }\n",
       "\n",
       "    .dataframe tbody tr th {\n",
       "        vertical-align: top;\n",
       "    }\n",
       "\n",
       "    .dataframe thead th {\n",
       "        text-align: right;\n",
       "    }\n",
       "</style>\n",
       "<table border=\"1\" class=\"dataframe\">\n",
       "  <thead>\n",
       "    <tr style=\"text-align: right;\">\n",
       "      <th></th>\n",
       "      <th>Date</th>\n",
       "      <th>Opponent</th>\n",
       "      <th>Location</th>\n",
       "      <th>Score</th>\n",
       "      <th>Outcome</th>\n",
       "      <th>Opp_score</th>\n",
       "    </tr>\n",
       "  </thead>\n",
       "  <tbody>\n",
       "    <tr>\n",
       "      <th>7</th>\n",
       "      <td>2019-03-08</td>\n",
       "      <td>Bethel (Ind.)</td>\n",
       "      <td>N</td>\n",
       "      <td>13</td>\n",
       "      <td>W</td>\n",
       "      <td>6</td>\n",
       "    </tr>\n",
       "    <tr>\n",
       "      <th>8</th>\n",
       "      <td>2019-03-09</td>\n",
       "      <td>Bethel (Ind.)</td>\n",
       "      <td>N</td>\n",
       "      <td>14</td>\n",
       "      <td>W</td>\n",
       "      <td>2</td>\n",
       "    </tr>\n",
       "    <tr>\n",
       "      <th>9</th>\n",
       "      <td>2019-03-09</td>\n",
       "      <td>Bethel (Ind.)</td>\n",
       "      <td>N</td>\n",
       "      <td>3</td>\n",
       "      <td>W</td>\n",
       "      <td>1</td>\n",
       "    </tr>\n",
       "    <tr>\n",
       "      <th>10</th>\n",
       "      <td>2019-03-14</td>\n",
       "      <td>Taylor (Ind.)</td>\n",
       "      <td>A</td>\n",
       "      <td>5</td>\n",
       "      <td>L</td>\n",
       "      <td>15</td>\n",
       "    </tr>\n",
       "    <tr>\n",
       "      <th>11</th>\n",
       "      <td>2019-03-16</td>\n",
       "      <td>Taylor (Ind.)</td>\n",
       "      <td>A</td>\n",
       "      <td>2</td>\n",
       "      <td>L</td>\n",
       "      <td>10</td>\n",
       "    </tr>\n",
       "  </tbody>\n",
       "</table>\n",
       "</div>"
      ],
      "text/plain": [
       "         Date       Opponent Location  Score Outcome  Opp_score\n",
       "7  2019-03-08  Bethel (Ind.)        N     13       W          6\n",
       "8  2019-03-09  Bethel (Ind.)        N     14       W          2\n",
       "9  2019-03-09  Bethel (Ind.)        N      3       W          1\n",
       "10 2019-03-14  Taylor (Ind.)        A      5       L         15\n",
       "11 2019-03-16  Taylor (Ind.)        A      2       L         10"
      ]
     },
     "execution_count": 11,
     "metadata": {},
     "output_type": "execute_result"
    }
   ],
   "source": [
    "tidy_conf = conf_df.copy()\n",
    "for i, df in enumerate(conf_df):\n",
    "  split_scores = df['Score'].str.replace(r\"\\(.*\\)\",\"\").str.split('-', expand = True)\n",
    "  tidy_conf[i] = df.assign(Score = pd.to_numeric(split_scores[0]),\n",
    "                           Opp_score = pd.to_numeric(split_scores[1]),\n",
    "                           Opponent = df.Opponent.str.replace(' \\*', '', regex= True),\n",
    "                           Date = pd.to_datetime(df.Date)\n",
    "                           )\n",
    "tidy_conf[2][:5]"
   ]
  },
  {
   "cell_type": "markdown",
   "metadata": {},
   "source": [
    "Finally, we subset the home games in one dataframe and the away games in another, and then use the sum of the two score columns in each to calculate our park factor for each team."
   ]
  },
  {
   "cell_type": "code",
   "execution_count": 12,
   "metadata": {},
   "outputs": [
    {
     "data": {
      "text/plain": [
       "[0.963768115942029,\n",
       " 1.1224268689057422,\n",
       " 0.8870967741935484,\n",
       " 0.7320261437908496,\n",
       " 1.0357675111773472,\n",
       " 0.7938931297709924,\n",
       " 0.8571428571428571,\n",
       " 1.15,\n",
       " 1.3483365949119375,\n",
       " 1.3363844393592679]"
      ]
     },
     "execution_count": 12,
     "metadata": {},
     "output_type": "execute_result"
    }
   ],
   "source": [
    "conf_h = [df[df.Location.str.contains(\"H\", regex = False)] for df in tidy_conf]\n",
    "conf_a = [df[df.Location.str.contains(\"A\", regex = False)] for df in tidy_conf]\n",
    "\n",
    "h_runs_per_game = [(df.Score.sum() + df.Opp_score.sum())/len(df.index) for df in conf_h]\n",
    "a_runs_per_game = [(df.Score.sum() + df.Opp_score.sum())/len(df.index) for df in conf_a]\n",
    "park_factor = [h_runs_per_game[i]/a_runs_per_game[i] for i in range(len(headers))]\n",
    "park_factor"
   ]
  }
 ],
 "metadata": {
  "kernelspec": {
   "display_name": "Python 3",
   "language": "python",
   "name": "python3"
  },
  "language_info": {
   "codemirror_mode": {
    "name": "ipython",
    "version": 3
   },
   "file_extension": ".py",
   "mimetype": "text/x-python",
   "name": "python",
   "nbconvert_exporter": "python",
   "pygments_lexer": "ipython3",
   "version": "3.8.5"
  }
 },
 "nbformat": 4,
 "nbformat_minor": 4
}
