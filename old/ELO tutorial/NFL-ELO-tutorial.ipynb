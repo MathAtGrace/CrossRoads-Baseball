{
 "cells": [
  {
   "cell_type": "code",
   "execution_count": 4,
   "metadata": {},
   "outputs": [],
   "source": [
    "#pip install elosports"
   ]
  },
  {
   "cell_type": "code",
   "execution_count": 2,
   "metadata": {},
   "outputs": [],
   "source": [
    "import pandas as pd\n",
    "import datetime \n",
    "from elosports.elo import Elo\n",
    "\n",
    "\n",
    "df = pd.read_csv(\"nfl_elo.csv\")\n",
    "from2000 = df[ (df['season']>1999)] \n",
    "allTeams = set(from2000.team1.tolist())\n",
    "eloLeague = Elo(k = 20)"
   ]
  },
  {
   "cell_type": "code",
   "execution_count": 3,
   "metadata": {},
   "outputs": [
    {
     "data": {
      "text/html": [
       "<div>\n",
       "<style scoped>\n",
       "    .dataframe tbody tr th:only-of-type {\n",
       "        vertical-align: middle;\n",
       "    }\n",
       "\n",
       "    .dataframe tbody tr th {\n",
       "        vertical-align: top;\n",
       "    }\n",
       "\n",
       "    .dataframe thead th {\n",
       "        text-align: right;\n",
       "    }\n",
       "</style>\n",
       "<table border=\"1\" class=\"dataframe\">\n",
       "  <thead>\n",
       "    <tr style=\"text-align: right;\">\n",
       "      <th></th>\n",
       "      <th>date</th>\n",
       "      <th>season</th>\n",
       "      <th>neutral</th>\n",
       "      <th>playoff</th>\n",
       "      <th>team1</th>\n",
       "      <th>team2</th>\n",
       "      <th>elo1_pre</th>\n",
       "      <th>elo2_pre</th>\n",
       "      <th>elo_prob1</th>\n",
       "      <th>elo_prob2</th>\n",
       "      <th>elo1_post</th>\n",
       "      <th>elo2_post</th>\n",
       "      <th>score1</th>\n",
       "      <th>score2</th>\n",
       "    </tr>\n",
       "  </thead>\n",
       "  <tbody>\n",
       "    <tr>\n",
       "      <th>16002</th>\n",
       "      <td>2018-01-14</td>\n",
       "      <td>2017</td>\n",
       "      <td>0</td>\n",
       "      <td>d</td>\n",
       "      <td>PIT</td>\n",
       "      <td>JAX</td>\n",
       "      <td>1664.251810</td>\n",
       "      <td>1532.082440</td>\n",
       "      <td>0.756760</td>\n",
       "      <td>0.243240</td>\n",
       "      <td>1641.204400</td>\n",
       "      <td>1555.129851</td>\n",
       "      <td>42</td>\n",
       "      <td>45</td>\n",
       "    </tr>\n",
       "    <tr>\n",
       "      <th>16003</th>\n",
       "      <td>2018-01-14</td>\n",
       "      <td>2017</td>\n",
       "      <td>0</td>\n",
       "      <td>d</td>\n",
       "      <td>MIN</td>\n",
       "      <td>NO</td>\n",
       "      <td>1667.692214</td>\n",
       "      <td>1636.781874</td>\n",
       "      <td>0.634624</td>\n",
       "      <td>0.365376</td>\n",
       "      <td>1680.238577</td>\n",
       "      <td>1624.235510</td>\n",
       "      <td>29</td>\n",
       "      <td>24</td>\n",
       "    </tr>\n",
       "    <tr>\n",
       "      <th>16004</th>\n",
       "      <td>2018-01-21</td>\n",
       "      <td>2017</td>\n",
       "      <td>0</td>\n",
       "      <td>c</td>\n",
       "      <td>NE</td>\n",
       "      <td>JAX</td>\n",
       "      <td>1745.107927</td>\n",
       "      <td>1555.129851</td>\n",
       "      <td>0.812718</td>\n",
       "      <td>0.187282</td>\n",
       "      <td>1750.510171</td>\n",
       "      <td>1549.727607</td>\n",
       "      <td>24</td>\n",
       "      <td>20</td>\n",
       "    </tr>\n",
       "    <tr>\n",
       "      <th>16005</th>\n",
       "      <td>2018-01-21</td>\n",
       "      <td>2017</td>\n",
       "      <td>0</td>\n",
       "      <td>c</td>\n",
       "      <td>PHI</td>\n",
       "      <td>MIN</td>\n",
       "      <td>1661.878061</td>\n",
       "      <td>1680.238577</td>\n",
       "      <td>0.566719</td>\n",
       "      <td>0.433281</td>\n",
       "      <td>1691.287319</td>\n",
       "      <td>1650.829319</td>\n",
       "      <td>38</td>\n",
       "      <td>7</td>\n",
       "    </tr>\n",
       "    <tr>\n",
       "      <th>16006</th>\n",
       "      <td>2018-02-04</td>\n",
       "      <td>2017</td>\n",
       "      <td>1</td>\n",
       "      <td>s</td>\n",
       "      <td>NE</td>\n",
       "      <td>PHI</td>\n",
       "      <td>1750.510171</td>\n",
       "      <td>1691.287319</td>\n",
       "      <td>0.584413</td>\n",
       "      <td>0.415587</td>\n",
       "      <td>1724.117995</td>\n",
       "      <td>1717.679495</td>\n",
       "      <td>33</td>\n",
       "      <td>41</td>\n",
       "    </tr>\n",
       "  </tbody>\n",
       "</table>\n",
       "</div>"
      ],
      "text/plain": [
       "             date  season  neutral playoff team1 team2     elo1_pre  \\\n",
       "16002  2018-01-14    2017        0       d   PIT   JAX  1664.251810   \n",
       "16003  2018-01-14    2017        0       d   MIN    NO  1667.692214   \n",
       "16004  2018-01-21    2017        0       c    NE   JAX  1745.107927   \n",
       "16005  2018-01-21    2017        0       c   PHI   MIN  1661.878061   \n",
       "16006  2018-02-04    2017        1       s    NE   PHI  1750.510171   \n",
       "\n",
       "          elo2_pre  elo_prob1  elo_prob2    elo1_post    elo2_post  score1  \\\n",
       "16002  1532.082440   0.756760   0.243240  1641.204400  1555.129851      42   \n",
       "16003  1636.781874   0.634624   0.365376  1680.238577  1624.235510      29   \n",
       "16004  1555.129851   0.812718   0.187282  1750.510171  1549.727607      24   \n",
       "16005  1680.238577   0.566719   0.433281  1691.287319  1650.829319      38   \n",
       "16006  1691.287319   0.584413   0.415587  1724.117995  1717.679495      33   \n",
       "\n",
       "       score2  \n",
       "16002      45  \n",
       "16003      24  \n",
       "16004      20  \n",
       "16005       7  \n",
       "16006      41  "
      ]
     },
     "execution_count": 3,
     "metadata": {},
     "output_type": "execute_result"
    }
   ],
   "source": [
    "from2000[-5:]"
   ]
  },
  {
   "cell_type": "code",
   "execution_count": 7,
   "metadata": {},
   "outputs": [
    {
     "name": "stdout",
     "output_type": "stream",
     "text": [
      "WSH 1483.7140067281027\n",
      "CHI 1402.2094642282343\n",
      "DEN 1480.120745652597\n",
      "BUF 1505.7919696660754\n",
      "GB 1512.2362952505803\n",
      "PIT 1604.234295044287\n",
      "NE 1657.9431100469733\n",
      "SEA 1550.203276467007\n",
      "ATL 1567.8375500311038\n",
      "CAR 1554.6460851836562\n",
      "OAK 1482.726134902254\n",
      "CIN 1482.639964298762\n",
      "KC 1553.1312415504078\n",
      "LAR 1501.8929694192843\n",
      "MIN 1585.6534411377163\n",
      "DET 1519.1270502322766\n",
      "IND 1431.6889473226995\n",
      "PHI 1601.9037319329573\n",
      "ARI 1512.8812035074834\n",
      "JAX 1485.0278898852441\n",
      "NYJ 1431.2762743441174\n",
      "TEN 1498.7369458530468\n",
      "DAL 1543.8482611792383\n",
      "TB 1448.2308676918867\n",
      "MIA 1473.5556751810827\n",
      "HOU 1433.1943390211604\n",
      "BAL 1502.8561644069798\n",
      "CLE 1293.272678922271\n",
      "LAC 1490.2033076023486\n",
      "SF 1432.4506249961305\n",
      "NO 1546.0878625024213\n",
      "NYG 1430.6776258116151\n"
     ]
    }
   ],
   "source": [
    "for team in allTeams:\n",
    "    eloLeague.addPlayer(team)\n",
    "\n",
    "currSeason = 2000\n",
    "for game in from2000.iterrows():\n",
    "    if game[1].season > currSeason:\n",
    "        for key in eloLeague.ratingDict.keys():\n",
    "            eloLeague.ratingDict[key] = eloLeague.ratingDict[key] - ((eloLeague.ratingDict[key] - 1500) * (1/3.))\n",
    "        currSeason += 1\n",
    "\n",
    "    if game[1].score1 > game[1].score2:\n",
    "        eloLeague.gameOver(game[1].team1, game[1].team2,True)\n",
    "    else:\n",
    "        eloLeague.gameOver(game[1].team2, game[1].team1,0)\n",
    "\n",
    "for team in eloLeague.ratingDict.keys():\n",
    "    print(team, eloLeague.ratingDict[team])"
   ]
  },
  {
   "cell_type": "code",
   "execution_count": 14,
   "metadata": {},
   "outputs": [
    {
     "data": {
      "text/plain": [
       "0.5910831480204981"
      ]
     },
     "execution_count": 14,
     "metadata": {},
     "output_type": "execute_result"
    }
   ],
   "source": [
    "eloLeague.expectResult(eloLeague.ratingDict['GB'],eloLeague.ratingDict['TB'])"
   ]
  },
  {
   "cell_type": "code",
   "execution_count": 15,
   "metadata": {},
   "outputs": [
    {
     "data": {
      "text/plain": [
       "1512.2362952505803"
      ]
     },
     "execution_count": 15,
     "metadata": {},
     "output_type": "execute_result"
    }
   ],
   "source": [
    "eloLeague.ratingDict['GB']"
   ]
  },
  {
   "cell_type": "code",
   "execution_count": null,
   "metadata": {},
   "outputs": [],
   "source": []
  }
 ],
 "metadata": {
  "kernelspec": {
   "display_name": "Python 3",
   "language": "python",
   "name": "python3"
  },
  "language_info": {
   "codemirror_mode": {
    "name": "ipython",
    "version": 3
   },
   "file_extension": ".py",
   "mimetype": "text/x-python",
   "name": "python",
   "nbconvert_exporter": "python",
   "pygments_lexer": "ipython3",
   "version": "3.8.5"
  }
 },
 "nbformat": 4,
 "nbformat_minor": 4
}
