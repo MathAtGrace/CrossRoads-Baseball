{
 "cells": [
  {
   "cell_type": "markdown",
   "id": "74407f33-409f-44a2-b778-5f6869570efd",
   "metadata": {},
   "source": [
    "# Example Code for Scraping a Webpage\n",
    "\n",
    "First we import the necessary packages"
   ]
  },
  {
   "cell_type": "code",
   "execution_count": 1,
   "id": "6caf1b99-743b-422d-8c7b-b5aa9a014b78",
   "metadata": {},
   "outputs": [],
   "source": [
    "import requests\n",
    "from bs4 import BeautifulSoup\n",
    "import pandas as pd\n",
    "from selenium import webdriver\n",
    "#from get_gecko_driver import GetGeckoDriver\n",
    "import pickle"
   ]
  },
  {
   "cell_type": "markdown",
   "id": "1d9a8367-f01f-4c31-bc3e-a45364805102",
   "metadata": {},
   "source": [
    "In this example, we'll just deal with one url.  You may need to do this multiple times"
   ]
  },
  {
   "cell_type": "code",
   "execution_count": 2,
   "id": "3b9c86de-c319-4260-9fb2-0c9acf46a352",
   "metadata": {},
   "outputs": [],
   "source": [
    "url = 'https://crossroadsleague.com/sports/bsb/2024-25/teams/gracein?view=lineup'"
   ]
  },
  {
   "cell_type": "markdown",
   "id": "8771c783-c61c-4861-8760-3e75458990c6",
   "metadata": {},
   "source": [
    "## Getting the html of the webpage\n",
    "\n",
    "Now we'll use the `selenium` `webdriver` in order to get the html of the webpage.\n",
    "\n",
    "This code will open Firefox on our computer"
   ]
  },
  {
   "cell_type": "code",
   "execution_count": 3,
   "id": "8e7595f0-5f80-454f-abba-698965211911",
   "metadata": {},
   "outputs": [],
   "source": [
    "driver = webdriver.Firefox()"
   ]
  },
  {
   "cell_type": "markdown",
   "id": "96ca064b-f06d-416a-b66e-4129f99f29e0",
   "metadata": {},
   "source": [
    "And then we open the specific url:"
   ]
  },
  {
   "cell_type": "code",
   "execution_count": 4,
   "id": "49300372-fa60-46a2-9f6a-2e42b28d8ce5",
   "metadata": {},
   "outputs": [],
   "source": [
    "driver.get(url)"
   ]
  },
  {
   "cell_type": "markdown",
   "id": "11579bf8-7477-454f-aebe-2e4ff7345bdb",
   "metadata": {},
   "source": [
    "Then we create the string variable `page` that contains all of the text of the webpage"
   ]
  },
  {
   "cell_type": "code",
   "execution_count": 33,
   "id": "0fa0aabf-728c-415e-87b8-7af103fe12fe",
   "metadata": {},
   "outputs": [],
   "source": [
    "page = driver.page_source"
   ]
  },
  {
   "cell_type": "markdown",
   "id": "fa099269-a098-4380-a04f-97d26f5dafa9",
   "metadata": {},
   "source": [
    "It is good practice to save this sting as an html file in the `raw-data` folder.\n",
    "\n",
    "It would be more professional to split this task, with one script downloading the html and the other script pulling from the file in the `raw-data` folder.  This way, if the webpage changes in a way that breaks our code, we will still have the original html files that still work."
   ]
  },
  {
   "cell_type": "code",
   "execution_count": 88,
   "id": "212c3c99-9b5a-4290-bddf-89c8d2a52bdf",
   "metadata": {},
   "outputs": [],
   "source": [
    "with open('../raw-data/first_try.html', \"w\") as a_file:\n",
    "   a_file.write(page)"
   ]
  },
  {
   "cell_type": "markdown",
   "id": "6aa1d3ef-4090-4d6f-a78e-dd2cd9b70123",
   "metadata": {},
   "source": [
    "## Parsing the HTML file\n",
    "\n",
    "Now we'll use `BeautifulSoup` to parse the html."
   ]
  },
  {
   "cell_type": "code",
   "execution_count": 95,
   "id": "91227b19-dc91-4328-93b6-8c9358405dbc",
   "metadata": {},
   "outputs": [],
   "source": [
    "soup = BeautifulSoup(page)"
   ]
  },
  {
   "cell_type": "markdown",
   "id": "b7681543-100e-4137-984a-521070217691",
   "metadata": {},
   "source": [
    "Having run the code `print(soup.prettify())`, we know that the table we want is the third table"
   ]
  },
  {
   "cell_type": "code",
   "execution_count": 96,
   "id": "c22edc91-0018-42c1-93a6-ab809614a284",
   "metadata": {},
   "outputs": [
    {
     "data": {
      "text/plain": [
       "<tbody></tbody>"
      ]
     },
     "execution_count": 96,
     "metadata": {},
     "output_type": "execute_result"
    }
   ],
   "source": [
    "t = soup.find_all('table')[2] #t is the third table\n",
    "t.colgroup.extract() #Delete the colgroup element\n",
    "t.thead.unwrap() #Unwrap the thead element\n",
    "t.tbody.unwrap() #Unwarp the tbody element\n",
    "#print(t.prettify())"
   ]
  },
  {
   "cell_type": "markdown",
   "id": "0803031c-7f4d-4328-803e-9ee8fe825061",
   "metadata": {},
   "source": [
    "Below is a function for checking if data is an integer, and if it's not, checking if it is a float."
   ]
  },
  {
   "cell_type": "code",
   "execution_count": 98,
   "id": "4beaccb4-21a0-4058-8f76-8edc3f1e260b",
   "metadata": {},
   "outputs": [],
   "source": [
    "def nice_data(d):\n",
    "    d = str.strip(d)\n",
    "    #If we can turn it into an integer, then do that\n",
    "    try:\n",
    "        d=int(d)\n",
    "    except:\n",
    "    #If it's not an integer, it might be a float\n",
    "        try:\n",
    "            d = float(d)\n",
    "        except:\n",
    "            #If it's neither an integer nor a float, it is probably a string\n",
    "            d = ' '.join(d.split()) #remove excess spaces\n",
    "    return(d)"
   ]
  },
  {
   "cell_type": "markdown",
   "id": "c0a84fe5-6eea-42d0-8b17-f98c6a7eec08",
   "metadata": {},
   "source": [
    "Now we use the function above as we put each element into a list of lists, and then turn that into a Pandas DataFrame"
   ]
  },
  {
   "cell_type": "code",
   "execution_count": 99,
   "id": "e2c04c82-25fd-470a-afb1-5e71ca552617",
   "metadata": {},
   "outputs": [
    {
     "data": {
      "text/html": [
       "<div>\n",
       "<style scoped>\n",
       "    .dataframe tbody tr th:only-of-type {\n",
       "        vertical-align: middle;\n",
       "    }\n",
       "\n",
       "    .dataframe tbody tr th {\n",
       "        vertical-align: top;\n",
       "    }\n",
       "\n",
       "    .dataframe thead th {\n",
       "        text-align: right;\n",
       "    }\n",
       "</style>\n",
       "<table border=\"1\" class=\"dataframe\">\n",
       "  <thead>\n",
       "    <tr style=\"text-align: right;\">\n",
       "      <th></th>\n",
       "      <th>#</th>\n",
       "      <th>Name</th>\n",
       "      <th>Yr</th>\n",
       "      <th>Pos</th>\n",
       "      <th>gp</th>\n",
       "      <th>ab</th>\n",
       "      <th>h</th>\n",
       "      <th>rbi</th>\n",
       "      <th>bb</th>\n",
       "      <th>2b</th>\n",
       "      <th>...</th>\n",
       "      <th>obp</th>\n",
       "      <th>slg</th>\n",
       "      <th>hbp</th>\n",
       "      <th>sf</th>\n",
       "      <th>sh</th>\n",
       "      <th>hdp</th>\n",
       "      <th>go</th>\n",
       "      <th>fo</th>\n",
       "      <th>go/fo</th>\n",
       "      <th>pa</th>\n",
       "    </tr>\n",
       "  </thead>\n",
       "  <tbody>\n",
       "    <tr>\n",
       "      <th>0</th>\n",
       "      <td>4</td>\n",
       "      <td>Ryan Stark</td>\n",
       "      <td>Sr</td>\n",
       "      <td>inf</td>\n",
       "      <td>47</td>\n",
       "      <td>152</td>\n",
       "      <td>54</td>\n",
       "      <td>44</td>\n",
       "      <td>19</td>\n",
       "      <td>12</td>\n",
       "      <td>...</td>\n",
       "      <td>0.436</td>\n",
       "      <td>0.763</td>\n",
       "      <td>6</td>\n",
       "      <td>4</td>\n",
       "      <td>2</td>\n",
       "      <td>-</td>\n",
       "      <td>17</td>\n",
       "      <td>20</td>\n",
       "      <td>0.85</td>\n",
       "      <td>183</td>\n",
       "    </tr>\n",
       "    <tr>\n",
       "      <th>1</th>\n",
       "      <td>7</td>\n",
       "      <td>Jose Ayala</td>\n",
       "      <td>Jr</td>\n",
       "      <td>OF</td>\n",
       "      <td>51</td>\n",
       "      <td>165</td>\n",
       "      <td>54</td>\n",
       "      <td>42</td>\n",
       "      <td>18</td>\n",
       "      <td>19</td>\n",
       "      <td>...</td>\n",
       "      <td>0.411</td>\n",
       "      <td>0.515</td>\n",
       "      <td>7</td>\n",
       "      <td>2</td>\n",
       "      <td>1</td>\n",
       "      <td>-</td>\n",
       "      <td>12</td>\n",
       "      <td>19</td>\n",
       "      <td>0.63</td>\n",
       "      <td>193</td>\n",
       "    </tr>\n",
       "    <tr>\n",
       "      <th>2</th>\n",
       "      <td>11</td>\n",
       "      <td>Maximo De leon</td>\n",
       "      <td>Sr</td>\n",
       "      <td>OF</td>\n",
       "      <td>51</td>\n",
       "      <td>186</td>\n",
       "      <td>58</td>\n",
       "      <td>35</td>\n",
       "      <td>28</td>\n",
       "      <td>13</td>\n",
       "      <td>...</td>\n",
       "      <td>0.427</td>\n",
       "      <td>0.484</td>\n",
       "      <td>10</td>\n",
       "      <td>1</td>\n",
       "      <td>1</td>\n",
       "      <td>1</td>\n",
       "      <td>24</td>\n",
       "      <td>25</td>\n",
       "      <td>0.96</td>\n",
       "      <td>226</td>\n",
       "    </tr>\n",
       "    <tr>\n",
       "      <th>3</th>\n",
       "      <td>23</td>\n",
       "      <td>Josh Cosme</td>\n",
       "      <td>Sr</td>\n",
       "      <td>C</td>\n",
       "      <td>42</td>\n",
       "      <td>115</td>\n",
       "      <td>34</td>\n",
       "      <td>30</td>\n",
       "      <td>24</td>\n",
       "      <td>9</td>\n",
       "      <td>...</td>\n",
       "      <td>0.443</td>\n",
       "      <td>0.470</td>\n",
       "      <td>8</td>\n",
       "      <td>2</td>\n",
       "      <td>5</td>\n",
       "      <td>-</td>\n",
       "      <td>12</td>\n",
       "      <td>22</td>\n",
       "      <td>0.55</td>\n",
       "      <td>154</td>\n",
       "    </tr>\n",
       "    <tr>\n",
       "      <th>4</th>\n",
       "      <td>1</td>\n",
       "      <td>Dalton Cody</td>\n",
       "      <td>Sr</td>\n",
       "      <td>inf</td>\n",
       "      <td>47</td>\n",
       "      <td>138</td>\n",
       "      <td>40</td>\n",
       "      <td>26</td>\n",
       "      <td>13</td>\n",
       "      <td>12</td>\n",
       "      <td>...</td>\n",
       "      <td>0.354</td>\n",
       "      <td>0.464</td>\n",
       "      <td>3</td>\n",
       "      <td>4</td>\n",
       "      <td>10</td>\n",
       "      <td>-</td>\n",
       "      <td>21</td>\n",
       "      <td>33</td>\n",
       "      <td>0.64</td>\n",
       "      <td>168</td>\n",
       "    </tr>\n",
       "    <tr>\n",
       "      <th>5</th>\n",
       "      <td>22</td>\n",
       "      <td>Grant Hartley</td>\n",
       "      <td>Sr</td>\n",
       "      <td>1B/RHP</td>\n",
       "      <td>46</td>\n",
       "      <td>118</td>\n",
       "      <td>33</td>\n",
       "      <td>31</td>\n",
       "      <td>22</td>\n",
       "      <td>5</td>\n",
       "      <td>...</td>\n",
       "      <td>0.410</td>\n",
       "      <td>0.475</td>\n",
       "      <td>4</td>\n",
       "      <td>0</td>\n",
       "      <td>1</td>\n",
       "      <td>1</td>\n",
       "      <td>10</td>\n",
       "      <td>9</td>\n",
       "      <td>1.11</td>\n",
       "      <td>145</td>\n",
       "    </tr>\n",
       "  </tbody>\n",
       "</table>\n",
       "<p>6 rows × 25 columns</p>\n",
       "</div>"
      ],
      "text/plain": [
       "    #            Name  Yr     Pos  gp   ab   h  rbi  bb  2b  ...    obp  \\\n",
       "0   4      Ryan Stark  Sr     inf  47  152  54   44  19  12  ...  0.436   \n",
       "1   7      Jose Ayala  Jr      OF  51  165  54   42  18  19  ...  0.411   \n",
       "2  11  Maximo De leon  Sr      OF  51  186  58   35  28  13  ...  0.427   \n",
       "3  23      Josh Cosme  Sr       C  42  115  34   30  24   9  ...  0.443   \n",
       "4   1     Dalton Cody  Sr     inf  47  138  40   26  13  12  ...  0.354   \n",
       "5  22   Grant Hartley  Sr  1B/RHP  46  118  33   31  22   5  ...  0.410   \n",
       "\n",
       "     slg  hbp  sf  sh  hdp  go  fo  go/fo   pa  \n",
       "0  0.763    6   4   2    -  17  20   0.85  183  \n",
       "1  0.515    7   2   1    -  12  19   0.63  193  \n",
       "2  0.484   10   1   1    1  24  25   0.96  226  \n",
       "3  0.470    8   2   5    -  12  22   0.55  154  \n",
       "4  0.464    3   4  10    -  21  33   0.64  168  \n",
       "5  0.475    4   0   1    1  10   9   1.11  145  \n",
       "\n",
       "[6 rows x 25 columns]"
      ]
     },
     "execution_count": 99,
     "metadata": {},
     "output_type": "execute_result"
    }
   ],
   "source": [
    "data = [[nice_data(d.text) for d in row.find_all(['td', 'th'])] for row in t.find_all('tr')]\n",
    "df = pd.DataFrame(columns = data[0], data = data[1:])\n",
    "df"
   ]
  },
  {
   "cell_type": "markdown",
   "id": "ca69fdac-df33-4dca-9916-262b667f2898",
   "metadata": {},
   "source": [
    "## Writing the data to CSV\n",
    "\n",
    "Write the dataframe as a csv in our `data` folder"
   ]
  },
  {
   "cell_type": "code",
   "execution_count": 100,
   "id": "d0c8690e-ff30-4841-bbcd-e4d18a48c8be",
   "metadata": {},
   "outputs": [],
   "source": [
    "df.to_csv('../data/first_try.csv')"
   ]
  },
  {
   "cell_type": "code",
   "execution_count": null,
   "id": "9aa978ce-d5a8-4b5a-8c19-f56cbbe21831",
   "metadata": {},
   "outputs": [],
   "source": []
  }
 ],
 "metadata": {
  "kernelspec": {
   "display_name": "Python 3 (ipykernel)",
   "language": "python",
   "name": "python3"
  },
  "language_info": {
   "codemirror_mode": {
    "name": "ipython",
    "version": 3
   },
   "file_extension": ".py",
   "mimetype": "text/x-python",
   "name": "python",
   "nbconvert_exporter": "python",
   "pygments_lexer": "ipython3",
   "version": "3.13.5"
  }
 },
 "nbformat": 4,
 "nbformat_minor": 5
}
