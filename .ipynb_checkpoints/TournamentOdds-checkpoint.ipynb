{
 "cells": [
  {
   "cell_type": "markdown",
   "metadata": {},
   "source": [
    "## Game Predictions"
   ]
  },
  {
   "cell_type": "markdown",
   "metadata": {},
   "source": [
    "Import the necessary statements."
   ]
  },
  {
   "cell_type": "code",
   "execution_count": 2,
   "metadata": {},
   "outputs": [],
   "source": [
    "import pickle\n",
    "import matplotlib.pyplot as plt\n",
    "import numpy as np"
   ]
  },
  {
   "cell_type": "markdown",
   "metadata": {},
   "source": [
    "To update the Elo ratings, uncomment and run both of the following lines. Click to view either the [Get2021Games](Get2021Games.ipynb) notebook or the [Update_Elo](Update_Elo.ipynb) notebook."
   ]
  },
  {
   "cell_type": "code",
   "execution_count": 3,
   "metadata": {},
   "outputs": [],
   "source": [
    "#%run ./Get2021Games.ipynb\n",
    "#%run ./Update_Elo.ipynb"
   ]
  },
  {
   "cell_type": "markdown",
   "metadata": {},
   "source": [
    "Load the updated dictionary with each team's ratings."
   ]
  },
  {
   "cell_type": "code",
   "execution_count": 4,
   "metadata": {},
   "outputs": [],
   "source": [
    "with open('EloRatings.pkl', 'rb')as f:\n",
    "    eloDict = pickle.load(f)"
   ]
  },
  {
   "cell_type": "code",
   "execution_count": 5,
   "metadata": {},
   "outputs": [
    {
     "data": {
      "text/plain": [
       "{'Bethel': 1435.2995309057765,\n",
       " 'Goshen': 1313.2333869495922,\n",
       " 'Grace': 1386.1186575656366,\n",
       " 'HU': 1567.2950636023108,\n",
       " 'IWU': 1694.6764184835217,\n",
       " 'Marian': 1454.1036845194649,\n",
       " 'MVNU': 1567.1946665439007,\n",
       " 'SAU': 1444.771888674273,\n",
       " 'SFU': 1518.3086200727123,\n",
       " 'Taylor': 1618.9980826828119}"
      ]
     },
     "execution_count": 5,
     "metadata": {},
     "output_type": "execute_result"
    }
   ],
   "source": [
    "eloDict"
   ]
  },
  {
   "cell_type": "markdown",
   "metadata": {},
   "source": [
    "Here we build our fundamental function for updating ratings with each game that is played. We incorporate homefield advantage by adding `37.85` to each home team's rating. This was calculated by gathering data from the last 5 years (excluding 2020) and calculating the average win percentage of home teams. Given two 1500-rated teams, adding 37.85 to the home team most closely matched that average win percentage. Additionally, we incorporated a multiplier based on the margin of victory that increases from 1 by `0.05` per run. This formula was adapted from the one found at http://andr3w321.com/elo-ratings-part-1/."
   ]
  },
  {
   "cell_type": "code",
   "execution_count": 6,
   "metadata": {},
   "outputs": [],
   "source": [
    "def gamePlayed(winTeam, loseTeam, elo, winTeamLocation=\"N\", marginOfVictory=1, k=20, tie=False): \n",
    "    if winTeamLocation == \"H\":\n",
    "        rW = elo[winTeam] + 37.85 # get ratings\n",
    "        rL = elo[loseTeam]\n",
    "    elif winTeamLocation == \"A\":\n",
    "        rW = elo[winTeam]\n",
    "        rL = elo[loseTeam] + 37.85\n",
    "    elif winTeamLocation == \"N\":\n",
    "        rW = elo[winTeam]\n",
    "        rL = elo[loseTeam]\n",
    "    cW = 10 ** (rW/400)\n",
    "    cL = 10 ** (rL/400)\n",
    "    exp_winTeam = cW / float(cW + cL)\n",
    "    exp_loseTeam = cL / float(cW + cL)\n",
    "    if tie == True:\n",
    "        s1 = 0.5\n",
    "        s2 = 0.5\n",
    "    else:\n",
    "        s1 = 1\n",
    "        s2 = 0\n",
    "    if winTeamLocation == \"H\":\n",
    "        new_rW = rW + k * (0.95 + 0.05*marginOfVictory) * (s1 - exp_winTeam) - 37.85\n",
    "        new_rL = rL + k * (0.95 + 0.05*marginOfVictory) * (s2 - exp_loseTeam)\n",
    "    elif winTeamLocation == \"A\":\n",
    "        new_rW = rW + k * (0.95 + 0.05*marginOfVictory) * (s1 - exp_winTeam)\n",
    "        new_rL = rL + k * (0.95 + 0.05*marginOfVictory) * (s2 - exp_loseTeam) - 37.85\n",
    "    elif winTeamLocation == \"N\":\n",
    "        new_rW = rW + k * (0.95 + 0.05*marginOfVictory) * (s1 - exp_winTeam)\n",
    "        new_rL = rL + k * (0.95 + 0.05*marginOfVictory) * (s2 - exp_loseTeam)\n",
    "    elo[winTeam] = new_rW\n",
    "    elo[loseTeam] = new_rL"
   ]
  },
  {
   "cell_type": "markdown",
   "metadata": {},
   "source": [
    "Next, we develop our function for calculating the likelihood of victory. Similarly, we incorporate homefield advantage. We have constructed the formula in such a way that we can compare two named teams, two numerical ratings, or one named team and one numerical rating. This formula was also adapted from http://andr3w321.com/elo-ratings-part-1/."
   ]
  },
  {
   "cell_type": "code",
   "execution_count": 7,
   "metadata": {},
   "outputs": [],
   "source": [
    "def expectGame(team1, team2, elo, Location1=\"N\"):\n",
    "    if type(team1) == str:\n",
    "        if Location1 == \"N\" or Location1 == \"A\": r1 = elo[team1]\n",
    "        elif Location1 == \"H\": r1 = elo[team1] + 37.85\n",
    "    else:\n",
    "        if Location1 == \"N\" or Location1 == \"A\": r1 = team1\n",
    "        elif Location1 == \"H\": r1 = team1 + 37.85\n",
    "    if type(team2) == str:\n",
    "        if Location1 == \"N\" or Location1 == \"H\": r2 = elo[team2]\n",
    "        elif Location1 == \"A\": r2 = elo[team2] + 37.85\n",
    "    else:\n",
    "        if Location1 == \"N\" or Location1 == \"H\": r2 = team2\n",
    "        elif Location1 == \"A\": r2 = team2 + 37.85\n",
    "    d = r1 - r2\n",
    "    p = 1 - 1 / (1 + 10 ** (d / 400.0))\n",
    "    return p"
   ]
  },
  {
   "cell_type": "markdown",
   "metadata": {},
   "source": [
    "Now that we have our functions to update the Elo ratings and calculate the probability of victory, we write our functions to simulate each four-game series. Since there are four games with two possible outcomes each, there are $2^4$ or 16 total series outcomes. Our first model, the Elo simulation, must incorporate all possible outcomes. After each game, we keep record of the outcome's overall probability with the variable `p`. At the end of each outcome we accumulate the probabilities in the dictionary `t1wins` indexed 0-4 based on the number of wins earned by the first team provided. Before each simulated outcome, we reset the dictionary of Elo ratings to the original real ratings with the code `elo = eloDict.copy()`. "
   ]
  },
  {
   "cell_type": "code",
   "execution_count": 8,
   "metadata": {},
   "outputs": [],
   "source": [
    "def possibleOutcome(t1, t2, eloDict, w1, w2, w3, w4, t1wins):\n",
    "    elo = eloDict.copy()\n",
    "    p = 1\n",
    "    games = [w1, w2, w3, w4]\n",
    "    for game in games:\n",
    "        if game == 1:\n",
    "            p *= expectGame(t1, t2, elo)\n",
    "            gamePlayed(t1, t2, elo)\n",
    "        else:\n",
    "            p *= expectGame(t2, t1, elo)\n",
    "            gamePlayed(t2, t1, elo)\n",
    "    t1wins[8-sum(games)] += p"
   ]
  },
  {
   "cell_type": "markdown",
   "metadata": {},
   "source": [
    "Now that we have a function for each outcome, we nest loops for each game to account for all 16 possible outcomes and return `t1wins` to display the probabilites for 0, 1, 2, 3, or 4 wins by the first team listed."
   ]
  },
  {
   "cell_type": "code",
   "execution_count": 9,
   "metadata": {},
   "outputs": [],
   "source": [
    "def simSeriesElo(t1, t2, eloDict):\n",
    "    t1wins = dict.fromkeys([0,1,2,3,4], 0)\n",
    "    for g1 in range(1,3):\n",
    "        for g2 in range(1,3):\n",
    "            for g3 in range(1,3):\n",
    "                for g4 in range(1,3):\n",
    "                    possibleOutcome(t1, t2, eloDict, g1, g2, g3, g4, t1wins)\n",
    "    return t1wins"
   ]
  },
  {
   "cell_type": "markdown",
   "metadata": {},
   "source": [
    "Below is an example of this function with Grace and Huntington. First, we print out the probabilities for the number of games Grace will win. We also sum all of the values to show that the total probability of all the outcomes is 1."
   ]
  },
  {
   "cell_type": "code",
   "execution_count": 10,
   "metadata": {},
   "outputs": [
    {
     "name": "stdout",
     "output_type": "stream",
     "text": [
      "{0: 0.3259933071407519, 1: 0.3863860124564701, 2: 0.2133670473288128, 3: 0.06502954287457981, 4: 0.00922409019938536}\n",
      "1.0\n"
     ]
    }
   ],
   "source": [
    "GraceVsHU_elo = simSeriesElo(\"Grace\", \"HU\", eloDict)\n",
    "print(GraceVsHU_elo)\n",
    "print(sum(GraceVsHU_elo.values()))"
   ]
  },
  {
   "cell_type": "markdown",
   "metadata": {},
   "source": [
    "Our binomial simulation is much simpler. We take the probability `p` that the first team wins and probability `q` that the second team wins and use a simple binomial distribution with probability function $p(k) = \\binom{n}{k} p^k \\cdot q^{n-k}$ where $n = 4$ and $k$ represents the number of games won by the first team."
   ]
  },
  {
   "cell_type": "code",
   "execution_count": 11,
   "metadata": {},
   "outputs": [],
   "source": [
    "def simSeriesBinomial(t1, t2, elo):\n",
    "    t1wins = dict.fromkeys([0,1,2,3,4], 0)\n",
    "    p = expectGame(t1, t2, elo)\n",
    "    q = expectGame(t2, t1, elo)\n",
    "    t1wins[0] = q**4\n",
    "    t1wins[1] = 4*(p)*(q**3)\n",
    "    t1wins[2] = 6*(p**2)*(q**2)\n",
    "    t1wins[3] = 4*(p**3)*(q)\n",
    "    t1wins[4] = p**4\n",
    "    return t1wins"
   ]
  },
  {
   "cell_type": "markdown",
   "metadata": {},
   "source": [
    "Once again, we demonstrate this function with Grace and Huntington. Notice also that the probabilities sum to 1. "
   ]
  },
  {
   "cell_type": "code",
   "execution_count": 12,
   "metadata": {
    "scrolled": true
   },
   "outputs": [
    {
     "name": "stdout",
     "output_type": "stream",
     "text": [
      "{0: 0.29892021750513276, 1: 0.42138033670956504, 2: 0.22275348625727054, 3: 0.05233500086061504, 4: 0.004610958667416556}\n",
      "1.0\n"
     ]
    }
   ],
   "source": [
    "GraceVsHU_bin = simSeriesBinomial(\"Grace\",\"HU\", eloDict)\n",
    "print(GraceVsHU_bin)\n",
    "print(sum(GraceVsHU_bin.values()))"
   ]
  },
  {
   "cell_type": "code",
   "execution_count": 35,
   "metadata": {},
   "outputs": [
    {
     "data": {
      "text/plain": [
       "{0: 0.02496126131331112,\n",
       " 1: 0.1040323516418575,\n",
       " 2: 0.20854245442366928,\n",
       " 3: 0.25996826199698747,\n",
       " 4: 0.2177174526314527,\n",
       " 5: 0.12434754056713831,\n",
       " 6: 0.04772646282612959,\n",
       " 7: 0.01139532307558588,\n",
       " 8: 0.0013088915238681233}"
      ]
     },
     "execution_count": 35,
     "metadata": {},
     "output_type": "execute_result"
    }
   ],
   "source": [
    "B1 = simSeriesElo(\"Bethel\", \"Marian\", eloDict)\n",
    "B2 = simSeriesElo(\"Bethel\", \"MVNU\", eloDict)\n",
    "BWins = dict.fromkeys([0,1,2,3,4,5,6,7,8], 0)\n",
    "for i in range(5):\n",
    "    for j in range(5):\n",
    "        BWins[i+j] += B1[i]*B2[j]\n",
    "BWins"
   ]
  },
  {
   "cell_type": "code",
   "execution_count": 36,
   "metadata": {},
   "outputs": [
    {
     "data": {
      "text/plain": [
       "{0: 0.02143262830615107,\n",
       " 1: 0.1018460539505075,\n",
       " 2: 0.22865305580864834,\n",
       " 3: 0.3011620445480366,\n",
       " 4: 0.23183710458657594,\n",
       " 5: 0.09104653697380428,\n",
       " 6: 0.020986641526037256,\n",
       " 7: 0.002851953423123067,\n",
       " 8: 0.0001839808771160651}"
      ]
     },
     "execution_count": 36,
     "metadata": {},
     "output_type": "execute_result"
    }
   ],
   "source": [
    "G1 = simSeriesElo(\"Grace\", \"IWU\", eloDict)\n",
    "G2 = simSeriesElo(\"Grace\", \"Goshen\", eloDict)\n",
    "GWins = dict.fromkeys([0,1,2,3,4,5,6,7,8], 0)\n",
    "for i in range(5):\n",
    "    for j in range(5):\n",
    "        GWins[i+j] += G1[i]*G2[j]\n",
    "GWins"
   ]
  },
  {
   "cell_type": "code",
   "execution_count": 61,
   "metadata": {},
   "outputs": [
    {
     "data": {
      "text/plain": [
       "{0: 0.19993746739830576,\n",
       " 1: 0.1719751496972867,\n",
       " 2: 0.11398772547342277,\n",
       " 3: 0.05672267029345224,\n",
       " 4: 0.020416810856492933,\n",
       " 5: 0.005098508627718103,\n",
       " 6: 0.0008589162882815442,\n",
       " 7: 9.032831795148288e-05,\n",
       " 8: 4.592394750346282e-06}"
      ]
     },
     "execution_count": 61,
     "metadata": {},
     "output_type": "execute_result"
    }
   ],
   "source": [
    "Gdiff = dict.fromkeys([0,1,2,3,4,5,6,7,8], 0)\n",
    "for i in range(9):\n",
    "    for j in range(9):\n",
    "        if j >= i:\n",
    "            Gdiff[j-i] += BWins[i]*GWins[j]\n",
    "Gdiff"
   ]
  },
  {
   "cell_type": "code",
   "execution_count": 68,
   "metadata": {},
   "outputs": [
    {
     "data": {
      "text/plain": [
       "0.19717955225206943"
      ]
     },
     "execution_count": 68,
     "metadata": {},
     "output_type": "execute_result"
    }
   ],
   "source": [
    "p = 0\n",
    "for i in range(2,9):\n",
    "    p += Gdiff[i]\n",
    "p"
   ]
  },
  {
   "cell_type": "code",
   "execution_count": 69,
   "metadata": {},
   "outputs": [
    {
     "data": {
      "text/plain": [
       "0.1783033315999687"
      ]
     },
     "execution_count": 69,
     "metadata": {},
     "output_type": "execute_result"
    }
   ],
   "source": [
    "B1 = simSeriesBinomial(\"Bethel\", \"Marian\", eloDict)\n",
    "B2 = simSeriesBinomial(\"Bethel\", \"MVNU\", eloDict)\n",
    "BWins = dict.fromkeys([0,1,2,3,4,5,6,7,8], 0)\n",
    "for i in range(5):\n",
    "    for j in range(5):\n",
    "        BWins[i+j] += B1[i]*B2[j]\n",
    "G1 = simSeriesBinomial(\"Grace\", \"IWU\", eloDict)\n",
    "G2 = simSeriesBinomial(\"Grace\", \"Goshen\", eloDict)\n",
    "GWins = dict.fromkeys([0,1,2,3,4,5,6,7,8], 0)\n",
    "for i in range(5):\n",
    "    for j in range(5):\n",
    "        GWins[i+j] += G1[i]*G2[j]\n",
    "Gdiff = dict.fromkeys([0,1,2,3,4,5,6,7,8], 0)\n",
    "for i in range(9):\n",
    "    for j in range(9):\n",
    "        if j >= i:\n",
    "            Gdiff[j-i] += BWins[i]*GWins[j]\n",
    "p = 0\n",
    "for i in range(2,9):\n",
    "    p += Gdiff[i]\n",
    "p"
   ]
  },
  {
   "cell_type": "code",
   "execution_count": null,
   "metadata": {},
   "outputs": [],
   "source": []
  }
 ],
 "metadata": {
  "kernelspec": {
   "display_name": "Python 3",
   "language": "python",
   "name": "python3"
  },
  "language_info": {
   "codemirror_mode": {
    "name": "ipython",
    "version": 3
   },
   "file_extension": ".py",
   "mimetype": "text/x-python",
   "name": "python",
   "nbconvert_exporter": "python",
   "pygments_lexer": "ipython3",
   "version": "3.8.5"
  }
 },
 "nbformat": 4,
 "nbformat_minor": 4
}
