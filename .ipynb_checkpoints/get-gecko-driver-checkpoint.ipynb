{
 "cells": [
  {
   "cell_type": "code",
   "execution_count": null,
   "id": "6b39a964-d8d3-4f94-bcab-faa14773a377",
   "metadata": {},
   "outputs": [],
   "source": [
    "%pip install get-gecko-driver"
   ]
  },
  {
   "cell_type": "code",
   "execution_count": null,
   "id": "ddc913c6-5a9d-4825-a206-dbcd1bff41a7",
   "metadata": {},
   "outputs": [],
   "source": [
    "from get_gecko_driver import GetGeckoDriver"
   ]
  },
  {
   "cell_type": "code",
   "execution_count": null,
   "id": "9702c63e-ef82-4312-aa11-847c7456287d",
   "metadata": {},
   "outputs": [],
   "source": [
    "get_driver = GetGeckoDriver()\n",
    "get_driver.install()"
   ]
  }
 ],
 "metadata": {
  "kernelspec": {
   "display_name": "Python 3 (ipykernel)",
   "language": "python",
   "name": "python3"
  },
  "language_info": {
   "codemirror_mode": {
    "name": "ipython",
    "version": 3
   },
   "file_extension": ".py",
   "mimetype": "text/x-python",
   "name": "python",
   "nbconvert_exporter": "python",
   "pygments_lexer": "ipython3",
   "version": "3.13.5"
  }
 },
 "nbformat": 4,
 "nbformat_minor": 5
}
