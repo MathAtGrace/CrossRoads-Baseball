{
 "cells": [
  {
   "cell_type": "markdown",
   "metadata": {},
   "source": [
    "### Home Field Advantage"
   ]
  },
  {
   "cell_type": "markdown",
   "metadata": {},
   "source": [
    "We use the same code as the Park Factor notebook to scrape the schedules for the past 5 years (excluding 2020) and calculate the win percentage of the home team in all games."
   ]
  },
  {
   "cell_type": "code",
   "execution_count": 1,
   "metadata": {},
   "outputs": [],
   "source": [
    "import requests\n",
    "from bs4 import BeautifulSoup\n",
    "import pandas as pd\n",
    "import pickle"
   ]
  },
  {
   "cell_type": "code",
   "execution_count": 40,
   "metadata": {},
   "outputs": [],
   "source": [
    "teams =[\"Bethel\", \"Goshen\", \"Grace\", \"HU\", \"IWU\", \"Marian\", \"MVNU\", \"SAU\", \"SFU\", \"Taylor\"]\n",
    "t_nums = [1629, 1678, 1679, 1688, 1694, 1717, 1736, 1780, 1805, 1784]\n",
    "years = [2015, 2016, 2017, 2018, 2019]"
   ]
  },
  {
   "cell_type": "markdown",
   "metadata": {},
   "source": [
    "The code from the Park Factor notebook looped for each year:"
   ]
  },
  {
   "cell_type": "code",
   "execution_count": 42,
   "metadata": {},
   "outputs": [],
   "source": [
    "homeField = []\n",
    "for year in years:\n",
    "    urls = ['http://www.dakstats.com/WebSync/Pages/Team/TeamSchedule.aspx?association=10&sg=MBA&sea=NAIMBA_' + str(year) + '&team=' +\n",
    "            str(num) for num in t_nums]\n",
    "    #Create a handle, page, to handle the contents of the website\n",
    "    pages = [requests.get(url) for url in urls]\n",
    "    #Store the page as an element tree using BeautifulSoup4\n",
    "    soups = [BeautifulSoup(page.content) for page in pages]\n",
    "    team_tables = [\n",
    "      [\n",
    "        [\n",
    "          [td.get_text(strip=True) for td in tr.find_all('td')] \n",
    "          for tr in table.find_all('tr') \n",
    "        ]#for each row in each table\n",
    "        for table in soup.find_all('table') \n",
    "      ]#for each table on each webpage\n",
    "      for soup in soups \n",
    "    ]#for each team's webpage\n",
    "    headers = [['Date', 'Opponent', 'Location', 'Score', 'Outcome'] for tables in team_tables]\n",
    "    team_rows = [[r[:5] for r in tables[35][1::2]] for tables in team_tables]\n",
    "    dfc = [pd.DataFrame(columns = headers[i], data = team_rows[i]) for i in range(len(headers))]\n",
    "    conf_df = [df[df.Opponent.str.contains(\"*\", regex = False)] for df in dfc]\n",
    "    tidy_conf = conf_df.copy()\n",
    "    for i, df in enumerate(conf_df):\n",
    "      split_scores = df['Score'].str.replace(r\"\\(.*\\)\",\"\").str.split('-', expand = True)\n",
    "      tidy_conf[i] = df.assign(Score = pd.to_numeric(split_scores[0]),\n",
    "                               Opp_score = pd.to_numeric(split_scores[1]),\n",
    "                               Opponent = df.Opponent.str.replace(' \\*', '', regex= True),\n",
    "                               Date = pd.to_datetime(df.Date)\n",
    "                               )\n",
    "    conf_h = [df[df.Location.str.contains(\"H\", regex = False)] for df in tidy_conf]\n",
    "    conf_a = [df[df.Location.str.contains(\"A\", regex = False)] for df in tidy_conf]\n",
    "    conf_h_w = [df[df.Outcome.str.contains(\"W\", regex = False)] for df in conf_h]\n",
    "    all_h_wins = pd.concat(conf_h_w)\n",
    "    all_h_games = pd.concat(conf_h)\n",
    "    h_win_num = len(all_h_wins.index)\n",
    "    h_game_num = len(all_h_games.index)\n",
    "    hf = h_win_num / h_game_num\n",
    "    homeField.append(hf)"
   ]
  },
  {
   "cell_type": "markdown",
   "metadata": {},
   "source": [
    "Each year's homefield advantage:"
   ]
  },
  {
   "cell_type": "code",
   "execution_count": 43,
   "metadata": {},
   "outputs": [
    {
     "data": {
      "text/plain": [
       "[0.5507246376811594,\n",
       " 0.559322033898305,\n",
       " 0.5378787878787878,\n",
       " 0.553030303030303,\n",
       " 0.5703125]"
      ]
     },
     "execution_count": 43,
     "metadata": {},
     "output_type": "execute_result"
    }
   ],
   "source": [
    "homeField"
   ]
  },
  {
   "cell_type": "markdown",
   "metadata": {},
   "source": [
    "Here is the 5 year average homefield advantage:"
   ]
  },
  {
   "cell_type": "code",
   "execution_count": 44,
   "metadata": {},
   "outputs": [
    {
     "data": {
      "text/plain": [
       "0.5542536524977111"
      ]
     },
     "execution_count": 44,
     "metadata": {},
     "output_type": "execute_result"
    }
   ],
   "source": [
    "avgHomeField = sum(homeField) / len(homeField)\n",
    "avgHomeField"
   ]
  },
  {
   "cell_type": "code",
   "execution_count": null,
   "metadata": {},
   "outputs": [],
   "source": []
  }
 ],
 "metadata": {
  "kernelspec": {
   "display_name": "Python 3",
   "language": "python",
   "name": "python3"
  },
  "language_info": {
   "codemirror_mode": {
    "name": "ipython",
    "version": 3
   },
   "file_extension": ".py",
   "mimetype": "text/x-python",
   "name": "python",
   "nbconvert_exporter": "python",
   "pygments_lexer": "ipython3",
   "version": "3.8.5"
  }
 },
 "nbformat": 4,
 "nbformat_minor": 4
}
